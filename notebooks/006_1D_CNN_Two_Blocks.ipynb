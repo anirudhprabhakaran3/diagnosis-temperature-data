{
 "cells": [
  {
   "cell_type": "markdown",
   "metadata": {
    "id": "7DnXK7GD7tSc"
   },
   "source": [
    "# 1D CNN Two Blocks"
   ]
  },
  {
   "cell_type": "code",
   "execution_count": 3,
   "metadata": {
    "execution": {
     "iopub.execute_input": "2024-02-26T14:04:40.807074Z",
     "iopub.status.busy": "2024-02-26T14:04:40.806855Z",
     "iopub.status.idle": "2024-02-26T14:04:40.811439Z",
     "shell.execute_reply": "2024-02-26T14:04:40.810774Z",
     "shell.execute_reply.started": "2024-02-26T14:04:40.807058Z"
    },
    "id": "FRZqTGz0vhOY"
   },
   "outputs": [],
   "source": [
    "import pandas as pd\n",
    "import numpy as np\n",
    "import matplotlib.pyplot as plt\n",
    "\n",
    "import torch\n",
    "from torch import nn\n",
    "from torch import optim\n",
    "from torch.utils.tensorboard import SummaryWriter\n",
    "\n",
    "from torchinfo import summary\n",
    "\n",
    "from sklearn.model_selection import train_test_split\n",
    "\n",
    "from sklearn.metrics import accuracy_score\n",
    "from sklearn.metrics import precision_score\n",
    "from sklearn.metrics import f1_score\n",
    "from sklearn.metrics import recall_score\n",
    "\n",
    "from tqdm import tqdm"
   ]
  },
  {
   "cell_type": "code",
   "execution_count": 2,
   "metadata": {
    "execution": {
     "iopub.execute_input": "2024-02-26T14:04:40.317032Z",
     "iopub.status.busy": "2024-02-26T14:04:40.316676Z",
     "iopub.status.idle": "2024-02-26T14:04:40.320314Z",
     "shell.execute_reply": "2024-02-26T14:04:40.319632Z",
     "shell.execute_reply.started": "2024-02-26T14:04:40.317007Z"
    },
    "id": "pENyLVp_v8G3"
   },
   "outputs": [],
   "source": [
    "DATA_PATH = \"../data/filtered_df.csv\"\n",
    "SAVED_MODELS_PATH = \"saved_models/\"\n",
    "RUNS_PATH = \"runs/\""
   ]
  },
  {
   "cell_type": "code",
   "execution_count": 4,
   "metadata": {
    "colab": {
     "base_uri": "https://localhost:8080/"
    },
    "execution": {
     "iopub.execute_input": "2024-02-26T14:04:42.532200Z",
     "iopub.status.busy": "2024-02-26T14:04:42.531917Z",
     "iopub.status.idle": "2024-02-26T14:04:42.539180Z",
     "shell.execute_reply": "2024-02-26T14:04:42.538661Z",
     "shell.execute_reply.started": "2024-02-26T14:04:42.532180Z"
    },
    "id": "MaW3kDMC0HcT",
    "outputId": "1843bc36-bc45-4fd2-f58e-43d40c23a19e"
   },
   "outputs": [
    {
     "data": {
      "text/plain": [
       "device(type='cpu')"
      ]
     },
     "execution_count": 4,
     "metadata": {},
     "output_type": "execute_result"
    }
   ],
   "source": [
    "DEVICE = torch.device(\"cuda\" if torch.cuda.is_available() else \"cpu\")\n",
    "DEVICE"
   ]
  },
  {
   "cell_type": "code",
   "execution_count": 5,
   "metadata": {
    "execution": {
     "iopub.execute_input": "2024-02-26T14:04:43.286476Z",
     "iopub.status.busy": "2024-02-26T14:04:43.286034Z",
     "iopub.status.idle": "2024-02-26T14:04:43.292788Z",
     "shell.execute_reply": "2024-02-26T14:04:43.291835Z",
     "shell.execute_reply.started": "2024-02-26T14:04:43.286447Z"
    },
    "id": "h6yA70-k0S8b"
   },
   "outputs": [],
   "source": [
    "class TemperatureDataset(torch.utils.data.Dataset):\n",
    "    def __init__(self, X, y):\n",
    "        super(TemperatureDataset, self).__init__()\n",
    "\n",
    "        self.X = torch.from_numpy(X).type(torch.FloatTensor).to(DEVICE)\n",
    "        self.y = torch.from_numpy(y).type(torch.LongTensor).to(DEVICE)\n",
    "\n",
    "    def __len__(self):\n",
    "        return len(self.X)\n",
    "\n",
    "    def __getitem__(self, idx):\n",
    "        return self.X[idx], self.y[idx]"
   ]
  },
  {
   "cell_type": "code",
   "execution_count": 6,
   "metadata": {
    "colab": {
     "base_uri": "https://localhost:8080/",
     "height": 270
    },
    "execution": {
     "iopub.execute_input": "2024-02-26T14:04:44.711465Z",
     "iopub.status.busy": "2024-02-26T14:04:44.711079Z",
     "iopub.status.idle": "2024-02-26T14:04:44.792428Z",
     "shell.execute_reply": "2024-02-26T14:04:44.791668Z",
     "shell.execute_reply.started": "2024-02-26T14:04:44.711429Z"
    },
    "id": "4F-eHRZH0WtR",
    "outputId": "cb7e0535-494e-4458-fef1-c4918a274450"
   },
   "outputs": [
    {
     "data": {
      "text/html": [
       "<div>\n",
       "<style scoped>\n",
       "    .dataframe tbody tr th:only-of-type {\n",
       "        vertical-align: middle;\n",
       "    }\n",
       "\n",
       "    .dataframe tbody tr th {\n",
       "        vertical-align: top;\n",
       "    }\n",
       "\n",
       "    .dataframe thead th {\n",
       "        text-align: right;\n",
       "    }\n",
       "</style>\n",
       "<table border=\"1\" class=\"dataframe\">\n",
       "  <thead>\n",
       "    <tr style=\"text-align: right;\">\n",
       "      <th></th>\n",
       "      <th>0</th>\n",
       "      <th>1</th>\n",
       "      <th>2</th>\n",
       "      <th>3</th>\n",
       "      <th>4</th>\n",
       "      <th>5</th>\n",
       "      <th>6</th>\n",
       "      <th>7</th>\n",
       "      <th>8</th>\n",
       "      <th>9</th>\n",
       "      <th>...</th>\n",
       "      <th>1432</th>\n",
       "      <th>1433</th>\n",
       "      <th>1434</th>\n",
       "      <th>1435</th>\n",
       "      <th>1436</th>\n",
       "      <th>1437</th>\n",
       "      <th>1438</th>\n",
       "      <th>1439</th>\n",
       "      <th>disease</th>\n",
       "      <th>disease_encoded</th>\n",
       "    </tr>\n",
       "  </thead>\n",
       "  <tbody>\n",
       "    <tr>\n",
       "      <th>0</th>\n",
       "      <td>0.019853</td>\n",
       "      <td>0.015817</td>\n",
       "      <td>-0.024540</td>\n",
       "      <td>-0.084264</td>\n",
       "      <td>-0.118311</td>\n",
       "      <td>-0.139907</td>\n",
       "      <td>-0.171863</td>\n",
       "      <td>-0.184295</td>\n",
       "      <td>-0.187957</td>\n",
       "      <td>-0.182156</td>\n",
       "      <td>...</td>\n",
       "      <td>0.039688</td>\n",
       "      <td>0.040595</td>\n",
       "      <td>0.043685</td>\n",
       "      <td>0.053714</td>\n",
       "      <td>0.113707</td>\n",
       "      <td>0.096193</td>\n",
       "      <td>0.130409</td>\n",
       "      <td>0.136019</td>\n",
       "      <td>dengue</td>\n",
       "      <td>0</td>\n",
       "    </tr>\n",
       "    <tr>\n",
       "      <th>1</th>\n",
       "      <td>-0.449017</td>\n",
       "      <td>-0.441264</td>\n",
       "      <td>-0.466737</td>\n",
       "      <td>-0.507130</td>\n",
       "      <td>-0.518813</td>\n",
       "      <td>-0.544285</td>\n",
       "      <td>-0.554192</td>\n",
       "      <td>-0.553093</td>\n",
       "      <td>-0.547142</td>\n",
       "      <td>-0.519073</td>\n",
       "      <td>...</td>\n",
       "      <td>-0.602167</td>\n",
       "      <td>-0.062855</td>\n",
       "      <td>-0.059663</td>\n",
       "      <td>-0.571766</td>\n",
       "      <td>-0.507522</td>\n",
       "      <td>-0.501939</td>\n",
       "      <td>-0.454121</td>\n",
       "      <td>-0.450743</td>\n",
       "      <td>dengue</td>\n",
       "      <td>0</td>\n",
       "    </tr>\n",
       "    <tr>\n",
       "      <th>2</th>\n",
       "      <td>0.410172</td>\n",
       "      <td>0.418219</td>\n",
       "      <td>0.399465</td>\n",
       "      <td>0.369368</td>\n",
       "      <td>0.362506</td>\n",
       "      <td>0.355879</td>\n",
       "      <td>0.352499</td>\n",
       "      <td>0.362515</td>\n",
       "      <td>0.373869</td>\n",
       "      <td>0.409825</td>\n",
       "      <td>...</td>\n",
       "      <td>0.190057</td>\n",
       "      <td>0.191007</td>\n",
       "      <td>0.193469</td>\n",
       "      <td>0.204219</td>\n",
       "      <td>0.194998</td>\n",
       "      <td>0.175197</td>\n",
       "      <td>0.206768</td>\n",
       "      <td>0.200437</td>\n",
       "      <td>non-infectious diseases</td>\n",
       "      <td>1</td>\n",
       "    </tr>\n",
       "    <tr>\n",
       "      <th>3</th>\n",
       "      <td>-0.740477</td>\n",
       "      <td>-1.139581</td>\n",
       "      <td>-0.871032</td>\n",
       "      <td>-1.301604</td>\n",
       "      <td>-1.384414</td>\n",
       "      <td>-1.313908</td>\n",
       "      <td>-1.134276</td>\n",
       "      <td>-1.053605</td>\n",
       "      <td>-0.932933</td>\n",
       "      <td>-0.882943</td>\n",
       "      <td>...</td>\n",
       "      <td>-1.702490</td>\n",
       "      <td>-2.143358</td>\n",
       "      <td>-2.161077</td>\n",
       "      <td>-1.950137</td>\n",
       "      <td>-1.597604</td>\n",
       "      <td>-1.307117</td>\n",
       "      <td>-1.634422</td>\n",
       "      <td>-1.409872</td>\n",
       "      <td>non-tubercular bacterial infection</td>\n",
       "      <td>2</td>\n",
       "    </tr>\n",
       "    <tr>\n",
       "      <th>4</th>\n",
       "      <td>-0.890588</td>\n",
       "      <td>-0.915942</td>\n",
       "      <td>-0.958164</td>\n",
       "      <td>-1.037344</td>\n",
       "      <td>-1.085056</td>\n",
       "      <td>-1.134562</td>\n",
       "      <td>-1.182327</td>\n",
       "      <td>-1.198616</td>\n",
       "      <td>-1.230207</td>\n",
       "      <td>-1.242158</td>\n",
       "      <td>...</td>\n",
       "      <td>-1.294838</td>\n",
       "      <td>-1.288695</td>\n",
       "      <td>-1.275094</td>\n",
       "      <td>-1.267094</td>\n",
       "      <td>-1.283499</td>\n",
       "      <td>-1.265254</td>\n",
       "      <td>-1.190461</td>\n",
       "      <td>-1.191369</td>\n",
       "      <td>non-infectious diseases</td>\n",
       "      <td>1</td>\n",
       "    </tr>\n",
       "  </tbody>\n",
       "</table>\n",
       "<p>5 rows × 1442 columns</p>\n",
       "</div>"
      ],
      "text/plain": [
       "          0         1         2         3         4         5         6  \\\n",
       "0  0.019853  0.015817 -0.024540 -0.084264 -0.118311 -0.139907 -0.171863   \n",
       "1 -0.449017 -0.441264 -0.466737 -0.507130 -0.518813 -0.544285 -0.554192   \n",
       "2  0.410172  0.418219  0.399465  0.369368  0.362506  0.355879  0.352499   \n",
       "3 -0.740477 -1.139581 -0.871032 -1.301604 -1.384414 -1.313908 -1.134276   \n",
       "4 -0.890588 -0.915942 -0.958164 -1.037344 -1.085056 -1.134562 -1.182327   \n",
       "\n",
       "          7         8         9  ...      1432      1433      1434      1435  \\\n",
       "0 -0.184295 -0.187957 -0.182156  ...  0.039688  0.040595  0.043685  0.053714   \n",
       "1 -0.553093 -0.547142 -0.519073  ... -0.602167 -0.062855 -0.059663 -0.571766   \n",
       "2  0.362515  0.373869  0.409825  ...  0.190057  0.191007  0.193469  0.204219   \n",
       "3 -1.053605 -0.932933 -0.882943  ... -1.702490 -2.143358 -2.161077 -1.950137   \n",
       "4 -1.198616 -1.230207 -1.242158  ... -1.294838 -1.288695 -1.275094 -1.267094   \n",
       "\n",
       "       1436      1437      1438      1439                             disease  \\\n",
       "0  0.113707  0.096193  0.130409  0.136019                              dengue   \n",
       "1 -0.507522 -0.501939 -0.454121 -0.450743                              dengue   \n",
       "2  0.194998  0.175197  0.206768  0.200437             non-infectious diseases   \n",
       "3 -1.597604 -1.307117 -1.634422 -1.409872  non-tubercular bacterial infection   \n",
       "4 -1.283499 -1.265254 -1.190461 -1.191369             non-infectious diseases   \n",
       "\n",
       "   disease_encoded  \n",
       "0                0  \n",
       "1                0  \n",
       "2                1  \n",
       "3                2  \n",
       "4                1  \n",
       "\n",
       "[5 rows x 1442 columns]"
      ]
     },
     "execution_count": 6,
     "metadata": {},
     "output_type": "execute_result"
    }
   ],
   "source": [
    "df = pd.read_csv(DATA_PATH, index_col=False)\n",
    "df = df.sample(frac=1)\n",
    "df.reset_index(drop=True, inplace=True)\n",
    "df.head()"
   ]
  },
  {
   "cell_type": "code",
   "execution_count": 7,
   "metadata": {
    "execution": {
     "iopub.execute_input": "2024-02-26T14:04:46.203011Z",
     "iopub.status.busy": "2024-02-26T14:04:46.202709Z",
     "iopub.status.idle": "2024-02-26T14:04:46.209426Z",
     "shell.execute_reply": "2024-02-26T14:04:46.208932Z",
     "shell.execute_reply.started": "2024-02-26T14:04:46.202987Z"
    },
    "id": "vhuYq9s90mfk"
   },
   "outputs": [],
   "source": [
    "X = df.drop(\"disease\", axis=1)\n",
    "X = X.drop(\"disease_encoded\", axis=1)\n",
    "y = df[\"disease_encoded\"]"
   ]
  },
  {
   "cell_type": "code",
   "execution_count": 8,
   "metadata": {
    "execution": {
     "iopub.execute_input": "2024-02-26T14:04:46.490725Z",
     "iopub.status.busy": "2024-02-26T14:04:46.489814Z",
     "iopub.status.idle": "2024-02-26T14:04:46.496521Z",
     "shell.execute_reply": "2024-02-26T14:04:46.495948Z",
     "shell.execute_reply.started": "2024-02-26T14:04:46.490687Z"
    },
    "id": "O1GT3MB10s0S"
   },
   "outputs": [],
   "source": [
    "train_data, test_data, train_labels, test_labels = train_test_split(X, y, test_size=0.2, random_state=42)\n",
    "train_data = train_data.to_numpy()\n",
    "test_data = test_data.to_numpy()\n",
    "train_labels = train_labels.to_numpy()\n",
    "test_labels = test_labels.to_numpy()"
   ]
  },
  {
   "cell_type": "code",
   "execution_count": 9,
   "metadata": {
    "execution": {
     "iopub.execute_input": "2024-02-26T14:04:48.289920Z",
     "iopub.status.busy": "2024-02-26T14:04:48.289355Z",
     "iopub.status.idle": "2024-02-26T14:04:48.296390Z",
     "shell.execute_reply": "2024-02-26T14:04:48.295318Z",
     "shell.execute_reply.started": "2024-02-26T14:04:48.289870Z"
    },
    "id": "eC9zYWGj0vk2"
   },
   "outputs": [],
   "source": [
    "train_dataset = TemperatureDataset(train_data, train_labels)\n",
    "test_dataset = TemperatureDataset(test_data, test_labels)"
   ]
  },
  {
   "cell_type": "code",
   "execution_count": 10,
   "metadata": {
    "execution": {
     "iopub.execute_input": "2024-02-26T14:04:48.851694Z",
     "iopub.status.busy": "2024-02-26T14:04:48.851125Z",
     "iopub.status.idle": "2024-02-26T14:04:48.855265Z",
     "shell.execute_reply": "2024-02-26T14:04:48.854557Z",
     "shell.execute_reply.started": "2024-02-26T14:04:48.851665Z"
    },
    "id": "1WjmVADI0yQY"
   },
   "outputs": [],
   "source": [
    "train_loader = torch.utils.data.DataLoader(train_dataset, batch_size=8, shuffle=True)\n",
    "test_loader = torch.utils.data.DataLoader(test_dataset, batch_size=1, shuffle=True)"
   ]
  },
  {
   "cell_type": "code",
   "execution_count": 19,
   "metadata": {
    "execution": {
     "iopub.execute_input": "2024-02-26T14:05:55.643330Z",
     "iopub.status.busy": "2024-02-26T14:05:55.642938Z",
     "iopub.status.idle": "2024-02-26T14:05:55.647738Z",
     "shell.execute_reply": "2024-02-26T14:05:55.647325Z",
     "shell.execute_reply.started": "2024-02-26T14:05:55.643303Z"
    },
    "id": "qKu77HBQ01JI"
   },
   "outputs": [],
   "source": [
    "class Model(nn.Module):\n",
    "  def __init__(self):\n",
    "    super(Model, self).__init__()\n",
    "\n",
    "    self.conv_block1 = nn.Sequential(\n",
    "        nn.Conv1d(1, 64, 3),\n",
    "        nn.MaxPool1d(3),\n",
    "        nn.Dropout(0.3),\n",
    "        nn.BatchNorm1d(64)\n",
    "    )\n",
    "\n",
    "    self.conv_block2 = nn.Sequential(\n",
    "        nn.Conv1d(64, 64, 3),\n",
    "        nn.MaxPool1d(3),\n",
    "        nn.Dropout(0.3),\n",
    "        nn.BatchNorm1d(64)\n",
    "    )\n",
    "\n",
    "    self.dense = nn.Linear(10176, 4)\n",
    "    self.softmax = nn.Softmax(dim=1)\n",
    "\n",
    "  def forward(self, x):\n",
    "    num_samples, num_features = x.shape\n",
    "    x = x.reshape(num_samples, 1, num_features)\n",
    "\n",
    "    x = x.to(DEVICE)\n",
    "    x = self.conv_block1(x)\n",
    "    x = self.conv_block2(x)\n",
    "    x = x.reshape(num_samples, -1)\n",
    "\n",
    "    return self.softmax(self.dense(x))"
   ]
  },
  {
   "cell_type": "code",
   "execution_count": 20,
   "metadata": {
    "execution": {
     "iopub.execute_input": "2024-02-26T14:05:55.911363Z",
     "iopub.status.busy": "2024-02-26T14:05:55.910793Z",
     "iopub.status.idle": "2024-02-26T14:05:55.914710Z",
     "shell.execute_reply": "2024-02-26T14:05:55.914199Z",
     "shell.execute_reply.started": "2024-02-26T14:05:55.911340Z"
    },
    "id": "oidBJIbCa1qi"
   },
   "outputs": [],
   "source": [
    "sample_x, sample_y = next(iter(train_loader))"
   ]
  },
  {
   "cell_type": "markdown",
   "metadata": {
    "id": "MeWrOGxU7q1C"
   },
   "source": [
    "## SGD"
   ]
  },
  {
   "cell_type": "code",
   "execution_count": 21,
   "metadata": {
    "colab": {
     "base_uri": "https://localhost:8080/"
    },
    "execution": {
     "iopub.execute_input": "2024-02-26T14:05:56.517005Z",
     "iopub.status.busy": "2024-02-26T14:05:56.516603Z",
     "iopub.status.idle": "2024-02-26T14:05:56.526282Z",
     "shell.execute_reply": "2024-02-26T14:05:56.525776Z",
     "shell.execute_reply.started": "2024-02-26T14:05:56.516976Z"
    },
    "id": "FIuV-w4B1Qew",
    "outputId": "c9c6ec4c-7cc9-46ac-a929-e1f4ccfded44"
   },
   "outputs": [
    {
     "data": {
      "text/plain": [
       "Model(\n",
       "  (conv_block1): Sequential(\n",
       "    (0): Conv1d(1, 64, kernel_size=(3,), stride=(1,))\n",
       "    (1): MaxPool1d(kernel_size=3, stride=3, padding=0, dilation=1, ceil_mode=False)\n",
       "    (2): Dropout(p=0.3, inplace=False)\n",
       "    (3): BatchNorm1d(64, eps=1e-05, momentum=0.1, affine=True, track_running_stats=True)\n",
       "  )\n",
       "  (conv_block2): Sequential(\n",
       "    (0): Conv1d(64, 64, kernel_size=(3,), stride=(1,))\n",
       "    (1): MaxPool1d(kernel_size=3, stride=3, padding=0, dilation=1, ceil_mode=False)\n",
       "    (2): Dropout(p=0.3, inplace=False)\n",
       "    (3): BatchNorm1d(64, eps=1e-05, momentum=0.1, affine=True, track_running_stats=True)\n",
       "  )\n",
       "  (dense): Linear(in_features=10176, out_features=4, bias=True)\n",
       "  (softmax): Softmax(dim=1)\n",
       ")"
      ]
     },
     "execution_count": 21,
     "metadata": {},
     "output_type": "execute_result"
    }
   ],
   "source": [
    "model = Model()\n",
    "model = model.to(DEVICE)\n",
    "model"
   ]
  },
  {
   "cell_type": "code",
   "execution_count": 22,
   "metadata": {
    "colab": {
     "base_uri": "https://localhost:8080/"
    },
    "execution": {
     "iopub.execute_input": "2024-02-26T14:05:56.982756Z",
     "iopub.status.busy": "2024-02-26T14:05:56.982255Z",
     "iopub.status.idle": "2024-02-26T14:05:56.994246Z",
     "shell.execute_reply": "2024-02-26T14:05:56.993787Z",
     "shell.execute_reply.started": "2024-02-26T14:05:56.982708Z"
    },
    "id": "5jV_e1sUap86",
    "outputId": "7d73fa02-4fea-4099-ae32-ce18440cbf46"
   },
   "outputs": [
    {
     "data": {
      "text/plain": [
       "==========================================================================================\n",
       "Layer (type:depth-idx)                   Output Shape              Param #\n",
       "==========================================================================================\n",
       "Model                                    [8, 4]                    --\n",
       "├─Sequential: 1-1                        [8, 64, 479]              --\n",
       "│    └─Conv1d: 2-1                       [8, 64, 1438]             256\n",
       "│    └─MaxPool1d: 2-2                    [8, 64, 479]              --\n",
       "│    └─Dropout: 2-3                      [8, 64, 479]              --\n",
       "│    └─BatchNorm1d: 2-4                  [8, 64, 479]              128\n",
       "├─Sequential: 1-2                        [8, 64, 159]              --\n",
       "│    └─Conv1d: 2-5                       [8, 64, 477]              12,352\n",
       "│    └─MaxPool1d: 2-6                    [8, 64, 159]              --\n",
       "│    └─Dropout: 2-7                      [8, 64, 159]              --\n",
       "│    └─BatchNorm1d: 2-8                  [8, 64, 159]              128\n",
       "├─Linear: 1-3                            [8, 4]                    40,708\n",
       "├─Softmax: 1-4                           [8, 4]                    --\n",
       "==========================================================================================\n",
       "Total params: 53,572\n",
       "Trainable params: 53,572\n",
       "Non-trainable params: 0\n",
       "Total mult-adds (Units.MEGABYTES): 50.41\n",
       "==========================================================================================\n",
       "Input size (MB): 0.05\n",
       "Forward/backward pass size (MB): 10.46\n",
       "Params size (MB): 0.21\n",
       "Estimated Total Size (MB): 10.72\n",
       "=========================================================================================="
      ]
     },
     "execution_count": 22,
     "metadata": {},
     "output_type": "execute_result"
    }
   ],
   "source": [
    "summary(model, input_data=sample_x)"
   ]
  },
  {
   "cell_type": "code",
   "execution_count": 23,
   "metadata": {
    "execution": {
     "iopub.execute_input": "2024-02-26T14:06:05.353021Z",
     "iopub.status.busy": "2024-02-26T14:06:05.352835Z",
     "iopub.status.idle": "2024-02-26T14:06:05.356959Z",
     "shell.execute_reply": "2024-02-26T14:06:05.356388Z",
     "shell.execute_reply.started": "2024-02-26T14:06:05.353008Z"
    },
    "id": "IILxVI2J71bv"
   },
   "outputs": [],
   "source": [
    "tb_board = RUNS_PATH + \"1d_cnn_two_blocks_sgd\"\n",
    "writer = SummaryWriter(tb_board)"
   ]
  },
  {
   "cell_type": "code",
   "execution_count": 24,
   "metadata": {
    "execution": {
     "iopub.execute_input": "2024-02-26T14:06:05.935071Z",
     "iopub.status.busy": "2024-02-26T14:06:05.934227Z",
     "iopub.status.idle": "2024-02-26T14:06:06.074998Z",
     "shell.execute_reply": "2024-02-26T14:06:06.074490Z",
     "shell.execute_reply.started": "2024-02-26T14:06:05.935028Z"
    }
   },
   "outputs": [],
   "source": [
    "writer.add_graph(model, sample_x)"
   ]
  },
  {
   "cell_type": "code",
   "execution_count": 25,
   "metadata": {
    "execution": {
     "iopub.execute_input": "2024-02-26T14:06:08.024557Z",
     "iopub.status.busy": "2024-02-26T14:06:08.023792Z",
     "iopub.status.idle": "2024-02-26T14:06:08.029904Z",
     "shell.execute_reply": "2024-02-26T14:06:08.028604Z",
     "shell.execute_reply.started": "2024-02-26T14:06:08.024511Z"
    },
    "id": "b2sKZQmF1W42"
   },
   "outputs": [],
   "source": [
    "EPOCHS = 200\n",
    "\n",
    "acc_list = []\n",
    "f1_list = []\n",
    "recall_list = []\n",
    "precision_list = []\n",
    "\n",
    "loss_list = []"
   ]
  },
  {
   "cell_type": "code",
   "execution_count": 26,
   "metadata": {
    "execution": {
     "iopub.execute_input": "2024-02-26T14:06:11.096433Z",
     "iopub.status.busy": "2024-02-26T14:06:11.096051Z",
     "iopub.status.idle": "2024-02-26T14:06:11.552374Z",
     "shell.execute_reply": "2024-02-26T14:06:11.551951Z",
     "shell.execute_reply.started": "2024-02-26T14:06:11.096404Z"
    },
    "id": "MZPInsjR1h93"
   },
   "outputs": [],
   "source": [
    "loss_fn = nn.CrossEntropyLoss()\n",
    "optimizer = optim.SGD(model.parameters(), lr=1e-3, momentum=0.9)"
   ]
  },
  {
   "cell_type": "code",
   "execution_count": 27,
   "metadata": {
    "colab": {
     "base_uri": "https://localhost:8080/"
    },
    "execution": {
     "iopub.execute_input": "2024-02-26T14:06:12.646672Z",
     "iopub.status.busy": "2024-02-26T14:06:12.646061Z",
     "iopub.status.idle": "2024-02-26T14:06:50.842690Z",
     "shell.execute_reply": "2024-02-26T14:06:50.841772Z",
     "shell.execute_reply.started": "2024-02-26T14:06:12.646640Z"
    },
    "id": "kQ6ZNBVr1vSy",
    "outputId": "75126163-c2a4-4920-f770-54003458664d",
    "scrolled": true
   },
   "outputs": [
    {
     "name": "stdout",
     "output_type": "stream",
     "text": [
      "Epoch: 1 - Loss: 1.357001280784607 - Accuracy: 0.2956521739130435 - Precision: 0.33435269544714824 - Recall: 0.2956521739130435 - F1: 0.3015020791491047\n",
      "Epoch: 2 - Loss: 1.2663724978764852 - Accuracy: 0.43478260869565216 - Precision: 0.444965003992833 - Recall: 0.43478260869565216 - F1: 0.4347227222625621\n",
      "Epoch: 3 - Loss: 1.2380725145339966 - Accuracy: 0.5043478260869565 - Precision: 0.5303649847317143 - Recall: 0.5043478260869565 - F1: 0.5068133695885777\n",
      "Epoch: 4 - Loss: 1.199012072881063 - Accuracy: 0.5652173913043478 - Precision: 0.573886131494827 - Recall: 0.5652173913043478 - F1: 0.5603554776515274\n",
      "Epoch: 5 - Loss: 1.1790779113769532 - Accuracy: 0.5478260869565217 - Precision: 0.5666096285566985 - Recall: 0.5478260869565217 - F1: 0.5510421626643036\n",
      "Epoch: 6 - Loss: 1.1461209734280904 - Accuracy: 0.6173913043478261 - Precision: 0.6152185811855976 - Recall: 0.6173913043478261 - F1: 0.6146235418875928\n",
      "Epoch: 7 - Loss: 1.1460623224576314 - Accuracy: 0.591304347826087 - Precision: 0.608620992534036 - Recall: 0.591304347826087 - F1: 0.5893160285528878\n",
      "Epoch: 8 - Loss: 1.1389806469281514 - Accuracy: 0.6347826086956522 - Precision: 0.6453702285735946 - Recall: 0.6347826086956522 - F1: 0.6381423857949611\n",
      "Epoch: 9 - Loss: 1.1241889198621113 - Accuracy: 0.6 - Precision: 0.603435603422545 - Recall: 0.6 - F1: 0.5999578231079195\n",
      "Epoch: 10 - Loss: 1.1230302055676777 - Accuracy: 0.6695652173913044 - Precision: 0.669913043478261 - Recall: 0.6695652173913044 - F1: 0.6682201756264724\n",
      "Epoch: 11 - Loss: 1.058535385131836 - Accuracy: 0.6782608695652174 - Precision: 0.6819516181758744 - Recall: 0.6782608695652174 - F1: 0.6725648610473078\n",
      "Epoch: 12 - Loss: 1.0969609538714091 - Accuracy: 0.6347826086956522 - Precision: 0.6417253474461713 - Recall: 0.6347826086956522 - F1: 0.6318882709807887\n",
      "Epoch: 13 - Loss: 1.0816795388857523 - Accuracy: 0.6608695652173913 - Precision: 0.6552504478657681 - Recall: 0.6608695652173913 - F1: 0.6575633835545033\n",
      "Epoch: 14 - Loss: 1.0789689302444458 - Accuracy: 0.7043478260869566 - Precision: 0.7138371968806752 - Recall: 0.7043478260869566 - F1: 0.7038220806256985\n",
      "Epoch: 15 - Loss: 1.0653502583503722 - Accuracy: 0.6956521739130435 - Precision: 0.6900270719853876 - Recall: 0.6956521739130435 - F1: 0.6912182564180095\n",
      "Epoch: 16 - Loss: 1.0775582194328308 - Accuracy: 0.6956521739130435 - Precision: 0.6904652936689549 - Recall: 0.6956521739130435 - F1: 0.6879327583594963\n",
      "Epoch: 17 - Loss: 1.0474505146344504 - Accuracy: 0.7304347826086957 - Precision: 0.7274741200828156 - Recall: 0.7304347826086957 - F1: 0.7189275492124068\n",
      "Epoch: 18 - Loss: 1.0580978631973266 - Accuracy: 0.6782608695652174 - Precision: 0.6733433681771354 - Recall: 0.6782608695652174 - F1: 0.6744350191276961\n",
      "Epoch: 19 - Loss: 1.0492127537727356 - Accuracy: 0.6956521739130435 - Precision: 0.6896889454209065 - Recall: 0.6956521739130435 - F1: 0.686682489515207\n",
      "Epoch: 20 - Loss: 1.0674054940541586 - Accuracy: 0.6869565217391305 - Precision: 0.6850283553875236 - Recall: 0.6869565217391305 - F1: 0.682802456089668\n",
      "Epoch: 21 - Loss: 1.0334508419036865 - Accuracy: 0.7043478260869566 - Precision: 0.7156835433407269 - Recall: 0.7043478260869566 - F1: 0.7056701728619048\n",
      "Epoch: 22 - Loss: 1.0310234864552816 - Accuracy: 0.7565217391304347 - Precision: 0.7632239678480087 - Recall: 0.7565217391304347 - F1: 0.7527185384735294\n",
      "Epoch: 23 - Loss: 1.0718584497769674 - Accuracy: 0.6782608695652174 - Precision: 0.6769796261289645 - Recall: 0.6782608695652174 - F1: 0.6750895140664962\n",
      "Epoch: 24 - Loss: 1.0033117334047954 - Accuracy: 0.7391304347826086 - Precision: 0.740732242574365 - Recall: 0.7391304347826086 - F1: 0.7363827610004522\n",
      "Epoch: 25 - Loss: 1.0559222857157389 - Accuracy: 0.6782608695652174 - Precision: 0.6737700228832951 - Recall: 0.6782608695652174 - F1: 0.6726606064612268\n",
      "Epoch: 26 - Loss: 1.0280344565709432 - Accuracy: 0.7217391304347827 - Precision: 0.7220444961465755 - Recall: 0.7217391304347827 - F1: 0.7199728209080136\n",
      "Epoch: 27 - Loss: 1.0333478848139446 - Accuracy: 0.7304347826086957 - Precision: 0.7326275992438563 - Recall: 0.7304347826086957 - F1: 0.7308100353996383\n",
      "Epoch: 28 - Loss: 1.0298178911209106 - Accuracy: 0.7043478260869566 - Precision: 0.7037245263410516 - Recall: 0.7043478260869566 - F1: 0.7010251484549004\n",
      "Epoch: 29 - Loss: 1.023831276098887 - Accuracy: 0.7304347826086957 - Precision: 0.7290280036927947 - Recall: 0.7304347826086957 - F1: 0.7296294280894596\n",
      "Epoch: 30 - Loss: 1.0462632258733113 - Accuracy: 0.7130434782608696 - Precision: 0.7083600305110602 - Recall: 0.7130434782608696 - F1: 0.7086888904713241\n",
      "Epoch: 31 - Loss: 1.0078849911689758 - Accuracy: 0.7565217391304347 - Precision: 0.7731834082958521 - Recall: 0.7565217391304347 - F1: 0.7612762307191308\n",
      "Epoch: 32 - Loss: 0.9881056308746338 - Accuracy: 0.782608695652174 - Precision: 0.7861538461538462 - Recall: 0.782608695652174 - F1: 0.7828907534536824\n",
      "Epoch: 33 - Loss: 0.9744283159573873 - Accuracy: 0.8 - Precision: 0.8198024914546654 - Recall: 0.8 - F1: 0.8067128851964138\n",
      "Epoch: 34 - Loss: 1.001157808303833 - Accuracy: 0.7652173913043478 - Precision: 0.7677899982814916 - Recall: 0.7652173913043478 - F1: 0.7654580285530246\n",
      "Epoch: 35 - Loss: 0.9725269556045533 - Accuracy: 0.7565217391304347 - Precision: 0.7616019083218573 - Recall: 0.7565217391304347 - F1: 0.7554095959938113\n",
      "Epoch: 36 - Loss: 1.0210307916005452 - Accuracy: 0.7478260869565218 - Precision: 0.7474323144653298 - Recall: 0.7478260869565218 - F1: 0.7468485365160556\n",
      "Epoch: 37 - Loss: 0.9957121094067891 - Accuracy: 0.7652173913043478 - Precision: 0.768043942511154 - Recall: 0.7652173913043478 - F1: 0.7650709584966552\n",
      "Epoch: 38 - Loss: 1.0105411132176718 - Accuracy: 0.7391304347826086 - Precision: 0.7347913603007109 - Recall: 0.7391304347826086 - F1: 0.7354984490787481\n",
      "Epoch: 39 - Loss: 1.0283795436223349 - Accuracy: 0.7217391304347827 - Precision: 0.7149383864217624 - Recall: 0.7217391304347827 - F1: 0.7125585117628396\n",
      "Epoch: 40 - Loss: 0.9962043126424154 - Accuracy: 0.7565217391304347 - Precision: 0.7504347826086954 - Recall: 0.7565217391304347 - F1: 0.7512903835163758\n",
      "Epoch: 41 - Loss: 1.0233496069908141 - Accuracy: 0.7130434782608696 - Precision: 0.719089539137538 - Recall: 0.7130434782608696 - F1: 0.7125003959214004\n",
      "Epoch: 42 - Loss: 1.0119704286257425 - Accuracy: 0.7391304347826086 - Precision: 0.7462971810797898 - Recall: 0.7391304347826086 - F1: 0.7414205836854977\n",
      "Epoch: 43 - Loss: 0.9744971076647441 - Accuracy: 0.8 - Precision: 0.8027529297552181 - Recall: 0.8 - F1: 0.7987460484299629\n",
      "Epoch: 44 - Loss: 0.9948232412338257 - Accuracy: 0.7478260869565218 - Precision: 0.7423571966876974 - Recall: 0.7478260869565218 - F1: 0.7424297138655076\n",
      "Epoch: 45 - Loss: 0.9790506005287171 - Accuracy: 0.808695652173913 - Precision: 0.8084528514963298 - Recall: 0.808695652173913 - F1: 0.8053813120420482\n",
      "Epoch: 46 - Loss: 0.9918366630872091 - Accuracy: 0.782608695652174 - Precision: 0.779773858306028 - Recall: 0.782608695652174 - F1: 0.7803666203780268\n",
      "Epoch: 47 - Loss: 0.9959108829498291 - Accuracy: 0.782608695652174 - Precision: 0.7838068402780233 - Recall: 0.782608695652174 - F1: 0.7825971143174251\n",
      "Epoch: 48 - Loss: 0.9952695965766907 - Accuracy: 0.7739130434782608 - Precision: 0.7829037296373238 - Recall: 0.7739130434782608 - F1: 0.7746015453811554\n",
      "Epoch: 49 - Loss: 0.9463267207145691 - Accuracy: 0.8 - Precision: 0.8116476179254547 - Recall: 0.8 - F1: 0.8031181271022625\n",
      "Epoch: 50 - Loss: 0.9589628219604492 - Accuracy: 0.7913043478260869 - Precision: 0.7956036477699995 - Recall: 0.7913043478260869 - F1: 0.7928278944428012\n",
      "Epoch: 51 - Loss: 0.9695410291353862 - Accuracy: 0.7913043478260869 - Precision: 0.795232198142415 - Recall: 0.7913043478260869 - F1: 0.783036881120212\n",
      "Epoch: 52 - Loss: 0.9654937863349915 - Accuracy: 0.8173913043478261 - Precision: 0.8161004590872265 - Recall: 0.8173913043478261 - F1: 0.814978354978355\n",
      "Epoch: 53 - Loss: 0.943771481513977 - Accuracy: 0.8173913043478261 - Precision: 0.8151744285959787 - Recall: 0.8173913043478261 - F1: 0.8149927577148749\n",
      "Epoch: 54 - Loss: 0.9835274815559387 - Accuracy: 0.7739130434782608 - Precision: 0.7695180561494038 - Recall: 0.7739130434782608 - F1: 0.7708248304624076\n",
      "Epoch: 55 - Loss: 0.9720774173736573 - Accuracy: 0.808695652173913 - Precision: 0.8151873372069725 - Recall: 0.808695652173913 - F1: 0.801769884288625\n",
      "Epoch: 56 - Loss: 0.9531687259674072 - Accuracy: 0.8 - Precision: 0.7962594893029676 - Recall: 0.8 - F1: 0.7964317841079459\n",
      "Epoch: 57 - Loss: 0.9793205618858337 - Accuracy: 0.7652173913043478 - Precision: 0.7660308631109546 - Recall: 0.7652173913043478 - F1: 0.7640124665622162\n",
      "Epoch: 58 - Loss: 0.9576624989509582 - Accuracy: 0.8 - Precision: 0.8088628762541806 - Recall: 0.8 - F1: 0.8034358407342679\n",
      "Epoch: 59 - Loss: 0.9349616090456645 - Accuracy: 0.8173913043478261 - Precision: 0.8189000371609066 - Recall: 0.8173913043478261 - F1: 0.8172433206260356\n",
      "Epoch: 60 - Loss: 0.9445074001948038 - Accuracy: 0.8173913043478261 - Precision: 0.8139470750454733 - Recall: 0.8173913043478261 - F1: 0.8144928146387282\n",
      "Epoch: 61 - Loss: 0.9329146385192871 - Accuracy: 0.8260869565217391 - Precision: 0.8293106597961523 - Recall: 0.8260869565217391 - F1: 0.8229574773053033\n",
      "Epoch: 62 - Loss: 0.9325223644574483 - Accuracy: 0.8347826086956521 - Precision: 0.8344481605351171 - Recall: 0.8347826086956521 - F1: 0.8340372670807454\n",
      "Epoch: 63 - Loss: 0.9376718799273173 - Accuracy: 0.8347826086956521 - Precision: 0.8331858268210779 - Recall: 0.8347826086956521 - F1: 0.8325684081431848\n",
      "Epoch: 64 - Loss: 0.953150459130605 - Accuracy: 0.8 - Precision: 0.8026803631151458 - Recall: 0.8 - F1: 0.800771340622681\n",
      "Epoch: 65 - Loss: 0.9342765371004741 - Accuracy: 0.8434782608695652 - Precision: 0.8460837713011626 - Recall: 0.8434782608695652 - F1: 0.8441704873340672\n",
      "Epoch: 66 - Loss: 0.9453503529230753 - Accuracy: 0.8 - Precision: 0.8078507305051927 - Recall: 0.8 - F1: 0.8008562114606654\n",
      "Epoch: 67 - Loss: 0.9516661047935486 - Accuracy: 0.8 - Precision: 0.797089996035417 - Recall: 0.8 - F1: 0.7959524338224876\n",
      "Epoch: 68 - Loss: 0.9392337242762248 - Accuracy: 0.8 - Precision: 0.802760524499655 - Recall: 0.8 - F1: 0.7992642140468227\n",
      "Epoch: 69 - Loss: 0.9287210901578268 - Accuracy: 0.8260869565217391 - Precision: 0.825879917184265 - Recall: 0.8260869565217391 - F1: 0.8253431221699564\n",
      "Epoch: 70 - Loss: 0.9527766227722168 - Accuracy: 0.8 - Precision: 0.8021492132285623 - Recall: 0.8 - F1: 0.8008298132400091\n",
      "Epoch: 71 - Loss: 0.9554075201352438 - Accuracy: 0.782608695652174 - Precision: 0.7834113712374583 - Recall: 0.782608695652174 - F1: 0.7824927536231883\n",
      "Epoch: 72 - Loss: 0.9289821783701578 - Accuracy: 0.8521739130434782 - Precision: 0.852160140025681 - Recall: 0.8521739130434782 - F1: 0.8503899845259918\n",
      "Epoch: 73 - Loss: 0.9227465113004049 - Accuracy: 0.8260869565217391 - Precision: 0.823342995169082 - Recall: 0.8260869565217391 - F1: 0.8228950830707096\n",
      "Epoch: 74 - Loss: 0.9247043172518412 - Accuracy: 0.8434782608695652 - Precision: 0.8421243604461102 - Recall: 0.8434782608695652 - F1: 0.8418662496329873\n",
      "Epoch: 75 - Loss: 0.9317462007204692 - Accuracy: 0.8260869565217391 - Precision: 0.8297491638795986 - Recall: 0.8260869565217391 - F1: 0.8227604990444\n",
      "Epoch: 76 - Loss: 0.9275494257609049 - Accuracy: 0.8521739130434782 - Precision: 0.8577294685990338 - Recall: 0.8521739130434782 - F1: 0.8537084398976983\n",
      "Epoch: 77 - Loss: 0.9404807527860005 - Accuracy: 0.8347826086956521 - Precision: 0.8401939459406378 - Recall: 0.8347826086956521 - F1: 0.8347518824283233\n",
      "Epoch: 78 - Loss: 0.9259537180264791 - Accuracy: 0.8434782608695652 - Precision: 0.8410108446920703 - Recall: 0.8434782608695652 - F1: 0.8407272563180597\n",
      "Epoch: 79 - Loss: 0.929399577776591 - Accuracy: 0.8347826086956521 - Precision: 0.8371085819196761 - Recall: 0.8347826086956521 - F1: 0.8323316451138174\n",
      "Epoch: 80 - Loss: 0.908489469687144 - Accuracy: 0.8608695652173913 - Precision: 0.8631536423242625 - Recall: 0.8608695652173913 - F1: 0.8604948285096311\n",
      "Epoch: 81 - Loss: 0.9257674137751262 - Accuracy: 0.8521739130434782 - Precision: 0.8552176178863862 - Recall: 0.8521739130434782 - F1: 0.850528499633359\n",
      "Epoch: 82 - Loss: 0.9255130529403687 - Accuracy: 0.8173913043478261 - Precision: 0.8239371980676328 - Recall: 0.8173913043478261 - F1: 0.8151713192175442\n",
      "Epoch: 83 - Loss: 0.9113504409790039 - Accuracy: 0.8434782608695652 - Precision: 0.8434214658844906 - Recall: 0.8434782608695652 - F1: 0.8421441887900123\n",
      "Epoch: 84 - Loss: 0.9398287773132324 - Accuracy: 0.808695652173913 - Precision: 0.8093913043478259 - Recall: 0.808695652173913 - F1: 0.8064801535883642\n",
      "Epoch: 85 - Loss: 0.9514371951421102 - Accuracy: 0.8173913043478261 - Precision: 0.817679409989008 - Recall: 0.8173913043478261 - F1: 0.8164389530997976\n",
      "Epoch: 86 - Loss: 0.9297474384307861 - Accuracy: 0.8260869565217391 - Precision: 0.8265480283114257 - Recall: 0.8260869565217391 - F1: 0.8259262768652612\n",
      "Epoch: 87 - Loss: 0.9422724882761637 - Accuracy: 0.8260869565217391 - Precision: 0.8296761562933356 - Recall: 0.8260869565217391 - F1: 0.8275215118060427\n",
      "Epoch: 88 - Loss: 0.9309635559717814 - Accuracy: 0.8173913043478261 - Precision: 0.8154571770940057 - Recall: 0.8173913043478261 - F1: 0.8137963660875693\n",
      "Epoch: 89 - Loss: 0.9197447260220846 - Accuracy: 0.8434782608695652 - Precision: 0.8460530316365557 - Recall: 0.8434782608695652 - F1: 0.8434088698648781\n",
      "Epoch: 90 - Loss: 0.919520914554596 - Accuracy: 0.8260869565217391 - Precision: 0.8304192347252011 - Recall: 0.8260869565217391 - F1: 0.8268733490964213\n",
      "Epoch: 91 - Loss: 0.900226895014445 - Accuracy: 0.8608695652173913 - Precision: 0.8692480075751597 - Recall: 0.8608695652173913 - F1: 0.8625182576682205\n",
      "Epoch: 92 - Loss: 0.9015728116035462 - Accuracy: 0.8608695652173913 - Precision: 0.8614472484037702 - Recall: 0.8608695652173913 - F1: 0.8588559616379509\n",
      "Epoch: 93 - Loss: 0.9025061289469402 - Accuracy: 0.8521739130434782 - Precision: 0.8523154701718909 - Recall: 0.8521739130434782 - F1: 0.8517765367016372\n",
      "Epoch: 94 - Loss: 0.9510453621546427 - Accuracy: 0.8 - Precision: 0.8040802675585285 - Recall: 0.8 - F1: 0.8010678871090771\n",
      "Epoch: 95 - Loss: 0.916189165910085 - Accuracy: 0.8521739130434782 - Precision: 0.8529466861861648 - Recall: 0.8521739130434782 - F1: 0.8511752030763879\n",
      "Epoch: 96 - Loss: 0.9166404803593954 - Accuracy: 0.8521739130434782 - Precision: 0.8569967117281695 - Recall: 0.8521739130434782 - F1: 0.8510550319245971\n",
      "Epoch: 97 - Loss: 0.9390130480130513 - Accuracy: 0.8434782608695652 - Precision: 0.8451727982162764 - Recall: 0.8434782608695652 - F1: 0.8421565443693247\n",
      "Epoch: 98 - Loss: 0.8955344994862874 - Accuracy: 0.8695652173913043 - Precision: 0.8715568531523713 - Recall: 0.8695652173913043 - F1: 0.8693790984050036\n",
      "Epoch: 99 - Loss: 0.8984701196352641 - Accuracy: 0.8608695652173913 - Precision: 0.860555980856892 - Recall: 0.8608695652173913 - F1: 0.8599809803662446\n",
      "Epoch: 100 - Loss: 0.9004018704096476 - Accuracy: 0.8521739130434782 - Precision: 0.8595550796030555 - Recall: 0.8521739130434782 - F1: 0.8538017380537751\n",
      "Epoch: 101 - Loss: 0.9049012621243795 - Accuracy: 0.8521739130434782 - Precision: 0.8566485043923052 - Recall: 0.8521739130434782 - F1: 0.8510468827239015\n",
      "Epoch: 102 - Loss: 0.9046277006467184 - Accuracy: 0.8695652173913043 - Precision: 0.8703010033444817 - Recall: 0.8695652173913043 - F1: 0.8693002070393375\n",
      "Epoch: 103 - Loss: 0.9145442763964335 - Accuracy: 0.8521739130434782 - Precision: 0.8516531590039981 - Recall: 0.8521739130434782 - F1: 0.8490339600723233\n",
      "Epoch: 104 - Loss: 0.9014101107915242 - Accuracy: 0.8521739130434782 - Precision: 0.8552566739885872 - Recall: 0.8521739130434782 - F1: 0.8492110070572851\n",
      "Epoch: 105 - Loss: 0.896890151500702 - Accuracy: 0.8695652173913043 - Precision: 0.8816671664167917 - Recall: 0.8695652173913043 - F1: 0.8734110206628664\n",
      "Epoch: 106 - Loss: 0.90099911292394 - Accuracy: 0.8608695652173913 - Precision: 0.8630311200988652 - Recall: 0.8608695652173913 - F1: 0.8598088571813165\n",
      "Epoch: 107 - Loss: 0.9107255021731059 - Accuracy: 0.8608695652173913 - Precision: 0.8606049149338374 - Recall: 0.8608695652173913 - F1: 0.8599150272887871\n",
      "Epoch: 108 - Loss: 0.8973639925320943 - Accuracy: 0.8608695652173913 - Precision: 0.8616053511705686 - Recall: 0.8608695652173913 - F1: 0.8610939043377812\n",
      "Epoch: 109 - Loss: 0.9044625361760458 - Accuracy: 0.8782608695652174 - Precision: 0.8810250972074939 - Recall: 0.8782608695652174 - F1: 0.8786444279126003\n",
      "Epoch: 110 - Loss: 0.8987934907277425 - Accuracy: 0.8521739130434782 - Precision: 0.8576437277021118 - Recall: 0.8521739130434782 - F1: 0.8523512202361696\n",
      "Epoch: 111 - Loss: 0.8971227288246155 - Accuracy: 0.8608695652173913 - Precision: 0.8600707301851466 - Recall: 0.8608695652173913 - F1: 0.8594116163814907\n",
      "Epoch: 112 - Loss: 0.9099553267161051 - Accuracy: 0.8347826086956521 - Precision: 0.8411792152704136 - Recall: 0.8347826086956521 - F1: 0.8371239828485691\n",
      "Epoch: 113 - Loss: 0.9388602018356323 - Accuracy: 0.8347826086956521 - Precision: 0.8376689235119776 - Recall: 0.8347826086956521 - F1: 0.8358412785858275\n",
      "Epoch: 114 - Loss: 0.9124594529469808 - Accuracy: 0.8608695652173913 - Precision: 0.8593623188405796 - Recall: 0.8608695652173913 - F1: 0.858192332405226\n",
      "Epoch: 115 - Loss: 0.9036851326624552 - Accuracy: 0.8869565217391304 - Precision: 0.888634589164812 - Recall: 0.8869565217391304 - F1: 0.8873781232107398\n",
      "Epoch: 116 - Loss: 0.8949910839398701 - Accuracy: 0.8608695652173913 - Precision: 0.8622312373225152 - Recall: 0.8608695652173913 - F1: 0.8584444041715408\n",
      "Epoch: 117 - Loss: 0.8904096285502116 - Accuracy: 0.8608695652173913 - Precision: 0.8617860930162097 - Recall: 0.8608695652173913 - F1: 0.8612143435401685\n",
      "Epoch: 118 - Loss: 0.9045440157254537 - Accuracy: 0.8521739130434782 - Precision: 0.8531931836279664 - Recall: 0.8521739130434782 - F1: 0.8522647232767995\n",
      "Epoch: 119 - Loss: 0.9165355602900187 - Accuracy: 0.8434782608695652 - Precision: 0.8422180214240707 - Recall: 0.8434782608695652 - F1: 0.8407114624505928\n",
      "Epoch: 120 - Loss: 0.8954381306966146 - Accuracy: 0.8695652173913043 - Precision: 0.8702800115093967 - Recall: 0.8695652173913043 - F1: 0.8679358659540661\n",
      "Epoch: 121 - Loss: 0.8931591510772705 - Accuracy: 0.8521739130434782 - Precision: 0.8506719367588933 - Recall: 0.8521739130434782 - F1: 0.8509124175453802\n",
      "Epoch: 122 - Loss: 0.8940257668495178 - Accuracy: 0.8782608695652174 - Precision: 0.8786859903381642 - Recall: 0.8782608695652174 - F1: 0.8764532019704433\n",
      "Epoch: 123 - Loss: 0.8967512806256612 - Accuracy: 0.8782608695652174 - Precision: 0.8818710701063642 - Recall: 0.8782608695652174 - F1: 0.8769103117980772\n",
      "Epoch: 124 - Loss: 0.8909530520439148 - Accuracy: 0.8434782608695652 - Precision: 0.8498052547152998 - Recall: 0.8434782608695652 - F1: 0.8420870933653649\n",
      "Epoch: 125 - Loss: 0.9016252160072327 - Accuracy: 0.8521739130434782 - Precision: 0.854816459313316 - Recall: 0.8521739130434782 - F1: 0.8526030702135927\n",
      "Epoch: 126 - Loss: 0.8952109257380167 - Accuracy: 0.8521739130434782 - Precision: 0.8545116170196165 - Recall: 0.8521739130434782 - F1: 0.8530785955427073\n",
      "Epoch: 127 - Loss: 0.9279345790545146 - Accuracy: 0.8260869565217391 - Precision: 0.8275400413369939 - Recall: 0.8260869565217391 - F1: 0.8253779277458249\n",
      "Epoch: 128 - Loss: 0.8992572704950968 - Accuracy: 0.8782608695652174 - Precision: 0.8790697674418605 - Recall: 0.8782608695652174 - F1: 0.8781752701080432\n",
      "Epoch: 129 - Loss: 0.9118133107821147 - Accuracy: 0.8521739130434782 - Precision: 0.8520474087138981 - Recall: 0.8521739130434782 - F1: 0.8511230085401557\n",
      "Epoch: 130 - Loss: 0.894930076599121 - Accuracy: 0.8434782608695652 - Precision: 0.8530676328502417 - Recall: 0.8434782608695652 - F1: 0.8433167317270157\n",
      "Epoch: 131 - Loss: 0.9164785146713257 - Accuracy: 0.8608695652173913 - Precision: 0.8599960295855138 - Recall: 0.8608695652173913 - F1: 0.8601622637341179\n",
      "Epoch: 132 - Loss: 0.9213378548622131 - Accuracy: 0.8434782608695652 - Precision: 0.8480304020921869 - Recall: 0.8434782608695652 - F1: 0.8427006009190526\n",
      "Epoch: 133 - Loss: 0.9147137880325318 - Accuracy: 0.8521739130434782 - Precision: 0.8536093857832988 - Recall: 0.8521739130434782 - F1: 0.8508981872700013\n",
      "Epoch: 134 - Loss: 0.8791497786839803 - Accuracy: 0.8782608695652174 - Precision: 0.879768585342956 - Recall: 0.8782608695652174 - F1: 0.8771388902171803\n",
      "Epoch: 135 - Loss: 0.8916439334551494 - Accuracy: 0.8434782608695652 - Precision: 0.8417043855557436 - Recall: 0.8434782608695652 - F1: 0.8407589938762421\n",
      "Epoch: 136 - Loss: 0.9048642158508301 - Accuracy: 0.8521739130434782 - Precision: 0.854137217105733 - Recall: 0.8521739130434782 - F1: 0.8513800242735775\n",
      "Epoch: 137 - Loss: 0.8811291456222534 - Accuracy: 0.8782608695652174 - Precision: 0.8818710701063642 - Recall: 0.8782608695652174 - F1: 0.8769103117980772\n",
      "Epoch: 138 - Loss: 0.9081009070078532 - Accuracy: 0.8608695652173913 - Precision: 0.8663064518843946 - Recall: 0.8608695652173913 - F1: 0.8609224615091561\n",
      "Epoch: 139 - Loss: 0.9073047081629435 - Accuracy: 0.8695652173913043 - Precision: 0.8736534719833167 - Recall: 0.8695652173913043 - F1: 0.8709086513277189\n",
      "Epoch: 140 - Loss: 0.9151327451070149 - Accuracy: 0.8521739130434782 - Precision: 0.8553792389130039 - Recall: 0.8521739130434782 - F1: 0.8510252463337973\n",
      "Epoch: 141 - Loss: 0.8918524424235026 - Accuracy: 0.8695652173913043 - Precision: 0.8722889234883334 - Recall: 0.8695652173913043 - F1: 0.8702263770802272\n",
      "Epoch: 142 - Loss: 0.8732101281483968 - Accuracy: 0.8782608695652174 - Precision: 0.8798767549658933 - Recall: 0.8782608695652174 - F1: 0.8775450395048273\n",
      "Epoch: 143 - Loss: 0.8890058517456054 - Accuracy: 0.8521739130434782 - Precision: 0.858626339004411 - Recall: 0.8521739130434782 - F1: 0.8488066389668221\n",
      "Epoch: 144 - Loss: 0.9001600821812947 - Accuracy: 0.8434782608695652 - Precision: 0.842361692907699 - Recall: 0.8434782608695652 - F1: 0.8424773862114016\n",
      "Epoch: 145 - Loss: 0.8945025046666463 - Accuracy: 0.8695652173913043 - Precision: 0.870003040437823 - Recall: 0.8695652173913043 - F1: 0.8691062085974861\n",
      "Epoch: 146 - Loss: 0.9065318743387858 - Accuracy: 0.8347826086956521 - Precision: 0.8390220541902962 - Recall: 0.8347826086956521 - F1: 0.8357489628801462\n",
      "Epoch: 147 - Loss: 0.8905672033627828 - Accuracy: 0.8695652173913043 - Precision: 0.8733092589917666 - Recall: 0.8695652173913043 - F1: 0.8699280110106945\n",
      "Epoch: 148 - Loss: 0.8675730586051941 - Accuracy: 0.8782608695652174 - Precision: 0.8785214453904137 - Recall: 0.8782608695652174 - F1: 0.8769892206324068\n",
      "Epoch: 149 - Loss: 0.8971494873364766 - Accuracy: 0.8347826086956521 - Precision: 0.834319631388622 - Recall: 0.8347826086956521 - F1: 0.8324577104015343\n",
      "Epoch: 150 - Loss: 0.893328595161438 - Accuracy: 0.8695652173913043 - Precision: 0.8710960985986264 - Recall: 0.8695652173913043 - F1: 0.8683896768193444\n",
      "Epoch: 151 - Loss: 0.8840669552485149 - Accuracy: 0.8608695652173913 - Precision: 0.8685493780403643 - Recall: 0.8608695652173913 - F1: 0.8619501294933458\n",
      "Epoch: 152 - Loss: 0.8811149199803671 - Accuracy: 0.8782608695652174 - Precision: 0.8782608695652174 - Recall: 0.8782608695652174 - F1: 0.8782608695652174\n",
      "Epoch: 153 - Loss: 0.9192250887552897 - Accuracy: 0.8347826086956521 - Precision: 0.8337011474040533 - Recall: 0.8347826086956521 - F1: 0.8341230886434129\n",
      "Epoch: 154 - Loss: 0.9013302008310954 - Accuracy: 0.8695652173913043 - Precision: 0.8702759924385634 - Recall: 0.8695652173913043 - F1: 0.8685662163923034\n",
      "Epoch: 155 - Loss: 0.9213736971219381 - Accuracy: 0.8434782608695652 - Precision: 0.8427502527805865 - Recall: 0.8434782608695652 - F1: 0.842666805852776\n",
      "Epoch: 156 - Loss: 0.9009732683499654 - Accuracy: 0.8782608695652174 - Precision: 0.880853629462325 - Recall: 0.8782608695652174 - F1: 0.877591427783541\n",
      "Epoch: 157 - Loss: 0.8925383965174357 - Accuracy: 0.8521739130434782 - Precision: 0.8520226843100189 - Recall: 0.8521739130434782 - F1: 0.851145439918019\n",
      "Epoch: 158 - Loss: 0.9057498375574747 - Accuracy: 0.8347826086956521 - Precision: 0.8347228700725865 - Recall: 0.8347826086956521 - F1: 0.8344211862401308\n",
      "Epoch: 159 - Loss: 0.8667163093884785 - Accuracy: 0.8869565217391304 - Precision: 0.8871090770404272 - Recall: 0.8869565217391304 - F1: 0.8857790616886679\n",
      "Epoch: 160 - Loss: 0.8808910568555196 - Accuracy: 0.8695652173913043 - Precision: 0.8707417719711573 - Recall: 0.8695652173913043 - F1: 0.8679870877004869\n",
      "Epoch: 161 - Loss: 0.8765083988507588 - Accuracy: 0.8782608695652174 - Precision: 0.8786506746626688 - Recall: 0.8782608695652174 - F1: 0.8778467908902693\n",
      "Epoch: 162 - Loss: 0.8928982615470886 - Accuracy: 0.8782608695652174 - Precision: 0.8788385527515963 - Recall: 0.8782608695652174 - F1: 0.8778496460682449\n",
      "Epoch: 163 - Loss: 0.8899831970532736 - Accuracy: 0.8521739130434782 - Precision: 0.8516450182779809 - Recall: 0.8521739130434782 - F1: 0.8517936592192249\n",
      "Epoch: 164 - Loss: 0.9018344680468241 - Accuracy: 0.8608695652173913 - Precision: 0.8629134150873282 - Recall: 0.8608695652173913 - F1: 0.8596056688636814\n",
      "Epoch: 165 - Loss: 0.8690357724825541 - Accuracy: 0.8695652173913043 - Precision: 0.8696297048644535 - Recall: 0.8695652173913043 - F1: 0.8688616464161982\n",
      "Epoch: 166 - Loss: 0.879082731405894 - Accuracy: 0.8869565217391304 - Precision: 0.8871863788385528 - Recall: 0.8869565217391304 - F1: 0.8863678359528943\n",
      "Epoch: 167 - Loss: 0.8764514843622844 - Accuracy: 0.8782608695652174 - Precision: 0.8817589254153412 - Recall: 0.8782608695652174 - F1: 0.8790677168639145\n",
      "Epoch: 168 - Loss: 0.8711636424064636 - Accuracy: 0.8782608695652174 - Precision: 0.8798964110873373 - Recall: 0.8782608695652174 - F1: 0.8777407522653767\n",
      "Epoch: 169 - Loss: 0.8937463005383809 - Accuracy: 0.8869565217391304 - Precision: 0.8878509316770186 - Recall: 0.8869565217391304 - F1: 0.8868887634105026\n",
      "Epoch: 170 - Loss: 0.9069430828094482 - Accuracy: 0.8608695652173913 - Precision: 0.8600644874731492 - Recall: 0.8608695652173913 - F1: 0.8597519155673371\n",
      "Epoch: 171 - Loss: 0.8902722716331481 - Accuracy: 0.8869565217391304 - Precision: 0.8898425053207663 - Recall: 0.8869565217391304 - F1: 0.8872455916176846\n",
      "Epoch: 172 - Loss: 0.9036753296852111 - Accuracy: 0.8695652173913043 - Precision: 0.8764596273291925 - Recall: 0.8695652173913043 - F1: 0.8714981024631077\n",
      "Epoch: 173 - Loss: 0.8867756485939026 - Accuracy: 0.8782608695652174 - Precision: 0.8772332015810276 - Recall: 0.8782608695652174 - F1: 0.8772112282729068\n",
      "Epoch: 174 - Loss: 0.8880658745765686 - Accuracy: 0.8695652173913043 - Precision: 0.8743098688750862 - Recall: 0.8695652173913043 - F1: 0.8679578392621871\n",
      "Epoch: 175 - Loss: 0.8859153270721436 - Accuracy: 0.8695652173913043 - Precision: 0.870320254506893 - Recall: 0.8695652173913043 - F1: 0.869819651275911\n",
      "Epoch: 176 - Loss: 0.8874414364496866 - Accuracy: 0.8782608695652174 - Precision: 0.8786107033063554 - Recall: 0.8782608695652174 - F1: 0.8765637597993512\n",
      "Epoch: 177 - Loss: 0.9012695511182149 - Accuracy: 0.8434782608695652 - Precision: 0.8491320699760597 - Recall: 0.8434782608695652 - F1: 0.8431836825122973\n",
      "Epoch: 178 - Loss: 0.8910745819409688 - Accuracy: 0.8521739130434782 - Precision: 0.8554008698911628 - Recall: 0.8521739130434782 - F1: 0.8510891236174313\n",
      "Epoch: 179 - Loss: 0.8966255227724711 - Accuracy: 0.8608695652173913 - Precision: 0.8647007194689874 - Recall: 0.8608695652173913 - F1: 0.8598824049296638\n",
      "Epoch: 180 - Loss: 0.8823103427886962 - Accuracy: 0.8782608695652174 - Precision: 0.8796783426468583 - Recall: 0.8782608695652174 - F1: 0.878368890089117\n",
      "Epoch: 181 - Loss: 0.8843770225842794 - Accuracy: 0.8521739130434782 - Precision: 0.8523737510126923 - Recall: 0.8521739130434782 - F1: 0.8504385469602862\n",
      "Epoch: 182 - Loss: 0.8872976501782736 - Accuracy: 0.8521739130434782 - Precision: 0.852189035916824 - Recall: 0.8521739130434782 - F1: 0.8508404638839421\n",
      "Epoch: 183 - Loss: 0.8814793666203816 - Accuracy: 0.8782608695652174 - Precision: 0.8786486968409165 - Recall: 0.8782608695652174 - F1: 0.8773520701104612\n",
      "Epoch: 184 - Loss: 0.9004327495892842 - Accuracy: 0.8695652173913043 - Precision: 0.8695652173913043 - Recall: 0.8695652173913043 - F1: 0.8695652173913043\n",
      "Epoch: 185 - Loss: 0.8685681104660035 - Accuracy: 0.8956521739130435 - Precision: 0.8956521739130435 - Recall: 0.8956521739130435 - F1: 0.8951246318195806\n",
      "Epoch: 186 - Loss: 0.8805904030799866 - Accuracy: 0.8782608695652174 - Precision: 0.878917520644712 - Recall: 0.8782608695652174 - F1: 0.8769674133542278\n",
      "Epoch: 187 - Loss: 0.8627376278241475 - Accuracy: 0.8869565217391304 - Precision: 0.888288608309086 - Recall: 0.8869565217391304 - F1: 0.8872290548877585\n",
      "Epoch: 188 - Loss: 0.893815807501475 - Accuracy: 0.8695652173913043 - Precision: 0.8722784815043565 - Recall: 0.8695652173913043 - F1: 0.8701208391459607\n",
      "Epoch: 189 - Loss: 0.8785463809967041 - Accuracy: 0.8608695652173913 - Precision: 0.8629457041814022 - Recall: 0.8608695652173913 - F1: 0.8599987370141151\n",
      "Epoch: 190 - Loss: 0.9017315546671549 - Accuracy: 0.8521739130434782 - Precision: 0.8549896480331264 - Recall: 0.8521739130434782 - F1: 0.852707472295683\n",
      "Epoch: 191 - Loss: 0.9116088350613912 - Accuracy: 0.8347826086956521 - Precision: 0.83557854939807 - Recall: 0.8347826086956521 - F1: 0.8336433990864169\n",
      "Epoch: 192 - Loss: 0.8949787497520447 - Accuracy: 0.8695652173913043 - Precision: 0.8729766684456028 - Recall: 0.8695652173913043 - F1: 0.8674370553171912\n",
      "Epoch: 193 - Loss: 0.8834186434745789 - Accuracy: 0.8869565217391304 - Precision: 0.8879912446522734 - Recall: 0.8869565217391304 - F1: 0.8858480794041814\n",
      "Epoch: 194 - Loss: 0.8658276557922363 - Accuracy: 0.8956521739130435 - Precision: 0.8965465838509316 - Recall: 0.8956521739130435 - F1: 0.8955844155844156\n",
      "Epoch: 195 - Loss: 0.8843992749849955 - Accuracy: 0.8695652173913043 - Precision: 0.8750906959870515 - Recall: 0.8695652173913043 - F1: 0.8704208464496701\n",
      "Epoch: 196 - Loss: 0.9155311822891236 - Accuracy: 0.8695652173913043 - Precision: 0.8696211614472484 - Recall: 0.8695652173913043 - F1: 0.8684894572902663\n",
      "Epoch: 197 - Loss: 0.8649430910746256 - Accuracy: 0.8956521739130435 - Precision: 0.8995819605725087 - Recall: 0.8956521739130435 - F1: 0.8953599726865652\n",
      "Epoch: 198 - Loss: 0.8967028935750325 - Accuracy: 0.8695652173913043 - Precision: 0.8706597918016238 - Recall: 0.8695652173913043 - F1: 0.8687418674138183\n",
      "Epoch: 199 - Loss: 0.8706691980361938 - Accuracy: 0.8782608695652174 - Precision: 0.8800010538587697 - Recall: 0.8782608695652174 - F1: 0.8788545756484859\n",
      "Epoch: 200 - Loss: 0.8731302499771119 - Accuracy: 0.8782608695652174 - Precision: 0.8802554607863532 - Recall: 0.8782608695652174 - F1: 0.878100217373689\n"
     ]
    }
   ],
   "source": [
    "for epoch in range(EPOCHS):\n",
    "  model.train()\n",
    "  running_loss = 0.0\n",
    "\n",
    "  labels_list = []\n",
    "  preds_list = []\n",
    "\n",
    "  for (x, y) in train_loader:\n",
    "    x, y = x.to(DEVICE), y.to(DEVICE)\n",
    "\n",
    "    yhat = model(x)\n",
    "\n",
    "    labels_list.extend(y.cpu())\n",
    "    preds_list.extend(yhat.argmax(1).cpu())\n",
    "\n",
    "    loss = loss_fn(yhat, y)\n",
    "    optimizer.zero_grad()\n",
    "    loss.backward()\n",
    "    optimizer.step()\n",
    "\n",
    "    running_loss += loss.item()\n",
    "\n",
    "  avg_loss = running_loss / len(train_loader)\n",
    "  loss_list.append(avg_loss)\n",
    "\n",
    "  acc = accuracy_score(labels_list, preds_list)\n",
    "  pre = precision_score(labels_list, preds_list, average='weighted', zero_division=0)\n",
    "  rec = recall_score(labels_list, preds_list, average='weighted', zero_division=0)\n",
    "  f1 = f1_score(labels_list, preds_list, average='weighted', zero_division=0)\n",
    "\n",
    "  acc_list.append(acc)\n",
    "  precision_list.append(pre)\n",
    "  recall_list.append(rec)\n",
    "  f1_list.append(f1)\n",
    "\n",
    "  writer.add_scalar(\"Train/Loss\", avg_loss, epoch)\n",
    "  writer.add_scalar(\"Train/Accuracy\", acc, epoch)\n",
    "  writer.add_scalar(\"Train/Precision\", pre, epoch)\n",
    "  writer.add_scalar(\"Train/Recall\", rec, epoch)\n",
    "  writer.add_scalar(\"Train/F1\", f1, epoch)\n",
    "\n",
    "  print(f\"Epoch: {epoch + 1} - Loss: {avg_loss} - Accuracy: {acc} - Precision: {pre} - Recall: {rec} - F1: {f1}\")"
   ]
  },
  {
   "cell_type": "code",
   "execution_count": 28,
   "metadata": {
    "colab": {
     "base_uri": "https://localhost:8080/",
     "height": 472
    },
    "execution": {
     "iopub.execute_input": "2024-02-26T14:06:50.844331Z",
     "iopub.status.busy": "2024-02-26T14:06:50.843878Z",
     "iopub.status.idle": "2024-02-26T14:06:51.168543Z",
     "shell.execute_reply": "2024-02-26T14:06:51.168181Z",
     "shell.execute_reply.started": "2024-02-26T14:06:50.844300Z"
    },
    "id": "HNfMmm0lvkAl",
    "outputId": "0a67dcb4-afbc-4b9b-cc98-968b62761006"
   },
   "outputs": [
    {
     "data": {
      "image/png": "[encoded data removed]",
      "text/plain": [
       "<Figure size 640x480 with 1 Axes>"
      ]
     },
     "metadata": {},
     "output_type": "display_data"
    }
   ],
   "source": [
    "plt.title(\"Loss History\")\n",
    "plt.plot(range(EPOCHS), loss_list)\n",
    "plt.xlabel(\"Epochs\")\n",
    "plt.ylabel(\"Loss Value\")\n",
    "plt.savefig(\"figures/training_loss_history_1d_cnn_two_blocks_sgd.pdf\", bbox_inches=\"tight\")\n",
    "plt.show()"
   ]
  },
  {
   "cell_type": "code",
   "execution_count": 29,
   "metadata": {
    "colab": {
     "base_uri": "https://localhost:8080/",
     "height": 472
    },
    "execution": {
     "iopub.execute_input": "2024-02-26T14:06:51.169280Z",
     "iopub.status.busy": "2024-02-26T14:06:51.169135Z",
     "iopub.status.idle": "2024-02-26T14:06:51.470082Z",
     "shell.execute_reply": "2024-02-26T14:06:51.469552Z",
     "shell.execute_reply.started": "2024-02-26T14:06:51.169267Z"
    },
    "id": "tvBWlTRuw95F",
    "outputId": "78368863-5047-424b-8bed-78cb8546ad96"
   },
   "outputs": [
    {
     "data": {
      "image/png": "[encoded data removed]",
      "text/plain": [
       "<Figure size 640x480 with 1 Axes>"
      ]
     },
     "metadata": {},
     "output_type": "display_data"
    }
   ],
   "source": [
    "plt.title(\"Training Metrics\")\n",
    "plt.plot(range(EPOCHS), acc_list, label=\"Accuracy\")\n",
    "plt.plot(range(EPOCHS), precision_list, label=\"Precision\")\n",
    "plt.plot(range(EPOCHS), recall_list, label=\"Recall\")\n",
    "plt.plot(range(EPOCHS), f1_list, label=\"F1 Score\")\n",
    "plt.legend()\n",
    "plt.xlabel(\"Epochs\")\n",
    "plt.ylabel(\"Metric Value\")\n",
    "plt.savefig(\"figures/training_metrics_1d_cnn_two_blocks_sgd.pdf\", bbox_inches=\"tight\")\n",
    "plt.show()"
   ]
  },
  {
   "cell_type": "code",
   "execution_count": 30,
   "metadata": {
    "colab": {
     "base_uri": "https://localhost:8080/"
    },
    "execution": {
     "iopub.execute_input": "2024-02-26T14:06:51.471851Z",
     "iopub.status.busy": "2024-02-26T14:06:51.471447Z",
     "iopub.status.idle": "2024-02-26T14:06:51.478011Z",
     "shell.execute_reply": "2024-02-26T14:06:51.477205Z",
     "shell.execute_reply.started": "2024-02-26T14:06:51.471817Z"
    },
    "id": "iIXzx3y1xryb",
    "outputId": "2e23526b-d875-4ac7-ad79-28aea34ad3da"
   },
   "outputs": [
    {
     "name": "stdout",
     "output_type": "stream",
     "text": [
      "Mean Training Accuracy: 0.8125652173913042\n",
      "Mean Training Precision: 0.8149108240811106\n",
      "Mean Training Recall: 0.8125652173913042\n",
      "Mean Training F1 Score: 0.8115169650562669\n"
     ]
    }
   ],
   "source": [
    "print(f\"Mean Training Accuracy: {np.array(acc_list).mean()}\")\n",
    "print(f\"Mean Training Precision: {np.array(precision_list).mean()}\")\n",
    "print(f\"Mean Training Recall: {np.array(recall_list).mean()}\")\n",
    "print(f\"Mean Training F1 Score: {np.array(f1_list).mean()}\")\n",
    "\n",
    "writer.add_scalar(\"Train/Mean Accuracy\", np.array(acc_list).mean(), 0)\n",
    "writer.add_scalar(\"Train/Mean Precision\", np.array(precision_list).mean(), 0)\n",
    "writer.add_scalar(\"Train/Mean Recall\", np.array(recall_list).mean(), 0)\n",
    "writer.add_scalar(\"Train/Mean F1 Score\", np.array(f1_list).mean(), 0)"
   ]
  },
  {
   "cell_type": "code",
   "execution_count": 31,
   "metadata": {
    "execution": {
     "iopub.execute_input": "2024-02-26T14:06:51.479230Z",
     "iopub.status.busy": "2024-02-26T14:06:51.478929Z",
     "iopub.status.idle": "2024-02-26T14:06:51.492200Z",
     "shell.execute_reply": "2024-02-26T14:06:51.491489Z",
     "shell.execute_reply.started": "2024-02-26T14:06:51.479203Z"
    },
    "id": "OeA8Ku_n4A_C"
   },
   "outputs": [],
   "source": [
    "loss = 0.0\n",
    "accuracy = 0.0\n",
    "precision = 0.0\n",
    "recall = 0.0\n",
    "f1 = 0.0"
   ]
  },
  {
   "cell_type": "code",
   "execution_count": 32,
   "metadata": {
    "colab": {
     "base_uri": "https://localhost:8080/"
    },
    "execution": {
     "iopub.execute_input": "2024-02-26T14:06:51.494084Z",
     "iopub.status.busy": "2024-02-26T14:06:51.493410Z",
     "iopub.status.idle": "2024-02-26T14:06:51.524498Z",
     "shell.execute_reply": "2024-02-26T14:06:51.523369Z",
     "shell.execute_reply.started": "2024-02-26T14:06:51.494052Z"
    },
    "id": "9t8DfeRt5Cl7",
    "outputId": "f759977e-685e-4363-8ce4-131f341a8d69"
   },
   "outputs": [],
   "source": [
    "model.eval()\n",
    "with torch.no_grad():\n",
    "  x = torch.tensor(test_data).type(torch.FloatTensor)\n",
    "  y = torch.tensor(test_labels).type(torch.LongTensor)\n",
    "\n",
    "  yhat = model(x)\n",
    "\n",
    "  yhat = yhat.cpu()\n",
    "  loss = loss_fn(yhat, y)\n",
    "\n",
    "  yhat = yhat.argmax(1)\n",
    "  accuracy = accuracy_score(yhat, y)\n",
    "  precision = precision_score(yhat, y, average='weighted')\n",
    "  recall = recall_score(yhat, y, average='weighted')\n",
    "  f1 = f1_score(yhat, y, average='weighted')"
   ]
  },
  {
   "cell_type": "code",
   "execution_count": 33,
   "metadata": {
    "colab": {
     "base_uri": "https://localhost:8080/"
    },
    "execution": {
     "iopub.execute_input": "2024-02-26T14:06:51.526299Z",
     "iopub.status.busy": "2024-02-26T14:06:51.525712Z",
     "iopub.status.idle": "2024-02-26T14:06:51.533048Z",
     "shell.execute_reply": "2024-02-26T14:06:51.532358Z",
     "shell.execute_reply.started": "2024-02-26T14:06:51.526263Z"
    },
    "id": "XdiAVxPE6Hq7",
    "outputId": "5a0d01eb-6872-416b-c354-dc8c858ad6de"
   },
   "outputs": [
    {
     "name": "stdout",
     "output_type": "stream",
     "text": [
      "Testing Loss: 1.4533002376556396\n",
      "Testing Accuracy: 0.2413793103448276\n",
      "Testing Precision: 0.47643678160919534\n",
      "Testing Recall: 0.2413793103448276\n",
      "Testing F1 Score: 0.2607994703946728\n"
     ]
    }
   ],
   "source": [
    "print(f\"Testing Loss: {loss}\")\n",
    "print(f\"Testing Accuracy: {accuracy}\")\n",
    "print(f\"Testing Precision: {precision}\")\n",
    "print(f\"Testing Recall: {recall}\")\n",
    "print(f\"Testing F1 Score: {f1}\")\n",
    "\n",
    "writer.add_scalar(\"Test/Loss\", loss, 0)\n",
    "writer.add_scalar(\"Test/Accuracy\", accuracy, 0)\n",
    "writer.add_scalar(\"Test/Precision\", precision, 0)\n",
    "writer.add_scalar(\"Test/Recall\", recall, 0)\n",
    "writer.add_scalar(\"Test/F1 Score\", f1, 0)"
   ]
  },
  {
   "cell_type": "markdown",
   "metadata": {
    "id": "fUaaNvEITrRa"
   },
   "source": [
    "## Adam"
   ]
  },
  {
   "cell_type": "code",
   "execution_count": 34,
   "metadata": {
    "colab": {
     "base_uri": "https://localhost:8080/"
    },
    "execution": {
     "iopub.execute_input": "2024-02-26T14:08:33.258741Z",
     "iopub.status.busy": "2024-02-26T14:08:33.258506Z",
     "iopub.status.idle": "2024-02-26T14:08:33.267137Z",
     "shell.execute_reply": "2024-02-26T14:08:33.266499Z",
     "shell.execute_reply.started": "2024-02-26T14:08:33.258723Z"
    },
    "id": "W1p9mvOQ9QgU",
    "outputId": "1a58b146-d74b-49cf-ee0d-f52958a23319"
   },
   "outputs": [
    {
     "data": {
      "text/plain": [
       "Model(\n",
       "  (conv_block1): Sequential(\n",
       "    (0): Conv1d(1, 64, kernel_size=(3,), stride=(1,))\n",
       "    (1): MaxPool1d(kernel_size=3, stride=3, padding=0, dilation=1, ceil_mode=False)\n",
       "    (2): Dropout(p=0.3, inplace=False)\n",
       "    (3): BatchNorm1d(64, eps=1e-05, momentum=0.1, affine=True, track_running_stats=True)\n",
       "  )\n",
       "  (conv_block2): Sequential(\n",
       "    (0): Conv1d(64, 64, kernel_size=(3,), stride=(1,))\n",
       "    (1): MaxPool1d(kernel_size=3, stride=3, padding=0, dilation=1, ceil_mode=False)\n",
       "    (2): Dropout(p=0.3, inplace=False)\n",
       "    (3): BatchNorm1d(64, eps=1e-05, momentum=0.1, affine=True, track_running_stats=True)\n",
       "  )\n",
       "  (dense): Linear(in_features=10176, out_features=4, bias=True)\n",
       "  (softmax): Softmax(dim=1)\n",
       ")"
      ]
     },
     "execution_count": 34,
     "metadata": {},
     "output_type": "execute_result"
    }
   ],
   "source": [
    "model = Model()\n",
    "model = model.to(DEVICE)\n",
    "model"
   ]
  },
  {
   "cell_type": "code",
   "execution_count": 35,
   "metadata": {
    "colab": {
     "base_uri": "https://localhost:8080/"
    },
    "execution": {
     "iopub.execute_input": "2024-02-26T14:08:35.091876Z",
     "iopub.status.busy": "2024-02-26T14:08:35.091632Z",
     "iopub.status.idle": "2024-02-26T14:08:35.102221Z",
     "shell.execute_reply": "2024-02-26T14:08:35.101427Z",
     "shell.execute_reply.started": "2024-02-26T14:08:35.091856Z"
    },
    "id": "UzFXX4dqbnMz",
    "outputId": "5c72aa3d-8547-4c4e-f318-accb7343bb1a"
   },
   "outputs": [
    {
     "data": {
      "text/plain": [
       "==========================================================================================\n",
       "Layer (type:depth-idx)                   Output Shape              Param #\n",
       "==========================================================================================\n",
       "Model                                    [8, 4]                    --\n",
       "├─Sequential: 1-1                        [8, 64, 479]              --\n",
       "│    └─Conv1d: 2-1                       [8, 64, 1438]             256\n",
       "│    └─MaxPool1d: 2-2                    [8, 64, 479]              --\n",
       "│    └─Dropout: 2-3                      [8, 64, 479]              --\n",
       "│    └─BatchNorm1d: 2-4                  [8, 64, 479]              128\n",
       "├─Sequential: 1-2                        [8, 64, 159]              --\n",
       "│    └─Conv1d: 2-5                       [8, 64, 477]              12,352\n",
       "│    └─MaxPool1d: 2-6                    [8, 64, 159]              --\n",
       "│    └─Dropout: 2-7                      [8, 64, 159]              --\n",
       "│    └─BatchNorm1d: 2-8                  [8, 64, 159]              128\n",
       "├─Linear: 1-3                            [8, 4]                    40,708\n",
       "├─Softmax: 1-4                           [8, 4]                    --\n",
       "==========================================================================================\n",
       "Total params: 53,572\n",
       "Trainable params: 53,572\n",
       "Non-trainable params: 0\n",
       "Total mult-adds (Units.MEGABYTES): 50.41\n",
       "==========================================================================================\n",
       "Input size (MB): 0.05\n",
       "Forward/backward pass size (MB): 10.46\n",
       "Params size (MB): 0.21\n",
       "Estimated Total Size (MB): 10.72\n",
       "=========================================================================================="
      ]
     },
     "execution_count": 35,
     "metadata": {},
     "output_type": "execute_result"
    }
   ],
   "source": [
    "summary(model, input_data=sample_x)"
   ]
  },
  {
   "cell_type": "code",
   "execution_count": 36,
   "metadata": {
    "execution": {
     "iopub.execute_input": "2024-02-26T14:08:40.621012Z",
     "iopub.status.busy": "2024-02-26T14:08:40.620606Z",
     "iopub.status.idle": "2024-02-26T14:08:40.626711Z",
     "shell.execute_reply": "2024-02-26T14:08:40.625984Z",
     "shell.execute_reply.started": "2024-02-26T14:08:40.620979Z"
    },
    "id": "WNGukkjgTvh_"
   },
   "outputs": [],
   "source": [
    "tb_board = RUNS_PATH + \"1d_cnn_two_blocks_adam\"\n",
    "writer = SummaryWriter(tb_board)"
   ]
  },
  {
   "cell_type": "code",
   "execution_count": 37,
   "metadata": {
    "execution": {
     "iopub.execute_input": "2024-02-26T14:08:41.347370Z",
     "iopub.status.busy": "2024-02-26T14:08:41.346767Z",
     "iopub.status.idle": "2024-02-26T14:08:41.353300Z",
     "shell.execute_reply": "2024-02-26T14:08:41.352876Z",
     "shell.execute_reply.started": "2024-02-26T14:08:41.347303Z"
    },
    "id": "lqdjeybbT1uC"
   },
   "outputs": [],
   "source": [
    "EPOCHS = 200\n",
    "\n",
    "acc_list = []\n",
    "f1_list = []\n",
    "recall_list = []\n",
    "precision_list = []\n",
    "\n",
    "loss_list = []"
   ]
  },
  {
   "cell_type": "code",
   "execution_count": 38,
   "metadata": {
    "execution": {
     "iopub.execute_input": "2024-02-26T14:08:43.346597Z",
     "iopub.status.busy": "2024-02-26T14:08:43.346247Z",
     "iopub.status.idle": "2024-02-26T14:08:43.349982Z",
     "shell.execute_reply": "2024-02-26T14:08:43.349357Z",
     "shell.execute_reply.started": "2024-02-26T14:08:43.346564Z"
    },
    "id": "6mr98GaDT2Pt"
   },
   "outputs": [],
   "source": [
    "loss_fn = nn.CrossEntropyLoss()\n",
    "optimizer = optim.Adam(model.parameters(), lr=1e-3)"
   ]
  },
  {
   "cell_type": "code",
   "execution_count": 39,
   "metadata": {
    "colab": {
     "base_uri": "https://localhost:8080/"
    },
    "execution": {
     "iopub.execute_input": "2024-02-26T14:08:44.572475Z",
     "iopub.status.busy": "2024-02-26T14:08:44.572275Z",
     "iopub.status.idle": "2024-02-26T14:09:22.908898Z",
     "shell.execute_reply": "2024-02-26T14:09:22.908236Z",
     "shell.execute_reply.started": "2024-02-26T14:08:44.572463Z"
    },
    "id": "fp9urDtST52H",
    "outputId": "eaaca947-5fb9-4464-9895-e6e8236a3324",
    "scrolled": true
   },
   "outputs": [
    {
     "name": "stdout",
     "output_type": "stream",
     "text": [
      "Epoch: 1 - Loss: 1.3613394419352214 - Accuracy: 0.2782608695652174 - Precision: 0.3060102301790281 - Recall: 0.2782608695652174 - F1: 0.27889841175668856\n",
      "Epoch: 2 - Loss: 1.315933362642924 - Accuracy: 0.3739130434782609 - Precision: 0.4195274571151149 - Recall: 0.3739130434782609 - F1: 0.3845678001335467\n",
      "Epoch: 3 - Loss: 1.2131298581759136 - Accuracy: 0.5043478260869565 - Precision: 0.536886341903721 - Recall: 0.5043478260869565 - F1: 0.5128186473856899\n",
      "Epoch: 4 - Loss: 1.180073654651642 - Accuracy: 0.5391304347826087 - Precision: 0.5948741418764303 - Recall: 0.5391304347826087 - F1: 0.5548530945445391\n",
      "Epoch: 5 - Loss: 1.1842256267865499 - Accuracy: 0.5652173913043478 - Precision: 0.5645962732919255 - Recall: 0.5652173913043478 - F1: 0.5594202898550724\n",
      "Epoch: 6 - Loss: 1.1503025730450949 - Accuracy: 0.5391304347826087 - Precision: 0.5511848067097271 - Recall: 0.5391304347826087 - F1: 0.5418002088210874\n",
      "Epoch: 7 - Loss: 1.1208882252375285 - Accuracy: 0.6347826086956522 - Precision: 0.6392318466089952 - Recall: 0.6347826086956522 - F1: 0.6347919234583465\n",
      "Epoch: 8 - Loss: 1.140633463859558 - Accuracy: 0.6 - Precision: 0.5982473385732763 - Recall: 0.6 - F1: 0.5978355381930599\n",
      "Epoch: 9 - Loss: 1.1408973932266235 - Accuracy: 0.5652173913043478 - Precision: 0.5776600336195538 - Recall: 0.5652173913043478 - F1: 0.5673104428829165\n",
      "Epoch: 10 - Loss: 1.118130350112915 - Accuracy: 0.6434782608695652 - Precision: 0.6606625258799171 - Recall: 0.6434782608695652 - F1: 0.6481490683229814\n",
      "Epoch: 11 - Loss: 1.1351379036903382 - Accuracy: 0.591304347826087 - Precision: 0.5897017753908255 - Recall: 0.591304347826087 - F1: 0.5888222866683206\n",
      "Epoch: 12 - Loss: 1.1343560814857483 - Accuracy: 0.5826086956521739 - Precision: 0.6098183146776498 - Recall: 0.5826086956521739 - F1: 0.5895261671489836\n",
      "Epoch: 13 - Loss: 1.115473453203837 - Accuracy: 0.6086956521739131 - Precision: 0.6160042792746007 - Recall: 0.6086956521739131 - F1: 0.6115641770775905\n",
      "Epoch: 14 - Loss: 1.1126450101534526 - Accuracy: 0.6347826086956522 - Precision: 0.6378946928357684 - Recall: 0.6347826086956522 - F1: 0.6343211708777788\n",
      "Epoch: 15 - Loss: 1.0750065962473552 - Accuracy: 0.6347826086956522 - Precision: 0.6377383997077092 - Recall: 0.6347826086956522 - F1: 0.6335418446597774\n",
      "Epoch: 16 - Loss: 1.1564693212509156 - Accuracy: 0.5739130434782609 - Precision: 0.5933853586027499 - Recall: 0.5739130434782609 - F1: 0.5811648026409402\n",
      "Epoch: 17 - Loss: 1.0919188380241394 - Accuracy: 0.6347826086956522 - Precision: 0.6658504288228557 - Recall: 0.6347826086956522 - F1: 0.6446118278767992\n",
      "Epoch: 18 - Loss: 1.0591994285583497 - Accuracy: 0.6869565217391305 - Precision: 0.6996396589350112 - Recall: 0.6869565217391305 - F1: 0.6908651975253857\n",
      "Epoch: 19 - Loss: 1.134227697054545 - Accuracy: 0.6 - Precision: 0.6236120401337794 - Recall: 0.6 - F1: 0.6073681855470207\n",
      "Epoch: 20 - Loss: 1.18122847477595 - Accuracy: 0.5565217391304348 - Precision: 0.5539130434782609 - Recall: 0.5565217391304348 - F1: 0.5494896030245747\n",
      "Epoch: 21 - Loss: 1.1647341171900432 - Accuracy: 0.5478260869565217 - Precision: 0.5460869565217391 - Recall: 0.5478260869565217 - F1: 0.5426588689066933\n",
      "Epoch: 22 - Loss: 1.112496280670166 - Accuracy: 0.6173913043478261 - Precision: 0.6398140410314324 - Recall: 0.6173913043478261 - F1: 0.6239021954045103\n",
      "Epoch: 23 - Loss: 1.070425848166148 - Accuracy: 0.6782608695652174 - Precision: 0.7055794060330923 - Recall: 0.6782608695652174 - F1: 0.6851155675725138\n",
      "Epoch: 24 - Loss: 1.1003115137418111 - Accuracy: 0.6260869565217392 - Precision: 0.6538814229249013 - Recall: 0.6260869565217392 - F1: 0.632742774534001\n",
      "Epoch: 25 - Loss: 1.1237203280131023 - Accuracy: 0.6260869565217392 - Precision: 0.6350218320327016 - Recall: 0.6260869565217392 - F1: 0.6280391932094216\n",
      "Epoch: 26 - Loss: 1.0601561188697814 - Accuracy: 0.6956521739130435 - Precision: 0.7079699698645661 - Recall: 0.6956521739130435 - F1: 0.699660316592228\n",
      "Epoch: 27 - Loss: 1.0615540583928427 - Accuracy: 0.6956521739130435 - Precision: 0.7210415384328428 - Recall: 0.6956521739130435 - F1: 0.7034808339706523\n",
      "Epoch: 28 - Loss: 1.0595449010531108 - Accuracy: 0.6956521739130435 - Precision: 0.7409223728216862 - Recall: 0.6956521739130435 - F1: 0.7065353693342067\n",
      "Epoch: 29 - Loss: 1.0881201386451722 - Accuracy: 0.6608695652173913 - Precision: 0.6878278029582378 - Recall: 0.6608695652173913 - F1: 0.6677922761920412\n",
      "Epoch: 30 - Loss: 1.0938923756281536 - Accuracy: 0.6608695652173913 - Precision: 0.6810357124610433 - Recall: 0.6608695652173913 - F1: 0.6681279840443295\n",
      "Epoch: 31 - Loss: 1.0962232152620952 - Accuracy: 0.6521739130434783 - Precision: 0.6585691699604743 - Recall: 0.6521739130434783 - F1: 0.6509600204134821\n",
      "Epoch: 32 - Loss: 1.085558501879374 - Accuracy: 0.6521739130434783 - Precision: 0.6752245649054957 - Recall: 0.6521739130434783 - F1: 0.6565005385702837\n",
      "Epoch: 33 - Loss: 1.0259172916412354 - Accuracy: 0.7043478260869566 - Precision: 0.7215397532271353 - Recall: 0.7043478260869566 - F1: 0.7082295635019905\n",
      "Epoch: 34 - Loss: 1.0271732926368713 - Accuracy: 0.7130434782608696 - Precision: 0.7169165297791086 - Recall: 0.7130434782608696 - F1: 0.7120297419213909\n",
      "Epoch: 35 - Loss: 1.0500092506408691 - Accuracy: 0.6956521739130435 - Precision: 0.7142540783937403 - Recall: 0.6956521739130435 - F1: 0.701670683505254\n",
      "Epoch: 36 - Loss: 1.0849257906277974 - Accuracy: 0.6260869565217392 - Precision: 0.6465714950011625 - Recall: 0.6260869565217392 - F1: 0.6318587274941575\n",
      "Epoch: 37 - Loss: 1.0694925467173257 - Accuracy: 0.6782608695652174 - Precision: 0.6983512954897763 - Recall: 0.6782608695652174 - F1: 0.6824926133424516\n",
      "Epoch: 38 - Loss: 1.07395388285319 - Accuracy: 0.6434782608695652 - Precision: 0.6749482401656315 - Recall: 0.6434782608695652 - F1: 0.6549157616902814\n",
      "Epoch: 39 - Loss: 1.0886402169863383 - Accuracy: 0.6521739130434783 - Precision: 0.6634681743377395 - Recall: 0.6521739130434783 - F1: 0.6548645879080661\n",
      "Epoch: 40 - Loss: 1.0419594367345175 - Accuracy: 0.7043478260869566 - Precision: 0.7179584120982987 - Recall: 0.7043478260869566 - F1: 0.7045651402032301\n",
      "Epoch: 41 - Loss: 1.0555171569188435 - Accuracy: 0.6869565217391305 - Precision: 0.712017680418103 - Recall: 0.6869565217391305 - F1: 0.6887207738437251\n",
      "Epoch: 42 - Loss: 1.049651825428009 - Accuracy: 0.7304347826086957 - Precision: 0.7259772711047073 - Recall: 0.7304347826086957 - F1: 0.7271611536424479\n",
      "Epoch: 43 - Loss: 1.0503807346026102 - Accuracy: 0.6956521739130435 - Precision: 0.7086250122014497 - Recall: 0.6956521739130435 - F1: 0.6989799820204864\n",
      "Epoch: 44 - Loss: 1.036279058456421 - Accuracy: 0.6956521739130435 - Precision: 0.728703180877094 - Recall: 0.6956521739130435 - F1: 0.7040981834664064\n",
      "Epoch: 45 - Loss: 1.0485188126564027 - Accuracy: 0.6956521739130435 - Precision: 0.694879491218164 - Recall: 0.6956521739130435 - F1: 0.6919514661274013\n",
      "Epoch: 46 - Loss: 1.0292383591334024 - Accuracy: 0.6869565217391305 - Precision: 0.6880519480519481 - Recall: 0.6869565217391305 - F1: 0.6794958366920922\n",
      "Epoch: 47 - Loss: 1.0603092749913534 - Accuracy: 0.6956521739130435 - Precision: 0.7181322891813235 - Recall: 0.6956521739130435 - F1: 0.7015190460993072\n",
      "Epoch: 48 - Loss: 1.0924346685409545 - Accuracy: 0.6608695652173913 - Precision: 0.6636086956521738 - Recall: 0.6608695652173913 - F1: 0.6565377968958531\n",
      "Epoch: 49 - Loss: 1.1500714302062989 - Accuracy: 0.5565217391304348 - Precision: 0.6293906120800723 - Recall: 0.5565217391304348 - F1: 0.5581898597148188\n",
      "Epoch: 50 - Loss: 1.0431564609209696 - Accuracy: 0.6869565217391305 - Precision: 0.7011095809561282 - Recall: 0.6869565217391305 - F1: 0.6895081135542132\n",
      "Epoch: 51 - Loss: 1.0611893296241761 - Accuracy: 0.6782608695652174 - Precision: 0.7083731081319243 - Recall: 0.6782608695652174 - F1: 0.6883203181442956\n",
      "Epoch: 52 - Loss: 1.061546508471171 - Accuracy: 0.6695652173913044 - Precision: 0.6892267153136719 - Recall: 0.6695652173913044 - F1: 0.6742181382654592\n",
      "Epoch: 53 - Loss: 1.0033510208129883 - Accuracy: 0.7217391304347827 - Precision: 0.7394530788904191 - Recall: 0.7217391304347827 - F1: 0.7258977561784741\n",
      "Epoch: 54 - Loss: 0.9927512208620707 - Accuracy: 0.7565217391304347 - Precision: 0.76540749867981 - Recall: 0.7565217391304347 - F1: 0.7580299281253682\n",
      "Epoch: 55 - Loss: 1.0519530296325683 - Accuracy: 0.6782608695652174 - Precision: 0.713821444256227 - Recall: 0.6782608695652174 - F1: 0.6899275134803083\n",
      "Epoch: 56 - Loss: 1.0462322155634562 - Accuracy: 0.6782608695652174 - Precision: 0.6885218717872185 - Recall: 0.6782608695652174 - F1: 0.6821824381926682\n",
      "Epoch: 57 - Loss: 1.0774985392888388 - Accuracy: 0.6695652173913044 - Precision: 0.6826301135146712 - Recall: 0.6695652173913044 - F1: 0.6730326668199876\n",
      "Epoch: 58 - Loss: 1.0454996307690938 - Accuracy: 0.6869565217391305 - Precision: 0.6994512347555826 - Recall: 0.6869565217391305 - F1: 0.6881338053420433\n",
      "Epoch: 59 - Loss: 1.0203139185905457 - Accuracy: 0.7304347826086957 - Precision: 0.7434401220442411 - Recall: 0.7304347826086957 - F1: 0.7320496894409938\n",
      "Epoch: 60 - Loss: 1.06818745136261 - Accuracy: 0.6782608695652174 - Precision: 0.6813934647583042 - Recall: 0.6782608695652174 - F1: 0.675522665740057\n",
      "Epoch: 61 - Loss: 1.0483599384625752 - Accuracy: 0.7217391304347827 - Precision: 0.7293111129444766 - Recall: 0.7217391304347827 - F1: 0.7212923096698284\n",
      "Epoch: 62 - Loss: 1.013754411538442 - Accuracy: 0.7478260869565218 - Precision: 0.759391304347826 - Recall: 0.7478260869565218 - F1: 0.7512305180385775\n",
      "Epoch: 63 - Loss: 0.9868565360705058 - Accuracy: 0.7478260869565218 - Precision: 0.7576257035067103 - Recall: 0.7478260869565218 - F1: 0.7476220518947072\n",
      "Epoch: 64 - Loss: 1.0104093114535013 - Accuracy: 0.7304347826086957 - Precision: 0.7314401540488495 - Recall: 0.7304347826086957 - F1: 0.7251297160143527\n",
      "Epoch: 65 - Loss: 1.0141330321629842 - Accuracy: 0.7478260869565218 - Precision: 0.7594819732990647 - Recall: 0.7478260869565218 - F1: 0.7519881104983592\n",
      "Epoch: 66 - Loss: 0.9969570597012838 - Accuracy: 0.7565217391304347 - Precision: 0.7907798481711525 - Recall: 0.7565217391304347 - F1: 0.764769880083071\n",
      "Epoch: 67 - Loss: 1.0033391475677491 - Accuracy: 0.7130434782608696 - Precision: 0.7342619257173033 - Recall: 0.7130434782608696 - F1: 0.7200186365615845\n",
      "Epoch: 68 - Loss: 1.0407904704411826 - Accuracy: 0.7043478260869566 - Precision: 0.7103350763642569 - Recall: 0.7043478260869566 - F1: 0.7050096365774831\n",
      "Epoch: 69 - Loss: 1.0579116423924764 - Accuracy: 0.7043478260869566 - Precision: 0.7135610766045549 - Recall: 0.7043478260869566 - F1: 0.7003565444168672\n",
      "Epoch: 70 - Loss: 0.9931804895401001 - Accuracy: 0.7478260869565218 - Precision: 0.77240479919023 - Recall: 0.7478260869565218 - F1: 0.7501774685698546\n",
      "Epoch: 71 - Loss: 1.006647026538849 - Accuracy: 0.7391304347826086 - Precision: 0.7412206904677743 - Recall: 0.7391304347826086 - F1: 0.7393798797675172\n",
      "Epoch: 72 - Loss: 1.0031927545865378 - Accuracy: 0.7304347826086957 - Precision: 0.7322926829268291 - Recall: 0.7304347826086957 - F1: 0.7312622272586352\n",
      "Epoch: 73 - Loss: 0.999502436319987 - Accuracy: 0.7565217391304347 - Precision: 0.7604314122008764 - Recall: 0.7565217391304347 - F1: 0.7575714444567997\n",
      "Epoch: 74 - Loss: 0.9743863066037496 - Accuracy: 0.7739130434782608 - Precision: 0.7776559107205979 - Recall: 0.7739130434782608 - F1: 0.7744957273286971\n",
      "Epoch: 75 - Loss: 0.998410705725352 - Accuracy: 0.7391304347826086 - Precision: 0.7446859903381642 - Recall: 0.7391304347826086 - F1: 0.7412005518377911\n",
      "Epoch: 76 - Loss: 0.9713161945343017 - Accuracy: 0.7652173913043478 - Precision: 0.7708257215929849 - Recall: 0.7652173913043478 - F1: 0.7650187493665755\n",
      "Epoch: 77 - Loss: 0.9743355631828308 - Accuracy: 0.7565217391304347 - Precision: 0.7662608695652174 - Recall: 0.7565217391304347 - F1: 0.7589172580689018\n",
      "Epoch: 78 - Loss: 0.9550887624422709 - Accuracy: 0.8 - Precision: 0.8055907943464165 - Recall: 0.8 - F1: 0.8000328137817884\n",
      "Epoch: 79 - Loss: 0.951724398136139 - Accuracy: 0.782608695652174 - Precision: 0.7808198757763974 - Recall: 0.782608695652174 - F1: 0.7813191363501922\n",
      "Epoch: 80 - Loss: 0.9936182856559753 - Accuracy: 0.7565217391304347 - Precision: 0.7538666945596969 - Recall: 0.7565217391304347 - F1: 0.7537079179497886\n",
      "Epoch: 81 - Loss: 1.0200072884559632 - Accuracy: 0.7217391304347827 - Precision: 0.7247982196831303 - Recall: 0.7217391304347827 - F1: 0.7173139332775574\n",
      "Epoch: 82 - Loss: 0.9794099847475688 - Accuracy: 0.7565217391304347 - Precision: 0.75763978598284 - Recall: 0.7565217391304347 - F1: 0.7552399816083496\n",
      "Epoch: 83 - Loss: 1.0130629301071168 - Accuracy: 0.7565217391304347 - Precision: 0.7623410605909859 - Recall: 0.7565217391304347 - F1: 0.7567365357279844\n",
      "Epoch: 84 - Loss: 0.9895803252855937 - Accuracy: 0.782608695652174 - Precision: 0.7865263842867719 - Recall: 0.782608695652174 - F1: 0.7812716774143048\n",
      "Epoch: 85 - Loss: 0.9482266863187154 - Accuracy: 0.7913043478260869 - Precision: 0.7953989488772099 - Recall: 0.7913043478260869 - F1: 0.7927937063799354\n",
      "Epoch: 86 - Loss: 1.0052013158798219 - Accuracy: 0.7478260869565218 - Precision: 0.7514020531033764 - Recall: 0.7478260869565218 - F1: 0.7430946402612849\n",
      "Epoch: 87 - Loss: 0.9993545929590861 - Accuracy: 0.7304347826086957 - Precision: 0.7484672734809297 - Recall: 0.7304347826086957 - F1: 0.7363383512850289\n",
      "Epoch: 88 - Loss: 1.0065842827161153 - Accuracy: 0.7565217391304347 - Precision: 0.7603678929765887 - Recall: 0.7565217391304347 - F1: 0.7579031250630551\n",
      "Epoch: 89 - Loss: 1.0707610289255778 - Accuracy: 0.6956521739130435 - Precision: 0.7256803458977372 - Recall: 0.6956521739130435 - F1: 0.6996582763636557\n",
      "Epoch: 90 - Loss: 0.9957340121269226 - Accuracy: 0.7565217391304347 - Precision: 0.769534646032507 - Recall: 0.7565217391304347 - F1: 0.7573714349500473\n",
      "Epoch: 91 - Loss: 1.0956672151883444 - Accuracy: 0.6434782608695652 - Precision: 0.6633966761792848 - Recall: 0.6434782608695652 - F1: 0.649683674403696\n",
      "Epoch: 92 - Loss: 1.034148601690928 - Accuracy: 0.7304347826086957 - Precision: 0.7404731457800512 - Recall: 0.7304347826086957 - F1: 0.7299288946347771\n",
      "Epoch: 93 - Loss: 1.0241015116373697 - Accuracy: 0.7043478260869566 - Precision: 0.7343506185611449 - Recall: 0.7043478260869566 - F1: 0.709456994487032\n",
      "Epoch: 94 - Loss: 1.001937715212504 - Accuracy: 0.7565217391304347 - Precision: 0.7784519827998089 - Recall: 0.7565217391304347 - F1: 0.7627138834037359\n",
      "Epoch: 95 - Loss: 0.9550707896550497 - Accuracy: 0.7913043478260869 - Precision: 0.7990657302927484 - Recall: 0.7913043478260869 - F1: 0.7928970167470337\n",
      "Epoch: 96 - Loss: 1.0338484684626261 - Accuracy: 0.7217391304347827 - Precision: 0.741006037169094 - Recall: 0.7217391304347827 - F1: 0.7205941373204799\n",
      "Epoch: 97 - Loss: 0.9958070755004883 - Accuracy: 0.7652173913043478 - Precision: 0.772156862745098 - Recall: 0.7652173913043478 - F1: 0.7619884134587759\n",
      "Epoch: 98 - Loss: 0.9616364041964213 - Accuracy: 0.7739130434782608 - Precision: 0.7865188296625812 - Recall: 0.7739130434782608 - F1: 0.7777566047619517\n",
      "Epoch: 99 - Loss: 0.9384507536888123 - Accuracy: 0.7913043478260869 - Precision: 0.7970122372031175 - Recall: 0.7913043478260869 - F1: 0.7918362412862151\n",
      "Epoch: 100 - Loss: 0.9347877422968547 - Accuracy: 0.808695652173913 - Precision: 0.8063241106719367 - Recall: 0.808695652173913 - F1: 0.8070200780008667\n",
      "Epoch: 101 - Loss: 0.9630597114562989 - Accuracy: 0.7565217391304347 - Precision: 0.7532817235274701 - Recall: 0.7565217391304347 - F1: 0.7518909923028916\n",
      "Epoch: 102 - Loss: 0.9412353873252869 - Accuracy: 0.7913043478260869 - Precision: 0.7918487983199812 - Recall: 0.7913043478260869 - F1: 0.7909149392324608\n",
      "Epoch: 103 - Loss: 0.9280870954195658 - Accuracy: 0.808695652173913 - Precision: 0.8143633507603604 - Recall: 0.808695652173913 - F1: 0.8086645332216001\n",
      "Epoch: 104 - Loss: 0.9305592854817708 - Accuracy: 0.808695652173913 - Precision: 0.8162296900330323 - Recall: 0.808695652173913 - F1: 0.8103611031672942\n",
      "Epoch: 105 - Loss: 0.9594522714614868 - Accuracy: 0.7739130434782608 - Precision: 0.7858997005420568 - Recall: 0.7739130434782608 - F1: 0.7758738418066982\n",
      "Epoch: 106 - Loss: 0.9686943531036377 - Accuracy: 0.8 - Precision: 0.8120935092072612 - Recall: 0.8 - F1: 0.8022912788354274\n",
      "Epoch: 107 - Loss: 0.9627774596214295 - Accuracy: 0.7739130434782608 - Precision: 0.7756987577639751 - Recall: 0.7739130434782608 - F1: 0.77260764290978\n",
      "Epoch: 108 - Loss: 0.9663993159929911 - Accuracy: 0.7652173913043478 - Precision: 0.7668459783412064 - Recall: 0.7652173913043478 - F1: 0.7629921026139673\n",
      "Epoch: 109 - Loss: 0.9944648543993632 - Accuracy: 0.7391304347826086 - Precision: 0.7383571224865462 - Recall: 0.7391304347826086 - F1: 0.7385184699821895\n",
      "Epoch: 110 - Loss: 0.9422136425971985 - Accuracy: 0.7913043478260869 - Precision: 0.7941176470588235 - Recall: 0.7913043478260869 - F1: 0.7896098104793756\n",
      "Epoch: 111 - Loss: 0.9239560008049011 - Accuracy: 0.8434782608695652 - Precision: 0.8476481877906548 - Recall: 0.8434782608695652 - F1: 0.8435637830661575\n",
      "Epoch: 112 - Loss: 0.9175240516662597 - Accuracy: 0.8260869565217391 - Precision: 0.8243837771036963 - Recall: 0.8260869565217391 - F1: 0.8232871180508817\n",
      "Epoch: 113 - Loss: 0.9392089287439982 - Accuracy: 0.8 - Precision: 0.806248095464463 - Recall: 0.8 - F1: 0.8008803940643833\n",
      "Epoch: 114 - Loss: 0.9514718532562256 - Accuracy: 0.7913043478260869 - Precision: 0.7932816537467701 - Recall: 0.7913043478260869 - F1: 0.790383631713555\n",
      "Epoch: 115 - Loss: 0.9600878198941548 - Accuracy: 0.782608695652174 - Precision: 0.8007477003757265 - Recall: 0.782608695652174 - F1: 0.7878214024300981\n",
      "Epoch: 116 - Loss: 0.9569892009099324 - Accuracy: 0.782608695652174 - Precision: 0.7866086956521738 - Recall: 0.782608695652174 - F1: 0.7842964367854537\n",
      "Epoch: 117 - Loss: 0.954341733455658 - Accuracy: 0.7739130434782608 - Precision: 0.77194545252368 - Recall: 0.7739130434782608 - F1: 0.7693665337083903\n",
      "Epoch: 118 - Loss: 0.9538298885027567 - Accuracy: 0.808695652173913 - Precision: 0.8095324532855525 - Recall: 0.808695652173913 - F1: 0.8084460290140152\n",
      "Epoch: 119 - Loss: 0.9246543208758037 - Accuracy: 0.8260869565217391 - Precision: 0.8268300349536046 - Recall: 0.8260869565217391 - F1: 0.8253859057167646\n",
      "Epoch: 120 - Loss: 0.9512376228968302 - Accuracy: 0.8173913043478261 - Precision: 0.8195886069031849 - Recall: 0.8173913043478261 - F1: 0.8151955781692524\n",
      "Epoch: 121 - Loss: 0.9044999599456787 - Accuracy: 0.8347826086956521 - Precision: 0.8397508479802652 - Recall: 0.8347826086956521 - F1: 0.8299394580781977\n",
      "Epoch: 122 - Loss: 0.9323228677113851 - Accuracy: 0.8173913043478261 - Precision: 0.829401352835288 - Recall: 0.8173913043478261 - F1: 0.8120064349104545\n",
      "Epoch: 123 - Loss: 0.9212333798408509 - Accuracy: 0.808695652173913 - Precision: 0.8080642624424222 - Recall: 0.808695652173913 - F1: 0.8064557813972271\n",
      "Epoch: 124 - Loss: 0.9199162046114604 - Accuracy: 0.8173913043478261 - Precision: 0.8157721139430285 - Recall: 0.8173913043478261 - F1: 0.8160455486542444\n",
      "Epoch: 125 - Loss: 0.9767124017079671 - Accuracy: 0.7739130434782608 - Precision: 0.7837436061381073 - Recall: 0.7739130434782608 - F1: 0.7751601383141545\n",
      "Epoch: 126 - Loss: 0.9572716514269511 - Accuracy: 0.7913043478260869 - Precision: 0.7871455576559546 - Recall: 0.7913043478260869 - F1: 0.7879801358062226\n",
      "Epoch: 127 - Loss: 0.9909589727719624 - Accuracy: 0.7565217391304347 - Precision: 0.7543379893763525 - Recall: 0.7565217391304347 - F1: 0.7497568075365847\n",
      "Epoch: 128 - Loss: 0.9594146569569906 - Accuracy: 0.782608695652174 - Precision: 0.7788706945228684 - Recall: 0.782608695652174 - F1: 0.7791460450925087\n",
      "Epoch: 129 - Loss: 1.0059444308280945 - Accuracy: 0.7217391304347827 - Precision: 0.7127871853546911 - Recall: 0.7217391304347827 - F1: 0.7126544695789421\n",
      "Epoch: 130 - Loss: 0.9468654076258342 - Accuracy: 0.8 - Precision: 0.80076254180602 - Recall: 0.8 - F1: 0.8002511258810332\n",
      "Epoch: 131 - Loss: 0.9342812776565552 - Accuracy: 0.7913043478260869 - Precision: 0.7920226843100189 - Recall: 0.7913043478260869 - F1: 0.7907771278334597\n",
      "Epoch: 132 - Loss: 0.9488702416419983 - Accuracy: 0.8 - Precision: 0.8154462242562929 - Recall: 0.8 - F1: 0.8002423875170428\n",
      "Epoch: 133 - Loss: 0.9455839395523071 - Accuracy: 0.8 - Precision: 0.8052349582784366 - Recall: 0.8 - F1: 0.7979281183932347\n",
      "Epoch: 134 - Loss: 0.9123660524686178 - Accuracy: 0.8434782608695652 - Precision: 0.842837528604119 - Recall: 0.8434782608695652 - F1: 0.8419643836618276\n",
      "Epoch: 135 - Loss: 0.9233654578526814 - Accuracy: 0.8260869565217391 - Precision: 0.822402474652002 - Recall: 0.8260869565217391 - F1: 0.8229510879794433\n",
      "Epoch: 136 - Loss: 0.9553568561871847 - Accuracy: 0.782608695652174 - Precision: 0.7843303153915033 - Recall: 0.782608695652174 - F1: 0.7817525452883732\n",
      "Epoch: 137 - Loss: 0.9397747039794921 - Accuracy: 0.7913043478260869 - Precision: 0.7963465131545725 - Recall: 0.7913043478260869 - F1: 0.7913165828409411\n",
      "Epoch: 138 - Loss: 0.9485672394434611 - Accuracy: 0.7913043478260869 - Precision: 0.7935089523781561 - Recall: 0.7913043478260869 - F1: 0.7896364002292728\n",
      "Epoch: 139 - Loss: 0.91998850107193 - Accuracy: 0.808695652173913 - Precision: 0.8088261864491095 - Recall: 0.808695652173913 - F1: 0.8069555501308266\n",
      "Epoch: 140 - Loss: 0.923546040058136 - Accuracy: 0.8260869565217391 - Precision: 0.8360412860796491 - Recall: 0.8260869565217391 - F1: 0.8228237046779897\n",
      "Epoch: 141 - Loss: 0.8981224695841471 - Accuracy: 0.8521739130434782 - Precision: 0.8554648829431438 - Recall: 0.8521739130434782 - F1: 0.8532575250836122\n",
      "Epoch: 142 - Loss: 0.9903639475504558 - Accuracy: 0.7478260869565218 - Precision: 0.7642776716793136 - Recall: 0.7478260869565218 - F1: 0.7516011995261762\n",
      "Epoch: 143 - Loss: 0.9688340902328492 - Accuracy: 0.7652173913043478 - Precision: 0.7679754423173522 - Recall: 0.7652173913043478 - F1: 0.7637598167092602\n",
      "Epoch: 144 - Loss: 0.8912966926892598 - Accuracy: 0.8521739130434782 - Precision: 0.8540596709317976 - Recall: 0.8521739130434782 - F1: 0.8496434647683491\n",
      "Epoch: 145 - Loss: 0.9437069773674012 - Accuracy: 0.808695652173913 - Precision: 0.8104797213796203 - Recall: 0.808695652173913 - F1: 0.8084037360763705\n",
      "Epoch: 146 - Loss: 0.9328034162521363 - Accuracy: 0.8260869565217391 - Precision: 0.825807602008975 - Recall: 0.8260869565217391 - F1: 0.8249022170707047\n",
      "Epoch: 147 - Loss: 0.9044194261233012 - Accuracy: 0.8347826086956521 - Precision: 0.8335810276679841 - Recall: 0.8347826086956521 - F1: 0.8337170413004589\n",
      "Epoch: 148 - Loss: 0.9177543083826701 - Accuracy: 0.8347826086956521 - Precision: 0.8335211131975541 - Recall: 0.8347826086956521 - F1: 0.8340284303812525\n",
      "Epoch: 149 - Loss: 0.9468977650006613 - Accuracy: 0.808695652173913 - Precision: 0.8131594202898551 - Recall: 0.808695652173913 - F1: 0.8089338252463456\n",
      "Epoch: 150 - Loss: 0.9357930103937785 - Accuracy: 0.808695652173913 - Precision: 0.8120239880059971 - Recall: 0.808695652173913 - F1: 0.8099227389789425\n",
      "Epoch: 151 - Loss: 0.9095624566078186 - Accuracy: 0.8434782608695652 - Precision: 0.8436024844720498 - Recall: 0.8434782608695652 - F1: 0.8430760130139012\n",
      "Epoch: 152 - Loss: 0.9160519083340962 - Accuracy: 0.8347826086956521 - Precision: 0.8360539028731249 - Recall: 0.8347826086956521 - F1: 0.8340964381510823\n",
      "Epoch: 153 - Loss: 0.892813261349996 - Accuracy: 0.8434782608695652 - Precision: 0.8460118808219494 - Recall: 0.8434782608695652 - F1: 0.8428994627917356\n",
      "Epoch: 154 - Loss: 0.9016296148300171 - Accuracy: 0.8347826086956521 - Precision: 0.8345755693581781 - Recall: 0.8347826086956521 - F1: 0.8345399393326592\n",
      "Epoch: 155 - Loss: 0.8839091459910074 - Accuracy: 0.8608695652173913 - Precision: 0.8621852836647879 - Recall: 0.8608695652173913 - F1: 0.8611529753275706\n",
      "Epoch: 156 - Loss: 0.8858493526776632 - Accuracy: 0.8521739130434782 - Precision: 0.8586245640246079 - Recall: 0.8521739130434782 - F1: 0.85311463283717\n",
      "Epoch: 157 - Loss: 0.9097481409708659 - Accuracy: 0.8260869565217391 - Precision: 0.8245113340765515 - Recall: 0.8260869565217391 - F1: 0.8232197108992674\n",
      "Epoch: 158 - Loss: 0.9157002051671346 - Accuracy: 0.8260869565217391 - Precision: 0.830807453416149 - Recall: 0.8260869565217391 - F1: 0.8269795951662334\n",
      "Epoch: 159 - Loss: 0.914196769396464 - Accuracy: 0.8260869565217391 - Precision: 0.8215755758484394 - Recall: 0.8260869565217391 - F1: 0.822804891068838\n",
      "Epoch: 160 - Loss: 0.943830156326294 - Accuracy: 0.782608695652174 - Precision: 0.8002790048825854 - Recall: 0.782608695652174 - F1: 0.7830880478128283\n",
      "Epoch: 161 - Loss: 0.9638150095939636 - Accuracy: 0.782608695652174 - Precision: 0.7902977315689981 - Recall: 0.782608695652174 - F1: 0.7766731426274535\n",
      "Epoch: 162 - Loss: 1.0169608155886332 - Accuracy: 0.7217391304347827 - Precision: 0.7460680877230667 - Recall: 0.7217391304347827 - F1: 0.7296179180788412\n",
      "Epoch: 163 - Loss: 0.9416603684425354 - Accuracy: 0.7913043478260869 - Precision: 0.7920454940885229 - Recall: 0.7913043478260869 - F1: 0.7885789135030793\n",
      "Epoch: 164 - Loss: 0.9364345709482829 - Accuracy: 0.808695652173913 - Precision: 0.8091020219373597 - Recall: 0.808695652173913 - F1: 0.8045026097241149\n",
      "Epoch: 165 - Loss: 0.9449548919995626 - Accuracy: 0.808695652173913 - Precision: 0.8095845553159249 - Recall: 0.808695652173913 - F1: 0.8063650971783283\n",
      "Epoch: 166 - Loss: 0.9009345610936482 - Accuracy: 0.8521739130434782 - Precision: 0.8533348159679751 - Recall: 0.8521739130434782 - F1: 0.8495367986051215\n",
      "Epoch: 167 - Loss: 0.8866426626841227 - Accuracy: 0.8608695652173913 - Precision: 0.8657004830917875 - Recall: 0.8608695652173913 - F1: 0.8607357859531772\n",
      "Epoch: 168 - Loss: 0.9135206341743469 - Accuracy: 0.8173913043478261 - Precision: 0.8210242069643562 - Recall: 0.8173913043478261 - F1: 0.8179280539823283\n",
      "Epoch: 169 - Loss: 0.9147800445556641 - Accuracy: 0.8260869565217391 - Precision: 0.8261209765678907 - Recall: 0.8260869565217391 - F1: 0.8216058422601209\n",
      "Epoch: 170 - Loss: 0.9111218651135763 - Accuracy: 0.8434782608695652 - Precision: 0.842361692907699 - Recall: 0.8434782608695652 - F1: 0.8424773862114016\n",
      "Epoch: 171 - Loss: 0.9818681796391805 - Accuracy: 0.7652173913043478 - Precision: 0.7709557264050901 - Recall: 0.7652173913043478 - F1: 0.7653738152179967\n",
      "Epoch: 172 - Loss: 0.9103026549021404 - Accuracy: 0.8173913043478261 - Precision: 0.8193596225143243 - Recall: 0.8173913043478261 - F1: 0.8163763629021401\n",
      "Epoch: 173 - Loss: 0.898027793566386 - Accuracy: 0.8434782608695652 - Precision: 0.8473005829097027 - Recall: 0.8434782608695652 - F1: 0.8433351391531125\n",
      "Epoch: 174 - Loss: 0.9402998050053915 - Accuracy: 0.8173913043478261 - Precision: 0.8164734299516908 - Recall: 0.8173913043478261 - F1: 0.8125333635185489\n",
      "Epoch: 175 - Loss: 0.9374952713648478 - Accuracy: 0.808695652173913 - Precision: 0.8145382323044518 - Recall: 0.808695652173913 - F1: 0.8086456816840449\n",
      "Epoch: 176 - Loss: 0.9107150435447693 - Accuracy: 0.8260869565217391 - Precision: 0.8339188195757193 - Recall: 0.8260869565217391 - F1: 0.8271180169021151\n",
      "Epoch: 177 - Loss: 0.9127565264701843 - Accuracy: 0.8347826086956521 - Precision: 0.8442927418404619 - Recall: 0.8347826086956521 - F1: 0.8366740950537596\n",
      "Epoch: 178 - Loss: 0.8701000094413758 - Accuracy: 0.8695652173913043 - Precision: 0.8723260074431963 - Recall: 0.8695652173913043 - F1: 0.8688220545706187\n",
      "Epoch: 179 - Loss: 0.8875836730003357 - Accuracy: 0.8521739130434782 - Precision: 0.8575196892868703 - Recall: 0.8521739130434782 - F1: 0.8500465556695337\n",
      "Epoch: 180 - Loss: 0.8834946076075236 - Accuracy: 0.8521739130434782 - Precision: 0.8575196892868703 - Recall: 0.8521739130434782 - F1: 0.8500465556695337\n",
      "Epoch: 181 - Loss: 0.9082441210746766 - Accuracy: 0.8434782608695652 - Precision: 0.8439240660807223 - Recall: 0.8434782608695652 - F1: 0.8412248832821474\n",
      "Epoch: 182 - Loss: 0.945097541809082 - Accuracy: 0.8 - Precision: 0.801711259754738 - Recall: 0.8 - F1: 0.7992497196779761\n",
      "Epoch: 183 - Loss: 0.933743433157603 - Accuracy: 0.808695652173913 - Precision: 0.8085797101449274 - Recall: 0.808695652173913 - F1: 0.8067282685188017\n",
      "Epoch: 184 - Loss: 0.9018149256706238 - Accuracy: 0.8347826086956521 - Precision: 0.8323125393824827 - Recall: 0.8347826086956521 - F1: 0.8327441142650558\n",
      "Epoch: 185 - Loss: 0.8929058472315471 - Accuracy: 0.8434782608695652 - Precision: 0.8420870933653649 - Recall: 0.8434782608695652 - F1: 0.8418468901105223\n",
      "Epoch: 186 - Loss: 0.9117637038230896 - Accuracy: 0.8260869565217391 - Precision: 0.8238296291025247 - Recall: 0.8260869565217391 - F1: 0.8224936630688261\n",
      "Epoch: 187 - Loss: 0.9084663947423299 - Accuracy: 0.8434782608695652 - Precision: 0.8463017401947741 - Recall: 0.8434782608695652 - F1: 0.8427802862722706\n",
      "Epoch: 188 - Loss: 0.8750657161076864 - Accuracy: 0.8695652173913043 - Precision: 0.8732507049642599 - Recall: 0.8695652173913043 - F1: 0.8681041017952561\n",
      "Epoch: 189 - Loss: 0.892748232682546 - Accuracy: 0.8347826086956521 - Precision: 0.8364205334307636 - Recall: 0.8347826086956521 - F1: 0.8306493165828204\n",
      "Epoch: 190 - Loss: 0.9371571818987529 - Accuracy: 0.8 - Precision: 0.8045278173921169 - Recall: 0.8 - F1: 0.8001155957406535\n",
      "Epoch: 191 - Loss: 0.8978935201962789 - Accuracy: 0.8434782608695652 - Precision: 0.8533540136952396 - Recall: 0.8434782608695652 - F1: 0.8432025945069422\n",
      "Epoch: 192 - Loss: 0.8976441462834676 - Accuracy: 0.8347826086956521 - Precision: 0.8358905608755132 - Recall: 0.8347826086956521 - F1: 0.8324000186238903\n",
      "Epoch: 193 - Loss: 0.9410493612289429 - Accuracy: 0.808695652173913 - Precision: 0.807099157930916 - Recall: 0.808695652173913 - F1: 0.8072592344657402\n",
      "Epoch: 194 - Loss: 0.9475457588831584 - Accuracy: 0.7913043478260869 - Precision: 0.7988907926988886 - Recall: 0.7913043478260869 - F1: 0.7924531248179182\n",
      "Epoch: 195 - Loss: 0.9295068184534708 - Accuracy: 0.8173913043478261 - Precision: 0.8168464578899362 - Recall: 0.8173913043478261 - F1: 0.8164972183428573\n",
      "Epoch: 196 - Loss: 0.8830454190572102 - Accuracy: 0.8608695652173913 - Precision: 0.8610080112001245 - Recall: 0.8608695652173913 - F1: 0.8602198155718399\n",
      "Epoch: 197 - Loss: 0.9229227304458618 - Accuracy: 0.8260869565217391 - Precision: 0.8248515432206377 - Recall: 0.8260869565217391 - F1: 0.8237564591053813\n",
      "Epoch: 198 - Loss: 0.9042717417081197 - Accuracy: 0.8434782608695652 - Precision: 0.8437020031929895 - Recall: 0.8434782608695652 - F1: 0.8431884220400305\n",
      "Epoch: 199 - Loss: 0.9599571426709493 - Accuracy: 0.782608695652174 - Precision: 0.7809474709285674 - Recall: 0.782608695652174 - F1: 0.7799059078757713\n",
      "Epoch: 200 - Loss: 1.0010467171669006 - Accuracy: 0.7391304347826086 - Precision: 0.7441749098805792 - Recall: 0.7391304347826086 - F1: 0.7386405632083999\n"
     ]
    }
   ],
   "source": [
    "for epoch in range(EPOCHS):\n",
    "  model.train()\n",
    "  running_loss = 0.0\n",
    "\n",
    "  labels_list = []\n",
    "  preds_list = []\n",
    "\n",
    "  for (x, y) in train_loader:\n",
    "    x, y = x.to(DEVICE), y.to(DEVICE)\n",
    "\n",
    "    yhat = model(x)\n",
    "\n",
    "    labels_list.extend(y.cpu())\n",
    "    preds_list.extend(yhat.argmax(1).cpu())\n",
    "\n",
    "    loss = loss_fn(yhat, y)\n",
    "    optimizer.zero_grad()\n",
    "    loss.backward()\n",
    "    optimizer.step()\n",
    "\n",
    "    running_loss += loss.item()\n",
    "\n",
    "  avg_loss = running_loss / len(train_loader)\n",
    "  loss_list.append(avg_loss)\n",
    "\n",
    "  acc = accuracy_score(labels_list, preds_list)\n",
    "  pre = precision_score(labels_list, preds_list, average='weighted', zero_division=0)\n",
    "  rec = recall_score(labels_list, preds_list, average='weighted', zero_division=0)\n",
    "  f1 = f1_score(labels_list, preds_list, average='weighted', zero_division=0)\n",
    "\n",
    "  acc_list.append(acc)\n",
    "  precision_list.append(pre)\n",
    "  recall_list.append(rec)\n",
    "  f1_list.append(f1)\n",
    "\n",
    "  writer.add_scalar(\"Train/Loss\", avg_loss, epoch)\n",
    "  writer.add_scalar(\"Train/Accuracy\", acc, epoch)\n",
    "  writer.add_scalar(\"Train/Precision\", pre, epoch)\n",
    "  writer.add_scalar(\"Train/Recall\", rec, epoch)\n",
    "  writer.add_scalar(\"Train/F1\", f1, epoch)\n",
    "\n",
    "  print(f\"Epoch: {epoch + 1} - Loss: {avg_loss} - Accuracy: {acc} - Precision: {pre} - Recall: {rec} - F1: {f1}\")"
   ]
  },
  {
   "cell_type": "code",
   "execution_count": 40,
   "metadata": {
    "colab": {
     "base_uri": "https://localhost:8080/",
     "height": 472
    },
    "execution": {
     "iopub.execute_input": "2024-02-26T14:09:22.910843Z",
     "iopub.status.busy": "2024-02-26T14:09:22.910537Z",
     "iopub.status.idle": "2024-02-26T14:09:23.165884Z",
     "shell.execute_reply": "2024-02-26T14:09:23.165489Z",
     "shell.execute_reply.started": "2024-02-26T14:09:22.910819Z"
    },
    "id": "ZS1QedxgT80s",
    "outputId": "ecf9fe7a-22e9-41bd-86c2-37457e2d790f"
   },
   "outputs": [
    {
     "data": {
      "image/png": "[encoded data removed]",
      "text/plain": [
       "<Figure size 640x480 with 1 Axes>"
      ]
     },
     "metadata": {},
     "output_type": "display_data"
    }
   ],
   "source": [
    "plt.title(\"Loss History\")\n",
    "plt.plot(range(EPOCHS), loss_list)\n",
    "plt.xlabel(\"Epochs\")\n",
    "plt.ylabel(\"Loss Value\")\n",
    "plt.savefig(\"figures/training_loss_history_1d_cnn_two_blocks_adam.pdf\", bbox_inches=\"tight\")\n",
    "plt.show()"
   ]
  },
  {
   "cell_type": "code",
   "execution_count": 41,
   "metadata": {
    "colab": {
     "base_uri": "https://localhost:8080/",
     "height": 472
    },
    "execution": {
     "iopub.execute_input": "2024-02-26T14:09:23.166606Z",
     "iopub.status.busy": "2024-02-26T14:09:23.166447Z",
     "iopub.status.idle": "2024-02-26T14:09:23.455991Z",
     "shell.execute_reply": "2024-02-26T14:09:23.455534Z",
     "shell.execute_reply.started": "2024-02-26T14:09:23.166592Z"
    },
    "id": "qRiuTx4ET_LF",
    "outputId": "74c528f5-ba2c-4bd9-b93e-da0714968457"
   },
   "outputs": [
    {
     "data": {
      "image/png": "[encoded data removed]",
      "text/plain": [
       "<Figure size 640x480 with 1 Axes>"
      ]
     },
     "metadata": {},
     "output_type": "display_data"
    }
   ],
   "source": [
    "plt.title(\"Training Metrics\")\n",
    "plt.plot(range(EPOCHS), acc_list, label=\"Accuracy\")\n",
    "plt.plot(range(EPOCHS), precision_list, label=\"Precision\")\n",
    "plt.plot(range(EPOCHS), recall_list, label=\"Recall\")\n",
    "plt.plot(range(EPOCHS), f1_list, label=\"F1 Score\")\n",
    "plt.legend()\n",
    "plt.xlabel(\"Epochs\")\n",
    "plt.ylabel(\"Metric Value\")\n",
    "plt.savefig(\"figures/training_metrics_1d_cnn_two_blocks_adam.pdf\", bbox_inches=\"tight\")\n",
    "plt.show()"
   ]
  },
  {
   "cell_type": "code",
   "execution_count": 42,
   "metadata": {
    "colab": {
     "base_uri": "https://localhost:8080/"
    },
    "execution": {
     "iopub.execute_input": "2024-02-26T14:09:23.457052Z",
     "iopub.status.busy": "2024-02-26T14:09:23.456847Z",
     "iopub.status.idle": "2024-02-26T14:09:23.461806Z",
     "shell.execute_reply": "2024-02-26T14:09:23.460990Z",
     "shell.execute_reply.started": "2024-02-26T14:09:23.457038Z"
    },
    "id": "ykUjnGGHUBC-",
    "outputId": "a51ed328-5809-4e94-8fc3-0c5a9b38980c"
   },
   "outputs": [
    {
     "name": "stdout",
     "output_type": "stream",
     "text": [
      "Mean Training Accuracy: 0.7468260869565218\n",
      "Mean Training Precision: 0.7555005452844219\n",
      "Mean Training Recall: 0.7468260869565218\n",
      "Mean Training F1 Score: 0.7474256460338984\n"
     ]
    }
   ],
   "source": [
    "print(f\"Mean Training Accuracy: {np.array(acc_list).mean()}\")\n",
    "print(f\"Mean Training Precision: {np.array(precision_list).mean()}\")\n",
    "print(f\"Mean Training Recall: {np.array(recall_list).mean()}\")\n",
    "print(f\"Mean Training F1 Score: {np.array(f1_list).mean()}\")\n",
    "\n",
    "writer.add_scalar(\"Train/Mean Accuracy\", np.array(acc_list).mean(), 0)\n",
    "writer.add_scalar(\"Train/Mean Precision\", np.array(precision_list).mean(), 0)\n",
    "writer.add_scalar(\"Train/Mean Recall\", np.array(recall_list).mean(), 0)\n",
    "writer.add_scalar(\"Train/Mean F1 Score\", np.array(f1_list).mean(), 0)"
   ]
  },
  {
   "cell_type": "code",
   "execution_count": 43,
   "metadata": {
    "execution": {
     "iopub.execute_input": "2024-02-26T14:09:23.463604Z",
     "iopub.status.busy": "2024-02-26T14:09:23.463011Z",
     "iopub.status.idle": "2024-02-26T14:09:23.475273Z",
     "shell.execute_reply": "2024-02-26T14:09:23.474777Z",
     "shell.execute_reply.started": "2024-02-26T14:09:23.463571Z"
    },
    "id": "aMu18benUD97"
   },
   "outputs": [],
   "source": [
    "loss = 0.0\n",
    "accuracy = 0.0\n",
    "precision = 0.0\n",
    "recall = 0.0\n",
    "f1 = 0.0"
   ]
  },
  {
   "cell_type": "code",
   "execution_count": 44,
   "metadata": {
    "execution": {
     "iopub.execute_input": "2024-02-26T14:09:23.476262Z",
     "iopub.status.busy": "2024-02-26T14:09:23.476008Z",
     "iopub.status.idle": "2024-02-26T14:09:23.506971Z",
     "shell.execute_reply": "2024-02-26T14:09:23.506418Z",
     "shell.execute_reply.started": "2024-02-26T14:09:23.476238Z"
    },
    "id": "yUs5QIqKUGP7"
   },
   "outputs": [],
   "source": [
    "model.eval()\n",
    "with torch.no_grad():\n",
    "  x = torch.tensor(test_data).type(torch.FloatTensor)\n",
    "  y = torch.tensor(test_labels).type(torch.LongTensor)\n",
    "\n",
    "  yhat = model(x)\n",
    "\n",
    "  yhat = yhat.cpu()\n",
    "  loss = loss_fn(yhat, y)\n",
    "\n",
    "  yhat = yhat.argmax(1)\n",
    "  accuracy = accuracy_score(yhat, y)\n",
    "  precision = precision_score(yhat, y, average='weighted', zero_division=0)\n",
    "  recall = recall_score(yhat, y, average='weighted', zero_division=0)\n",
    "  f1 = f1_score(yhat, y, average='weighted', zero_division=0)"
   ]
  },
  {
   "cell_type": "code",
   "execution_count": 45,
   "metadata": {
    "colab": {
     "base_uri": "https://localhost:8080/"
    },
    "execution": {
     "iopub.execute_input": "2024-02-26T14:09:23.508140Z",
     "iopub.status.busy": "2024-02-26T14:09:23.507726Z",
     "iopub.status.idle": "2024-02-26T14:09:23.515570Z",
     "shell.execute_reply": "2024-02-26T14:09:23.514736Z",
     "shell.execute_reply.started": "2024-02-26T14:09:23.508119Z"
    },
    "id": "iM7ZByiWUJY0",
    "outputId": "d43b1674-81af-422a-c862-51cf4283ddad"
   },
   "outputs": [
    {
     "name": "stdout",
     "output_type": "stream",
     "text": [
      "Testing Loss: 1.4267899990081787\n",
      "Testing Accuracy: 0.27586206896551724\n",
      "Testing Precision: 0.3847701149425287\n",
      "Testing Recall: 0.27586206896551724\n",
      "Testing F1 Score: 0.28680371352785144\n"
     ]
    }
   ],
   "source": [
    "print(f\"Testing Loss: {loss}\")\n",
    "print(f\"Testing Accuracy: {accuracy}\")\n",
    "print(f\"Testing Precision: {precision}\")\n",
    "print(f\"Testing Recall: {recall}\")\n",
    "print(f\"Testing F1 Score: {f1}\")\n",
    "\n",
    "writer.add_scalar(\"Test/Loss\", loss, 0)\n",
    "writer.add_scalar(\"Test/Accuracy\", accuracy, 0)\n",
    "writer.add_scalar(\"Test/Precision\", precision, 0)\n",
    "writer.add_scalar(\"Test/Recall\", recall, 0)\n",
    "writer.add_scalar(\"Test/F1 Score\", f1, 0)"
   ]
  },
  {
   "cell_type": "code",
   "execution_count": null,
   "metadata": {},
   "outputs": [],
   "source": []
  }
 ],
 "metadata": {
  "accelerator": "GPU",
  "colab": {
   "gpuType": "T4",
   "provenance": []
  },
  "kernelspec": {
   "display_name": "Python 3 (ipykernel)",
   "language": "python",
   "name": "python3"
  },
  "language_info": {
   "codemirror_mode": {
    "name": "ipython",
    "version": 3
   },
   "file_extension": ".py",
   "mimetype": "text/x-python",
   "name": "python",
   "nbconvert_exporter": "python",
   "pygments_lexer": "ipython3",
   "version": "3.11.5"
  }
 },
 "nbformat": 4,
 "nbformat_minor": 4
}
