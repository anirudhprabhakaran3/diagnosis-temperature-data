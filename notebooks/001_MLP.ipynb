{
 "cells": [
  {
   "cell_type": "markdown",
   "metadata": {
    "id": "7DnXK7GD7tSc"
   },
   "source": [
    "# MLP"
   ]
  },
  {
   "cell_type": "code",
   "execution_count": 44,
   "metadata": {
    "execution": {
     "iopub.execute_input": "2024-02-26T13:34:46.352210Z",
     "iopub.status.busy": "2024-02-26T13:34:46.351871Z",
     "iopub.status.idle": "2024-02-26T13:34:46.378540Z",
     "shell.execute_reply": "2024-02-26T13:34:46.377506Z",
     "shell.execute_reply.started": "2024-02-26T13:34:46.352182Z"
    },
    "id": "FRZqTGz0vhOY"
   },
   "outputs": [],
   "source": [
    "import pandas as pd\n",
    "import numpy as np\n",
    "import matplotlib.pyplot as plt\n",
    "\n",
    "import torch\n",
    "from torch import nn\n",
    "from torch import optim\n",
    "from torch.utils.tensorboard import SummaryWriter\n",
    "\n",
    "from sklearn.model_selection import train_test_split\n",
    "\n",
    "from sklearn.metrics import accuracy_score\n",
    "from sklearn.metrics import precision_score\n",
    "from sklearn.metrics import f1_score\n",
    "from sklearn.metrics import recall_score\n",
    "\n",
    "from tqdm import tqdm\n",
    "from torchinfo import summary"
   ]
  },
  {
   "cell_type": "code",
   "execution_count": 2,
   "metadata": {
    "execution": {
     "iopub.execute_input": "2024-02-26T13:20:06.542045Z",
     "iopub.status.busy": "2024-02-26T13:20:06.541565Z",
     "iopub.status.idle": "2024-02-26T13:20:06.546145Z",
     "shell.execute_reply": "2024-02-26T13:20:06.545393Z",
     "shell.execute_reply.started": "2024-02-26T13:20:06.542011Z"
    },
    "id": "pENyLVp_v8G3"
   },
   "outputs": [],
   "source": [
    "DATA_PATH = \"../data/filtered_df.csv\"\n",
    "SAVED_MODELS_PATH = \"saved_models/\"\n",
    "RUNS_PATH = \"runs/\""
   ]
  },
  {
   "cell_type": "code",
   "execution_count": 3,
   "metadata": {
    "colab": {
     "base_uri": "https://localhost:8080/"
    },
    "execution": {
     "iopub.execute_input": "2024-02-26T13:20:08.656029Z",
     "iopub.status.busy": "2024-02-26T13:20:08.655727Z",
     "iopub.status.idle": "2024-02-26T13:20:08.662936Z",
     "shell.execute_reply": "2024-02-26T13:20:08.662420Z",
     "shell.execute_reply.started": "2024-02-26T13:20:08.656005Z"
    },
    "id": "MaW3kDMC0HcT",
    "outputId": "573492af-22e1-4510-84bc-441a69cefd30"
   },
   "outputs": [
    {
     "data": {
      "text/plain": [
       "device(type='cpu')"
      ]
     },
     "execution_count": 3,
     "metadata": {},
     "output_type": "execute_result"
    }
   ],
   "source": [
    "DEVICE = torch.device(\"cuda\" if torch.cuda.is_available() else \"cpu\")\n",
    "DEVICE"
   ]
  },
  {
   "cell_type": "code",
   "execution_count": 4,
   "metadata": {
    "execution": {
     "iopub.execute_input": "2024-02-26T13:20:10.078598Z",
     "iopub.status.busy": "2024-02-26T13:20:10.077990Z",
     "iopub.status.idle": "2024-02-26T13:20:10.087617Z",
     "shell.execute_reply": "2024-02-26T13:20:10.086851Z",
     "shell.execute_reply.started": "2024-02-26T13:20:10.078542Z"
    },
    "id": "h6yA70-k0S8b"
   },
   "outputs": [],
   "source": [
    "class TemperatureDataset(torch.utils.data.Dataset):\n",
    "    def __init__(self, X, y):\n",
    "        super(TemperatureDataset, self).__init__()\n",
    "\n",
    "        self.X = torch.from_numpy(X).type(torch.FloatTensor).to(DEVICE)\n",
    "        self.y = torch.from_numpy(y).type(torch.LongTensor).to(DEVICE)\n",
    "\n",
    "    def __len__(self):\n",
    "        return len(self.X)\n",
    "\n",
    "    def __getitem__(self, idx):\n",
    "        return self.X[idx], self.y[idx]"
   ]
  },
  {
   "cell_type": "code",
   "execution_count": 5,
   "metadata": {
    "colab": {
     "base_uri": "https://localhost:8080/",
     "height": 288
    },
    "execution": {
     "iopub.execute_input": "2024-02-26T13:20:12.067345Z",
     "iopub.status.busy": "2024-02-26T13:20:12.066927Z",
     "iopub.status.idle": "2024-02-26T13:20:12.160782Z",
     "shell.execute_reply": "2024-02-26T13:20:12.160186Z",
     "shell.execute_reply.started": "2024-02-26T13:20:12.067294Z"
    },
    "id": "4F-eHRZH0WtR",
    "outputId": "0901665a-30b5-494b-fd8a-0f98e55f8d42"
   },
   "outputs": [
    {
     "data": {
      "text/html": [
       "<div>\n",
       "<style scoped>\n",
       "    .dataframe tbody tr th:only-of-type {\n",
       "        vertical-align: middle;\n",
       "    }\n",
       "\n",
       "    .dataframe tbody tr th {\n",
       "        vertical-align: top;\n",
       "    }\n",
       "\n",
       "    .dataframe thead th {\n",
       "        text-align: right;\n",
       "    }\n",
       "</style>\n",
       "<table border=\"1\" class=\"dataframe\">\n",
       "  <thead>\n",
       "    <tr style=\"text-align: right;\">\n",
       "      <th></th>\n",
       "      <th>0</th>\n",
       "      <th>1</th>\n",
       "      <th>2</th>\n",
       "      <th>3</th>\n",
       "      <th>4</th>\n",
       "      <th>5</th>\n",
       "      <th>6</th>\n",
       "      <th>7</th>\n",
       "      <th>8</th>\n",
       "      <th>9</th>\n",
       "      <th>...</th>\n",
       "      <th>1432</th>\n",
       "      <th>1433</th>\n",
       "      <th>1434</th>\n",
       "      <th>1435</th>\n",
       "      <th>1436</th>\n",
       "      <th>1437</th>\n",
       "      <th>1438</th>\n",
       "      <th>1439</th>\n",
       "      <th>disease</th>\n",
       "      <th>disease_encoded</th>\n",
       "    </tr>\n",
       "  </thead>\n",
       "  <tbody>\n",
       "    <tr>\n",
       "      <th>0</th>\n",
       "      <td>-0.596810</td>\n",
       "      <td>-0.603499</td>\n",
       "      <td>-0.629674</td>\n",
       "      <td>-0.686768</td>\n",
       "      <td>-0.714473</td>\n",
       "      <td>-0.743524</td>\n",
       "      <td>-0.770487</td>\n",
       "      <td>-0.770972</td>\n",
       "      <td>-0.782348</td>\n",
       "      <td>-0.772732</td>\n",
       "      <td>...</td>\n",
       "      <td>-0.637026</td>\n",
       "      <td>-0.629740</td>\n",
       "      <td>-0.617626</td>\n",
       "      <td>-0.604859</td>\n",
       "      <td>-0.614421</td>\n",
       "      <td>-0.609821</td>\n",
       "      <td>-0.551177</td>\n",
       "      <td>-0.551008</td>\n",
       "      <td>tuberculosis</td>\n",
       "      <td>3</td>\n",
       "    </tr>\n",
       "    <tr>\n",
       "      <th>1</th>\n",
       "      <td>0.063518</td>\n",
       "      <td>0.067880</td>\n",
       "      <td>0.047908</td>\n",
       "      <td>0.009884</td>\n",
       "      <td>-0.002818</td>\n",
       "      <td>-0.015834</td>\n",
       "      <td>-0.026005</td>\n",
       "      <td>-0.018394</td>\n",
       "      <td>-0.013580</td>\n",
       "      <td>0.014617</td>\n",
       "      <td>...</td>\n",
       "      <td>0.007068</td>\n",
       "      <td>0.003319</td>\n",
       "      <td>0.001803</td>\n",
       "      <td>0.006697</td>\n",
       "      <td>-0.009119</td>\n",
       "      <td>-0.029259</td>\n",
       "      <td>0.002913</td>\n",
       "      <td>-0.008256</td>\n",
       "      <td>tuberculosis</td>\n",
       "      <td>3</td>\n",
       "    </tr>\n",
       "    <tr>\n",
       "      <th>2</th>\n",
       "      <td>-0.772158</td>\n",
       "      <td>-0.758427</td>\n",
       "      <td>-0.764652</td>\n",
       "      <td>-0.805698</td>\n",
       "      <td>-0.817639</td>\n",
       "      <td>-0.832307</td>\n",
       "      <td>-0.845816</td>\n",
       "      <td>-0.833380</td>\n",
       "      <td>-0.833559</td>\n",
       "      <td>-0.813942</td>\n",
       "      <td>...</td>\n",
       "      <td>-0.659361</td>\n",
       "      <td>-0.670224</td>\n",
       "      <td>-0.676881</td>\n",
       "      <td>-0.684352</td>\n",
       "      <td>-0.715458</td>\n",
       "      <td>-0.730034</td>\n",
       "      <td>-0.689956</td>\n",
       "      <td>-0.712528</td>\n",
       "      <td>non-tubercular bacterial infection</td>\n",
       "      <td>2</td>\n",
       "    </tr>\n",
       "    <tr>\n",
       "      <th>3</th>\n",
       "      <td>-1.184003</td>\n",
       "      <td>-1.215761</td>\n",
       "      <td>-1.262693</td>\n",
       "      <td>-1.340047</td>\n",
       "      <td>-1.397333</td>\n",
       "      <td>-1.457397</td>\n",
       "      <td>-1.516604</td>\n",
       "      <td>-1.527774</td>\n",
       "      <td>-1.624697</td>\n",
       "      <td>-1.637636</td>\n",
       "      <td>...</td>\n",
       "      <td>-1.496179</td>\n",
       "      <td>-1.465183</td>\n",
       "      <td>-1.506538</td>\n",
       "      <td>-1.544734</td>\n",
       "      <td>-1.621046</td>\n",
       "      <td>-1.640691</td>\n",
       "      <td>-1.611940</td>\n",
       "      <td>-1.669401</td>\n",
       "      <td>dengue</td>\n",
       "      <td>0</td>\n",
       "    </tr>\n",
       "    <tr>\n",
       "      <th>4</th>\n",
       "      <td>0.711537</td>\n",
       "      <td>0.716489</td>\n",
       "      <td>0.692864</td>\n",
       "      <td>0.663745</td>\n",
       "      <td>0.656331</td>\n",
       "      <td>0.649800</td>\n",
       "      <td>0.647031</td>\n",
       "      <td>0.654493</td>\n",
       "      <td>0.666713</td>\n",
       "      <td>0.704651</td>\n",
       "      <td>...</td>\n",
       "      <td>0.461699</td>\n",
       "      <td>0.463528</td>\n",
       "      <td>0.465851</td>\n",
       "      <td>0.479131</td>\n",
       "      <td>0.473387</td>\n",
       "      <td>0.448613</td>\n",
       "      <td>0.474214</td>\n",
       "      <td>0.469184</td>\n",
       "      <td>non-infectious diseases</td>\n",
       "      <td>1</td>\n",
       "    </tr>\n",
       "  </tbody>\n",
       "</table>\n",
       "<p>5 rows × 1442 columns</p>\n",
       "</div>"
      ],
      "text/plain": [
       "          0         1         2         3         4         5         6  \\\n",
       "0 -0.596810 -0.603499 -0.629674 -0.686768 -0.714473 -0.743524 -0.770487   \n",
       "1  0.063518  0.067880  0.047908  0.009884 -0.002818 -0.015834 -0.026005   \n",
       "2 -0.772158 -0.758427 -0.764652 -0.805698 -0.817639 -0.832307 -0.845816   \n",
       "3 -1.184003 -1.215761 -1.262693 -1.340047 -1.397333 -1.457397 -1.516604   \n",
       "4  0.711537  0.716489  0.692864  0.663745  0.656331  0.649800  0.647031   \n",
       "\n",
       "          7         8         9  ...      1432      1433      1434      1435  \\\n",
       "0 -0.770972 -0.782348 -0.772732  ... -0.637026 -0.629740 -0.617626 -0.604859   \n",
       "1 -0.018394 -0.013580  0.014617  ...  0.007068  0.003319  0.001803  0.006697   \n",
       "2 -0.833380 -0.833559 -0.813942  ... -0.659361 -0.670224 -0.676881 -0.684352   \n",
       "3 -1.527774 -1.624697 -1.637636  ... -1.496179 -1.465183 -1.506538 -1.544734   \n",
       "4  0.654493  0.666713  0.704651  ...  0.461699  0.463528  0.465851  0.479131   \n",
       "\n",
       "       1436      1437      1438      1439                             disease  \\\n",
       "0 -0.614421 -0.609821 -0.551177 -0.551008                        tuberculosis   \n",
       "1 -0.009119 -0.029259  0.002913 -0.008256                        tuberculosis   \n",
       "2 -0.715458 -0.730034 -0.689956 -0.712528  non-tubercular bacterial infection   \n",
       "3 -1.621046 -1.640691 -1.611940 -1.669401                              dengue   \n",
       "4  0.473387  0.448613  0.474214  0.469184             non-infectious diseases   \n",
       "\n",
       "   disease_encoded  \n",
       "0                3  \n",
       "1                3  \n",
       "2                2  \n",
       "3                0  \n",
       "4                1  \n",
       "\n",
       "[5 rows x 1442 columns]"
      ]
     },
     "execution_count": 5,
     "metadata": {},
     "output_type": "execute_result"
    }
   ],
   "source": [
    "df = pd.read_csv(DATA_PATH, index_col=False)\n",
    "df = df.sample(frac=1)\n",
    "df.reset_index(drop=True, inplace=True)\n",
    "df.head()"
   ]
  },
  {
   "cell_type": "code",
   "execution_count": 6,
   "metadata": {
    "execution": {
     "iopub.execute_input": "2024-02-26T13:20:16.019406Z",
     "iopub.status.busy": "2024-02-26T13:20:16.018821Z",
     "iopub.status.idle": "2024-02-26T13:20:16.026639Z",
     "shell.execute_reply": "2024-02-26T13:20:16.025965Z",
     "shell.execute_reply.started": "2024-02-26T13:20:16.019365Z"
    },
    "id": "vhuYq9s90mfk"
   },
   "outputs": [],
   "source": [
    "X = df.drop(\"disease\", axis=1)\n",
    "X = X.drop(\"disease_encoded\", axis=1)\n",
    "y = df[\"disease_encoded\"]"
   ]
  },
  {
   "cell_type": "code",
   "execution_count": 7,
   "metadata": {
    "execution": {
     "iopub.execute_input": "2024-02-26T13:20:17.508775Z",
     "iopub.status.busy": "2024-02-26T13:20:17.507937Z",
     "iopub.status.idle": "2024-02-26T13:20:17.517289Z",
     "shell.execute_reply": "2024-02-26T13:20:17.516564Z",
     "shell.execute_reply.started": "2024-02-26T13:20:17.508727Z"
    },
    "id": "O1GT3MB10s0S"
   },
   "outputs": [],
   "source": [
    "train_data, test_data, train_labels, test_labels = train_test_split(X, y, test_size=0.2, random_state=42)\n",
    "train_data = train_data.to_numpy()\n",
    "test_data = test_data.to_numpy()\n",
    "train_labels = train_labels.to_numpy()\n",
    "test_labels = test_labels.to_numpy()"
   ]
  },
  {
   "cell_type": "code",
   "execution_count": 8,
   "metadata": {
    "execution": {
     "iopub.execute_input": "2024-02-26T13:20:17.758245Z",
     "iopub.status.busy": "2024-02-26T13:20:17.757826Z",
     "iopub.status.idle": "2024-02-26T13:20:17.776308Z",
     "shell.execute_reply": "2024-02-26T13:20:17.775777Z",
     "shell.execute_reply.started": "2024-02-26T13:20:17.758210Z"
    },
    "id": "eC9zYWGj0vk2"
   },
   "outputs": [],
   "source": [
    "train_dataset = TemperatureDataset(train_data, train_labels)\n",
    "test_dataset = TemperatureDataset(test_data, test_labels)"
   ]
  },
  {
   "cell_type": "code",
   "execution_count": 9,
   "metadata": {
    "execution": {
     "iopub.execute_input": "2024-02-26T13:20:19.297979Z",
     "iopub.status.busy": "2024-02-26T13:20:19.297574Z",
     "iopub.status.idle": "2024-02-26T13:20:19.304880Z",
     "shell.execute_reply": "2024-02-26T13:20:19.303856Z",
     "shell.execute_reply.started": "2024-02-26T13:20:19.297946Z"
    },
    "id": "1WjmVADI0yQY"
   },
   "outputs": [],
   "source": [
    "train_loader = torch.utils.data.DataLoader(train_dataset, batch_size=8, shuffle=True)\n",
    "test_loader = torch.utils.data.DataLoader(test_dataset, batch_size=1, shuffle=True)"
   ]
  },
  {
   "cell_type": "code",
   "execution_count": 10,
   "metadata": {
    "execution": {
     "iopub.execute_input": "2024-02-26T13:20:20.445295Z",
     "iopub.status.busy": "2024-02-26T13:20:20.444890Z",
     "iopub.status.idle": "2024-02-26T13:20:20.452090Z",
     "shell.execute_reply": "2024-02-26T13:20:20.451100Z",
     "shell.execute_reply.started": "2024-02-26T13:20:20.445262Z"
    },
    "id": "qKu77HBQ01JI"
   },
   "outputs": [],
   "source": [
    "class Model(nn.Module):\n",
    "  def __init__(self):\n",
    "    super(Model, self).__init__()\n",
    "\n",
    "    self.dense = nn.Linear(1440, 4)\n",
    "    self.softmax = nn.Softmax(dim=1)\n",
    "\n",
    "  def forward(self, x):\n",
    "    x = x.to(DEVICE)\n",
    "    return self.softmax(self.dense(x))"
   ]
  },
  {
   "cell_type": "code",
   "execution_count": 14,
   "metadata": {
    "execution": {
     "iopub.execute_input": "2024-02-26T13:25:09.073292Z",
     "iopub.status.busy": "2024-02-26T13:25:09.072956Z",
     "iopub.status.idle": "2024-02-26T13:25:09.079136Z",
     "shell.execute_reply": "2024-02-26T13:25:09.078533Z",
     "shell.execute_reply.started": "2024-02-26T13:25:09.073263Z"
    }
   },
   "outputs": [],
   "source": [
    "sample_x, sample_y = next(iter(train_loader))"
   ]
  },
  {
   "cell_type": "markdown",
   "metadata": {
    "id": "MeWrOGxU7q1C"
   },
   "source": [
    "## SGD"
   ]
  },
  {
   "cell_type": "code",
   "execution_count": 11,
   "metadata": {
    "colab": {
     "base_uri": "https://localhost:8080/"
    },
    "execution": {
     "iopub.execute_input": "2024-02-26T13:24:20.996259Z",
     "iopub.status.busy": "2024-02-26T13:24:20.995673Z",
     "iopub.status.idle": "2024-02-26T13:24:21.011811Z",
     "shell.execute_reply": "2024-02-26T13:24:21.011257Z",
     "shell.execute_reply.started": "2024-02-26T13:24:20.996220Z"
    },
    "id": "FIuV-w4B1Qew",
    "outputId": "2a83f0d5-56dc-412e-a902-37659e5ab652"
   },
   "outputs": [
    {
     "data": {
      "text/plain": [
       "Model(\n",
       "  (dense): Linear(in_features=1440, out_features=4, bias=True)\n",
       "  (softmax): Softmax(dim=1)\n",
       ")"
      ]
     },
     "execution_count": 11,
     "metadata": {},
     "output_type": "execute_result"
    }
   ],
   "source": [
    "model = Model()\n",
    "model = model.to(DEVICE)\n",
    "model"
   ]
  },
  {
   "cell_type": "code",
   "execution_count": 46,
   "metadata": {
    "execution": {
     "iopub.execute_input": "2024-02-26T13:35:10.776891Z",
     "iopub.status.busy": "2024-02-26T13:35:10.776623Z",
     "iopub.status.idle": "2024-02-26T13:35:10.783181Z",
     "shell.execute_reply": "2024-02-26T13:35:10.782381Z",
     "shell.execute_reply.started": "2024-02-26T13:35:10.776873Z"
    }
   },
   "outputs": [
    {
     "data": {
      "text/plain": [
       "==========================================================================================\n",
       "Layer (type:depth-idx)                   Output Shape              Param #\n",
       "==========================================================================================\n",
       "Model                                    [8, 4]                    --\n",
       "├─Linear: 1-1                            [8, 4]                    5,764\n",
       "├─Softmax: 1-2                           [8, 4]                    --\n",
       "==========================================================================================\n",
       "Total params: 5,764\n",
       "Trainable params: 5,764\n",
       "Non-trainable params: 0\n",
       "Total mult-adds (Units.MEGABYTES): 0.05\n",
       "==========================================================================================\n",
       "Input size (MB): 0.05\n",
       "Forward/backward pass size (MB): 0.00\n",
       "Params size (MB): 0.02\n",
       "Estimated Total Size (MB): 0.07\n",
       "=========================================================================================="
      ]
     },
     "execution_count": 46,
     "metadata": {},
     "output_type": "execute_result"
    }
   ],
   "source": [
    "summary(model, input_data=sample_x)"
   ]
  },
  {
   "cell_type": "code",
   "execution_count": 12,
   "metadata": {
    "execution": {
     "iopub.execute_input": "2024-02-26T13:24:22.111502Z",
     "iopub.status.busy": "2024-02-26T13:24:22.111185Z",
     "iopub.status.idle": "2024-02-26T13:24:22.115366Z",
     "shell.execute_reply": "2024-02-26T13:24:22.114883Z",
     "shell.execute_reply.started": "2024-02-26T13:24:22.111473Z"
    },
    "id": "IILxVI2J71bv"
   },
   "outputs": [],
   "source": [
    "tb_board = RUNS_PATH + \"mlp_sgd\"\n",
    "writer = SummaryWriter(tb_board)"
   ]
  },
  {
   "cell_type": "code",
   "execution_count": 15,
   "metadata": {
    "execution": {
     "iopub.execute_input": "2024-02-26T13:25:11.578751Z",
     "iopub.status.busy": "2024-02-26T13:25:11.578545Z",
     "iopub.status.idle": "2024-02-26T13:25:11.666652Z",
     "shell.execute_reply": "2024-02-26T13:25:11.666055Z",
     "shell.execute_reply.started": "2024-02-26T13:25:11.578738Z"
    }
   },
   "outputs": [],
   "source": [
    "writer.add_graph(model, sample_x)"
   ]
  },
  {
   "cell_type": "code",
   "execution_count": 16,
   "metadata": {
    "execution": {
     "iopub.execute_input": "2024-02-26T13:25:13.875729Z",
     "iopub.status.busy": "2024-02-26T13:25:13.875210Z",
     "iopub.status.idle": "2024-02-26T13:25:13.880060Z",
     "shell.execute_reply": "2024-02-26T13:25:13.879431Z",
     "shell.execute_reply.started": "2024-02-26T13:25:13.875699Z"
    },
    "id": "b2sKZQmF1W42"
   },
   "outputs": [],
   "source": [
    "EPOCHS = 200\n",
    "\n",
    "acc_list = []\n",
    "f1_list = []\n",
    "recall_list = []\n",
    "precision_list = []\n",
    "\n",
    "loss_list = []"
   ]
  },
  {
   "cell_type": "code",
   "execution_count": 17,
   "metadata": {
    "execution": {
     "iopub.execute_input": "2024-02-26T13:25:21.164059Z",
     "iopub.status.busy": "2024-02-26T13:25:21.163669Z",
     "iopub.status.idle": "2024-02-26T13:25:21.978717Z",
     "shell.execute_reply": "2024-02-26T13:25:21.978293Z",
     "shell.execute_reply.started": "2024-02-26T13:25:21.164027Z"
    },
    "id": "MZPInsjR1h93"
   },
   "outputs": [],
   "source": [
    "loss_fn = nn.CrossEntropyLoss()\n",
    "optimizer = optim.SGD(model.parameters(), lr=1e-3, momentum=0.9)"
   ]
  },
  {
   "cell_type": "code",
   "execution_count": 18,
   "metadata": {
    "colab": {
     "base_uri": "https://localhost:8080/"
    },
    "execution": {
     "iopub.execute_input": "2024-02-26T13:25:22.925439Z",
     "iopub.status.busy": "2024-02-26T13:25:22.925017Z",
     "iopub.status.idle": "2024-02-26T13:25:30.477007Z",
     "shell.execute_reply": "2024-02-26T13:25:30.475997Z",
     "shell.execute_reply.started": "2024-02-26T13:25:22.925414Z"
    },
    "id": "kQ6ZNBVr1vSy",
    "outputId": "e476efbc-3ac2-44e7-b6d2-e6dc4fd5c422",
    "scrolled": true
   },
   "outputs": [
    {
     "name": "stdout",
     "output_type": "stream",
     "text": [
      "Epoch: 1 - Loss: 1.3787939071655273 - Accuracy: 0.33043478260869563 - Precision: 0.34876385336743393 - Recall: 0.33043478260869563 - F1: 0.33139713021900963\n",
      "Epoch: 2 - Loss: 1.3293552319208781 - Accuracy: 0.391304347826087 - Precision: 0.3900488342785129 - Recall: 0.391304347826087 - F1: 0.36912197229274296\n",
      "Epoch: 3 - Loss: 1.3080516497294108 - Accuracy: 0.391304347826087 - Precision: 0.37273359333622225 - Recall: 0.391304347826087 - F1: 0.36595441349277663\n",
      "Epoch: 4 - Loss: 1.278613845507304 - Accuracy: 0.4782608695652174 - Precision: 0.523957189853085 - Recall: 0.4782608695652174 - F1: 0.4749156067127726\n",
      "Epoch: 5 - Loss: 1.2527139027913412 - Accuracy: 0.4782608695652174 - Precision: 0.5063322007257934 - Recall: 0.4782608695652174 - F1: 0.4677075098814229\n",
      "Epoch: 6 - Loss: 1.2498289744059246 - Accuracy: 0.5043478260869565 - Precision: 0.5506066734074823 - Recall: 0.5043478260869565 - F1: 0.481715211026059\n",
      "Epoch: 7 - Loss: 1.2224087158838908 - Accuracy: 0.5130434782608696 - Precision: 0.5608789913986096 - Recall: 0.5130434782608696 - F1: 0.4888423051611685\n",
      "Epoch: 8 - Loss: 1.2271116415659586 - Accuracy: 0.5217391304347826 - Precision: 0.5531594667782387 - Recall: 0.5217391304347826 - F1: 0.5209944864543289\n",
      "Epoch: 9 - Loss: 1.230896814664205 - Accuracy: 0.5565217391304348 - Precision: 0.5937141755381415 - Recall: 0.5565217391304348 - F1: 0.5587280986372485\n",
      "Epoch: 10 - Loss: 1.2073911706606546 - Accuracy: 0.5565217391304348 - Precision: 0.6145660503081791 - Recall: 0.5565217391304348 - F1: 0.55211540061106\n",
      "Epoch: 11 - Loss: 1.206592114766439 - Accuracy: 0.5478260869565217 - Precision: 0.5696342305037957 - Recall: 0.5478260869565217 - F1: 0.5317704589224066\n",
      "Epoch: 12 - Loss: 1.1874734004338583 - Accuracy: 0.5565217391304348 - Precision: 0.5826785206836358 - Recall: 0.5565217391304348 - F1: 0.5523308360715232\n",
      "Epoch: 13 - Loss: 1.189369026819865 - Accuracy: 0.5739130434782609 - Precision: 0.6156343822973425 - Recall: 0.5739130434782609 - F1: 0.5593600245585124\n",
      "Epoch: 14 - Loss: 1.1750747879346213 - Accuracy: 0.591304347826087 - Precision: 0.6901678904380827 - Recall: 0.591304347826087 - F1: 0.5651216625129669\n",
      "Epoch: 15 - Loss: 1.16384254693985 - Accuracy: 0.591304347826087 - Precision: 0.6255312717972564 - Recall: 0.591304347826087 - F1: 0.5757834633217364\n",
      "Epoch: 16 - Loss: 1.1669286568959554 - Accuracy: 0.6 - Precision: 0.6868059476755127 - Recall: 0.6 - F1: 0.5710086606596099\n",
      "Epoch: 17 - Loss: 1.1595335642496745 - Accuracy: 0.6 - Precision: 0.6950073461391958 - Recall: 0.6 - F1: 0.573293602576962\n",
      "Epoch: 18 - Loss: 1.1550411264101663 - Accuracy: 0.6 - Precision: 0.701107581882683 - Recall: 0.6 - F1: 0.5748111035067557\n",
      "Epoch: 19 - Loss: 1.1685686270395914 - Accuracy: 0.6086956521739131 - Precision: 0.6488886575863916 - Recall: 0.6086956521739131 - F1: 0.6040950242084457\n",
      "Epoch: 20 - Loss: 1.1620534936587015 - Accuracy: 0.6 - Precision: 0.6377672966419768 - Recall: 0.6 - F1: 0.5919607802405533\n",
      "Epoch: 21 - Loss: 1.1532467166582743 - Accuracy: 0.6173913043478261 - Precision: 0.7084977072205145 - Recall: 0.6173913043478261 - F1: 0.6054170165619139\n",
      "Epoch: 22 - Loss: 1.152133826414744 - Accuracy: 0.6173913043478261 - Precision: 0.6745059288537549 - Recall: 0.6173913043478261 - F1: 0.609876869915143\n",
      "Epoch: 23 - Loss: 1.1600059191385905 - Accuracy: 0.6347826086956522 - Precision: 0.6975841362938137 - Recall: 0.6347826086956522 - F1: 0.6330088389870998\n",
      "Epoch: 24 - Loss: 1.1500246405601502 - Accuracy: 0.6260869565217392 - Precision: 0.7229488078541375 - Recall: 0.6260869565217392 - F1: 0.6162903384075407\n",
      "Epoch: 25 - Loss: 1.1460706432660421 - Accuracy: 0.6260869565217392 - Precision: 0.7165067067530065 - Recall: 0.6260869565217392 - F1: 0.6146363664778346\n",
      "Epoch: 26 - Loss: 1.1323117852210998 - Accuracy: 0.6347826086956522 - Precision: 0.6914274278973469 - Recall: 0.6347826086956522 - F1: 0.631469419736879\n",
      "Epoch: 27 - Loss: 1.1412323832511901 - Accuracy: 0.6260869565217392 - Precision: 0.719437398665115 - Recall: 0.6260869565217392 - F1: 0.6151064575557027\n",
      "Epoch: 28 - Loss: 1.1355660915374757 - Accuracy: 0.6347826086956522 - Precision: 0.7176284584980237 - Recall: 0.6347826086956522 - F1: 0.6214621218172297\n",
      "Epoch: 29 - Loss: 1.1328006347020467 - Accuracy: 0.6347826086956522 - Precision: 0.7121677129349763 - Recall: 0.6347826086956522 - F1: 0.6200175440868011\n",
      "Epoch: 30 - Loss: 1.1463533560434978 - Accuracy: 0.6260869565217392 - Precision: 0.71009484228474 - Recall: 0.6260869565217392 - F1: 0.6125076648636913\n",
      "Epoch: 31 - Loss: 1.1491004625956218 - Accuracy: 0.6260869565217392 - Precision: 0.719437398665115 - Recall: 0.6260869565217392 - F1: 0.6151064575557027\n",
      "Epoch: 32 - Loss: 1.1405961791674295 - Accuracy: 0.6347826086956522 - Precision: 0.7121677129349763 - Recall: 0.6347826086956522 - F1: 0.6200175440868011\n",
      "Epoch: 33 - Loss: 1.143867309888204 - Accuracy: 0.6347826086956522 - Precision: 0.7176284584980237 - Recall: 0.6347826086956522 - F1: 0.6214621218172297\n",
      "Epoch: 34 - Loss: 1.145368715127309 - Accuracy: 0.6347826086956522 - Precision: 0.6869828722002634 - Recall: 0.6347826086956522 - F1: 0.6209782608695652\n",
      "Epoch: 35 - Loss: 1.1288782795270285 - Accuracy: 0.6260869565217392 - Precision: 0.6818445322793149 - Recall: 0.6260869565217392 - F1: 0.6145186335403726\n",
      "Epoch: 36 - Loss: 1.1425251722335816 - Accuracy: 0.6434782608695652 - Precision: 0.717250179785123 - Recall: 0.6434782608695652 - F1: 0.6338611797780038\n",
      "Epoch: 37 - Loss: 1.117820437749227 - Accuracy: 0.6173913043478261 - Precision: 0.6600118459921885 - Recall: 0.6173913043478261 - F1: 0.6082333586610058\n",
      "Epoch: 38 - Loss: 1.1121850967407227 - Accuracy: 0.6347826086956522 - Precision: 0.6817270704676357 - Recall: 0.6347826086956522 - F1: 0.6251115248880443\n",
      "Epoch: 39 - Loss: 1.1171698411305746 - Accuracy: 0.6260869565217392 - Precision: 0.6769751191679907 - Recall: 0.6260869565217392 - F1: 0.6112250059905748\n",
      "Epoch: 40 - Loss: 1.1312867641448974 - Accuracy: 0.6347826086956522 - Precision: 0.7206926683716964 - Recall: 0.6347826086956522 - F1: 0.6220606348575677\n",
      "Epoch: 41 - Loss: 1.1210601886113485 - Accuracy: 0.6347826086956522 - Precision: 0.7176284584980237 - Recall: 0.6347826086956522 - F1: 0.6214621218172297\n",
      "Epoch: 42 - Loss: 1.1153271198272705 - Accuracy: 0.6434782608695652 - Precision: 0.7146771347568349 - Recall: 0.6434782608695652 - F1: 0.633357178617362\n",
      "Epoch: 43 - Loss: 1.1337483088175455 - Accuracy: 0.6347826086956522 - Precision: 0.6869598432258279 - Recall: 0.6347826086956522 - F1: 0.6264817365073118\n",
      "Epoch: 44 - Loss: 1.1211926857630412 - Accuracy: 0.6434782608695652 - Precision: 0.6810239313116551 - Recall: 0.6434782608695652 - F1: 0.6340392304644313\n",
      "Epoch: 45 - Loss: 1.1334522326787313 - Accuracy: 0.6347826086956522 - Precision: 0.6574214468396054 - Recall: 0.6347826086956522 - F1: 0.6213302003640968\n",
      "Epoch: 46 - Loss: 1.1076714317003886 - Accuracy: 0.6434782608695652 - Precision: 0.6751608778153617 - Recall: 0.6434782608695652 - F1: 0.6352339523695022\n",
      "Epoch: 47 - Loss: 1.1126101652781168 - Accuracy: 0.6434782608695652 - Precision: 0.6690295365229867 - Recall: 0.6434782608695652 - F1: 0.6337699144872098\n",
      "Epoch: 48 - Loss: 1.1156373063723246 - Accuracy: 0.6434782608695652 - Precision: 0.6949995403989336 - Recall: 0.6434782608695652 - F1: 0.63395872715816\n",
      "Epoch: 49 - Loss: 1.1206088383992514 - Accuracy: 0.6434782608695652 - Precision: 0.6779597214379822 - Recall: 0.6434782608695652 - F1: 0.6334407174240934\n",
      "Epoch: 50 - Loss: 1.1163773695627848 - Accuracy: 0.6434782608695652 - Precision: 0.6604511224779768 - Recall: 0.6434782608695652 - F1: 0.6337318651954292\n",
      "Epoch: 51 - Loss: 1.1113131205240885 - Accuracy: 0.6434782608695652 - Precision: 0.7008399209486166 - Recall: 0.6434782608695652 - F1: 0.6354424372320882\n",
      "Epoch: 52 - Loss: 1.1135440548261006 - Accuracy: 0.6434782608695652 - Precision: 0.717250179785123 - Recall: 0.6434782608695652 - F1: 0.6338611797780038\n",
      "Epoch: 53 - Loss: 1.1081067125002544 - Accuracy: 0.6434782608695652 - Precision: 0.6715579710144927 - Recall: 0.6434782608695652 - F1: 0.6345368769403386\n",
      "Epoch: 54 - Loss: 1.1071404536565146 - Accuracy: 0.6434782608695652 - Precision: 0.6628416990691646 - Recall: 0.6434782608695652 - F1: 0.6344356698268782\n",
      "Epoch: 55 - Loss: 1.0938403089841207 - Accuracy: 0.6434782608695652 - Precision: 0.6628416990691646 - Recall: 0.6434782608695652 - F1: 0.6344356698268782\n",
      "Epoch: 56 - Loss: 1.1016383369763691 - Accuracy: 0.6521739130434783 - Precision: 0.6766826169457967 - Recall: 0.6521739130434783 - F1: 0.6466397171044848\n",
      "Epoch: 57 - Loss: 1.1122028946876525 - Accuracy: 0.6521739130434783 - Precision: 0.6730797101449275 - Recall: 0.6521739130434783 - F1: 0.6459426416753211\n",
      "Epoch: 58 - Loss: 1.108858052889506 - Accuracy: 0.6521739130434783 - Precision: 0.6683795112247798 - Recall: 0.6521739130434783 - F1: 0.6420261795767\n",
      "Epoch: 59 - Loss: 1.091019868850708 - Accuracy: 0.6521739130434783 - Precision: 0.6683795112247798 - Recall: 0.6521739130434783 - F1: 0.6420261795767\n",
      "Epoch: 60 - Loss: 1.117557938893636 - Accuracy: 0.6521739130434783 - Precision: 0.6790731935369845 - Recall: 0.6521739130434783 - F1: 0.6473435217359337\n",
      "Epoch: 61 - Loss: 1.1108753561973572 - Accuracy: 0.6521739130434783 - Precision: 0.6683795112247798 - Recall: 0.6521739130434783 - F1: 0.6420261795767\n",
      "Epoch: 62 - Loss: 1.092823322614034 - Accuracy: 0.6521739130434783 - Precision: 0.6743729946168368 - Recall: 0.6521739130434783 - F1: 0.6434270596373127\n",
      "Epoch: 63 - Loss: 1.1159649769465128 - Accuracy: 0.6608695652173913 - Precision: 0.6787659846547315 - Recall: 0.6608695652173913 - F1: 0.6535992242232079\n",
      "Epoch: 64 - Loss: 1.098037882645925 - Accuracy: 0.6608695652173913 - Precision: 0.6787659846547315 - Recall: 0.6608695652173913 - F1: 0.6535992242232079\n",
      "Epoch: 65 - Loss: 1.101901364326477 - Accuracy: 0.6521739130434783 - Precision: 0.6662129054520358 - Recall: 0.6521739130434783 - F1: 0.641349175421435\n",
      "Epoch: 66 - Loss: 1.0993541081746419 - Accuracy: 0.6608695652173913 - Precision: 0.6824443999198557 - Recall: 0.6608695652173913 - F1: 0.6542570273304905\n",
      "Epoch: 67 - Loss: 1.1029049714406332 - Accuracy: 0.6608695652173913 - Precision: 0.6846110056925997 - Recall: 0.6608695652173913 - F1: 0.6549340314857556\n",
      "Epoch: 68 - Loss: 1.0985153913497925 - Accuracy: 0.6608695652173913 - Precision: 0.6846110056925997 - Recall: 0.6608695652173913 - F1: 0.6549340314857556\n",
      "Epoch: 69 - Loss: 1.1127469182014464 - Accuracy: 0.6608695652173913 - Precision: 0.6767595619483491 - Recall: 0.6608695652173913 - F1: 0.6529913900284173\n",
      "Epoch: 70 - Loss: 1.09593825340271 - Accuracy: 0.6608695652173913 - Precision: 0.6824443999198557 - Recall: 0.6608695652173913 - F1: 0.6542570273304905\n",
      "Epoch: 71 - Loss: 1.0833269357681274 - Accuracy: 0.6608695652173913 - Precision: 0.6824443999198557 - Recall: 0.6608695652173913 - F1: 0.6542570273304905\n",
      "Epoch: 72 - Loss: 1.0984773238499959 - Accuracy: 0.6521739130434783 - Precision: 0.6683795112247798 - Recall: 0.6521739130434783 - F1: 0.6420261795767\n",
      "Epoch: 73 - Loss: 1.083750573794047 - Accuracy: 0.6608695652173913 - Precision: 0.6787659846547315 - Recall: 0.6608695652173913 - F1: 0.6535992242232079\n",
      "Epoch: 74 - Loss: 1.0959175904591878 - Accuracy: 0.6608695652173913 - Precision: 0.6824443999198557 - Recall: 0.6608695652173913 - F1: 0.6542570273304905\n",
      "Epoch: 75 - Loss: 1.0980520725250245 - Accuracy: 0.6608695652173913 - Precision: 0.6767595619483491 - Recall: 0.6608695652173913 - F1: 0.6529913900284173\n",
      "Epoch: 76 - Loss: 1.0964133262634277 - Accuracy: 0.6608695652173913 - Precision: 0.6824443999198557 - Recall: 0.6608695652173913 - F1: 0.6542570273304905\n",
      "Epoch: 77 - Loss: 1.0935061693191528 - Accuracy: 0.6608695652173913 - Precision: 0.6824443999198557 - Recall: 0.6608695652173913 - F1: 0.6542570273304905\n",
      "Epoch: 78 - Loss: 1.1091103355089824 - Accuracy: 0.6521739130434783 - Precision: 0.6830892665621648 - Recall: 0.6521739130434783 - F1: 0.6435282667507731\n",
      "Epoch: 79 - Loss: 1.1029529770215352 - Accuracy: 0.6608695652173913 - Precision: 0.6824443999198557 - Recall: 0.6608695652173913 - F1: 0.6542570273304905\n",
      "Epoch: 80 - Loss: 1.1047783096631367 - Accuracy: 0.6608695652173913 - Precision: 0.6767595619483491 - Recall: 0.6608695652173913 - F1: 0.6529913900284173\n",
      "Epoch: 81 - Loss: 1.0914884169896444 - Accuracy: 0.6608695652173913 - Precision: 0.6767595619483491 - Recall: 0.6608695652173913 - F1: 0.6529913900284173\n",
      "Epoch: 82 - Loss: 1.0910231153170267 - Accuracy: 0.6608695652173913 - Precision: 0.6824443999198557 - Recall: 0.6608695652173913 - F1: 0.6542570273304905\n",
      "Epoch: 83 - Loss: 1.089322066307068 - Accuracy: 0.6608695652173913 - Precision: 0.6872418364882361 - Recall: 0.6608695652173913 - F1: 0.6557674347794119\n",
      "Epoch: 84 - Loss: 1.0919328331947327 - Accuracy: 0.6695652173913044 - Precision: 0.6916559663854267 - Recall: 0.6695652173913044 - F1: 0.6652752682100508\n",
      "Epoch: 85 - Loss: 1.0767523805300394 - Accuracy: 0.6695652173913044 - Precision: 0.6916559663854267 - Recall: 0.6695652173913044 - F1: 0.6652752682100508\n",
      "Epoch: 86 - Loss: 1.0909284273783366 - Accuracy: 0.6695652173913044 - Precision: 0.6916559663854267 - Recall: 0.6695652173913044 - F1: 0.6652752682100508\n",
      "Epoch: 87 - Loss: 1.0760119517644247 - Accuracy: 0.6695652173913044 - Precision: 0.6861442992964732 - Recall: 0.6695652173913044 - F1: 0.6640820946760934\n",
      "Epoch: 88 - Loss: 1.077922523021698 - Accuracy: 0.6695652173913044 - Precision: 0.6881045220922944 - Recall: 0.6695652173913044 - F1: 0.665678567575482\n",
      "Epoch: 89 - Loss: 1.1058685064315796 - Accuracy: 0.6695652173913044 - Precision: 0.6916559663854267 - Recall: 0.6695652173913044 - F1: 0.6652752682100508\n",
      "Epoch: 90 - Loss: 1.0758669018745421 - Accuracy: 0.6782608695652174 - Precision: 0.7018726380343234 - Recall: 0.6782608695652174 - F1: 0.6763377541112463\n",
      "Epoch: 91 - Loss: 1.0781317472457885 - Accuracy: 0.6782608695652174 - Precision: 0.7018726380343234 - Recall: 0.6782608695652174 - F1: 0.6763377541112463\n",
      "Epoch: 92 - Loss: 1.097895348072052 - Accuracy: 0.6695652173913044 - Precision: 0.6861442992964732 - Recall: 0.6695652173913044 - F1: 0.6640820946760934\n",
      "Epoch: 93 - Loss: 1.0779521107673644 - Accuracy: 0.6695652173913044 - Precision: 0.692463768115942 - Recall: 0.6695652173913044 - F1: 0.664524612693653\n",
      "Epoch: 94 - Loss: 1.1031118710835774 - Accuracy: 0.6782608695652174 - Precision: 0.69636097094537 - Recall: 0.6782608695652174 - F1: 0.6751445805772891\n",
      "Epoch: 95 - Loss: 1.0864917635917664 - Accuracy: 0.6782608695652174 - Precision: 0.7018726380343234 - Recall: 0.6782608695652174 - F1: 0.6763377541112463\n",
      "Epoch: 96 - Loss: 1.0985981980959574 - Accuracy: 0.6695652173913044 - Precision: 0.697770092226614 - Recall: 0.6695652173913044 - F1: 0.6657608575673751\n",
      "Epoch: 97 - Loss: 1.0727798183759054 - Accuracy: 0.6782608695652174 - Precision: 0.6985099854379031 - Recall: 0.6782608695652174 - F1: 0.6757702773442902\n",
      "Epoch: 98 - Loss: 1.07934779326121 - Accuracy: 0.6782608695652174 - Precision: 0.7018726380343234 - Recall: 0.6782608695652174 - F1: 0.6763377541112463\n",
      "Epoch: 99 - Loss: 1.0776567339897156 - Accuracy: 0.6782608695652174 - Precision: 0.7018726380343234 - Recall: 0.6782608695652174 - F1: 0.6763377541112463\n",
      "Epoch: 100 - Loss: 1.1048667867978414 - Accuracy: 0.6695652173913044 - Precision: 0.7077253178658269 - Recall: 0.6695652173913044 - F1: 0.6664620673424062\n",
      "Epoch: 101 - Loss: 1.0867061614990234 - Accuracy: 0.6695652173913044 - Precision: 0.692463768115942 - Recall: 0.6695652173913044 - F1: 0.664524612693653\n",
      "Epoch: 102 - Loss: 1.0823174953460692 - Accuracy: 0.6782608695652174 - Precision: 0.7018726380343234 - Recall: 0.6782608695652174 - F1: 0.6763377541112463\n",
      "Epoch: 103 - Loss: 1.0826637069384257 - Accuracy: 0.6782608695652174 - Precision: 0.7018726380343234 - Recall: 0.6782608695652174 - F1: 0.6763377541112463\n",
      "Epoch: 104 - Loss: 1.0685505867004395 - Accuracy: 0.6782608695652174 - Precision: 0.7018726380343234 - Recall: 0.6782608695652174 - F1: 0.6763377541112463\n",
      "Epoch: 105 - Loss: 1.080542504787445 - Accuracy: 0.6782608695652174 - Precision: 0.7018726380343234 - Recall: 0.6782608695652174 - F1: 0.6763377541112463\n",
      "Epoch: 106 - Loss: 1.0794772386550904 - Accuracy: 0.6869565217391305 - Precision: 0.7094858136108858 - Recall: 0.6869565217391305 - F1: 0.6863541168975952\n",
      "Epoch: 107 - Loss: 1.0835906108220419 - Accuracy: 0.6869565217391305 - Precision: 0.7094858136108858 - Recall: 0.6869565217391305 - F1: 0.6863541168975952\n",
      "Epoch: 108 - Loss: 1.0876012881596884 - Accuracy: 0.6869565217391305 - Precision: 0.7094858136108858 - Recall: 0.6869565217391305 - F1: 0.6863541168975952\n",
      "Epoch: 109 - Loss: 1.080000364780426 - Accuracy: 0.6869565217391305 - Precision: 0.7041617483113648 - Recall: 0.6869565217391305 - F1: 0.6852369134431142\n",
      "Epoch: 110 - Loss: 1.086430557568868 - Accuracy: 0.6869565217391305 - Precision: 0.7094858136108858 - Recall: 0.6869565217391305 - F1: 0.6863541168975952\n",
      "Epoch: 111 - Loss: 1.081910757223765 - Accuracy: 0.6869565217391305 - Precision: 0.7094858136108858 - Recall: 0.6869565217391305 - F1: 0.6863541168975952\n",
      "Epoch: 112 - Loss: 1.1020763675371805 - Accuracy: 0.6869565217391305 - Precision: 0.7094858136108858 - Recall: 0.6869565217391305 - F1: 0.6863541168975952\n",
      "Epoch: 113 - Loss: 1.0648376226425171 - Accuracy: 0.6869565217391305 - Precision: 0.7094858136108858 - Recall: 0.6869565217391305 - F1: 0.6863541168975952\n",
      "Epoch: 114 - Loss: 1.0841760555903117 - Accuracy: 0.6869565217391305 - Precision: 0.7094858136108858 - Recall: 0.6869565217391305 - F1: 0.6863541168975952\n",
      "Epoch: 115 - Loss: 1.0789114872614542 - Accuracy: 0.6869565217391305 - Precision: 0.7041617483113648 - Recall: 0.6869565217391305 - F1: 0.6852369134431142\n",
      "Epoch: 116 - Loss: 1.0675094644228618 - Accuracy: 0.6869565217391305 - Precision: 0.7094858136108858 - Recall: 0.6869565217391305 - F1: 0.6863541168975952\n",
      "Epoch: 117 - Loss: 1.064599867661794 - Accuracy: 0.6869565217391305 - Precision: 0.7094858136108858 - Recall: 0.6869565217391305 - F1: 0.6863541168975952\n",
      "Epoch: 118 - Loss: 1.0911449988683064 - Accuracy: 0.6869565217391305 - Precision: 0.7094858136108858 - Recall: 0.6869565217391305 - F1: 0.6863541168975952\n",
      "Epoch: 119 - Loss: 1.0658224900563558 - Accuracy: 0.6869565217391305 - Precision: 0.7094858136108858 - Recall: 0.6869565217391305 - F1: 0.6863541168975952\n",
      "Epoch: 120 - Loss: 1.0707889676094056 - Accuracy: 0.6869565217391305 - Precision: 0.7068415695344167 - Recall: 0.6869565217391305 - F1: 0.6865186805947675\n",
      "Epoch: 121 - Loss: 1.0709513028462727 - Accuracy: 0.6869565217391305 - Precision: 0.7094858136108858 - Recall: 0.6869565217391305 - F1: 0.6863541168975952\n",
      "Epoch: 122 - Loss: 1.0917633573214214 - Accuracy: 0.6956521739130435 - Precision: 0.7155420269305263 - Recall: 0.6956521739130435 - F1: 0.6940633595016483\n",
      "Epoch: 123 - Loss: 1.0914988239606223 - Accuracy: 0.6956521739130435 - Precision: 0.7104216435738174 - Recall: 0.6956521739130435 - F1: 0.6930258623600607\n",
      "Epoch: 124 - Loss: 1.0740042646725974 - Accuracy: 0.6956521739130435 - Precision: 0.7155420269305263 - Recall: 0.6956521739130435 - F1: 0.6940633595016483\n",
      "Epoch: 125 - Loss: 1.0769859035809835 - Accuracy: 0.6956521739130435 - Precision: 0.7215093655065605 - Recall: 0.6956521739130435 - F1: 0.6946302131715875\n",
      "Epoch: 126 - Loss: 1.0741311232248942 - Accuracy: 0.6869565217391305 - Precision: 0.7068415695344167 - Recall: 0.6869565217391305 - F1: 0.6865186805947675\n",
      "Epoch: 127 - Loss: 1.079936675230662 - Accuracy: 0.6869565217391305 - Precision: 0.7094858136108858 - Recall: 0.6869565217391305 - F1: 0.6863541168975952\n",
      "Epoch: 128 - Loss: 1.0845897316932678 - Accuracy: 0.6869565217391305 - Precision: 0.7094858136108858 - Recall: 0.6869565217391305 - F1: 0.6863541168975952\n",
      "Epoch: 129 - Loss: 1.081283454100291 - Accuracy: 0.6869565217391305 - Precision: 0.7094858136108858 - Recall: 0.6869565217391305 - F1: 0.6863541168975952\n",
      "Epoch: 130 - Loss: 1.083197303613027 - Accuracy: 0.6956521739130435 - Precision: 0.7215093655065605 - Recall: 0.6956521739130435 - F1: 0.6946302131715875\n",
      "Epoch: 131 - Loss: 1.0619650681813557 - Accuracy: 0.6956521739130435 - Precision: 0.7155420269305263 - Recall: 0.6956521739130435 - F1: 0.6940633595016483\n",
      "Epoch: 132 - Loss: 1.071961255868276 - Accuracy: 0.6956521739130435 - Precision: 0.7155420269305263 - Recall: 0.6956521739130435 - F1: 0.6940633595016483\n",
      "Epoch: 133 - Loss: 1.0736500819524128 - Accuracy: 0.6956521739130435 - Precision: 0.7104216435738174 - Recall: 0.6956521739130435 - F1: 0.6930258623600607\n",
      "Epoch: 134 - Loss: 1.0728419820467632 - Accuracy: 0.6956521739130435 - Precision: 0.7076881622214103 - Recall: 0.6956521739130435 - F1: 0.6932257711469261\n",
      "Epoch: 135 - Loss: 1.0769776423772177 - Accuracy: 0.6956521739130435 - Precision: 0.7215093655065605 - Recall: 0.6956521739130435 - F1: 0.6946302131715875\n",
      "Epoch: 136 - Loss: 1.088017964363098 - Accuracy: 0.7043478260869566 - Precision: 0.7182859883083668 - Recall: 0.7043478260869566 - F1: 0.7027787411408023\n",
      "Epoch: 137 - Loss: 1.0875733097394307 - Accuracy: 0.6956521739130435 - Precision: 0.7155420269305263 - Recall: 0.6956521739130435 - F1: 0.6940633595016483\n",
      "Epoch: 138 - Loss: 1.070674216747284 - Accuracy: 0.6956521739130435 - Precision: 0.7155420269305263 - Recall: 0.6956521739130435 - F1: 0.6940633595016483\n",
      "Epoch: 139 - Loss: 1.0715431332588197 - Accuracy: 0.7043478260869566 - Precision: 0.721019469660774 - Recall: 0.7043478260869566 - F1: 0.702578832353937\n",
      "Epoch: 140 - Loss: 1.0750009457270304 - Accuracy: 0.7043478260869566 - Precision: 0.7182859883083668 - Recall: 0.7043478260869566 - F1: 0.7027787411408023\n",
      "Epoch: 141 - Loss: 1.0583081285158793 - Accuracy: 0.7043478260869566 - Precision: 0.7182859883083668 - Recall: 0.7043478260869566 - F1: 0.7027787411408023\n",
      "Epoch: 142 - Loss: 1.0716445406277975 - Accuracy: 0.7043478260869566 - Precision: 0.7182859883083668 - Recall: 0.7043478260869566 - F1: 0.7027787411408023\n",
      "Epoch: 143 - Loss: 1.0693996747334797 - Accuracy: 0.7043478260869566 - Precision: 0.7177851304705524 - Recall: 0.7043478260869566 - F1: 0.7020125829266955\n",
      "Epoch: 144 - Loss: 1.0698758006095885 - Accuracy: 0.7043478260869566 - Precision: 0.7182859883083668 - Recall: 0.7043478260869566 - F1: 0.7027787411408023\n",
      "Epoch: 145 - Loss: 1.063764993349711 - Accuracy: 0.7043478260869566 - Precision: 0.7182859883083668 - Recall: 0.7043478260869566 - F1: 0.7027787411408023\n",
      "Epoch: 146 - Loss: 1.0697913328806559 - Accuracy: 0.7043478260869566 - Precision: 0.7182859883083668 - Recall: 0.7043478260869566 - F1: 0.7027787411408023\n",
      "Epoch: 147 - Loss: 1.0613511721293132 - Accuracy: 0.7043478260869566 - Precision: 0.721019469660774 - Recall: 0.7043478260869566 - F1: 0.702578832353937\n",
      "Epoch: 148 - Loss: 1.056620681285858 - Accuracy: 0.7043478260869566 - Precision: 0.721019469660774 - Recall: 0.7043478260869566 - F1: 0.702578832353937\n",
      "Epoch: 149 - Loss: 1.0875524202982585 - Accuracy: 0.7043478260869566 - Precision: 0.721019469660774 - Recall: 0.7043478260869566 - F1: 0.702578832353937\n",
      "Epoch: 150 - Loss: 1.0585190018018087 - Accuracy: 0.7043478260869566 - Precision: 0.721019469660774 - Recall: 0.7043478260869566 - F1: 0.702578832353937\n",
      "Epoch: 151 - Loss: 1.0678383310635884 - Accuracy: 0.7043478260869566 - Precision: 0.721019469660774 - Recall: 0.7043478260869566 - F1: 0.702578832353937\n",
      "Epoch: 152 - Loss: 1.0681716720263164 - Accuracy: 0.7043478260869566 - Precision: 0.7226879631451243 - Recall: 0.7043478260869566 - F1: 0.7030841978182615\n",
      "Epoch: 153 - Loss: 1.0803319692611695 - Accuracy: 0.7043478260869566 - Precision: 0.7226879631451243 - Recall: 0.7043478260869566 - F1: 0.7030841978182615\n",
      "Epoch: 154 - Loss: 1.0592901746431986 - Accuracy: 0.7043478260869566 - Precision: 0.7226879631451243 - Recall: 0.7043478260869566 - F1: 0.7030841978182615\n",
      "Epoch: 155 - Loss: 1.0674117445945739 - Accuracy: 0.7043478260869566 - Precision: 0.721019469660774 - Recall: 0.7043478260869566 - F1: 0.702578832353937\n",
      "Epoch: 156 - Loss: 1.0682354847590128 - Accuracy: 0.7043478260869566 - Precision: 0.7226879631451243 - Recall: 0.7043478260869566 - F1: 0.7030841978182615\n",
      "Epoch: 157 - Loss: 1.0675912141799926 - Accuracy: 0.7043478260869566 - Precision: 0.7226879631451243 - Recall: 0.7043478260869566 - F1: 0.7030841978182615\n",
      "Epoch: 158 - Loss: 1.0657925208409627 - Accuracy: 0.7043478260869566 - Precision: 0.7226879631451243 - Recall: 0.7043478260869566 - F1: 0.7030841978182615\n",
      "Epoch: 159 - Loss: 1.0536868214607238 - Accuracy: 0.7043478260869566 - Precision: 0.7226879631451243 - Recall: 0.7043478260869566 - F1: 0.7030841978182615\n",
      "Epoch: 160 - Loss: 1.0567054152488708 - Accuracy: 0.7043478260869566 - Precision: 0.7182859883083668 - Recall: 0.7043478260869566 - F1: 0.7027787411408023\n",
      "Epoch: 161 - Loss: 1.0774191260337829 - Accuracy: 0.7043478260869566 - Precision: 0.7226879631451243 - Recall: 0.7043478260869566 - F1: 0.7030841978182615\n",
      "Epoch: 162 - Loss: 1.0667913873990378 - Accuracy: 0.7043478260869566 - Precision: 0.7182859883083668 - Recall: 0.7043478260869566 - F1: 0.7027787411408023\n",
      "Epoch: 163 - Loss: 1.0653183817863465 - Accuracy: 0.7043478260869566 - Precision: 0.7226879631451243 - Recall: 0.7043478260869566 - F1: 0.7030841978182615\n",
      "Epoch: 164 - Loss: 1.0672703464825948 - Accuracy: 0.7043478260869566 - Precision: 0.721019469660774 - Recall: 0.7043478260869566 - F1: 0.702578832353937\n",
      "Epoch: 165 - Loss: 1.0797630588213603 - Accuracy: 0.7043478260869566 - Precision: 0.7177851304705524 - Recall: 0.7043478260869566 - F1: 0.7020125829266955\n",
      "Epoch: 166 - Loss: 1.0542593002319336 - Accuracy: 0.7043478260869566 - Precision: 0.7182859883083668 - Recall: 0.7043478260869566 - F1: 0.7027787411408023\n",
      "Epoch: 167 - Loss: 1.0769367297490438 - Accuracy: 0.7043478260869566 - Precision: 0.7182859883083668 - Recall: 0.7043478260869566 - F1: 0.7027787411408023\n",
      "Epoch: 168 - Loss: 1.0657705068588257 - Accuracy: 0.7043478260869566 - Precision: 0.7226879631451243 - Recall: 0.7043478260869566 - F1: 0.7030841978182615\n",
      "Epoch: 169 - Loss: 1.0559327801068623 - Accuracy: 0.7043478260869566 - Precision: 0.7226879631451243 - Recall: 0.7043478260869566 - F1: 0.7030841978182615\n",
      "Epoch: 170 - Loss: 1.0653744657834372 - Accuracy: 0.7043478260869566 - Precision: 0.7226879631451243 - Recall: 0.7043478260869566 - F1: 0.7030841978182615\n",
      "Epoch: 171 - Loss: 1.0657332380612692 - Accuracy: 0.7043478260869566 - Precision: 0.7182859883083668 - Recall: 0.7043478260869566 - F1: 0.7027787411408023\n",
      "Epoch: 172 - Loss: 1.0779051462809244 - Accuracy: 0.7043478260869566 - Precision: 0.7182859883083668 - Recall: 0.7043478260869566 - F1: 0.7027787411408023\n",
      "Epoch: 173 - Loss: 1.0798634966214498 - Accuracy: 0.7043478260869566 - Precision: 0.7182859883083668 - Recall: 0.7043478260869566 - F1: 0.7027787411408023\n",
      "Epoch: 174 - Loss: 1.0509570916493733 - Accuracy: 0.7043478260869566 - Precision: 0.7182859883083668 - Recall: 0.7043478260869566 - F1: 0.7027787411408023\n",
      "Epoch: 175 - Loss: 1.078177817662557 - Accuracy: 0.7043478260869566 - Precision: 0.721019469660774 - Recall: 0.7043478260869566 - F1: 0.702578832353937\n",
      "Epoch: 176 - Loss: 1.0625389377276102 - Accuracy: 0.7043478260869566 - Precision: 0.721019469660774 - Recall: 0.7043478260869566 - F1: 0.702578832353937\n",
      "Epoch: 177 - Loss: 1.0625872929890952 - Accuracy: 0.7043478260869566 - Precision: 0.7182859883083668 - Recall: 0.7043478260869566 - F1: 0.7027787411408023\n",
      "Epoch: 178 - Loss: 1.0874223351478576 - Accuracy: 0.7043478260869566 - Precision: 0.7182859883083668 - Recall: 0.7043478260869566 - F1: 0.7027787411408023\n",
      "Epoch: 179 - Loss: 1.0631483475367227 - Accuracy: 0.7043478260869566 - Precision: 0.7226879631451243 - Recall: 0.7043478260869566 - F1: 0.7030841978182615\n",
      "Epoch: 180 - Loss: 1.06285427014033 - Accuracy: 0.7043478260869566 - Precision: 0.7226879631451243 - Recall: 0.7043478260869566 - F1: 0.7030841978182615\n",
      "Epoch: 181 - Loss: 1.0613864342371622 - Accuracy: 0.7043478260869566 - Precision: 0.7182859883083668 - Recall: 0.7043478260869566 - F1: 0.7027787411408023\n",
      "Epoch: 182 - Loss: 1.0756107727686564 - Accuracy: 0.7043478260869566 - Precision: 0.7226879631451243 - Recall: 0.7043478260869566 - F1: 0.7030841978182615\n",
      "Epoch: 183 - Loss: 1.0507927378018698 - Accuracy: 0.7043478260869566 - Precision: 0.7226879631451243 - Recall: 0.7043478260869566 - F1: 0.7030841978182615\n",
      "Epoch: 184 - Loss: 1.062571636835734 - Accuracy: 0.7043478260869566 - Precision: 0.7177851304705524 - Recall: 0.7043478260869566 - F1: 0.7020125829266955\n",
      "Epoch: 185 - Loss: 1.0498966296513876 - Accuracy: 0.7043478260869566 - Precision: 0.7177851304705524 - Recall: 0.7043478260869566 - F1: 0.7020125829266955\n",
      "Epoch: 186 - Loss: 1.054630740483602 - Accuracy: 0.7043478260869566 - Precision: 0.7182859883083668 - Recall: 0.7043478260869566 - F1: 0.7027787411408023\n",
      "Epoch: 187 - Loss: 1.0515660524368287 - Accuracy: 0.7043478260869566 - Precision: 0.7182859883083668 - Recall: 0.7043478260869566 - F1: 0.7027787411408023\n",
      "Epoch: 188 - Loss: 1.0521079818407695 - Accuracy: 0.7043478260869566 - Precision: 0.7226879631451243 - Recall: 0.7043478260869566 - F1: 0.7030841978182615\n",
      "Epoch: 189 - Loss: 1.0637293179829916 - Accuracy: 0.7043478260869566 - Precision: 0.7226879631451243 - Recall: 0.7043478260869566 - F1: 0.7030841978182615\n",
      "Epoch: 190 - Loss: 1.0618556539217632 - Accuracy: 0.7043478260869566 - Precision: 0.7182859883083668 - Recall: 0.7043478260869566 - F1: 0.7027787411408023\n",
      "Epoch: 191 - Loss: 1.0474002281824748 - Accuracy: 0.7043478260869566 - Precision: 0.7226879631451243 - Recall: 0.7043478260869566 - F1: 0.7030841978182615\n",
      "Epoch: 192 - Loss: 1.0731893062591553 - Accuracy: 0.7043478260869566 - Precision: 0.7226879631451243 - Recall: 0.7043478260869566 - F1: 0.7030841978182615\n",
      "Epoch: 193 - Loss: 1.0611661593119304 - Accuracy: 0.7043478260869566 - Precision: 0.7226879631451243 - Recall: 0.7043478260869566 - F1: 0.7030841978182615\n",
      "Epoch: 194 - Loss: 1.0600964148839316 - Accuracy: 0.7043478260869566 - Precision: 0.7226879631451243 - Recall: 0.7043478260869566 - F1: 0.7030841978182615\n",
      "Epoch: 195 - Loss: 1.0574320991834005 - Accuracy: 0.7043478260869566 - Precision: 0.7226879631451243 - Recall: 0.7043478260869566 - F1: 0.7030841978182615\n",
      "Epoch: 196 - Loss: 1.0730265339215597 - Accuracy: 0.7043478260869566 - Precision: 0.7226879631451243 - Recall: 0.7043478260869566 - F1: 0.7030841978182615\n",
      "Epoch: 197 - Loss: 1.0612185835838317 - Accuracy: 0.7043478260869566 - Precision: 0.7182859883083668 - Recall: 0.7043478260869566 - F1: 0.7027787411408023\n",
      "Epoch: 198 - Loss: 1.072844096024831 - Accuracy: 0.7043478260869566 - Precision: 0.7226879631451243 - Recall: 0.7043478260869566 - F1: 0.7030841978182615\n",
      "Epoch: 199 - Loss: 1.0609331091245016 - Accuracy: 0.7043478260869566 - Precision: 0.7177851304705524 - Recall: 0.7043478260869566 - F1: 0.7020125829266955\n",
      "Epoch: 200 - Loss: 1.0729592283566793 - Accuracy: 0.7043478260869566 - Precision: 0.7226879631451243 - Recall: 0.7043478260869566 - F1: 0.7030841978182615\n"
     ]
    }
   ],
   "source": [
    "for epoch in range(EPOCHS):\n",
    "  model.train()\n",
    "  running_loss = 0.0\n",
    "\n",
    "  labels_list = []\n",
    "  preds_list = []\n",
    "\n",
    "  for (x, y) in train_loader:\n",
    "    x, y = x.to(DEVICE), y.to(DEVICE)\n",
    "\n",
    "    yhat = model(x)\n",
    "\n",
    "    labels_list.extend(y.cpu())\n",
    "    preds_list.extend(yhat.argmax(1).cpu())\n",
    "\n",
    "    loss = loss_fn(yhat, y)\n",
    "    optimizer.zero_grad()\n",
    "    loss.backward()\n",
    "    optimizer.step()\n",
    "\n",
    "    running_loss += loss.item()\n",
    "\n",
    "  avg_loss = running_loss / len(train_loader)\n",
    "  loss_list.append(avg_loss)\n",
    "\n",
    "  acc = accuracy_score(labels_list, preds_list)\n",
    "  pre = precision_score(labels_list, preds_list, average='weighted')\n",
    "  rec = recall_score(labels_list, preds_list, average='weighted')\n",
    "  f1 = f1_score(labels_list, preds_list, average='weighted')\n",
    "\n",
    "  acc_list.append(acc)\n",
    "  precision_list.append(pre)\n",
    "  recall_list.append(rec)\n",
    "  f1_list.append(f1)\n",
    "\n",
    "  writer.add_scalar(\"Train/Loss\", avg_loss, epoch)\n",
    "  writer.add_scalar(\"Train/Accuracy\", acc, epoch)\n",
    "  writer.add_scalar(\"Train/Precision\", pre, epoch)\n",
    "  writer.add_scalar(\"Train/Recall\", rec, epoch)\n",
    "  writer.add_scalar(\"Train/F1\", f1, epoch)\n",
    "\n",
    "  print(f\"Epoch: {epoch + 1} - Loss: {avg_loss} - Accuracy: {acc} - Precision: {pre} - Recall: {rec} - F1: {f1}\")"
   ]
  },
  {
   "cell_type": "code",
   "execution_count": 19,
   "metadata": {
    "colab": {
     "base_uri": "https://localhost:8080/",
     "height": 472
    },
    "execution": {
     "iopub.execute_input": "2024-02-26T13:26:29.236993Z",
     "iopub.status.busy": "2024-02-26T13:26:29.236652Z",
     "iopub.status.idle": "2024-02-26T13:26:29.581790Z",
     "shell.execute_reply": "2024-02-26T13:26:29.581317Z",
     "shell.execute_reply.started": "2024-02-26T13:26:29.236976Z"
    },
    "id": "HNfMmm0lvkAl",
    "outputId": "5a2e3222-38f8-4765-a03d-ff8ae3aec72f"
   },
   "outputs": [
    {
     "data": {
      "image/png": "[encoded data removed]",
      "text/plain": [
       "<Figure size 640x480 with 1 Axes>"
      ]
     },
     "metadata": {},
     "output_type": "display_data"
    }
   ],
   "source": [
    "plt.title(\"Loss History\")\n",
    "plt.plot(range(EPOCHS), loss_list)\n",
    "plt.xlabel(\"Epochs\")\n",
    "plt.ylabel(\"Loss Value\")\n",
    "plt.savefig(\"figures/train_loss_history_mlp_sgd.pdf\", bbox_inches=\"tight\")\n",
    "plt.show()"
   ]
  },
  {
   "cell_type": "code",
   "execution_count": 20,
   "metadata": {
    "colab": {
     "base_uri": "https://localhost:8080/",
     "height": 472
    },
    "execution": {
     "iopub.execute_input": "2024-02-26T13:26:56.008655Z",
     "iopub.status.busy": "2024-02-26T13:26:56.008130Z",
     "iopub.status.idle": "2024-02-26T13:26:56.324486Z",
     "shell.execute_reply": "2024-02-26T13:26:56.323932Z",
     "shell.execute_reply.started": "2024-02-26T13:26:56.008621Z"
    },
    "id": "tvBWlTRuw95F",
    "outputId": "b70597d0-8120-43c2-ea62-12bcd2bcb300"
   },
   "outputs": [
    {
     "data": {
      "image/png": "[encoded data removed]",
      "text/plain": [
       "<Figure size 640x480 with 1 Axes>"
      ]
     },
     "metadata": {},
     "output_type": "display_data"
    }
   ],
   "source": [
    "plt.title(\"Training Metrics\")\n",
    "plt.plot(range(EPOCHS), acc_list, label=\"Accuracy\")\n",
    "plt.plot(range(EPOCHS), precision_list, label=\"Precision\")\n",
    "plt.plot(range(EPOCHS), recall_list, label=\"Recall\")\n",
    "plt.plot(range(EPOCHS), f1_list, label=\"F1 Score\")\n",
    "plt.legend()\n",
    "plt.xlabel(\"Epochs\")\n",
    "plt.ylabel(\"Metric Value\")\n",
    "plt.savefig(\"figures/train_metrics_mlp_sgd.pdf\", bbox_inches=\"tight\")\n",
    "plt.show()"
   ]
  },
  {
   "cell_type": "code",
   "execution_count": 25,
   "metadata": {
    "colab": {
     "base_uri": "https://localhost:8080/"
    },
    "execution": {
     "iopub.execute_input": "2024-02-26T13:28:05.395711Z",
     "iopub.status.busy": "2024-02-26T13:28:05.395365Z",
     "iopub.status.idle": "2024-02-26T13:28:05.401779Z",
     "shell.execute_reply": "2024-02-26T13:28:05.400996Z",
     "shell.execute_reply.started": "2024-02-26T13:28:05.395690Z"
    },
    "id": "iIXzx3y1xryb",
    "outputId": "606ac77c-6f26-4f2d-ecf5-ee49714f775d"
   },
   "outputs": [
    {
     "name": "stdout",
     "output_type": "stream",
     "text": [
      "Mean Training Accuracy: 0.6625652173913043\n",
      "Mean Training Precision: 0.6911504166513684\n",
      "Mean Training Recall: 0.6625652173913043\n",
      "Mean Training F1 Score: 0.65727885650852\n"
     ]
    }
   ],
   "source": [
    "print(f\"Mean Training Accuracy: {np.array(acc_list).mean()}\")\n",
    "print(f\"Mean Training Precision: {np.array(precision_list).mean()}\")\n",
    "print(f\"Mean Training Recall: {np.array(recall_list).mean()}\")\n",
    "print(f\"Mean Training F1 Score: {np.array(f1_list).mean()}\")\n",
    "\n",
    "writer.add_scalar(\"Train/Mean Accuracy\", np.array(acc_list).mean(), 0)\n",
    "writer.add_scalar(\"Train/Mean Precision\", np.array(precision_list).mean(), 0)\n",
    "writer.add_scalar(\"Train/Mean Recall\", np.array(recall_list).mean(), 0)\n",
    "writer.add_scalar(\"Train/Mean F1 Score\", np.array(f1_list).mean(), 0)"
   ]
  },
  {
   "cell_type": "code",
   "execution_count": 26,
   "metadata": {
    "execution": {
     "iopub.execute_input": "2024-02-26T13:28:08.585091Z",
     "iopub.status.busy": "2024-02-26T13:28:08.584909Z",
     "iopub.status.idle": "2024-02-26T13:28:08.587612Z",
     "shell.execute_reply": "2024-02-26T13:28:08.587185Z",
     "shell.execute_reply.started": "2024-02-26T13:28:08.585077Z"
    },
    "id": "OeA8Ku_n4A_C"
   },
   "outputs": [],
   "source": [
    "loss = 0.0\n",
    "accuracy = 0.0\n",
    "precision = 0.0\n",
    "recall = 0.0\n",
    "f1 = 0.0"
   ]
  },
  {
   "cell_type": "code",
   "execution_count": 27,
   "metadata": {
    "execution": {
     "iopub.execute_input": "2024-02-26T13:28:09.402457Z",
     "iopub.status.busy": "2024-02-26T13:28:09.402042Z",
     "iopub.status.idle": "2024-02-26T13:28:09.412444Z",
     "shell.execute_reply": "2024-02-26T13:28:09.411950Z",
     "shell.execute_reply.started": "2024-02-26T13:28:09.402438Z"
    },
    "id": "9t8DfeRt5Cl7"
   },
   "outputs": [],
   "source": [
    "model.eval()\n",
    "with torch.no_grad():\n",
    "  x = torch.tensor(test_data).type(torch.FloatTensor)\n",
    "  y = torch.tensor(test_labels).type(torch.LongTensor)\n",
    "\n",
    "  yhat = model(x)\n",
    "\n",
    "  yhat = yhat.cpu()\n",
    "  loss = loss_fn(yhat, y)\n",
    "\n",
    "  yhat = yhat.argmax(1)\n",
    "  accuracy = accuracy_score(yhat, y)\n",
    "  precision = precision_score(yhat, y, average='weighted')\n",
    "  recall = recall_score(yhat, y, average='weighted')\n",
    "  f1 = f1_score(yhat, y, average='weighted')"
   ]
  },
  {
   "cell_type": "code",
   "execution_count": 28,
   "metadata": {
    "colab": {
     "base_uri": "https://localhost:8080/"
    },
    "execution": {
     "iopub.execute_input": "2024-02-26T13:28:19.432736Z",
     "iopub.status.busy": "2024-02-26T13:28:19.432487Z",
     "iopub.status.idle": "2024-02-26T13:28:19.436545Z",
     "shell.execute_reply": "2024-02-26T13:28:19.435901Z",
     "shell.execute_reply.started": "2024-02-26T13:28:19.432723Z"
    },
    "id": "XdiAVxPE6Hq7",
    "outputId": "00de1a17-5d1b-4dd6-adb3-b049e8981a46"
   },
   "outputs": [
    {
     "name": "stdout",
     "output_type": "stream",
     "text": [
      "Testing Loss: 1.4111299514770508\n",
      "Testing Accuracy: 0.3448275862068966\n",
      "Testing Precision: 0.3635057471264368\n",
      "Testing Recall: 0.3448275862068966\n",
      "Testing F1 Score: 0.33718912666281087\n"
     ]
    }
   ],
   "source": [
    "print(f\"Testing Loss: {loss}\")\n",
    "print(f\"Testing Accuracy: {accuracy}\")\n",
    "print(f\"Testing Precision: {precision}\")\n",
    "print(f\"Testing Recall: {recall}\")\n",
    "print(f\"Testing F1 Score: {f1}\")\n",
    "\n",
    "writer.add_scalar(\"Test/Loss\", loss, 0)\n",
    "writer.add_scalar(\"Test/Accuracy\", accuracy, 0)\n",
    "writer.add_scalar(\"Test/Precision\", precision, 0)\n",
    "writer.add_scalar(\"Test/Recall\", recall, 0)\n",
    "writer.add_scalar(\"Test/F1 Score\", f1, 0)"
   ]
  },
  {
   "cell_type": "markdown",
   "metadata": {
    "id": "fUaaNvEITrRa"
   },
   "source": [
    "## Adam"
   ]
  },
  {
   "cell_type": "code",
   "execution_count": 29,
   "metadata": {
    "colab": {
     "base_uri": "https://localhost:8080/"
    },
    "execution": {
     "iopub.execute_input": "2024-02-26T13:28:38.171483Z",
     "iopub.status.busy": "2024-02-26T13:28:38.170705Z",
     "iopub.status.idle": "2024-02-26T13:28:38.177548Z",
     "shell.execute_reply": "2024-02-26T13:28:38.175889Z",
     "shell.execute_reply.started": "2024-02-26T13:28:38.171451Z"
    },
    "id": "W1p9mvOQ9QgU",
    "outputId": "989c4b27-fbd7-42cd-a51c-6a013cfb4f4c"
   },
   "outputs": [
    {
     "data": {
      "text/plain": [
       "Model(\n",
       "  (dense): Linear(in_features=1440, out_features=4, bias=True)\n",
       "  (softmax): Softmax(dim=1)\n",
       ")"
      ]
     },
     "execution_count": 29,
     "metadata": {},
     "output_type": "execute_result"
    }
   ],
   "source": [
    "model = Model()\n",
    "model = model.to(DEVICE)\n",
    "model"
   ]
  },
  {
   "cell_type": "code",
   "execution_count": 30,
   "metadata": {
    "execution": {
     "iopub.execute_input": "2024-02-26T13:28:41.190297Z",
     "iopub.status.busy": "2024-02-26T13:28:41.189847Z",
     "iopub.status.idle": "2024-02-26T13:28:41.198145Z",
     "shell.execute_reply": "2024-02-26T13:28:41.197377Z",
     "shell.execute_reply.started": "2024-02-26T13:28:41.190260Z"
    },
    "id": "WNGukkjgTvh_"
   },
   "outputs": [],
   "source": [
    "tb_board = RUNS_PATH + \"mlp_adam\"\n",
    "writer = SummaryWriter(tb_board)"
   ]
  },
  {
   "cell_type": "code",
   "execution_count": 31,
   "metadata": {
    "execution": {
     "iopub.execute_input": "2024-02-26T13:28:42.253999Z",
     "iopub.status.busy": "2024-02-26T13:28:42.253609Z",
     "iopub.status.idle": "2024-02-26T13:28:42.259525Z",
     "shell.execute_reply": "2024-02-26T13:28:42.258534Z",
     "shell.execute_reply.started": "2024-02-26T13:28:42.253967Z"
    },
    "id": "lqdjeybbT1uC"
   },
   "outputs": [],
   "source": [
    "EPOCHS = 200\n",
    "\n",
    "acc_list = []\n",
    "f1_list = []\n",
    "recall_list = []\n",
    "precision_list = []\n",
    "\n",
    "loss_list = []"
   ]
  },
  {
   "cell_type": "code",
   "execution_count": 32,
   "metadata": {
    "execution": {
     "iopub.execute_input": "2024-02-26T13:28:42.933822Z",
     "iopub.status.busy": "2024-02-26T13:28:42.933423Z",
     "iopub.status.idle": "2024-02-26T13:28:42.940395Z",
     "shell.execute_reply": "2024-02-26T13:28:42.939538Z",
     "shell.execute_reply.started": "2024-02-26T13:28:42.933790Z"
    },
    "id": "6mr98GaDT2Pt"
   },
   "outputs": [],
   "source": [
    "loss_fn = nn.CrossEntropyLoss()\n",
    "optimizer = optim.Adam(model.parameters(), lr=1e-3)"
   ]
  },
  {
   "cell_type": "code",
   "execution_count": 33,
   "metadata": {
    "colab": {
     "base_uri": "https://localhost:8080/"
    },
    "execution": {
     "iopub.execute_input": "2024-02-26T13:29:04.650690Z",
     "iopub.status.busy": "2024-02-26T13:29:04.650438Z",
     "iopub.status.idle": "2024-02-26T13:29:12.370983Z",
     "shell.execute_reply": "2024-02-26T13:29:12.370347Z",
     "shell.execute_reply.started": "2024-02-26T13:29:04.650670Z"
    },
    "id": "fp9urDtST52H",
    "outputId": "0a23f1c9-6005-49f6-f979-4855e381d68f",
    "scrolled": true
   },
   "outputs": [
    {
     "name": "stdout",
     "output_type": "stream",
     "text": [
      "Epoch: 1 - Loss: 1.4111050685246787 - Accuracy: 0.25217391304347825 - Precision: 0.26359356585443544 - Recall: 0.25217391304347825 - F1: 0.2569444131373994\n",
      "Epoch: 2 - Loss: 1.298590032259623 - Accuracy: 0.40869565217391307 - Precision: 0.4200445134575569 - Recall: 0.40869565217391307 - F1: 0.4026189689379454\n",
      "Epoch: 3 - Loss: 1.2564824024836223 - Accuracy: 0.46956521739130436 - Precision: 0.5248128682911292 - Recall: 0.46956521739130436 - F1: 0.44748702319158057\n",
      "Epoch: 4 - Loss: 1.2409767945607504 - Accuracy: 0.46956521739130436 - Precision: 0.5152549782330983 - Recall: 0.46956521739130436 - F1: 0.47196497612778837\n",
      "Epoch: 5 - Loss: 1.2296745459238687 - Accuracy: 0.5391304347826087 - Precision: 0.5917967267834943 - Recall: 0.5391304347826087 - F1: 0.551408171964438\n",
      "Epoch: 6 - Loss: 1.1725375771522522 - Accuracy: 0.5739130434782609 - Precision: 0.6121814092953524 - Recall: 0.5739130434782609 - F1: 0.5829886737303617\n",
      "Epoch: 7 - Loss: 1.174102512995402 - Accuracy: 0.591304347826087 - Precision: 0.614796633941094 - Recall: 0.591304347826087 - F1: 0.5921623923061511\n",
      "Epoch: 8 - Loss: 1.150702162583669 - Accuracy: 0.5826086956521739 - Precision: 0.6041711229946525 - Recall: 0.5826086956521739 - F1: 0.5803619442938914\n",
      "Epoch: 9 - Loss: 1.156986685593923 - Accuracy: 0.6086956521739131 - Precision: 0.6368478260869564 - Recall: 0.6086956521739131 - F1: 0.6114100729157127\n",
      "Epoch: 10 - Loss: 1.1433887441953023 - Accuracy: 0.6086956521739131 - Precision: 0.6335835058661146 - Recall: 0.6086956521739131 - F1: 0.6147429223108773\n",
      "Epoch: 11 - Loss: 1.1366414070129394 - Accuracy: 0.6086956521739131 - Precision: 0.6353919631093545 - Recall: 0.6086956521739131 - F1: 0.6105866114561765\n",
      "Epoch: 12 - Loss: 1.1377873341242473 - Accuracy: 0.6086956521739131 - Precision: 0.6272798490189794 - Recall: 0.6086956521739131 - F1: 0.6090465615886372\n",
      "Epoch: 13 - Loss: 1.1436456163724265 - Accuracy: 0.6086956521739131 - Precision: 0.6306102437378734 - Recall: 0.6086956521739131 - F1: 0.6102821745809123\n",
      "Epoch: 14 - Loss: 1.1071658690770467 - Accuracy: 0.6260869565217392 - Precision: 0.6420289855072464 - Recall: 0.6260869565217392 - F1: 0.6208664417791104\n",
      "Epoch: 15 - Loss: 1.123924179871877 - Accuracy: 0.6173913043478261 - Precision: 0.6352941176470589 - Recall: 0.6173913043478261 - F1: 0.6214759085916465\n",
      "Epoch: 16 - Loss: 1.1286884029706319 - Accuracy: 0.6347826086956522 - Precision: 0.6742136074819732 - Recall: 0.6347826086956522 - F1: 0.638876880345406\n",
      "Epoch: 17 - Loss: 1.1164148449897766 - Accuracy: 0.6521739130434783 - Precision: 0.6844319775596073 - Recall: 0.6521739130434783 - F1: 0.6480281820710114\n",
      "Epoch: 18 - Loss: 1.1029436429341635 - Accuracy: 0.6521739130434783 - Precision: 0.6806641716616141 - Recall: 0.6521739130434783 - F1: 0.6556437387439278\n",
      "Epoch: 19 - Loss: 1.1266767462094625 - Accuracy: 0.6347826086956522 - Precision: 0.6646352454025088 - Recall: 0.6347826086956522 - F1: 0.6251702159266186\n",
      "Epoch: 20 - Loss: 1.119545841217041 - Accuracy: 0.6521739130434783 - Precision: 0.6827163905424776 - Recall: 0.6521739130434783 - F1: 0.6552565896611265\n",
      "Epoch: 21 - Loss: 1.1188323974609375 - Accuracy: 0.6521739130434783 - Precision: 0.6746507677783976 - Recall: 0.6521739130434783 - F1: 0.6537268649225171\n",
      "Epoch: 22 - Loss: 1.1030645052591959 - Accuracy: 0.6347826086956522 - Precision: 0.6657256169212692 - Recall: 0.6347826086956522 - F1: 0.6413874636180875\n",
      "Epoch: 23 - Loss: 1.1017242511113485 - Accuracy: 0.6695652173913044 - Precision: 0.696643002449454 - Recall: 0.6695652173913044 - F1: 0.6705980968250083\n",
      "Epoch: 24 - Loss: 1.0934581677118937 - Accuracy: 0.6608695652173913 - Precision: 0.6756346069389547 - Recall: 0.6608695652173913 - F1: 0.6544044179162225\n",
      "Epoch: 25 - Loss: 1.099753733476003 - Accuracy: 0.6521739130434783 - Precision: 0.6670198319015455 - Recall: 0.6521739130434783 - F1: 0.6509395993090275\n",
      "Epoch: 26 - Loss: 1.1271281878153483 - Accuracy: 0.6434782608695652 - Precision: 0.6663319452641703 - Recall: 0.6434782608695652 - F1: 0.6457383159676584\n",
      "Epoch: 27 - Loss: 1.1274370630582173 - Accuracy: 0.6434782608695652 - Precision: 0.6579228380315335 - Recall: 0.6434782608695652 - F1: 0.6419669841985454\n",
      "Epoch: 28 - Loss: 1.0973997155825297 - Accuracy: 0.6347826086956522 - Precision: 0.6510385181740681 - Recall: 0.6347826086956522 - F1: 0.6332930557053978\n",
      "Epoch: 29 - Loss: 1.1011889735857645 - Accuracy: 0.6695652173913044 - Precision: 0.695495558386409 - Recall: 0.6695652173913044 - F1: 0.6713627435366566\n",
      "Epoch: 30 - Loss: 1.095908772945404 - Accuracy: 0.6608695652173913 - Precision: 0.679631093544137 - Recall: 0.6608695652173913 - F1: 0.6565315801415614\n",
      "Epoch: 31 - Loss: 1.0898649573326111 - Accuracy: 0.6434782608695652 - Precision: 0.6589363354037266 - Recall: 0.6434782608695652 - F1: 0.6440171463563994\n",
      "Epoch: 32 - Loss: 1.0862417022387187 - Accuracy: 0.6782608695652174 - Precision: 0.6994635035939384 - Recall: 0.6782608695652174 - F1: 0.6757069939095671\n",
      "Epoch: 33 - Loss: 1.091464908917745 - Accuracy: 0.6608695652173913 - Precision: 0.6812296942188246 - Recall: 0.6608695652173913 - F1: 0.6618460411489434\n",
      "Epoch: 34 - Loss: 1.100039823849996 - Accuracy: 0.6608695652173913 - Precision: 0.678145352930822 - Recall: 0.6608695652173913 - F1: 0.660578865496829\n",
      "Epoch: 35 - Loss: 1.0979873021443685 - Accuracy: 0.6434782608695652 - Precision: 0.6498063573255388 - Recall: 0.6434782608695652 - F1: 0.6417408979196577\n",
      "Epoch: 36 - Loss: 1.0856946945190429 - Accuracy: 0.6956521739130435 - Precision: 0.7166292267257534 - Recall: 0.6956521739130435 - F1: 0.6980082151437651\n",
      "Epoch: 37 - Loss: 1.0758439977963765 - Accuracy: 0.6782608695652174 - Precision: 0.69776773950687 - Recall: 0.6782608695652174 - F1: 0.6777614509893268\n",
      "Epoch: 38 - Loss: 1.0669917464256287 - Accuracy: 0.6956521739130435 - Precision: 0.7098188405797101 - Recall: 0.6956521739130435 - F1: 0.6961984773234324\n",
      "Epoch: 39 - Loss: 1.0649564504623412 - Accuracy: 0.6869565217391305 - Precision: 0.7080361709901353 - Recall: 0.6869565217391305 - F1: 0.6892120225552609\n",
      "Epoch: 40 - Loss: 1.0689669132232666 - Accuracy: 0.6956521739130435 - Precision: 0.7141377420533431 - Recall: 0.6956521739130435 - F1: 0.6968375735307762\n",
      "Epoch: 41 - Loss: 1.0685742815335593 - Accuracy: 0.6869565217391305 - Precision: 0.6985115207941296 - Recall: 0.6869565217391305 - F1: 0.6847840785489606\n",
      "Epoch: 42 - Loss: 1.099113667011261 - Accuracy: 0.6956521739130435 - Precision: 0.7206765658939572 - Recall: 0.6956521739130435 - F1: 0.6986009834390967\n",
      "Epoch: 43 - Loss: 1.0832161943117777 - Accuracy: 0.6956521739130435 - Precision: 0.7112205508944639 - Recall: 0.6956521739130435 - F1: 0.6951101655054824\n",
      "Epoch: 44 - Loss: 1.0741234262784323 - Accuracy: 0.6956521739130435 - Precision: 0.7141377420533431 - Recall: 0.6956521739130435 - F1: 0.6968375735307762\n",
      "Epoch: 45 - Loss: 1.067454461256663 - Accuracy: 0.6869565217391305 - Precision: 0.7067741542619852 - Recall: 0.6869565217391305 - F1: 0.6877195052405956\n",
      "Epoch: 46 - Loss: 1.06601748863856 - Accuracy: 0.6956521739130435 - Precision: 0.7217050298380222 - Recall: 0.6956521739130435 - F1: 0.6990140811565436\n",
      "Epoch: 47 - Loss: 1.0643510182698568 - Accuracy: 0.7043478260869566 - Precision: 0.7296640316205533 - Recall: 0.7043478260869566 - F1: 0.7083829104863595\n",
      "Epoch: 48 - Loss: 1.0572336554527282 - Accuracy: 0.6956521739130435 - Precision: 0.7105822566180623 - Recall: 0.6956521739130435 - F1: 0.6961386439647309\n",
      "Epoch: 49 - Loss: 1.095834732055664 - Accuracy: 0.6956521739130435 - Precision: 0.715516694756444 - Recall: 0.6956521739130435 - F1: 0.6994690533521118\n",
      "Epoch: 50 - Loss: 1.0658982157707215 - Accuracy: 0.6956521739130435 - Precision: 0.7170133872549537 - Recall: 0.6956521739130435 - F1: 0.697072491422273\n",
      "Epoch: 51 - Loss: 1.0608306527137756 - Accuracy: 0.6956521739130435 - Precision: 0.7128317334839074 - Recall: 0.6956521739130435 - F1: 0.6963384146057656\n",
      "Epoch: 52 - Loss: 1.0704267740249633 - Accuracy: 0.7043478260869566 - Precision: 0.7219000564652739 - Recall: 0.7043478260869566 - F1: 0.7063326193550952\n",
      "Epoch: 53 - Loss: 1.0573947429656982 - Accuracy: 0.7043478260869566 - Precision: 0.7208333333333333 - Recall: 0.7043478260869566 - F1: 0.7059171474001588\n",
      "Epoch: 54 - Loss: 1.041751221815745 - Accuracy: 0.7043478260869566 - Precision: 0.7208333333333333 - Recall: 0.7043478260869566 - F1: 0.7059171474001588\n",
      "Epoch: 55 - Loss: 1.0474656581878663 - Accuracy: 0.7043478260869566 - Precision: 0.7208333333333333 - Recall: 0.7043478260869566 - F1: 0.7059171474001588\n",
      "Epoch: 56 - Loss: 1.0695766886075337 - Accuracy: 0.6869565217391305 - Precision: 0.7089300937766412 - Recall: 0.6869565217391305 - F1: 0.6910912652780741\n",
      "Epoch: 57 - Loss: 1.0829525311787924 - Accuracy: 0.6695652173913044 - Precision: 0.6882237708896748 - Recall: 0.6695652173913044 - F1: 0.6690815882381389\n",
      "Epoch: 58 - Loss: 1.0539430300394694 - Accuracy: 0.6869565217391305 - Precision: 0.7064671172286057 - Recall: 0.6869565217391305 - F1: 0.6906401981082287\n",
      "Epoch: 59 - Loss: 1.0466496268908183 - Accuracy: 0.7043478260869566 - Precision: 0.7202821049368365 - Recall: 0.7043478260869566 - F1: 0.7063171355498722\n",
      "Epoch: 60 - Loss: 1.0529012203216552 - Accuracy: 0.7043478260869566 - Precision: 0.7223834988540871 - Recall: 0.7043478260869566 - F1: 0.7061518191952975\n",
      "Epoch: 61 - Loss: 1.0728121678034463 - Accuracy: 0.7130434782608696 - Precision: 0.7371519543258673 - Recall: 0.7130434782608696 - F1: 0.7164296333935627\n",
      "Epoch: 62 - Loss: 1.0377119421958922 - Accuracy: 0.7130434782608696 - Precision: 0.7322591645353794 - Recall: 0.7130434782608696 - F1: 0.7130192961329007\n",
      "Epoch: 63 - Loss: 1.0572117726008097 - Accuracy: 0.7043478260869566 - Precision: 0.7235080988917306 - Recall: 0.7043478260869566 - F1: 0.7069218115434031\n",
      "Epoch: 64 - Loss: 1.0529218872388204 - Accuracy: 0.7043478260869566 - Precision: 0.7223834988540871 - Recall: 0.7043478260869566 - F1: 0.7061518191952975\n",
      "Epoch: 65 - Loss: 1.0526483098665873 - Accuracy: 0.7043478260869566 - Precision: 0.7161715330018276 - Recall: 0.7043478260869566 - F1: 0.7048008041633266\n",
      "Epoch: 66 - Loss: 1.0507885972658793 - Accuracy: 0.7043478260869566 - Precision: 0.7182795698924731 - Recall: 0.7043478260869566 - F1: 0.7057390851707692\n",
      "Epoch: 67 - Loss: 1.056546441713969 - Accuracy: 0.7043478260869566 - Precision: 0.725157668418538 - Recall: 0.7043478260869566 - F1: 0.7047191152487399\n",
      "Epoch: 68 - Loss: 1.0577364484469096 - Accuracy: 0.6782608695652174 - Precision: 0.6970537674885502 - Recall: 0.6782608695652174 - F1: 0.6754864210123678\n",
      "Epoch: 69 - Loss: 1.069720160961151 - Accuracy: 0.6869565217391305 - Precision: 0.7058889531583064 - Recall: 0.6869565217391305 - F1: 0.6771383002753706\n",
      "Epoch: 70 - Loss: 1.0738341609636943 - Accuracy: 0.6782608695652174 - Precision: 0.7115985627309453 - Recall: 0.6782608695652174 - F1: 0.6732120572483974\n",
      "Epoch: 71 - Loss: 1.0448498407999673 - Accuracy: 0.7043478260869566 - Precision: 0.741332778586783 - Recall: 0.7043478260869566 - F1: 0.7048431519152819\n",
      "Epoch: 72 - Loss: 1.0349037647247314 - Accuracy: 0.6956521739130435 - Precision: 0.7102868831129701 - Recall: 0.6956521739130435 - F1: 0.6936524779610952\n",
      "Epoch: 73 - Loss: 1.0737629135449727 - Accuracy: 0.6869565217391305 - Precision: 0.7103923476858063 - Recall: 0.6869565217391305 - F1: 0.6914216089263348\n",
      "Epoch: 74 - Loss: 1.0840592940648397 - Accuracy: 0.6782608695652174 - Precision: 0.6899726161874499 - Recall: 0.6782608695652174 - F1: 0.6752565375588379\n",
      "Epoch: 75 - Loss: 1.070906889438629 - Accuracy: 0.6956521739130435 - Precision: 0.7157405254591955 - Recall: 0.6956521739130435 - F1: 0.6997191846732569\n",
      "Epoch: 76 - Loss: 1.0386757413546244 - Accuracy: 0.7043478260869566 - Precision: 0.7212888955286446 - Recall: 0.7043478260869566 - F1: 0.7066431210165226\n",
      "Epoch: 77 - Loss: 1.0308137694994608 - Accuracy: 0.7130434782608696 - Precision: 0.7323357801618672 - Recall: 0.7130434782608696 - F1: 0.7092558119767096\n",
      "Epoch: 78 - Loss: 1.057552444934845 - Accuracy: 0.7217391304347827 - Precision: 0.7555119444320005 - Recall: 0.7217391304347827 - F1: 0.7218001815031763\n",
      "Epoch: 79 - Loss: 1.03348308801651 - Accuracy: 0.7043478260869566 - Precision: 0.7167760727479398 - Recall: 0.7043478260869566 - F1: 0.7057802870289732\n",
      "Epoch: 80 - Loss: 1.0384761492411296 - Accuracy: 0.7043478260869566 - Precision: 0.7146796511246639 - Recall: 0.7043478260869566 - F1: 0.7021330254418895\n",
      "Epoch: 81 - Loss: 1.0390642921129862 - Accuracy: 0.7217391304347827 - Precision: 0.7423897918213569 - Recall: 0.7217391304347827 - F1: 0.7232210228243937\n",
      "Epoch: 82 - Loss: 1.0598920106887817 - Accuracy: 0.7304347826086957 - Precision: 0.7546207169961507 - Recall: 0.7304347826086957 - F1: 0.7308455886279409\n",
      "Epoch: 83 - Loss: 1.0383933822313944 - Accuracy: 0.7217391304347827 - Precision: 0.7396643783371472 - Recall: 0.7217391304347827 - F1: 0.7224856759936091\n",
      "Epoch: 84 - Loss: 1.018746817111969 - Accuracy: 0.7304347826086957 - Precision: 0.7503359609951475 - Recall: 0.7304347826086957 - F1: 0.7305890759867959\n",
      "Epoch: 85 - Loss: 1.0276927431424459 - Accuracy: 0.7217391304347827 - Precision: 0.7453165522501907 - Recall: 0.7217391304347827 - F1: 0.7236821486954732\n",
      "Epoch: 86 - Loss: 1.039282222588857 - Accuracy: 0.7304347826086957 - Precision: 0.7503181805681599 - Recall: 0.7304347826086957 - F1: 0.7315153372056646\n",
      "Epoch: 87 - Loss: 1.0604062795639038 - Accuracy: 0.6869565217391305 - Precision: 0.7070874582410456 - Recall: 0.6869565217391305 - F1: 0.6820537557308302\n",
      "Epoch: 88 - Loss: 1.0765970865885417 - Accuracy: 0.6869565217391305 - Precision: 0.7150595468754036 - Recall: 0.6869565217391305 - F1: 0.6938939367224267\n",
      "Epoch: 89 - Loss: 1.0578320463498434 - Accuracy: 0.7043478260869566 - Precision: 0.7362492486475656 - Recall: 0.7043478260869566 - F1: 0.7013674980691472\n",
      "Epoch: 90 - Loss: 1.0177967190742492 - Accuracy: 0.7217391304347827 - Precision: 0.7398992962106566 - Recall: 0.7217391304347827 - F1: 0.7226228062439368\n",
      "Epoch: 91 - Loss: 1.0270084261894226 - Accuracy: 0.7304347826086957 - Precision: 0.7503359609951475 - Recall: 0.7304347826086957 - F1: 0.7305890759867959\n",
      "Epoch: 92 - Loss: 1.0185112913449605 - Accuracy: 0.7217391304347827 - Precision: 0.7435024154589371 - Recall: 0.7217391304347827 - F1: 0.7202503404110353\n",
      "Epoch: 93 - Loss: 1.0145803610483806 - Accuracy: 0.7217391304347827 - Precision: 0.7453165522501907 - Recall: 0.7217391304347827 - F1: 0.7236821486954732\n",
      "Epoch: 94 - Loss: 1.0250749945640565 - Accuracy: 0.7217391304347827 - Precision: 0.7419116868958162 - Recall: 0.7217391304347827 - F1: 0.7205195016714192\n",
      "Epoch: 95 - Loss: 1.0153324723243713 - Accuracy: 0.7304347826086957 - Precision: 0.7546207169961507 - Recall: 0.7304347826086957 - F1: 0.7308455886279409\n",
      "Epoch: 96 - Loss: 1.0289637843767803 - Accuracy: 0.7304347826086957 - Precision: 0.7458231382144426 - Recall: 0.7304347826086957 - F1: 0.7297262419992464\n",
      "Epoch: 97 - Loss: 1.0308630307515463 - Accuracy: 0.7217391304347827 - Precision: 0.7379604127046583 - Recall: 0.7217391304347827 - F1: 0.7198468846825273\n",
      "Epoch: 98 - Loss: 1.0512421607971192 - Accuracy: 0.7217391304347827 - Precision: 0.7406767535098531 - Recall: 0.7217391304347827 - F1: 0.7229384138305396\n",
      "Epoch: 99 - Loss: 1.0294746955235798 - Accuracy: 0.7304347826086957 - Precision: 0.7413270907836126 - Recall: 0.7304347826086957 - F1: 0.7287860818573075\n",
      "Epoch: 100 - Loss: 1.0378413756688436 - Accuracy: 0.7130434782608696 - Precision: 0.7219594286915466 - Recall: 0.7130434782608696 - F1: 0.7107539250357933\n",
      "Epoch: 101 - Loss: 1.035553248723348 - Accuracy: 0.7217391304347827 - Precision: 0.750887546422867 - Recall: 0.7217391304347827 - F1: 0.7255865357174667\n",
      "Epoch: 102 - Loss: 1.0092619856198628 - Accuracy: 0.7304347826086957 - Precision: 0.7535066780335322 - Recall: 0.7304347826086957 - F1: 0.731851937908589\n",
      "Epoch: 103 - Loss: 1.021801269054413 - Accuracy: 0.7304347826086957 - Precision: 0.7563147656242285 - Recall: 0.7304347826086957 - F1: 0.7318386354369898\n",
      "Epoch: 104 - Loss: 1.0232138792673746 - Accuracy: 0.7304347826086957 - Precision: 0.7458231382144426 - Recall: 0.7304347826086957 - F1: 0.7297262419992464\n",
      "Epoch: 105 - Loss: 1.0210628191630045 - Accuracy: 0.7304347826086957 - Precision: 0.7475278734044513 - Recall: 0.7304347826086957 - F1: 0.7306023784583952\n",
      "Epoch: 106 - Loss: 1.0336307009061179 - Accuracy: 0.7304347826086957 - Precision: 0.7458231382144426 - Recall: 0.7304347826086957 - F1: 0.7297262419992464\n",
      "Epoch: 107 - Loss: 1.0058952689170837 - Accuracy: 0.7304347826086957 - Precision: 0.7526788448527578 - Recall: 0.7304347826086957 - F1: 0.7315759715183372\n",
      "Epoch: 108 - Loss: 1.0068287213643392 - Accuracy: 0.7304347826086957 - Precision: 0.7452597784119523 - Recall: 0.7304347826086957 - F1: 0.7295427717338138\n",
      "Epoch: 109 - Loss: 1.0229612827301025 - Accuracy: 0.7304347826086957 - Precision: 0.7399751995659924 - Recall: 0.7304347826086957 - F1: 0.7292559334260318\n",
      "Epoch: 110 - Loss: 1.0201354304949442 - Accuracy: 0.7304347826086957 - Precision: 0.7388081121776774 - Recall: 0.7304347826086957 - F1: 0.7288890314201188\n",
      "Epoch: 111 - Loss: 1.032160766919454 - Accuracy: 0.7217391304347827 - Precision: 0.7432256169212691 - Recall: 0.7217391304347827 - F1: 0.7237779904348155\n",
      "Epoch: 112 - Loss: 1.03567879597346 - Accuracy: 0.7304347826086957 - Precision: 0.7458231382144426 - Recall: 0.7304347826086957 - F1: 0.7297262419992464\n",
      "Epoch: 113 - Loss: 1.0227323055267334 - Accuracy: 0.7304347826086957 - Precision: 0.7475278734044513 - Recall: 0.7304347826086957 - F1: 0.7306023784583952\n",
      "Epoch: 114 - Loss: 1.0116472959518432 - Accuracy: 0.7304347826086957 - Precision: 0.7421783985949483 - Recall: 0.7304347826086957 - F1: 0.7294699682818949\n",
      "Epoch: 115 - Loss: 1.0198459227879841 - Accuracy: 0.7304347826086957 - Precision: 0.7525564197373454 - Recall: 0.7304347826086957 - F1: 0.7322445549047107\n",
      "Epoch: 116 - Loss: 1.0193792263666788 - Accuracy: 0.7304347826086957 - Precision: 0.7399751995659924 - Recall: 0.7304347826086957 - F1: 0.7292559334260318\n",
      "Epoch: 117 - Loss: 1.0059264818827311 - Accuracy: 0.7304347826086957 - Precision: 0.7413270907836126 - Recall: 0.7304347826086957 - F1: 0.7287860818573075\n",
      "Epoch: 118 - Loss: 1.0210552215576172 - Accuracy: 0.7304347826086957 - Precision: 0.7589648033126294 - Recall: 0.7304347826086957 - F1: 0.7327398012073907\n",
      "Epoch: 119 - Loss: 1.0316403388977051 - Accuracy: 0.7217391304347827 - Precision: 0.7368122031421264 - Recall: 0.7217391304347827 - F1: 0.7206260255159496\n",
      "Epoch: 120 - Loss: 1.0082604924837748 - Accuracy: 0.7304347826086957 - Precision: 0.7498416096242182 - Recall: 0.7304347826086957 - F1: 0.7298970052487973\n",
      "Epoch: 121 - Loss: 1.0069520552953084 - Accuracy: 0.7304347826086957 - Precision: 0.7498416096242182 - Recall: 0.7304347826086957 - F1: 0.7298970052487973\n",
      "Epoch: 122 - Loss: 1.0132059375445048 - Accuracy: 0.7217391304347827 - Precision: 0.7343168340610796 - Recall: 0.7217391304347827 - F1: 0.7191798418972332\n",
      "Epoch: 123 - Loss: 1.041609263420105 - Accuracy: 0.7217391304347827 - Precision: 0.7402904640116916 - Recall: 0.7217391304347827 - F1: 0.7225556235966525\n",
      "Epoch: 124 - Loss: 1.007524041334788 - Accuracy: 0.7304347826086957 - Precision: 0.7424516908212561 - Recall: 0.7304347826086957 - F1: 0.729556074205413\n",
      "Epoch: 125 - Loss: 1.0351067463556924 - Accuracy: 0.7217391304347827 - Precision: 0.7353864734299517 - Recall: 0.7217391304347827 - F1: 0.7217599722563875\n",
      "Epoch: 126 - Loss: 1.0076590458552042 - Accuracy: 0.7304347826086957 - Precision: 0.7399751995659924 - Recall: 0.7304347826086957 - F1: 0.7292559334260318\n",
      "Epoch: 127 - Loss: 1.0081123153368632 - Accuracy: 0.7304347826086957 - Precision: 0.7486448155699867 - Recall: 0.7304347826086957 - F1: 0.7309679919398591\n",
      "Epoch: 128 - Loss: 1.0170068701108297 - Accuracy: 0.7304347826086957 - Precision: 0.7433041596085075 - Recall: 0.7304347826086957 - F1: 0.7298291915620578\n",
      "Epoch: 129 - Loss: 1.015030598640442 - Accuracy: 0.7304347826086957 - Precision: 0.746940080379978 - Recall: 0.7304347826086957 - F1: 0.7300918554807104\n",
      "Epoch: 130 - Loss: 1.002211066087087 - Accuracy: 0.7304347826086957 - Precision: 0.7424516908212561 - Recall: 0.7304347826086957 - F1: 0.729556074205413\n",
      "Epoch: 131 - Loss: 1.0272380153338114 - Accuracy: 0.7304347826086957 - Precision: 0.7502908343125734 - Recall: 0.7304347826086957 - F1: 0.731574092383841\n",
      "Epoch: 132 - Loss: 1.0147329886754355 - Accuracy: 0.7304347826086957 - Precision: 0.7433041596085075 - Recall: 0.7304347826086957 - F1: 0.7298291915620578\n",
      "Epoch: 133 - Loss: 1.0024337689081828 - Accuracy: 0.7304347826086957 - Precision: 0.7424516908212561 - Recall: 0.7304347826086957 - F1: 0.729556074205413\n",
      "Epoch: 134 - Loss: 1.0157763560612996 - Accuracy: 0.7304347826086957 - Precision: 0.7388081121776774 - Recall: 0.7304347826086957 - F1: 0.7288890314201188\n",
      "Epoch: 135 - Loss: 1.0152265469233195 - Accuracy: 0.7304347826086957 - Precision: 0.7526788448527578 - Recall: 0.7304347826086957 - F1: 0.7315759715183372\n",
      "Epoch: 136 - Loss: 1.0156856656074524 - Accuracy: 0.7304347826086957 - Precision: 0.7410537985573049 - Recall: 0.7304347826086957 - F1: 0.7286999759337892\n",
      "Epoch: 137 - Loss: 1.0160645524660745 - Accuracy: 0.7391304347826086 - Precision: 0.7658799171842648 - Recall: 0.7391304347826086 - F1: 0.7420241686018529\n",
      "Epoch: 138 - Loss: 1.017909256617228 - Accuracy: 0.7304347826086957 - Precision: 0.7458231382144426 - Recall: 0.7304347826086957 - F1: 0.7297262419992464\n",
      "Epoch: 139 - Loss: 1.0186655243237814 - Accuracy: 0.7217391304347827 - Precision: 0.7344844576446755 - Recall: 0.7217391304347827 - F1: 0.7238030248440537\n",
      "Epoch: 140 - Loss: 1.0262320478757223 - Accuracy: 0.7217391304347827 - Precision: 0.745123273173764 - Recall: 0.7217391304347827 - F1: 0.7216108844404777\n",
      "Epoch: 141 - Loss: 1.05212641954422 - Accuracy: 0.6869565217391305 - Precision: 0.7046017680309405 - Recall: 0.6869565217391305 - F1: 0.6919635183334945\n",
      "Epoch: 142 - Loss: 1.0211076418558755 - Accuracy: 0.7304347826086957 - Precision: 0.7526788448527578 - Recall: 0.7304347826086957 - F1: 0.7315759715183372\n",
      "Epoch: 143 - Loss: 1.0127134998639424 - Accuracy: 0.7217391304347827 - Precision: 0.7387426779968651 - Recall: 0.7217391304347827 - F1: 0.7250390189520626\n",
      "Epoch: 144 - Loss: 1.0211007396380107 - Accuracy: 0.7304347826086957 - Precision: 0.7486448155699867 - Recall: 0.7304347826086957 - F1: 0.7309679919398591\n",
      "Epoch: 145 - Loss: 1.0149648706118266 - Accuracy: 0.7391304347826086 - Precision: 0.7682035452861805 - Recall: 0.7391304347826086 - F1: 0.7432743596552241\n",
      "Epoch: 146 - Loss: 1.0140310684839884 - Accuracy: 0.7391304347826086 - Precision: 0.7534661835748792 - Recall: 0.7391304347826086 - F1: 0.7392747442821394\n",
      "Epoch: 147 - Loss: 0.9979230443636576 - Accuracy: 0.7391304347826086 - Precision: 0.7563184186080399 - Recall: 0.7391304347826086 - F1: 0.7403146104693636\n",
      "Epoch: 148 - Loss: 1.012873407204946 - Accuracy: 0.7391304347826086 - Precision: 0.7563184186080399 - Recall: 0.7391304347826086 - F1: 0.7403146104693636\n",
      "Epoch: 149 - Loss: 1.0139206290245055 - Accuracy: 0.7391304347826086 - Precision: 0.7563184186080399 - Recall: 0.7391304347826086 - F1: 0.7403146104693636\n",
      "Epoch: 150 - Loss: 1.0114327510197958 - Accuracy: 0.7391304347826086 - Precision: 0.7563184186080399 - Recall: 0.7391304347826086 - F1: 0.7403146104693636\n",
      "Epoch: 151 - Loss: 0.9998787442843119 - Accuracy: 0.7391304347826086 - Precision: 0.7534661835748792 - Recall: 0.7391304347826086 - F1: 0.7392747442821394\n",
      "Epoch: 152 - Loss: 1.037294908364614 - Accuracy: 0.7391304347826086 - Precision: 0.7611802810715854 - Recall: 0.7391304347826086 - F1: 0.7411985564380936\n",
      "Epoch: 153 - Loss: 0.998154894510905 - Accuracy: 0.7391304347826086 - Precision: 0.7524093234131598 - Recall: 0.7391304347826086 - F1: 0.7396352082222946\n",
      "Epoch: 154 - Loss: 1.0109987775484721 - Accuracy: 0.7391304347826086 - Precision: 0.7563184186080399 - Recall: 0.7391304347826086 - F1: 0.7403146104693636\n",
      "Epoch: 155 - Loss: 1.0365423957506816 - Accuracy: 0.7391304347826086 - Precision: 0.7585423661580744 - Recall: 0.7391304347826086 - F1: 0.7403210485351215\n",
      "Epoch: 156 - Loss: 0.9979621767997742 - Accuracy: 0.7391304347826086 - Precision: 0.7479132759823297 - Recall: 0.7391304347826086 - F1: 0.7386950480803556\n",
      "Epoch: 157 - Loss: 1.0104997833569844 - Accuracy: 0.7391304347826086 - Precision: 0.7629650364119468 - Recall: 0.7391304347826086 - F1: 0.7408782176076143\n",
      "Epoch: 158 - Loss: 1.0378340363502503 - Accuracy: 0.7391304347826086 - Precision: 0.7554659498207885 - Recall: 0.7391304347826086 - F1: 0.7400414931127187\n",
      "Epoch: 159 - Loss: 1.0107216596603394 - Accuracy: 0.7391304347826086 - Precision: 0.7512422360248446 - Recall: 0.7391304347826086 - F1: 0.7392683062163815\n",
      "Epoch: 160 - Loss: 1.0156421661376953 - Accuracy: 0.7391304347826086 - Precision: 0.7563184186080399 - Recall: 0.7391304347826086 - F1: 0.7403146104693636\n",
      "Epoch: 161 - Loss: 1.0169366041819254 - Accuracy: 0.7391304347826086 - Precision: 0.7613326733217831 - Recall: 0.7391304347826086 - F1: 0.741234007282391\n",
      "Epoch: 162 - Loss: 1.015098241964976 - Accuracy: 0.7391304347826086 - Precision: 0.7543186523621306 - Recall: 0.7391304347826086 - F1: 0.7395478616387842\n",
      "Epoch: 163 - Loss: 1.0112492839495342 - Accuracy: 0.7391304347826086 - Precision: 0.7585423661580744 - Recall: 0.7391304347826086 - F1: 0.7403210485351215\n",
      "Epoch: 164 - Loss: 1.0122268358866373 - Accuracy: 0.7391304347826086 - Precision: 0.7681160078602534 - Recall: 0.7391304347826086 - F1: 0.7418518106675563\n",
      "Epoch: 165 - Loss: 1.0099284370740256 - Accuracy: 0.7391304347826086 - Precision: 0.75965930832361 - Recall: 0.7391304347826086 - F1: 0.7406866620165854\n",
      "Epoch: 166 - Loss: 1.03706237077713 - Accuracy: 0.7391304347826086 - Precision: 0.7691856452726018 - Recall: 0.7391304347826086 - F1: 0.7422157241928818\n",
      "Epoch: 167 - Loss: 1.0109234730402628 - Accuracy: 0.7391304347826086 - Precision: 0.7563184186080399 - Recall: 0.7391304347826086 - F1: 0.7403146104693636\n",
      "Epoch: 168 - Loss: 1.0231695890426635 - Accuracy: 0.7391304347826086 - Precision: 0.75965930832361 - Recall: 0.7391304347826086 - F1: 0.7406866620165854\n",
      "Epoch: 169 - Loss: 1.0080065528551738 - Accuracy: 0.7391304347826086 - Precision: 0.7611802810715854 - Recall: 0.7391304347826086 - F1: 0.7411985564380936\n",
      "Epoch: 170 - Loss: 0.9956052740414937 - Accuracy: 0.7391304347826086 - Precision: 0.7613326733217831 - Recall: 0.7391304347826086 - F1: 0.741234007282391\n",
      "Epoch: 171 - Loss: 0.9955349723498027 - Accuracy: 0.7391304347826086 - Precision: 0.7577499793746392 - Recall: 0.7391304347826086 - F1: 0.7407740086000956\n",
      "Epoch: 172 - Loss: 0.9958716948827108 - Accuracy: 0.7391304347826086 - Precision: 0.7645211707871555 - Recall: 0.7391304347826086 - F1: 0.7415706079853154\n",
      "Epoch: 173 - Loss: 1.0083931644757589 - Accuracy: 0.7391304347826086 - Precision: 0.7554659498207885 - Recall: 0.7391304347826086 - F1: 0.7400414931127187\n",
      "Epoch: 174 - Loss: 1.0215602000554402 - Accuracy: 0.7391304347826086 - Precision: 0.7611802810715854 - Recall: 0.7391304347826086 - F1: 0.7411985564380936\n",
      "Epoch: 175 - Loss: 0.9941324551900228 - Accuracy: 0.7391304347826086 - Precision: 0.75965930832361 - Recall: 0.7391304347826086 - F1: 0.7406866620165854\n",
      "Epoch: 176 - Loss: 1.0195135235786439 - Accuracy: 0.7391304347826086 - Precision: 0.7563184186080399 - Recall: 0.7391304347826086 - F1: 0.7403146104693636\n",
      "Epoch: 177 - Loss: 0.9929711818695068 - Accuracy: 0.7391304347826086 - Precision: 0.7636933376063811 - Recall: 0.7391304347826086 - F1: 0.7412946415950636\n",
      "Epoch: 178 - Loss: 1.017968201637268 - Accuracy: 0.7391304347826086 - Precision: 0.7543186523621306 - Recall: 0.7391304347826086 - F1: 0.7395478616387842\n",
      "Epoch: 179 - Loss: 0.9924453576405843 - Accuracy: 0.7391304347826086 - Precision: 0.7611802810715854 - Recall: 0.7391304347826086 - F1: 0.7411985564380936\n",
      "Epoch: 180 - Loss: 1.004455534617106 - Accuracy: 0.7391304347826086 - Precision: 0.7611802810715854 - Recall: 0.7391304347826086 - F1: 0.7411985564380936\n",
      "Epoch: 181 - Loss: 1.006719140211741 - Accuracy: 0.7391304347826086 - Precision: 0.7563184186080399 - Recall: 0.7391304347826086 - F1: 0.7403146104693636\n",
      "Epoch: 182 - Loss: 1.020158557097117 - Accuracy: 0.7391304347826086 - Precision: 0.7563184186080399 - Recall: 0.7391304347826086 - F1: 0.7403146104693636\n",
      "Epoch: 183 - Loss: 0.9973939061164856 - Accuracy: 0.7391304347826086 - Precision: 0.762297223237121 - Recall: 0.7391304347826086 - F1: 0.7415641699195575\n",
      "Epoch: 184 - Loss: 1.0055849512418111 - Accuracy: 0.7391304347826086 - Precision: 0.7534661835748792 - Recall: 0.7391304347826086 - F1: 0.7392747442821394\n",
      "Epoch: 185 - Loss: 1.0057360370953878 - Accuracy: 0.7391304347826086 - Precision: 0.7585423661580744 - Recall: 0.7391304347826086 - F1: 0.7403210485351215\n",
      "Epoch: 186 - Loss: 1.0074259003003438 - Accuracy: 0.7391304347826086 - Precision: 0.75965930832361 - Recall: 0.7391304347826086 - F1: 0.7406866620165854\n",
      "Epoch: 187 - Loss: 1.002532720565796 - Accuracy: 0.7391304347826086 - Precision: 0.7636933376063811 - Recall: 0.7391304347826086 - F1: 0.7412946415950636\n",
      "Epoch: 188 - Loss: 0.9918997685114542 - Accuracy: 0.7391304347826086 - Precision: 0.7636933376063811 - Recall: 0.7391304347826086 - F1: 0.7412946415950636\n",
      "Epoch: 189 - Loss: 1.0054599046707153 - Accuracy: 0.7391304347826086 - Precision: 0.7636933376063811 - Recall: 0.7391304347826086 - F1: 0.7412946415950636\n",
      "Epoch: 190 - Loss: 1.0049574494361877 - Accuracy: 0.7391304347826086 - Precision: 0.762297223237121 - Recall: 0.7391304347826086 - F1: 0.7415641699195575\n",
      "Epoch: 191 - Loss: 0.9911237796147664 - Accuracy: 0.7391304347826086 - Precision: 0.7636933376063811 - Recall: 0.7391304347826086 - F1: 0.7412946415950636\n",
      "Epoch: 192 - Loss: 1.0194828947385153 - Accuracy: 0.7391304347826086 - Precision: 0.7563184186080399 - Recall: 0.7391304347826086 - F1: 0.7403146104693636\n",
      "Epoch: 193 - Loss: 0.9913765072822571 - Accuracy: 0.7391304347826086 - Precision: 0.7670354165669008 - Recall: 0.7391304347826086 - F1: 0.7422877950000929\n",
      "Epoch: 194 - Loss: 0.9918977618217468 - Accuracy: 0.7391304347826086 - Precision: 0.750725616921269 - Recall: 0.7391304347826086 - F1: 0.7391090275669362\n",
      "Epoch: 195 - Loss: 0.992958402633667 - Accuracy: 0.7391304347826086 - Precision: 0.7645211707871555 - Recall: 0.7391304347826086 - F1: 0.7415706079853154\n",
      "Epoch: 196 - Loss: 1.0068376541137696 - Accuracy: 0.7391304347826086 - Precision: 0.7543186523621306 - Recall: 0.7391304347826086 - F1: 0.7395478616387842\n",
      "Epoch: 197 - Loss: 0.9980402668317159 - Accuracy: 0.7391304347826086 - Precision: 0.7702296432428947 - Recall: 0.7391304347826086 - F1: 0.7426143074627601\n",
      "Epoch: 198 - Loss: 0.9995369712511698 - Accuracy: 0.7391304347826086 - Precision: 0.7577667984189722 - Recall: 0.7391304347826086 - F1: 0.7406527858400244\n",
      "Epoch: 199 - Loss: 0.997457993030548 - Accuracy: 0.7391304347826086 - Precision: 0.7658799171842648 - Recall: 0.7391304347826086 - F1: 0.7420241686018529\n",
      "Epoch: 200 - Loss: 1.01986110607783 - Accuracy: 0.7130434782608696 - Precision: 0.7221239139542085 - Recall: 0.7130434782608696 - F1: 0.7131187652926784\n"
     ]
    }
   ],
   "source": [
    "for epoch in range(EPOCHS):\n",
    "  model.train()\n",
    "  running_loss = 0.0\n",
    "\n",
    "  labels_list = []\n",
    "  preds_list = []\n",
    "\n",
    "  for (x, y) in train_loader:\n",
    "    x, y = x.to(DEVICE), y.to(DEVICE)\n",
    "\n",
    "    yhat = model(x)\n",
    "\n",
    "    labels_list.extend(y.cpu())\n",
    "    preds_list.extend(yhat.argmax(1).cpu())\n",
    "\n",
    "    loss = loss_fn(yhat, y)\n",
    "    optimizer.zero_grad()\n",
    "    loss.backward()\n",
    "    optimizer.step()\n",
    "\n",
    "    running_loss += loss.item()\n",
    "\n",
    "  avg_loss = running_loss / len(train_loader)\n",
    "  loss_list.append(avg_loss)\n",
    "\n",
    "  acc = accuracy_score(labels_list, preds_list)\n",
    "  pre = precision_score(labels_list, preds_list, average='weighted')\n",
    "  rec = recall_score(labels_list, preds_list, average='weighted')\n",
    "  f1 = f1_score(labels_list, preds_list, average='weighted')\n",
    "\n",
    "  acc_list.append(acc)\n",
    "  precision_list.append(pre)\n",
    "  recall_list.append(rec)\n",
    "  f1_list.append(f1)\n",
    "\n",
    "  writer.add_scalar(\"Train/Loss\", avg_loss, epoch)\n",
    "  writer.add_scalar(\"Train/Accuracy\", acc, epoch)\n",
    "  writer.add_scalar(\"Train/Precision\", pre, epoch)\n",
    "  writer.add_scalar(\"Train/Recall\", rec, epoch)\n",
    "  writer.add_scalar(\"Train/F1\", f1, epoch)\n",
    "\n",
    "  print(f\"Epoch: {epoch + 1} - Loss: {avg_loss} - Accuracy: {acc} - Precision: {pre} - Recall: {rec} - F1: {f1}\")"
   ]
  },
  {
   "cell_type": "code",
   "execution_count": 34,
   "metadata": {
    "colab": {
     "base_uri": "https://localhost:8080/",
     "height": 472
    },
    "execution": {
     "iopub.execute_input": "2024-02-26T13:30:00.915300Z",
     "iopub.status.busy": "2024-02-26T13:30:00.915054Z",
     "iopub.status.idle": "2024-02-26T13:30:01.224539Z",
     "shell.execute_reply": "2024-02-26T13:30:01.224050Z",
     "shell.execute_reply.started": "2024-02-26T13:30:00.915285Z"
    },
    "id": "ZS1QedxgT80s",
    "outputId": "26a85f1a-d660-44d0-8beb-3e64693296ff"
   },
   "outputs": [
    {
     "data": {
      "image/png": "[encoded data removed]",
      "text/plain": [
       "<Figure size 640x480 with 1 Axes>"
      ]
     },
     "metadata": {},
     "output_type": "display_data"
    }
   ],
   "source": [
    "plt.title(\"Loss History\")\n",
    "plt.plot(range(EPOCHS), loss_list)\n",
    "plt.xlabel(\"Epochs\")\n",
    "plt.ylabel(\"Loss Value\")\n",
    "plt.savefig(\"figures/training_loss_history_mlp_adam.pdf\", bbox_inches=\"tight\")\n",
    "plt.show()"
   ]
  },
  {
   "cell_type": "code",
   "execution_count": 35,
   "metadata": {
    "colab": {
     "base_uri": "https://localhost:8080/",
     "height": 472
    },
    "execution": {
     "iopub.execute_input": "2024-02-26T13:30:25.356831Z",
     "iopub.status.busy": "2024-02-26T13:30:25.356428Z",
     "iopub.status.idle": "2024-02-26T13:30:25.678859Z",
     "shell.execute_reply": "2024-02-26T13:30:25.678271Z",
     "shell.execute_reply.started": "2024-02-26T13:30:25.356806Z"
    },
    "id": "qRiuTx4ET_LF",
    "outputId": "921adfc4-36a3-475f-cc60-0ed420271a5a"
   },
   "outputs": [
    {
     "data": {
      "image/png": "[encoded data removed]",
      "text/plain": [
       "<Figure size 640x480 with 1 Axes>"
      ]
     },
     "metadata": {},
     "output_type": "display_data"
    }
   ],
   "source": [
    "plt.title(\"Training Metrics\")\n",
    "plt.plot(range(EPOCHS), acc_list, label=\"Accuracy\")\n",
    "plt.plot(range(EPOCHS), precision_list, label=\"Precision\")\n",
    "plt.plot(range(EPOCHS), recall_list, label=\"Recall\")\n",
    "plt.plot(range(EPOCHS), f1_list, label=\"F1 Score\")\n",
    "plt.legend()\n",
    "plt.xlabel(\"Epochs\")\n",
    "plt.ylabel(\"Metric Value\")\n",
    "plt.savefig(\"figures/training_metrics_mlp_adam.pdf\", bbox_inches=\"tight\")\n",
    "plt.show()"
   ]
  },
  {
   "cell_type": "code",
   "execution_count": 36,
   "metadata": {
    "colab": {
     "base_uri": "https://localhost:8080/"
    },
    "execution": {
     "iopub.execute_input": "2024-02-26T13:30:37.072953Z",
     "iopub.status.busy": "2024-02-26T13:30:37.072696Z",
     "iopub.status.idle": "2024-02-26T13:30:37.079895Z",
     "shell.execute_reply": "2024-02-26T13:30:37.079115Z",
     "shell.execute_reply.started": "2024-02-26T13:30:37.072937Z"
    },
    "id": "ykUjnGGHUBC-",
    "outputId": "9f0b84d6-8741-4d3b-fd0b-c2c74ca5b3fb"
   },
   "outputs": [
    {
     "name": "stdout",
     "output_type": "stream",
     "text": [
      "Mean Training Accuracy: 0.7018260869565218\n",
      "Mean Training Precision: 0.7217657850780076\n",
      "Mean Training Recall: 0.7018260869565218\n",
      "Mean Training F1 Score: 0.7024844160421599\n"
     ]
    }
   ],
   "source": [
    "print(f\"Mean Training Accuracy: {np.array(acc_list).mean()}\")\n",
    "print(f\"Mean Training Precision: {np.array(precision_list).mean()}\")\n",
    "print(f\"Mean Training Recall: {np.array(recall_list).mean()}\")\n",
    "print(f\"Mean Training F1 Score: {np.array(f1_list).mean()}\")\n",
    "\n",
    "writer.add_scalar(\"Train/Mean Accuracy\", np.array(acc_list).mean(), 0)\n",
    "writer.add_scalar(\"Train/Mean Precision\", np.array(precision_list).mean(), 0)\n",
    "writer.add_scalar(\"Train/Mean Recall\", np.array(recall_list).mean(), 0)\n",
    "writer.add_scalar(\"Train/Mean F1 Score\", np.array(f1_list).mean(), 0)"
   ]
  },
  {
   "cell_type": "code",
   "execution_count": 40,
   "metadata": {
    "execution": {
     "iopub.execute_input": "2024-02-26T13:31:54.806950Z",
     "iopub.status.busy": "2024-02-26T13:31:54.806743Z",
     "iopub.status.idle": "2024-02-26T13:31:54.809672Z",
     "shell.execute_reply": "2024-02-26T13:31:54.809175Z",
     "shell.execute_reply.started": "2024-02-26T13:31:54.806934Z"
    },
    "id": "aMu18benUD97"
   },
   "outputs": [],
   "source": [
    "loss = 0.0\n",
    "accuracy = 0.0\n",
    "precision = 0.0\n",
    "recall = 0.0\n",
    "f1 = 0.0"
   ]
  },
  {
   "cell_type": "code",
   "execution_count": 41,
   "metadata": {
    "colab": {
     "base_uri": "https://localhost:8080/"
    },
    "execution": {
     "iopub.execute_input": "2024-02-26T13:31:55.525039Z",
     "iopub.status.busy": "2024-02-26T13:31:55.524745Z",
     "iopub.status.idle": "2024-02-26T13:31:55.535210Z",
     "shell.execute_reply": "2024-02-26T13:31:55.534749Z",
     "shell.execute_reply.started": "2024-02-26T13:31:55.525015Z"
    },
    "id": "yUs5QIqKUGP7",
    "outputId": "985990cb-3c96-4ab0-edd5-4c322686c248"
   },
   "outputs": [],
   "source": [
    "model.eval()\n",
    "with torch.no_grad():\n",
    "  x = torch.tensor(test_data).type(torch.FloatTensor)\n",
    "  y = torch.tensor(test_labels).type(torch.LongTensor)\n",
    "\n",
    "  yhat = model(x)\n",
    "\n",
    "  yhat = yhat.cpu()\n",
    "  loss = loss_fn(yhat, y)\n",
    "\n",
    "  yhat = yhat.argmax(1)\n",
    "  accuracy = accuracy_score(yhat, y)\n",
    "  precision = precision_score(yhat, y, average='weighted')\n",
    "  recall = recall_score(yhat, y, average='weighted')\n",
    "  f1 = f1_score(yhat, y, average='weighted')"
   ]
  },
  {
   "cell_type": "code",
   "execution_count": 42,
   "metadata": {
    "colab": {
     "base_uri": "https://localhost:8080/"
    },
    "execution": {
     "iopub.execute_input": "2024-02-26T13:31:56.122627Z",
     "iopub.status.busy": "2024-02-26T13:31:56.121934Z",
     "iopub.status.idle": "2024-02-26T13:31:56.129169Z",
     "shell.execute_reply": "2024-02-26T13:31:56.128675Z",
     "shell.execute_reply.started": "2024-02-26T13:31:56.122578Z"
    },
    "id": "iM7ZByiWUJY0",
    "outputId": "b67059ec-65ee-4e64-cb14-671888a730e6"
   },
   "outputs": [
    {
     "name": "stdout",
     "output_type": "stream",
     "text": [
      "Testing Loss: 1.4016281366348267\n",
      "Testing Accuracy: 0.3103448275862069\n",
      "Testing Precision: 0.3247126436781609\n",
      "Testing Recall: 0.3103448275862069\n",
      "Testing F1 Score: 0.31102690413035244\n"
     ]
    }
   ],
   "source": [
    "print(f\"Testing Loss: {loss}\")\n",
    "print(f\"Testing Accuracy: {accuracy}\")\n",
    "print(f\"Testing Precision: {precision}\")\n",
    "print(f\"Testing Recall: {recall}\")\n",
    "print(f\"Testing F1 Score: {f1}\")\n",
    "\n",
    "writer.add_scalar(\"Test/Loss\", loss, 0)\n",
    "writer.add_scalar(\"Test/Accuracy\", accuracy, 0)\n",
    "writer.add_scalar(\"Test/Precision\", precision, 0)\n",
    "writer.add_scalar(\"Test/Recall\", recall, 0)\n",
    "writer.add_scalar(\"Test/F1 Score\", f1, 0)"
   ]
  },
  {
   "cell_type": "code",
   "execution_count": null,
   "metadata": {},
   "outputs": [],
   "source": []
  }
 ],
 "metadata": {
  "accelerator": "GPU",
  "colab": {
   "gpuType": "T4",
   "provenance": []
  },
  "kernelspec": {
   "display_name": "Python 3 (ipykernel)",
   "language": "python",
   "name": "python3"
  },
  "language_info": {
   "codemirror_mode": {
    "name": "ipython",
    "version": 3
   },
   "file_extension": ".py",
   "mimetype": "text/x-python",
   "name": "python",
   "nbconvert_exporter": "python",
   "pygments_lexer": "ipython3",
   "version": "3.11.5"
  }
 },
 "nbformat": 4,
 "nbformat_minor": 4
}
