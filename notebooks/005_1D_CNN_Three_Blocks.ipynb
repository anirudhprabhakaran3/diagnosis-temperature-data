{
 "cells": [
  {
   "cell_type": "markdown",
   "metadata": {
    "id": "7DnXK7GD7tSc"
   },
   "source": [
    "# 1D CNN Three Blocks"
   ]
  },
  {
   "cell_type": "code",
   "execution_count": 2,
   "metadata": {
    "execution": {
     "iopub.execute_input": "2024-02-26T13:54:59.430086Z",
     "iopub.status.busy": "2024-02-26T13:54:59.429459Z",
     "iopub.status.idle": "2024-02-26T13:54:59.434046Z",
     "shell.execute_reply": "2024-02-26T13:54:59.433315Z",
     "shell.execute_reply.started": "2024-02-26T13:54:59.430065Z"
    },
    "id": "FRZqTGz0vhOY"
   },
   "outputs": [],
   "source": [
    "import pandas as pd\n",
    "import numpy as np\n",
    "import matplotlib.pyplot as plt\n",
    "\n",
    "import torch\n",
    "from torch import nn\n",
    "from torch import optim\n",
    "from torch.utils.tensorboard import SummaryWriter\n",
    "\n",
    "from torchinfo import summary\n",
    "\n",
    "from sklearn.model_selection import train_test_split\n",
    "\n",
    "from sklearn.metrics import accuracy_score\n",
    "from sklearn.metrics import precision_score\n",
    "from sklearn.metrics import f1_score\n",
    "from sklearn.metrics import recall_score\n",
    "\n",
    "from tqdm import tqdm"
   ]
  },
  {
   "cell_type": "code",
   "execution_count": 3,
   "metadata": {
    "execution": {
     "iopub.execute_input": "2024-02-26T13:55:06.811824Z",
     "iopub.status.busy": "2024-02-26T13:55:06.811370Z",
     "iopub.status.idle": "2024-02-26T13:55:06.814670Z",
     "shell.execute_reply": "2024-02-26T13:55:06.813915Z",
     "shell.execute_reply.started": "2024-02-26T13:55:06.811807Z"
    },
    "id": "pENyLVp_v8G3"
   },
   "outputs": [],
   "source": [
    "DATA_PATH = \"../data/filtered_df.csv\"\n",
    "SAVED_MODELS_PATH = \"saved_models/\"\n",
    "RUNS_PATH = \"runs/\""
   ]
  },
  {
   "cell_type": "code",
   "execution_count": 4,
   "metadata": {
    "colab": {
     "base_uri": "https://localhost:8080/"
    },
    "execution": {
     "iopub.execute_input": "2024-02-26T13:55:07.061223Z",
     "iopub.status.busy": "2024-02-26T13:55:07.061050Z",
     "iopub.status.idle": "2024-02-26T13:55:07.066039Z",
     "shell.execute_reply": "2024-02-26T13:55:07.065346Z",
     "shell.execute_reply.started": "2024-02-26T13:55:07.061210Z"
    },
    "id": "MaW3kDMC0HcT",
    "outputId": "1843bc36-bc45-4fd2-f58e-43d40c23a19e"
   },
   "outputs": [
    {
     "data": {
      "text/plain": [
       "device(type='cpu')"
      ]
     },
     "execution_count": 4,
     "metadata": {},
     "output_type": "execute_result"
    }
   ],
   "source": [
    "DEVICE = torch.device(\"cuda\" if torch.cuda.is_available() else \"cpu\")\n",
    "DEVICE"
   ]
  },
  {
   "cell_type": "code",
   "execution_count": 5,
   "metadata": {
    "execution": {
     "iopub.execute_input": "2024-02-26T13:55:08.825029Z",
     "iopub.status.busy": "2024-02-26T13:55:08.824198Z",
     "iopub.status.idle": "2024-02-26T13:55:08.831973Z",
     "shell.execute_reply": "2024-02-26T13:55:08.831012Z",
     "shell.execute_reply.started": "2024-02-26T13:55:08.824986Z"
    },
    "id": "h6yA70-k0S8b"
   },
   "outputs": [],
   "source": [
    "class TemperatureDataset(torch.utils.data.Dataset):\n",
    "    def __init__(self, X, y):\n",
    "        super(TemperatureDataset, self).__init__()\n",
    "\n",
    "        self.X = torch.from_numpy(X).type(torch.FloatTensor).to(DEVICE)\n",
    "        self.y = torch.from_numpy(y).type(torch.LongTensor).to(DEVICE)\n",
    "\n",
    "    def __len__(self):\n",
    "        return len(self.X)\n",
    "\n",
    "    def __getitem__(self, idx):\n",
    "        return self.X[idx], self.y[idx]"
   ]
  },
  {
   "cell_type": "code",
   "execution_count": 6,
   "metadata": {
    "colab": {
     "base_uri": "https://localhost:8080/",
     "height": 270
    },
    "execution": {
     "iopub.execute_input": "2024-02-26T13:55:09.162093Z",
     "iopub.status.busy": "2024-02-26T13:55:09.161923Z",
     "iopub.status.idle": "2024-02-26T13:55:09.254510Z",
     "shell.execute_reply": "2024-02-26T13:55:09.254038Z",
     "shell.execute_reply.started": "2024-02-26T13:55:09.162081Z"
    },
    "id": "4F-eHRZH0WtR",
    "outputId": "cb7e0535-494e-4458-fef1-c4918a274450"
   },
   "outputs": [
    {
     "data": {
      "text/html": [
       "<div>\n",
       "<style scoped>\n",
       "    .dataframe tbody tr th:only-of-type {\n",
       "        vertical-align: middle;\n",
       "    }\n",
       "\n",
       "    .dataframe tbody tr th {\n",
       "        vertical-align: top;\n",
       "    }\n",
       "\n",
       "    .dataframe thead th {\n",
       "        text-align: right;\n",
       "    }\n",
       "</style>\n",
       "<table border=\"1\" class=\"dataframe\">\n",
       "  <thead>\n",
       "    <tr style=\"text-align: right;\">\n",
       "      <th></th>\n",
       "      <th>0</th>\n",
       "      <th>1</th>\n",
       "      <th>2</th>\n",
       "      <th>3</th>\n",
       "      <th>4</th>\n",
       "      <th>5</th>\n",
       "      <th>6</th>\n",
       "      <th>7</th>\n",
       "      <th>8</th>\n",
       "      <th>9</th>\n",
       "      <th>...</th>\n",
       "      <th>1432</th>\n",
       "      <th>1433</th>\n",
       "      <th>1434</th>\n",
       "      <th>1435</th>\n",
       "      <th>1436</th>\n",
       "      <th>1437</th>\n",
       "      <th>1438</th>\n",
       "      <th>1439</th>\n",
       "      <th>disease</th>\n",
       "      <th>disease_encoded</th>\n",
       "    </tr>\n",
       "  </thead>\n",
       "  <tbody>\n",
       "    <tr>\n",
       "      <th>0</th>\n",
       "      <td>0.318410</td>\n",
       "      <td>0.303523</td>\n",
       "      <td>0.263394</td>\n",
       "      <td>0.209948</td>\n",
       "      <td>0.180902</td>\n",
       "      <td>0.152159</td>\n",
       "      <td>0.126749</td>\n",
       "      <td>0.117988</td>\n",
       "      <td>0.108304</td>\n",
       "      <td>0.122686</td>\n",
       "      <td>...</td>\n",
       "      <td>0.259065</td>\n",
       "      <td>0.264163</td>\n",
       "      <td>0.270822</td>\n",
       "      <td>0.286647</td>\n",
       "      <td>0.283198</td>\n",
       "      <td>0.266661</td>\n",
       "      <td>0.301272</td>\n",
       "      <td>0.300538</td>\n",
       "      <td>non-tubercular bacterial infection</td>\n",
       "      <td>2</td>\n",
       "    </tr>\n",
       "    <tr>\n",
       "      <th>1</th>\n",
       "      <td>0.704151</td>\n",
       "      <td>0.701437</td>\n",
       "      <td>0.657708</td>\n",
       "      <td>0.620512</td>\n",
       "      <td>0.605176</td>\n",
       "      <td>0.577539</td>\n",
       "      <td>0.566426</td>\n",
       "      <td>0.553302</td>\n",
       "      <td>0.557018</td>\n",
       "      <td>0.586014</td>\n",
       "      <td>...</td>\n",
       "      <td>-0.705322</td>\n",
       "      <td>-0.706547</td>\n",
       "      <td>-0.702719</td>\n",
       "      <td>-0.710761</td>\n",
       "      <td>-0.730227</td>\n",
       "      <td>-0.743492</td>\n",
       "      <td>1.052168</td>\n",
       "      <td>1.038729</td>\n",
       "      <td>dengue</td>\n",
       "      <td>0</td>\n",
       "    </tr>\n",
       "    <tr>\n",
       "      <th>2</th>\n",
       "      <td>-1.504635</td>\n",
       "      <td>-1.502708</td>\n",
       "      <td>-1.514243</td>\n",
       "      <td>-1.573675</td>\n",
       "      <td>-1.598434</td>\n",
       "      <td>-1.625817</td>\n",
       "      <td>-1.651981</td>\n",
       "      <td>-1.641540</td>\n",
       "      <td>-1.651541</td>\n",
       "      <td>-1.643164</td>\n",
       "      <td>...</td>\n",
       "      <td>-1.530715</td>\n",
       "      <td>-1.547432</td>\n",
       "      <td>-1.556541</td>\n",
       "      <td>-1.574980</td>\n",
       "      <td>-1.620194</td>\n",
       "      <td>-1.621177</td>\n",
       "      <td>-1.564069</td>\n",
       "      <td>-1.593145</td>\n",
       "      <td>non-tubercular bacterial infection</td>\n",
       "      <td>2</td>\n",
       "    </tr>\n",
       "    <tr>\n",
       "      <th>3</th>\n",
       "      <td>-0.020049</td>\n",
       "      <td>-0.070029</td>\n",
       "      <td>-0.140029</td>\n",
       "      <td>-0.228974</td>\n",
       "      <td>-0.289132</td>\n",
       "      <td>-0.347744</td>\n",
       "      <td>-0.401664</td>\n",
       "      <td>-0.430863</td>\n",
       "      <td>-0.464740</td>\n",
       "      <td>-0.474506</td>\n",
       "      <td>...</td>\n",
       "      <td>-0.253039</td>\n",
       "      <td>-0.260074</td>\n",
       "      <td>-0.264770</td>\n",
       "      <td>-0.266592</td>\n",
       "      <td>-0.291083</td>\n",
       "      <td>-0.312235</td>\n",
       "      <td>-0.280724</td>\n",
       "      <td>-0.301087</td>\n",
       "      <td>non-tubercular bacterial infection</td>\n",
       "      <td>2</td>\n",
       "    </tr>\n",
       "    <tr>\n",
       "      <th>4</th>\n",
       "      <td>1.220312</td>\n",
       "      <td>1.225530</td>\n",
       "      <td>1.198415</td>\n",
       "      <td>1.175225</td>\n",
       "      <td>1.170463</td>\n",
       "      <td>1.167075</td>\n",
       "      <td>1.167709</td>\n",
       "      <td>1.172301</td>\n",
       "      <td>1.187034</td>\n",
       "      <td>1.228796</td>\n",
       "      <td>...</td>\n",
       "      <td>0.989836</td>\n",
       "      <td>0.984191</td>\n",
       "      <td>0.976721</td>\n",
       "      <td>0.984771</td>\n",
       "      <td>0.974965</td>\n",
       "      <td>0.930598</td>\n",
       "      <td>0.934928</td>\n",
       "      <td>0.920990</td>\n",
       "      <td>tuberculosis</td>\n",
       "      <td>3</td>\n",
       "    </tr>\n",
       "  </tbody>\n",
       "</table>\n",
       "<p>5 rows × 1442 columns</p>\n",
       "</div>"
      ],
      "text/plain": [
       "          0         1         2         3         4         5         6  \\\n",
       "0  0.318410  0.303523  0.263394  0.209948  0.180902  0.152159  0.126749   \n",
       "1  0.704151  0.701437  0.657708  0.620512  0.605176  0.577539  0.566426   \n",
       "2 -1.504635 -1.502708 -1.514243 -1.573675 -1.598434 -1.625817 -1.651981   \n",
       "3 -0.020049 -0.070029 -0.140029 -0.228974 -0.289132 -0.347744 -0.401664   \n",
       "4  1.220312  1.225530  1.198415  1.175225  1.170463  1.167075  1.167709   \n",
       "\n",
       "          7         8         9  ...      1432      1433      1434      1435  \\\n",
       "0  0.117988  0.108304  0.122686  ...  0.259065  0.264163  0.270822  0.286647   \n",
       "1  0.553302  0.557018  0.586014  ... -0.705322 -0.706547 -0.702719 -0.710761   \n",
       "2 -1.641540 -1.651541 -1.643164  ... -1.530715 -1.547432 -1.556541 -1.574980   \n",
       "3 -0.430863 -0.464740 -0.474506  ... -0.253039 -0.260074 -0.264770 -0.266592   \n",
       "4  1.172301  1.187034  1.228796  ...  0.989836  0.984191  0.976721  0.984771   \n",
       "\n",
       "       1436      1437      1438      1439                             disease  \\\n",
       "0  0.283198  0.266661  0.301272  0.300538  non-tubercular bacterial infection   \n",
       "1 -0.730227 -0.743492  1.052168  1.038729                              dengue   \n",
       "2 -1.620194 -1.621177 -1.564069 -1.593145  non-tubercular bacterial infection   \n",
       "3 -0.291083 -0.312235 -0.280724 -0.301087  non-tubercular bacterial infection   \n",
       "4  0.974965  0.930598  0.934928  0.920990                        tuberculosis   \n",
       "\n",
       "   disease_encoded  \n",
       "0                2  \n",
       "1                0  \n",
       "2                2  \n",
       "3                2  \n",
       "4                3  \n",
       "\n",
       "[5 rows x 1442 columns]"
      ]
     },
     "execution_count": 6,
     "metadata": {},
     "output_type": "execute_result"
    }
   ],
   "source": [
    "df = pd.read_csv(DATA_PATH, index_col=False)\n",
    "df = df.sample(frac=1)\n",
    "df.reset_index(drop=True, inplace=True)\n",
    "df.head()"
   ]
  },
  {
   "cell_type": "code",
   "execution_count": 7,
   "metadata": {
    "execution": {
     "iopub.execute_input": "2024-02-26T13:55:10.717211Z",
     "iopub.status.busy": "2024-02-26T13:55:10.716798Z",
     "iopub.status.idle": "2024-02-26T13:55:10.726347Z",
     "shell.execute_reply": "2024-02-26T13:55:10.725686Z",
     "shell.execute_reply.started": "2024-02-26T13:55:10.717178Z"
    },
    "id": "vhuYq9s90mfk"
   },
   "outputs": [],
   "source": [
    "X = df.drop(\"disease\", axis=1)\n",
    "X = X.drop(\"disease_encoded\", axis=1)\n",
    "y = df[\"disease_encoded\"]"
   ]
  },
  {
   "cell_type": "code",
   "execution_count": 8,
   "metadata": {
    "execution": {
     "iopub.execute_input": "2024-02-26T13:55:11.067758Z",
     "iopub.status.busy": "2024-02-26T13:55:11.067276Z",
     "iopub.status.idle": "2024-02-26T13:55:11.077970Z",
     "shell.execute_reply": "2024-02-26T13:55:11.077208Z",
     "shell.execute_reply.started": "2024-02-26T13:55:11.067719Z"
    },
    "id": "O1GT3MB10s0S"
   },
   "outputs": [],
   "source": [
    "train_data, test_data, train_labels, test_labels = train_test_split(X, y, test_size=0.2, random_state=42)\n",
    "train_data = train_data.to_numpy()\n",
    "test_data = test_data.to_numpy()\n",
    "train_labels = train_labels.to_numpy()\n",
    "test_labels = test_labels.to_numpy()"
   ]
  },
  {
   "cell_type": "code",
   "execution_count": 9,
   "metadata": {
    "execution": {
     "iopub.execute_input": "2024-02-26T13:55:12.055147Z",
     "iopub.status.busy": "2024-02-26T13:55:12.054732Z",
     "iopub.status.idle": "2024-02-26T13:55:12.061111Z",
     "shell.execute_reply": "2024-02-26T13:55:12.060161Z",
     "shell.execute_reply.started": "2024-02-26T13:55:12.055115Z"
    },
    "id": "eC9zYWGj0vk2"
   },
   "outputs": [],
   "source": [
    "train_dataset = TemperatureDataset(train_data, train_labels)\n",
    "test_dataset = TemperatureDataset(test_data, test_labels)"
   ]
  },
  {
   "cell_type": "code",
   "execution_count": 10,
   "metadata": {
    "execution": {
     "iopub.execute_input": "2024-02-26T13:55:12.262818Z",
     "iopub.status.busy": "2024-02-26T13:55:12.262658Z",
     "iopub.status.idle": "2024-02-26T13:55:12.266067Z",
     "shell.execute_reply": "2024-02-26T13:55:12.265053Z",
     "shell.execute_reply.started": "2024-02-26T13:55:12.262806Z"
    },
    "id": "1WjmVADI0yQY"
   },
   "outputs": [],
   "source": [
    "train_loader = torch.utils.data.DataLoader(train_dataset, batch_size=8, shuffle=True)\n",
    "test_loader = torch.utils.data.DataLoader(test_dataset, batch_size=1, shuffle=True)"
   ]
  },
  {
   "cell_type": "code",
   "execution_count": 11,
   "metadata": {
    "execution": {
     "iopub.execute_input": "2024-02-26T13:55:13.396679Z",
     "iopub.status.busy": "2024-02-26T13:55:13.396026Z",
     "iopub.status.idle": "2024-02-26T13:55:13.402670Z",
     "shell.execute_reply": "2024-02-26T13:55:13.402240Z",
     "shell.execute_reply.started": "2024-02-26T13:55:13.396656Z"
    },
    "id": "qKu77HBQ01JI"
   },
   "outputs": [],
   "source": [
    "class Model(nn.Module):\n",
    "  def __init__(self):\n",
    "    super(Model, self).__init__()\n",
    "\n",
    "    self.conv_block1 = nn.Sequential(\n",
    "        nn.Conv1d(1, 64, 3),\n",
    "        nn.MaxPool1d(3),\n",
    "        nn.Dropout(0.3),\n",
    "        nn.BatchNorm1d(64)\n",
    "    )\n",
    "\n",
    "    self.conv_block2 = nn.Sequential(\n",
    "        nn.Conv1d(64, 128, 3),\n",
    "        nn.MaxPool1d(3),\n",
    "        nn.Dropout(0.3),\n",
    "        nn.BatchNorm1d(128)\n",
    "    )\n",
    "\n",
    "    self.conv_block3 = nn.Sequential(\n",
    "        nn.Conv1d(128, 64, 3),\n",
    "        nn.MaxPool1d(3),\n",
    "        nn.Dropout(0.3),\n",
    "        nn.BatchNorm1d(64)\n",
    "    )\n",
    "\n",
    "    self.dense = nn.Linear(3328, 4)\n",
    "    self.softmax = nn.Softmax(dim=1)\n",
    "\n",
    "  def forward(self, x):\n",
    "    num_samples, num_features = x.shape\n",
    "    x = x.reshape(num_samples, 1, num_features)\n",
    "\n",
    "    x = x.to(DEVICE)\n",
    "    x = self.conv_block1(x)\n",
    "    x = self.conv_block2(x)\n",
    "    x = self.conv_block3(x)\n",
    "    x = x.reshape(num_samples, -1)\n",
    "\n",
    "    return self.softmax(self.dense(x))"
   ]
  },
  {
   "cell_type": "code",
   "execution_count": 12,
   "metadata": {
    "execution": {
     "iopub.execute_input": "2024-02-26T13:55:15.554899Z",
     "iopub.status.busy": "2024-02-26T13:55:15.554498Z",
     "iopub.status.idle": "2024-02-26T13:55:15.562471Z",
     "shell.execute_reply": "2024-02-26T13:55:15.561249Z",
     "shell.execute_reply.started": "2024-02-26T13:55:15.554869Z"
    },
    "id": "oidBJIbCa1qi"
   },
   "outputs": [],
   "source": [
    "sample_x, sample_y = next(iter(train_loader))"
   ]
  },
  {
   "cell_type": "markdown",
   "metadata": {
    "id": "MeWrOGxU7q1C"
   },
   "source": [
    "## SGD"
   ]
  },
  {
   "cell_type": "code",
   "execution_count": 13,
   "metadata": {
    "colab": {
     "base_uri": "https://localhost:8080/"
    },
    "execution": {
     "iopub.execute_input": "2024-02-26T13:55:18.927224Z",
     "iopub.status.busy": "2024-02-26T13:55:18.926638Z",
     "iopub.status.idle": "2024-02-26T13:55:18.939116Z",
     "shell.execute_reply": "2024-02-26T13:55:18.938635Z",
     "shell.execute_reply.started": "2024-02-26T13:55:18.927172Z"
    },
    "id": "FIuV-w4B1Qew",
    "outputId": "c9c6ec4c-7cc9-46ac-a929-e1f4ccfded44"
   },
   "outputs": [
    {
     "data": {
      "text/plain": [
       "Model(\n",
       "  (conv_block1): Sequential(\n",
       "    (0): Conv1d(1, 64, kernel_size=(3,), stride=(1,))\n",
       "    (1): MaxPool1d(kernel_size=3, stride=3, padding=0, dilation=1, ceil_mode=False)\n",
       "    (2): Dropout(p=0.3, inplace=False)\n",
       "    (3): BatchNorm1d(64, eps=1e-05, momentum=0.1, affine=True, track_running_stats=True)\n",
       "  )\n",
       "  (conv_block2): Sequential(\n",
       "    (0): Conv1d(64, 128, kernel_size=(3,), stride=(1,))\n",
       "    (1): MaxPool1d(kernel_size=3, stride=3, padding=0, dilation=1, ceil_mode=False)\n",
       "    (2): Dropout(p=0.3, inplace=False)\n",
       "    (3): BatchNorm1d(128, eps=1e-05, momentum=0.1, affine=True, track_running_stats=True)\n",
       "  )\n",
       "  (conv_block3): Sequential(\n",
       "    (0): Conv1d(128, 64, kernel_size=(3,), stride=(1,))\n",
       "    (1): MaxPool1d(kernel_size=3, stride=3, padding=0, dilation=1, ceil_mode=False)\n",
       "    (2): Dropout(p=0.3, inplace=False)\n",
       "    (3): BatchNorm1d(64, eps=1e-05, momentum=0.1, affine=True, track_running_stats=True)\n",
       "  )\n",
       "  (dense): Linear(in_features=3328, out_features=4, bias=True)\n",
       "  (softmax): Softmax(dim=1)\n",
       ")"
      ]
     },
     "execution_count": 13,
     "metadata": {},
     "output_type": "execute_result"
    }
   ],
   "source": [
    "model = Model()\n",
    "model = model.to(DEVICE)\n",
    "model"
   ]
  },
  {
   "cell_type": "code",
   "execution_count": 14,
   "metadata": {
    "colab": {
     "base_uri": "https://localhost:8080/"
    },
    "execution": {
     "iopub.execute_input": "2024-02-26T13:55:20.229714Z",
     "iopub.status.busy": "2024-02-26T13:55:20.229434Z",
     "iopub.status.idle": "2024-02-26T13:55:20.246133Z",
     "shell.execute_reply": "2024-02-26T13:55:20.245438Z",
     "shell.execute_reply.started": "2024-02-26T13:55:20.229693Z"
    },
    "id": "5jV_e1sUap86",
    "outputId": "7d73fa02-4fea-4099-ae32-ce18440cbf46"
   },
   "outputs": [
    {
     "data": {
      "text/plain": [
       "==========================================================================================\n",
       "Layer (type:depth-idx)                   Output Shape              Param #\n",
       "==========================================================================================\n",
       "Model                                    [8, 4]                    --\n",
       "├─Sequential: 1-1                        [8, 64, 479]              --\n",
       "│    └─Conv1d: 2-1                       [8, 64, 1438]             256\n",
       "│    └─MaxPool1d: 2-2                    [8, 64, 479]              --\n",
       "│    └─Dropout: 2-3                      [8, 64, 479]              --\n",
       "│    └─BatchNorm1d: 2-4                  [8, 64, 479]              128\n",
       "├─Sequential: 1-2                        [8, 128, 159]             --\n",
       "│    └─Conv1d: 2-5                       [8, 128, 477]             24,704\n",
       "│    └─MaxPool1d: 2-6                    [8, 128, 159]             --\n",
       "│    └─Dropout: 2-7                      [8, 128, 159]             --\n",
       "│    └─BatchNorm1d: 2-8                  [8, 128, 159]             256\n",
       "├─Sequential: 1-3                        [8, 64, 52]               --\n",
       "│    └─Conv1d: 2-9                       [8, 64, 157]              24,640\n",
       "│    └─MaxPool1d: 2-10                   [8, 64, 52]               --\n",
       "│    └─Dropout: 2-11                     [8, 64, 52]               --\n",
       "│    └─BatchNorm1d: 2-12                 [8, 64, 52]               128\n",
       "├─Linear: 1-4                            [8, 4]                    13,316\n",
       "├─Softmax: 1-5                           [8, 4]                    --\n",
       "==========================================================================================\n",
       "Total params: 63,428\n",
       "Trainable params: 63,428\n",
       "Non-trainable params: 0\n",
       "Total mult-adds (Units.MEGABYTES): 128.27\n",
       "==========================================================================================\n",
       "Input size (MB): 0.05\n",
       "Forward/backward pass size (MB): 13.92\n",
       "Params size (MB): 0.25\n",
       "Estimated Total Size (MB): 14.22\n",
       "=========================================================================================="
      ]
     },
     "execution_count": 14,
     "metadata": {},
     "output_type": "execute_result"
    }
   ],
   "source": [
    "summary(model, input_data=sample_x)"
   ]
  },
  {
   "cell_type": "code",
   "execution_count": 15,
   "metadata": {
    "execution": {
     "iopub.execute_input": "2024-02-26T13:55:22.640883Z",
     "iopub.status.busy": "2024-02-26T13:55:22.640169Z",
     "iopub.status.idle": "2024-02-26T13:55:22.645718Z",
     "shell.execute_reply": "2024-02-26T13:55:22.645165Z",
     "shell.execute_reply.started": "2024-02-26T13:55:22.640847Z"
    },
    "id": "IILxVI2J71bv"
   },
   "outputs": [],
   "source": [
    "tb_board = RUNS_PATH + \"1d_cnn_three_blocks_sgd\"\n",
    "writer = SummaryWriter(tb_board)"
   ]
  },
  {
   "cell_type": "code",
   "execution_count": 16,
   "metadata": {
    "execution": {
     "iopub.execute_input": "2024-02-26T13:55:34.756179Z",
     "iopub.status.busy": "2024-02-26T13:55:34.755449Z",
     "iopub.status.idle": "2024-02-26T13:55:34.964008Z",
     "shell.execute_reply": "2024-02-26T13:55:34.963189Z",
     "shell.execute_reply.started": "2024-02-26T13:55:34.756149Z"
    }
   },
   "outputs": [],
   "source": [
    "writer.add_graph(model, sample_x)"
   ]
  },
  {
   "cell_type": "code",
   "execution_count": 17,
   "metadata": {
    "execution": {
     "iopub.execute_input": "2024-02-26T13:55:36.086990Z",
     "iopub.status.busy": "2024-02-26T13:55:36.086614Z",
     "iopub.status.idle": "2024-02-26T13:55:36.092894Z",
     "shell.execute_reply": "2024-02-26T13:55:36.091441Z",
     "shell.execute_reply.started": "2024-02-26T13:55:36.086959Z"
    },
    "id": "b2sKZQmF1W42"
   },
   "outputs": [],
   "source": [
    "EPOCHS = 200\n",
    "\n",
    "acc_list = []\n",
    "f1_list = []\n",
    "recall_list = []\n",
    "precision_list = []\n",
    "\n",
    "loss_list = []"
   ]
  },
  {
   "cell_type": "code",
   "execution_count": 18,
   "metadata": {
    "execution": {
     "iopub.execute_input": "2024-02-26T13:55:36.619868Z",
     "iopub.status.busy": "2024-02-26T13:55:36.619307Z",
     "iopub.status.idle": "2024-02-26T13:55:37.185389Z",
     "shell.execute_reply": "2024-02-26T13:55:37.185035Z",
     "shell.execute_reply.started": "2024-02-26T13:55:36.619839Z"
    },
    "id": "MZPInsjR1h93"
   },
   "outputs": [],
   "source": [
    "loss_fn = nn.CrossEntropyLoss()\n",
    "optimizer = optim.SGD(model.parameters(), lr=1e-3, momentum=0.9)"
   ]
  },
  {
   "cell_type": "code",
   "execution_count": 19,
   "metadata": {
    "colab": {
     "base_uri": "https://localhost:8080/"
    },
    "execution": {
     "iopub.execute_input": "2024-02-26T13:55:37.657006Z",
     "iopub.status.busy": "2024-02-26T13:55:37.656617Z",
     "iopub.status.idle": "2024-02-26T13:56:31.641773Z",
     "shell.execute_reply": "2024-02-26T13:56:31.641316Z",
     "shell.execute_reply.started": "2024-02-26T13:55:37.656985Z"
    },
    "id": "kQ6ZNBVr1vSy",
    "outputId": "75126163-c2a4-4920-f770-54003458664d",
    "scrolled": true
   },
   "outputs": [
    {
     "name": "stdout",
     "output_type": "stream",
     "text": [
      "Epoch: 1 - Loss: 1.3858726263046264 - Accuracy: 0.22608695652173913 - Precision: 0.22700713135495745 - Recall: 0.22608695652173913 - F1: 0.22613777526821005\n",
      "Epoch: 2 - Loss: 1.3685578266779581 - Accuracy: 0.3217391304347826 - Precision: 0.32900472840502826 - Recall: 0.3217391304347826 - F1: 0.3238428806116096\n",
      "Epoch: 3 - Loss: 1.3480344851811727 - Accuracy: 0.34782608695652173 - Precision: 0.3527883253283711 - Recall: 0.34782608695652173 - F1: 0.34533932740106843\n",
      "Epoch: 4 - Loss: 1.2482320626576742 - Accuracy: 0.5391304347826087 - Precision: 0.5819746376811594 - Recall: 0.5391304347826087 - F1: 0.5553698208462317\n",
      "Epoch: 5 - Loss: 1.257092499732971 - Accuracy: 0.5130434782608696 - Precision: 0.5232796189317929 - Recall: 0.5130434782608696 - F1: 0.5162693092364297\n",
      "Epoch: 6 - Loss: 1.2106213410695394 - Accuracy: 0.5652173913043478 - Precision: 0.5756951563116592 - Recall: 0.5652173913043478 - F1: 0.5677392238359875\n",
      "Epoch: 7 - Loss: 1.2117010593414306 - Accuracy: 0.5478260869565217 - Precision: 0.539191104494657 - Recall: 0.5478260869565217 - F1: 0.5407354168444349\n",
      "Epoch: 8 - Loss: 1.180456554889679 - Accuracy: 0.591304347826087 - Precision: 0.590780937851876 - Recall: 0.591304347826087 - F1: 0.5884538784437672\n",
      "Epoch: 9 - Loss: 1.1840713500976563 - Accuracy: 0.5652173913043478 - Precision: 0.5456560830473873 - Recall: 0.5652173913043478 - F1: 0.5442183592804711\n",
      "Epoch: 10 - Loss: 1.1585917631785074 - Accuracy: 0.6434782608695652 - Precision: 0.6588685596869741 - Recall: 0.6434782608695652 - F1: 0.6440771273257442\n",
      "Epoch: 11 - Loss: 1.1643173813819885 - Accuracy: 0.591304347826087 - Precision: 0.5927584177835894 - Recall: 0.591304347826087 - F1: 0.5907905367873554\n",
      "Epoch: 12 - Loss: 1.1455059925715128 - Accuracy: 0.6 - Precision: 0.600989966555184 - Recall: 0.6 - F1: 0.5908981115502854\n",
      "Epoch: 13 - Loss: 1.1113609512646994 - Accuracy: 0.6434782608695652 - Precision: 0.651055900621118 - Recall: 0.6434782608695652 - F1: 0.6442982788103047\n",
      "Epoch: 14 - Loss: 1.1455507755279541 - Accuracy: 0.591304347826087 - Precision: 0.5959407665505226 - Recall: 0.591304347826087 - F1: 0.5889100499607746\n",
      "Epoch: 15 - Loss: 1.131050670146942 - Accuracy: 0.6260869565217392 - Precision: 0.6335674760022586 - Recall: 0.6260869565217392 - F1: 0.6280027893909196\n",
      "Epoch: 16 - Loss: 1.0900555451711018 - Accuracy: 0.7130434782608696 - Precision: 0.7095962732919254 - Recall: 0.7130434782608696 - F1: 0.7105494114554337\n",
      "Epoch: 17 - Loss: 1.0927521904309592 - Accuracy: 0.6782608695652174 - Precision: 0.6879434092477571 - Recall: 0.6782608695652174 - F1: 0.6809135522494303\n",
      "Epoch: 18 - Loss: 1.1001002589861553 - Accuracy: 0.6521739130434783 - Precision: 0.6465345693383522 - Recall: 0.6521739130434783 - F1: 0.6454100988935981\n",
      "Epoch: 19 - Loss: 1.088700795173645 - Accuracy: 0.7130434782608696 - Precision: 0.7167746456442109 - Recall: 0.7130434782608696 - F1: 0.7143270950976893\n",
      "Epoch: 20 - Loss: 1.0995598117510477 - Accuracy: 0.6782608695652174 - Precision: 0.6797885763000854 - Recall: 0.6782608695652174 - F1: 0.6755563347358579\n",
      "Epoch: 21 - Loss: 1.073998514811198 - Accuracy: 0.7391304347826086 - Precision: 0.7403344481605351 - Recall: 0.7391304347826086 - F1: 0.7385732857349209\n",
      "Epoch: 22 - Loss: 1.100676691532135 - Accuracy: 0.6782608695652174 - Precision: 0.6843007556051034 - Recall: 0.6782608695652174 - F1: 0.6800197616823029\n",
      "Epoch: 23 - Loss: 1.1012614965438843 - Accuracy: 0.6521739130434783 - Precision: 0.655197777051324 - Recall: 0.6521739130434783 - F1: 0.6528199698473125\n",
      "Epoch: 24 - Loss: 1.0788929025332132 - Accuracy: 0.6695652173913044 - Precision: 0.6748740245261984 - Recall: 0.6695652173913044 - F1: 0.6719433421197464\n",
      "Epoch: 25 - Loss: 1.064332369963328 - Accuracy: 0.6695652173913044 - Precision: 0.6717040640518901 - Recall: 0.6695652173913044 - F1: 0.670333883691066\n",
      "Epoch: 26 - Loss: 1.0630552530288697 - Accuracy: 0.6695652173913044 - Precision: 0.6693122529644269 - Recall: 0.6695652173913044 - F1: 0.6679089026915114\n",
      "Epoch: 27 - Loss: 1.0728262941042581 - Accuracy: 0.7130434782608696 - Precision: 0.7105873906364789 - Recall: 0.7130434782608696 - F1: 0.709617863616194\n",
      "Epoch: 28 - Loss: 1.0525617957115174 - Accuracy: 0.6869565217391305 - Precision: 0.6816213043126751 - Recall: 0.6869565217391305 - F1: 0.6829591476038985\n",
      "Epoch: 29 - Loss: 1.0615580797195434 - Accuracy: 0.6956521739130435 - Precision: 0.6942339544513457 - Recall: 0.6956521739130435 - F1: 0.6935204849947143\n",
      "Epoch: 30 - Loss: 1.0515542427698772 - Accuracy: 0.7478260869565218 - Precision: 0.7484448160535118 - Recall: 0.7478260869565218 - F1: 0.746912946956619\n",
      "Epoch: 31 - Loss: 1.07331493695577 - Accuracy: 0.7043478260869566 - Precision: 0.7012980652693337 - Recall: 0.7043478260869566 - F1: 0.6985057471264368\n",
      "Epoch: 32 - Loss: 1.0385629733403523 - Accuracy: 0.7043478260869566 - Precision: 0.7058397271952259 - Recall: 0.7043478260869566 - F1: 0.6992185691294532\n",
      "Epoch: 33 - Loss: 1.0385744134585062 - Accuracy: 0.7565217391304347 - Precision: 0.7594094342789995 - Recall: 0.7565217391304347 - F1: 0.7565299929341269\n",
      "Epoch: 34 - Loss: 1.0339243054389953 - Accuracy: 0.7739130434782608 - Precision: 0.7797346539085669 - Recall: 0.7739130434782608 - F1: 0.7753564563258076\n",
      "Epoch: 35 - Loss: 1.042967975139618 - Accuracy: 0.7217391304347827 - Precision: 0.7190204806989439 - Recall: 0.7217391304347827 - F1: 0.7197183992888548\n",
      "Epoch: 36 - Loss: 1.0433151443799338 - Accuracy: 0.7217391304347827 - Precision: 0.7180782985130811 - Recall: 0.7217391304347827 - F1: 0.7189010074593599\n",
      "Epoch: 37 - Loss: 1.0173939029375711 - Accuracy: 0.7391304347826086 - Precision: 0.7374725566278646 - Recall: 0.7391304347826086 - F1: 0.7349635334931217\n",
      "Epoch: 38 - Loss: 1.0334472497304281 - Accuracy: 0.7130434782608696 - Precision: 0.7091765330149569 - Recall: 0.7130434782608696 - F1: 0.7080647412089891\n",
      "Epoch: 39 - Loss: 1.0721556266148886 - Accuracy: 0.6869565217391305 - Precision: 0.6913524965092205 - Recall: 0.6869565217391305 - F1: 0.6845010079845072\n",
      "Epoch: 40 - Loss: 1.0116281072298685 - Accuracy: 0.7565217391304347 - Precision: 0.7578187796857874 - Recall: 0.7565217391304347 - F1: 0.7549875469996806\n",
      "Epoch: 41 - Loss: 1.0097015539805094 - Accuracy: 0.7652173913043478 - Precision: 0.7629247083775186 - Recall: 0.7652173913043478 - F1: 0.763187344742788\n",
      "Epoch: 42 - Loss: 1.0155171275138855 - Accuracy: 0.7478260869565218 - Precision: 0.7454600606673407 - Recall: 0.7478260869565218 - F1: 0.7456332915077905\n",
      "Epoch: 43 - Loss: 0.9865672548611959 - Accuracy: 0.7739130434782608 - Precision: 0.7755619967793881 - Recall: 0.7739130434782608 - F1: 0.774223602484472\n",
      "Epoch: 44 - Loss: 1.0156465649604798 - Accuracy: 0.7565217391304347 - Precision: 0.7606589147286822 - Recall: 0.7565217391304347 - F1: 0.7559109916254722\n",
      "Epoch: 45 - Loss: 1.0264423370361329 - Accuracy: 0.7478260869565218 - Precision: 0.7477257525083612 - Recall: 0.7478260869565218 - F1: 0.7466622645013515\n",
      "Epoch: 46 - Loss: 1.023214622338613 - Accuracy: 0.7217391304347827 - Precision: 0.7347957839262187 - Recall: 0.7217391304347827 - F1: 0.7247869047735284\n",
      "Epoch: 47 - Loss: 1.0217665314674378 - Accuracy: 0.7739130434782608 - Precision: 0.776602564102564 - Recall: 0.7739130434782608 - F1: 0.7746238771048176\n",
      "Epoch: 48 - Loss: 0.983006497224172 - Accuracy: 0.7913043478260869 - Precision: 0.7910318691901149 - Recall: 0.7913043478260869 - F1: 0.7905089542770702\n",
      "Epoch: 49 - Loss: 0.9906633019447326 - Accuracy: 0.7739130434782608 - Precision: 0.7705886839861804 - Recall: 0.7739130434782608 - F1: 0.768855631066783\n",
      "Epoch: 50 - Loss: 0.9980271339416504 - Accuracy: 0.7913043478260869 - Precision: 0.7947590675279462 - Recall: 0.7913043478260869 - F1: 0.7893392238970377\n",
      "Epoch: 51 - Loss: 0.9968276182810466 - Accuracy: 0.7739130434782608 - Precision: 0.7808546332894158 - Recall: 0.7739130434782608 - F1: 0.775782554509343\n",
      "Epoch: 52 - Loss: 0.9965672294298807 - Accuracy: 0.8 - Precision: 0.7994374130641362 - Recall: 0.8 - F1: 0.7994722476180516\n",
      "Epoch: 53 - Loss: 1.014670479297638 - Accuracy: 0.7391304347826086 - Precision: 0.7373872504307287 - Recall: 0.7391304347826086 - F1: 0.7370327200135286\n",
      "Epoch: 54 - Loss: 0.9987292766571045 - Accuracy: 0.7652173913043478 - Precision: 0.7648033126293996 - Recall: 0.7652173913043478 - F1: 0.7645425624216715\n",
      "Epoch: 55 - Loss: 1.0016340772310892 - Accuracy: 0.7478260869565218 - Precision: 0.7528914141414141 - Recall: 0.7478260869565218 - F1: 0.7487861224693951\n",
      "Epoch: 56 - Loss: 0.9599780877431233 - Accuracy: 0.808695652173913 - Precision: 0.808513609049134 - Recall: 0.808695652173913 - F1: 0.8076999217667983\n",
      "Epoch: 57 - Loss: 1.0105968554814657 - Accuracy: 0.7130434782608696 - Precision: 0.7093969144460028 - Recall: 0.7130434782608696 - F1: 0.710339663870947\n",
      "Epoch: 58 - Loss: 0.9737037936846415 - Accuracy: 0.8 - Precision: 0.797987117552335 - Recall: 0.8 - F1: 0.7970065680468347\n",
      "Epoch: 59 - Loss: 0.9905358552932739 - Accuracy: 0.782608695652174 - Precision: 0.7814285714285715 - Recall: 0.782608695652174 - F1: 0.7811079376239085\n",
      "Epoch: 60 - Loss: 0.9945934693018595 - Accuracy: 0.7652173913043478 - Precision: 0.776391712886987 - Recall: 0.7652173913043478 - F1: 0.7664493666735566\n",
      "Epoch: 61 - Loss: 0.9704338073730469 - Accuracy: 0.782608695652174 - Precision: 0.795649961151421 - Recall: 0.782608695652174 - F1: 0.7865996322518062\n",
      "Epoch: 62 - Loss: 0.9947537024815877 - Accuracy: 0.7652173913043478 - Precision: 0.7666780176345394 - Recall: 0.7652173913043478 - F1: 0.765588882773803\n",
      "Epoch: 63 - Loss: 0.9697704037030538 - Accuracy: 0.782608695652174 - Precision: 0.78630673081474 - Recall: 0.782608695652174 - F1: 0.7831564865340609\n",
      "Epoch: 64 - Loss: 0.9917866031328837 - Accuracy: 0.7565217391304347 - Precision: 0.7604010025062656 - Recall: 0.7565217391304347 - F1: 0.7570637478463565\n",
      "Epoch: 65 - Loss: 0.9479532798131307 - Accuracy: 0.8260869565217391 - Precision: 0.8273236369292993 - Recall: 0.8260869565217391 - F1: 0.8256812229153768\n",
      "Epoch: 66 - Loss: 0.9965481003125508 - Accuracy: 0.7739130434782608 - Precision: 0.783866342476269 - Recall: 0.7739130434782608 - F1: 0.7752464776860495\n",
      "Epoch: 67 - Loss: 0.9651504715283712 - Accuracy: 0.8 - Precision: 0.802119531228757 - Recall: 0.8 - F1: 0.800279576523795\n",
      "Epoch: 68 - Loss: 0.9834711154301962 - Accuracy: 0.782608695652174 - Precision: 0.7837712580024351 - Recall: 0.782608695652174 - F1: 0.7828307449337361\n",
      "Epoch: 69 - Loss: 0.9813525239626567 - Accuracy: 0.808695652173913 - Precision: 0.8118878802357062 - Recall: 0.808695652173913 - F1: 0.8095986190458827\n",
      "Epoch: 70 - Loss: 0.9656668782234192 - Accuracy: 0.8173913043478261 - Precision: 0.8222052716331892 - Recall: 0.8173913043478261 - F1: 0.8174244306418219\n",
      "Epoch: 71 - Loss: 0.9732338547706604 - Accuracy: 0.808695652173913 - Precision: 0.8088462262375304 - Recall: 0.808695652173913 - F1: 0.8076665973233479\n",
      "Epoch: 72 - Loss: 0.9875829656918843 - Accuracy: 0.8 - Precision: 0.802468888443643 - Recall: 0.8 - F1: 0.7974768582840445\n",
      "Epoch: 73 - Loss: 0.9802265206972758 - Accuracy: 0.7739130434782608 - Precision: 0.7749273271012402 - Recall: 0.7739130434782608 - F1: 0.7738591151208195\n",
      "Epoch: 74 - Loss: 0.990810736020406 - Accuracy: 0.808695652173913 - Precision: 0.8205368474064126 - Recall: 0.808695652173913 - F1: 0.8112699581369658\n",
      "Epoch: 75 - Loss: 0.9786931276321411 - Accuracy: 0.7913043478260869 - Precision: 0.7957763975155279 - Recall: 0.7913043478260869 - F1: 0.7929841897233201\n",
      "Epoch: 76 - Loss: 0.9421916842460633 - Accuracy: 0.8260869565217391 - Precision: 0.8247428705002338 - Recall: 0.8260869565217391 - F1: 0.8244254171776063\n",
      "Epoch: 77 - Loss: 0.985543155670166 - Accuracy: 0.7913043478260869 - Precision: 0.7996293952815692 - Recall: 0.7913043478260869 - F1: 0.7944502702266676\n",
      "Epoch: 78 - Loss: 0.9698447108268737 - Accuracy: 0.808695652173913 - Precision: 0.8123811470333209 - Recall: 0.808695652173913 - F1: 0.8099062579633196\n",
      "Epoch: 79 - Loss: 0.9585766752560934 - Accuracy: 0.8173913043478261 - Precision: 0.8204836323097192 - Recall: 0.8173913043478261 - F1: 0.8185626490552194\n",
      "Epoch: 80 - Loss: 0.9681845307350159 - Accuracy: 0.7913043478260869 - Precision: 0.7911067193675889 - Recall: 0.7913043478260869 - F1: 0.7910658854969679\n",
      "Epoch: 81 - Loss: 0.9461252450942993 - Accuracy: 0.8260869565217391 - Precision: 0.8442479602367401 - Recall: 0.8260869565217391 - F1: 0.8302700537025479\n",
      "Epoch: 82 - Loss: 0.9650474548339844 - Accuracy: 0.782608695652174 - Precision: 0.7869851887243191 - Recall: 0.782608695652174 - F1: 0.784467601309272\n",
      "Epoch: 83 - Loss: 0.9707637111345927 - Accuracy: 0.8347826086956521 - Precision: 0.8367216117216119 - Recall: 0.8347826086956521 - F1: 0.8354934103957419\n",
      "Epoch: 84 - Loss: 0.9553608973821004 - Accuracy: 0.8 - Precision: 0.8073220258002867 - Recall: 0.8 - F1: 0.8017205757167635\n",
      "Epoch: 85 - Loss: 0.9487129370371501 - Accuracy: 0.8173913043478261 - Precision: 0.8250547713156409 - Recall: 0.8173913043478261 - F1: 0.8184408449370086\n",
      "Epoch: 86 - Loss: 0.9506756424903869 - Accuracy: 0.808695652173913 - Precision: 0.8335748792270531 - Recall: 0.808695652173913 - F1: 0.8131608139008695\n",
      "Epoch: 87 - Loss: 0.9487760305404663 - Accuracy: 0.8260869565217391 - Precision: 0.828682911291607 - Recall: 0.8260869565217391 - F1: 0.8264334062038283\n",
      "Epoch: 88 - Loss: 0.9972247878710429 - Accuracy: 0.7391304347826086 - Precision: 0.7389248432726694 - Recall: 0.7391304347826086 - F1: 0.7378226564112552\n",
      "Epoch: 89 - Loss: 0.968591856956482 - Accuracy: 0.8260869565217391 - Precision: 0.8261076604554864 - Recall: 0.8260869565217391 - F1: 0.825080599283311\n",
      "Epoch: 90 - Loss: 0.9666923761367798 - Accuracy: 0.808695652173913 - Precision: 0.8184502728392888 - Recall: 0.808695652173913 - F1: 0.8119174924454429\n",
      "Epoch: 91 - Loss: 0.9602041562398275 - Accuracy: 0.8173913043478261 - Precision: 0.8197303887738671 - Recall: 0.8173913043478261 - F1: 0.8175345333351696\n",
      "Epoch: 92 - Loss: 0.9585506757100423 - Accuracy: 0.7739130434782608 - Precision: 0.7738603425559948 - Recall: 0.7739130434782608 - F1: 0.7737623843445508\n",
      "Epoch: 93 - Loss: 0.9693871974945069 - Accuracy: 0.808695652173913 - Precision: 0.8164449753145405 - Recall: 0.808695652173913 - F1: 0.8108403773408678\n",
      "Epoch: 94 - Loss: 0.950355573495229 - Accuracy: 0.8347826086956521 - Precision: 0.8351648351648352 - Recall: 0.8347826086956521 - F1: 0.8340263007689692\n",
      "Epoch: 95 - Loss: 0.9357289632161458 - Accuracy: 0.8260869565217391 - Precision: 0.8321630314765326 - Recall: 0.8260869565217391 - F1: 0.8283184310513503\n",
      "Epoch: 96 - Loss: 0.9469998995463054 - Accuracy: 0.808695652173913 - Precision: 0.8143099219620961 - Recall: 0.808695652173913 - F1: 0.8103036974033122\n",
      "Epoch: 97 - Loss: 0.9341240127881368 - Accuracy: 0.8173913043478261 - Precision: 0.8191113653699467 - Recall: 0.8173913043478261 - F1: 0.8179196512315564\n",
      "Epoch: 98 - Loss: 0.9279872496922811 - Accuracy: 0.8260869565217391 - Precision: 0.8369237010541359 - Recall: 0.8260869565217391 - F1: 0.8287937373250538\n",
      "Epoch: 99 - Loss: 0.968394649028778 - Accuracy: 0.7913043478260869 - Precision: 0.7980981113132143 - Recall: 0.7913043478260869 - F1: 0.7936840174054395\n",
      "Epoch: 100 - Loss: 0.9392778356870015 - Accuracy: 0.8434782608695652 - Precision: 0.8530992196209588 - Recall: 0.8434782608695652 - F1: 0.8464458921554825\n",
      "Epoch: 101 - Loss: 0.9154922842979432 - Accuracy: 0.8434782608695652 - Precision: 0.8539710144927537 - Recall: 0.8434782608695652 - F1: 0.846677720461803\n",
      "Epoch: 102 - Loss: 0.9595103065172831 - Accuracy: 0.8173913043478261 - Precision: 0.8214588095022878 - Recall: 0.8173913043478261 - F1: 0.8182633500266158\n",
      "Epoch: 103 - Loss: 0.949481193224589 - Accuracy: 0.8173913043478261 - Precision: 0.8182612623227682 - Recall: 0.8173913043478261 - F1: 0.8174465311529759\n",
      "Epoch: 104 - Loss: 0.9482719977696736 - Accuracy: 0.8 - Precision: 0.8067470719644634 - Recall: 0.8 - F1: 0.8022743885917083\n",
      "Epoch: 105 - Loss: 0.9411609649658204 - Accuracy: 0.808695652173913 - Precision: 0.8183504401645332 - Recall: 0.808695652173913 - F1: 0.8094154306249716\n",
      "Epoch: 106 - Loss: 0.9598371307055156 - Accuracy: 0.8173913043478261 - Precision: 0.8187788311358105 - Recall: 0.8173913043478261 - F1: 0.816515252863079\n",
      "Epoch: 107 - Loss: 0.9638323386510214 - Accuracy: 0.7913043478260869 - Precision: 0.7958132045088568 - Recall: 0.7913043478260869 - F1: 0.7918169336384439\n",
      "Epoch: 108 - Loss: 0.9703533411026001 - Accuracy: 0.7913043478260869 - Precision: 0.7982463768115942 - Recall: 0.7913043478260869 - F1: 0.7935654520282895\n",
      "Epoch: 109 - Loss: 0.9461723685264587 - Accuracy: 0.8347826086956521 - Precision: 0.8475148822974911 - Recall: 0.8347826086956521 - F1: 0.8384956821850766\n",
      "Epoch: 110 - Loss: 0.9364290952682495 - Accuracy: 0.8173913043478261 - Precision: 0.8210492744817688 - Recall: 0.8173913043478261 - F1: 0.8178528819261084\n",
      "Epoch: 111 - Loss: 0.9384843905766805 - Accuracy: 0.7913043478260869 - Precision: 0.7997160695670263 - Recall: 0.7913043478260869 - F1: 0.7901083853135568\n",
      "Epoch: 112 - Loss: 0.9292697072029114 - Accuracy: 0.8260869565217391 - Precision: 0.8308291527313267 - Recall: 0.8260869565217391 - F1: 0.8270229704677482\n",
      "Epoch: 113 - Loss: 0.971656612555186 - Accuracy: 0.8 - Precision: 0.8036405242354899 - Recall: 0.8 - F1: 0.8006569089318037\n",
      "Epoch: 114 - Loss: 0.9518766641616822 - Accuracy: 0.8260869565217391 - Precision: 0.8260869565217391 - Recall: 0.8260869565217391 - F1: 0.8260869565217391\n",
      "Epoch: 115 - Loss: 0.9223840355873107 - Accuracy: 0.8347826086956521 - Precision: 0.8411207729468599 - Recall: 0.8347826086956521 - F1: 0.8356328502415458\n",
      "Epoch: 116 - Loss: 0.9364511728286743 - Accuracy: 0.8260869565217391 - Precision: 0.8359794338055209 - Recall: 0.8260869565217391 - F1: 0.8284136273296637\n",
      "Epoch: 117 - Loss: 0.9250110785166422 - Accuracy: 0.8347826086956521 - Precision: 0.8405207220950928 - Recall: 0.8347826086956521 - F1: 0.8366340181557573\n",
      "Epoch: 118 - Loss: 0.9434779802958171 - Accuracy: 0.808695652173913 - Precision: 0.8217104462321853 - Recall: 0.808695652173913 - F1: 0.8120535015938742\n",
      "Epoch: 119 - Loss: 0.9280121445655822 - Accuracy: 0.8260869565217391 - Precision: 0.8322240099631404 - Recall: 0.8260869565217391 - F1: 0.8275510204081632\n",
      "Epoch: 120 - Loss: 0.9346197446187338 - Accuracy: 0.8347826086956521 - Precision: 0.8399108138238573 - Recall: 0.8347826086956521 - F1: 0.8359827409309755\n",
      "Epoch: 121 - Loss: 0.9587656299273173 - Accuracy: 0.808695652173913 - Precision: 0.8102974828375287 - Recall: 0.808695652173913 - F1: 0.8091700467278636\n",
      "Epoch: 122 - Loss: 0.9598952730496725 - Accuracy: 0.8173913043478261 - Precision: 0.8207233989842686 - Recall: 0.8173913043478261 - F1: 0.8181612435838396\n",
      "Epoch: 123 - Loss: 0.9194803953170776 - Accuracy: 0.8347826086956521 - Precision: 0.8391907863303745 - Recall: 0.8347826086956521 - F1: 0.8361323758512381\n",
      "Epoch: 124 - Loss: 0.9613911191622416 - Accuracy: 0.8 - Precision: 0.8 - Recall: 0.8 - F1: 0.8\n",
      "Epoch: 125 - Loss: 0.9353983243306477 - Accuracy: 0.8 - Precision: 0.7993235971627753 - Recall: 0.8 - F1: 0.7976277125501023\n",
      "Epoch: 126 - Loss: 0.9505740801493326 - Accuracy: 0.8260869565217391 - Precision: 0.8370152761457109 - Recall: 0.8260869565217391 - F1: 0.8292909574897154\n",
      "Epoch: 127 - Loss: 0.9243240435918172 - Accuracy: 0.8260869565217391 - Precision: 0.8287015276145713 - Recall: 0.8260869565217391 - F1: 0.8267369689530589\n",
      "Epoch: 128 - Loss: 0.9437232255935669 - Accuracy: 0.808695652173913 - Precision: 0.8138098572881182 - Recall: 0.808695652173913 - F1: 0.8097501725327811\n",
      "Epoch: 129 - Loss: 0.9484287023544311 - Accuracy: 0.7913043478260869 - Precision: 0.803480738263347 - Recall: 0.7913043478260869 - F1: 0.7944275142967525\n",
      "Epoch: 130 - Loss: 0.9431037863095602 - Accuracy: 0.8260869565217391 - Precision: 0.8295949862906385 - Recall: 0.8260869565217391 - F1: 0.8270372160386898\n",
      "Epoch: 131 - Loss: 0.9322552561759949 - Accuracy: 0.8347826086956521 - Precision: 0.8410813823857302 - Recall: 0.8347826086956521 - F1: 0.8364399832672734\n",
      "Epoch: 132 - Loss: 0.9388840794563293 - Accuracy: 0.8434782608695652 - Precision: 0.844258639910814 - Recall: 0.8434782608695652 - F1: 0.8437405590229394\n",
      "Epoch: 133 - Loss: 0.9591920137405395 - Accuracy: 0.8173913043478261 - Precision: 0.8239687848383501 - Recall: 0.8173913043478261 - F1: 0.819226717177194\n",
      "Epoch: 134 - Loss: 0.9386628826459249 - Accuracy: 0.8 - Precision: 0.805913043478261 - Recall: 0.8 - F1: 0.8017214803970838\n",
      "Epoch: 135 - Loss: 0.9506259520848592 - Accuracy: 0.782608695652174 - Precision: 0.7813382269904008 - Recall: 0.782608695652174 - F1: 0.7805722597697479\n",
      "Epoch: 136 - Loss: 0.9289987206459045 - Accuracy: 0.8347826086956521 - Precision: 0.8366682981211083 - Recall: 0.8347826086956521 - F1: 0.8349037917462216\n",
      "Epoch: 137 - Loss: 0.9550860007603963 - Accuracy: 0.8 - Precision: 0.8016845351779629 - Recall: 0.8 - F1: 0.7998011629154146\n",
      "Epoch: 138 - Loss: 0.9385858257611592 - Accuracy: 0.8260869565217391 - Precision: 0.8339479747305835 - Recall: 0.8260869565217391 - F1: 0.8267465343039013\n",
      "Epoch: 139 - Loss: 0.9286065578460694 - Accuracy: 0.8260869565217391 - Precision: 0.8263975155279504 - Recall: 0.8260869565217391 - F1: 0.8257914759631626\n",
      "Epoch: 140 - Loss: 0.913539719581604 - Accuracy: 0.8608695652173913 - Precision: 0.8650434782608695 - Recall: 0.8608695652173913 - F1: 0.8611916264090177\n",
      "Epoch: 141 - Loss: 0.9356688936551412 - Accuracy: 0.8260869565217391 - Precision: 0.8392510605404159 - Recall: 0.8260869565217391 - F1: 0.8295869348043262\n",
      "Epoch: 142 - Loss: 0.9437850713729858 - Accuracy: 0.808695652173913 - Precision: 0.8080331262939958 - Recall: 0.808695652173913 - F1: 0.8077733860342554\n",
      "Epoch: 143 - Loss: 0.9306944727897644 - Accuracy: 0.8434782608695652 - Precision: 0.8437771136604646 - Recall: 0.8434782608695652 - F1: 0.8434997316156737\n",
      "Epoch: 144 - Loss: 0.944592543443044 - Accuracy: 0.8260869565217391 - Precision: 0.8279495062103758 - Recall: 0.8260869565217391 - F1: 0.8260603371783497\n",
      "Epoch: 145 - Loss: 0.9318978349367778 - Accuracy: 0.8173913043478261 - Precision: 0.8190316929447364 - Recall: 0.8173913043478261 - F1: 0.8172613917628628\n",
      "Epoch: 146 - Loss: 0.9481252113978068 - Accuracy: 0.8260869565217391 - Precision: 0.8275083612040135 - Recall: 0.8260869565217391 - F1: 0.8266841532102249\n",
      "Epoch: 147 - Loss: 0.9197107354799906 - Accuracy: 0.8521739130434782 - Precision: 0.8545088566827697 - Recall: 0.8521739130434782 - F1: 0.8529073609092113\n",
      "Epoch: 148 - Loss: 0.9331351161003113 - Accuracy: 0.8260869565217391 - Precision: 0.834579188927015 - Recall: 0.8260869565217391 - F1: 0.8281290289668678\n",
      "Epoch: 149 - Loss: 0.94689861536026 - Accuracy: 0.808695652173913 - Precision: 0.8197014274817478 - Recall: 0.808695652173913 - F1: 0.8123169736442047\n",
      "Epoch: 150 - Loss: 0.9132050514221192 - Accuracy: 0.8434782608695652 - Precision: 0.8560245089810308 - Recall: 0.8434782608695652 - F1: 0.8463108431778509\n",
      "Epoch: 151 - Loss: 0.9686981161435445 - Accuracy: 0.7913043478260869 - Precision: 0.8028845534497708 - Recall: 0.7913043478260869 - F1: 0.7938453598612684\n",
      "Epoch: 152 - Loss: 0.9176152149836222 - Accuracy: 0.8260869565217391 - Precision: 0.8378235806908576 - Recall: 0.8260869565217391 - F1: 0.8289311844190225\n",
      "Epoch: 153 - Loss: 0.909800632794698 - Accuracy: 0.8434782608695652 - Precision: 0.8457676381589424 - Recall: 0.8434782608695652 - F1: 0.8437111896474275\n",
      "Epoch: 154 - Loss: 0.9168051679929098 - Accuracy: 0.8608695652173913 - Precision: 0.8607566346696781 - Recall: 0.8608695652173913 - F1: 0.8604858204188448\n",
      "Epoch: 155 - Loss: 0.9206564029057821 - Accuracy: 0.8173913043478261 - Precision: 0.8205004335439118 - Recall: 0.8173913043478261 - F1: 0.8172912393055487\n",
      "Epoch: 156 - Loss: 0.9025699893633524 - Accuracy: 0.8434782608695652 - Precision: 0.8541082888908976 - Recall: 0.8434782608695652 - F1: 0.8464886666128902\n",
      "Epoch: 157 - Loss: 0.9381791949272156 - Accuracy: 0.8260869565217391 - Precision: 0.8274425786302776 - Recall: 0.8260869565217391 - F1: 0.8253098493796294\n",
      "Epoch: 158 - Loss: 0.8894872307777405 - Accuracy: 0.8869565217391304 - Precision: 0.8970484464397509 - Recall: 0.8869565217391304 - F1: 0.8894889892715979\n",
      "Epoch: 159 - Loss: 0.9234208385149638 - Accuracy: 0.8260869565217391 - Precision: 0.8302608695652174 - Recall: 0.8260869565217391 - F1: 0.8264895330112723\n",
      "Epoch: 160 - Loss: 0.9641868551572164 - Accuracy: 0.8 - Precision: 0.801769534813013 - Recall: 0.8 - F1: 0.8006400918219955\n",
      "Epoch: 161 - Loss: 0.931883982817332 - Accuracy: 0.8173913043478261 - Precision: 0.8174216027874565 - Recall: 0.8173913043478261 - F1: 0.8172952510099727\n",
      "Epoch: 162 - Loss: 0.9411025842030843 - Accuracy: 0.8173913043478261 - Precision: 0.8312284334023464 - Recall: 0.8173913043478261 - F1: 0.8217298429182278\n",
      "Epoch: 163 - Loss: 0.9252423206965129 - Accuracy: 0.8173913043478261 - Precision: 0.8325346483607354 - Recall: 0.8173913043478261 - F1: 0.8217958586157345\n",
      "Epoch: 164 - Loss: 0.9358095288276672 - Accuracy: 0.8260869565217391 - Precision: 0.8317072875425279 - Recall: 0.8260869565217391 - F1: 0.8273927232188103\n",
      "Epoch: 165 - Loss: 0.927899169921875 - Accuracy: 0.8260869565217391 - Precision: 0.8300374682525712 - Recall: 0.8260869565217391 - F1: 0.8272137582369684\n",
      "Epoch: 166 - Loss: 0.91426127354304 - Accuracy: 0.8521739130434782 - Precision: 0.8549437245089421 - Recall: 0.8521739130434782 - F1: 0.8523063671774063\n",
      "Epoch: 167 - Loss: 0.9174165447552999 - Accuracy: 0.8695652173913043 - Precision: 0.8731718340413993 - Recall: 0.8695652173913043 - F1: 0.8702428006775832\n",
      "Epoch: 168 - Loss: 0.897329835096995 - Accuracy: 0.8608695652173913 - Precision: 0.8700678939809374 - Recall: 0.8608695652173913 - F1: 0.8635867462786981\n",
      "Epoch: 169 - Loss: 0.8994963844617208 - Accuracy: 0.8608695652173913 - Precision: 0.8650579189709625 - Recall: 0.8608695652173913 - F1: 0.8617258139270983\n",
      "Epoch: 170 - Loss: 0.8944557269414266 - Accuracy: 0.8521739130434782 - Precision: 0.8583476761394381 - Recall: 0.8521739130434782 - F1: 0.8541110644784492\n",
      "Epoch: 171 - Loss: 0.9118412733078003 - Accuracy: 0.8434782608695652 - Precision: 0.8436853002070395 - Recall: 0.8434782608695652 - F1: 0.8434393105798723\n",
      "Epoch: 172 - Loss: 0.9391459981600444 - Accuracy: 0.8347826086956521 - Precision: 0.8400372912958726 - Recall: 0.8347826086956521 - F1: 0.835903806338589\n",
      "Epoch: 173 - Loss: 0.9004343787829081 - Accuracy: 0.8782608695652174 - Precision: 0.8812116479164533 - Recall: 0.8782608695652174 - F1: 0.8782456922685756\n",
      "Epoch: 174 - Loss: 0.9028413414955139 - Accuracy: 0.8521739130434782 - Precision: 0.8567844732604458 - Recall: 0.8521739130434782 - F1: 0.8529100175187132\n",
      "Epoch: 175 - Loss: 0.9194908102353414 - Accuracy: 0.8347826086956521 - Precision: 0.8427467840511319 - Recall: 0.8347826086956521 - F1: 0.8372368074336037\n",
      "Epoch: 176 - Loss: 0.9025426030158996 - Accuracy: 0.8521739130434782 - Precision: 0.8526071030418858 - Recall: 0.8521739130434782 - F1: 0.8516674256345722\n",
      "Epoch: 177 - Loss: 0.9016817927360534 - Accuracy: 0.8782608695652174 - Precision: 0.8856101203927291 - Recall: 0.8782608695652174 - F1: 0.879046370545527\n",
      "Epoch: 178 - Loss: 0.9143185973167419 - Accuracy: 0.8173913043478261 - Precision: 0.8192239670500541 - Recall: 0.8173913043478261 - F1: 0.8167157287157287\n",
      "Epoch: 179 - Loss: 0.9163034995396931 - Accuracy: 0.8347826086956521 - Precision: 0.8495370152761457 - Recall: 0.8347826086956521 - F1: 0.8376423321460237\n",
      "Epoch: 180 - Loss: 0.9085320989290874 - Accuracy: 0.8434782608695652 - Precision: 0.8452936689549962 - Recall: 0.8434782608695652 - F1: 0.8440445593176116\n",
      "Epoch: 181 - Loss: 0.8891173322995504 - Accuracy: 0.8869565217391304 - Precision: 0.8878067632850241 - Recall: 0.8869565217391304 - F1: 0.8868012422360249\n",
      "Epoch: 182 - Loss: 0.913709286848704 - Accuracy: 0.8608695652173913 - Precision: 0.8679568672703685 - Recall: 0.8608695652173913 - F1: 0.8624434338402887\n",
      "Epoch: 183 - Loss: 0.9334277311960856 - Accuracy: 0.8434782608695652 - Precision: 0.8434782608695652 - Recall: 0.8434782608695652 - F1: 0.8434782608695652\n",
      "Epoch: 184 - Loss: 0.9091620167096456 - Accuracy: 0.8434782608695652 - Precision: 0.84697287253809 - Recall: 0.8434782608695652 - F1: 0.8445621644950677\n",
      "Epoch: 185 - Loss: 0.9138081669807434 - Accuracy: 0.8260869565217391 - Precision: 0.8286592084074922 - Recall: 0.8260869565217391 - F1: 0.8253932061894221\n",
      "Epoch: 186 - Loss: 0.9072731733322144 - Accuracy: 0.8608695652173913 - Precision: 0.8666567972654929 - Recall: 0.8608695652173913 - F1: 0.8620882740447959\n",
      "Epoch: 187 - Loss: 0.9221990942955017 - Accuracy: 0.8173913043478261 - Precision: 0.8213957636566332 - Recall: 0.8173913043478261 - F1: 0.8184406974462478\n",
      "Epoch: 188 - Loss: 0.9053162455558776 - Accuracy: 0.8347826086956521 - Precision: 0.8350773661794896 - Recall: 0.8347826086956521 - F1: 0.8336689953016408\n",
      "Epoch: 189 - Loss: 0.9369652946790059 - Accuracy: 0.8260869565217391 - Precision: 0.8370374366166793 - Recall: 0.8260869565217391 - F1: 0.8293049393670511\n",
      "Epoch: 190 - Loss: 0.8963277022043864 - Accuracy: 0.8869565217391304 - Precision: 0.8977331846897064 - Recall: 0.8869565217391304 - F1: 0.8890437160093911\n",
      "Epoch: 191 - Loss: 0.9321548541386923 - Accuracy: 0.808695652173913 - Precision: 0.8299850003174811 - Recall: 0.808695652173913 - F1: 0.8143088282423321\n",
      "Epoch: 192 - Loss: 0.9067551096280416 - Accuracy: 0.8347826086956521 - Precision: 0.8442064681944741 - Recall: 0.8347826086956521 - F1: 0.8359244264507422\n",
      "Epoch: 193 - Loss: 0.9073743859926859 - Accuracy: 0.8347826086956521 - Precision: 0.8402600827565765 - Recall: 0.8347826086956521 - F1: 0.8357341594151009\n",
      "Epoch: 194 - Loss: 0.91301562388738 - Accuracy: 0.8260869565217391 - Precision: 0.8303316481294236 - Recall: 0.8260869565217391 - F1: 0.8265709977333531\n",
      "Epoch: 195 - Loss: 0.9049302379290263 - Accuracy: 0.8521739130434782 - Precision: 0.8523395445134576 - Recall: 0.8521739130434782 - F1: 0.8516469038208169\n",
      "Epoch: 196 - Loss: 0.9116436441739401 - Accuracy: 0.8521739130434782 - Precision: 0.8602254428341385 - Recall: 0.8521739130434782 - F1: 0.8542791762013731\n",
      "Epoch: 197 - Loss: 0.896714464823405 - Accuracy: 0.8608695652173913 - Precision: 0.8641471571906355 - Recall: 0.8608695652173913 - F1: 0.8612484781774821\n",
      "Epoch: 198 - Loss: 0.9155267675717672 - Accuracy: 0.8260869565217391 - Precision: 0.8359195448282485 - Recall: 0.8260869565217391 - F1: 0.8280179723657984\n",
      "Epoch: 199 - Loss: 0.9118929505348206 - Accuracy: 0.8521739130434782 - Precision: 0.8601391764435241 - Recall: 0.8521739130434782 - F1: 0.8541201291851275\n",
      "Epoch: 200 - Loss: 0.9090332865715027 - Accuracy: 0.8521739130434782 - Precision: 0.8563869956913436 - Recall: 0.8521739130434782 - F1: 0.8534472850615311\n"
     ]
    }
   ],
   "source": [
    "for epoch in range(EPOCHS):\n",
    "  model.train()\n",
    "  running_loss = 0.0\n",
    "\n",
    "  labels_list = []\n",
    "  preds_list = []\n",
    "\n",
    "  for (x, y) in train_loader:\n",
    "    x, y = x.to(DEVICE), y.to(DEVICE)\n",
    "\n",
    "    yhat = model(x)\n",
    "\n",
    "    labels_list.extend(y.cpu())\n",
    "    preds_list.extend(yhat.argmax(1).cpu())\n",
    "\n",
    "    loss = loss_fn(yhat, y)\n",
    "    optimizer.zero_grad()\n",
    "    loss.backward()\n",
    "    optimizer.step()\n",
    "\n",
    "    running_loss += loss.item()\n",
    "\n",
    "  avg_loss = running_loss / len(train_loader)\n",
    "  loss_list.append(avg_loss)\n",
    "\n",
    "  acc = accuracy_score(labels_list, preds_list)\n",
    "  pre = precision_score(labels_list, preds_list, average='weighted', zero_division=0)\n",
    "  rec = recall_score(labels_list, preds_list, average='weighted', zero_division=0)\n",
    "  f1 = f1_score(labels_list, preds_list, average='weighted', zero_division=0)\n",
    "\n",
    "  acc_list.append(acc)\n",
    "  precision_list.append(pre)\n",
    "  recall_list.append(rec)\n",
    "  f1_list.append(f1)\n",
    "\n",
    "  writer.add_scalar(\"Train/Loss\", avg_loss, epoch)\n",
    "  writer.add_scalar(\"Train/Accuracy\", acc, epoch)\n",
    "  writer.add_scalar(\"Train/Precision\", pre, epoch)\n",
    "  writer.add_scalar(\"Train/Recall\", rec, epoch)\n",
    "  writer.add_scalar(\"Train/F1\", f1, epoch)\n",
    "\n",
    "  print(f\"Epoch: {epoch + 1} - Loss: {avg_loss} - Accuracy: {acc} - Precision: {pre} - Recall: {rec} - F1: {f1}\")"
   ]
  },
  {
   "cell_type": "code",
   "execution_count": 20,
   "metadata": {
    "colab": {
     "base_uri": "https://localhost:8080/",
     "height": 472
    },
    "execution": {
     "iopub.execute_input": "2024-02-26T13:56:31.642984Z",
     "iopub.status.busy": "2024-02-26T13:56:31.642754Z",
     "iopub.status.idle": "2024-02-26T13:56:31.986702Z",
     "shell.execute_reply": "2024-02-26T13:56:31.986292Z",
     "shell.execute_reply.started": "2024-02-26T13:56:31.642963Z"
    },
    "id": "HNfMmm0lvkAl",
    "outputId": "0a67dcb4-afbc-4b9b-cc98-968b62761006"
   },
   "outputs": [
    {
     "data": {
      "image/png": "[encoded data removed]",
      "text/plain": [
       "<Figure size 640x480 with 1 Axes>"
      ]
     },
     "metadata": {},
     "output_type": "display_data"
    }
   ],
   "source": [
    "plt.title(\"Loss History\")\n",
    "plt.plot(range(EPOCHS), loss_list)\n",
    "plt.xlabel(\"Epochs\")\n",
    "plt.ylabel(\"Loss Value\")\n",
    "plt.savefig(\"figures/training_loss_history_1d_cnn_three_blocks_sgd.pdf\", bbox_inches=\"tight\")\n",
    "plt.show()"
   ]
  },
  {
   "cell_type": "code",
   "execution_count": 21,
   "metadata": {
    "colab": {
     "base_uri": "https://localhost:8080/",
     "height": 472
    },
    "execution": {
     "iopub.execute_input": "2024-02-26T13:56:41.836558Z",
     "iopub.status.busy": "2024-02-26T13:56:41.836203Z",
     "iopub.status.idle": "2024-02-26T13:56:42.186720Z",
     "shell.execute_reply": "2024-02-26T13:56:42.186190Z",
     "shell.execute_reply.started": "2024-02-26T13:56:41.836537Z"
    },
    "id": "tvBWlTRuw95F",
    "outputId": "78368863-5047-424b-8bed-78cb8546ad96"
   },
   "outputs": [
    {
     "data": {
      "image/png": "[encoded data removed]",
      "text/plain": [
       "<Figure size 640x480 with 1 Axes>"
      ]
     },
     "metadata": {},
     "output_type": "display_data"
    }
   ],
   "source": [
    "plt.title(\"Training Metrics\")\n",
    "plt.plot(range(EPOCHS), acc_list, label=\"Accuracy\")\n",
    "plt.plot(range(EPOCHS), precision_list, label=\"Precision\")\n",
    "plt.plot(range(EPOCHS), recall_list, label=\"Recall\")\n",
    "plt.plot(range(EPOCHS), f1_list, label=\"F1 Score\")\n",
    "plt.legend()\n",
    "plt.xlabel(\"Epochs\")\n",
    "plt.ylabel(\"Metric Value\")\n",
    "plt.savefig(\"figures/training_metrics_1d_cnn_three_blocks_sgd.pdf\", bbox_inches=\"tight\")\n",
    "plt.show()"
   ]
  },
  {
   "cell_type": "code",
   "execution_count": 22,
   "metadata": {
    "colab": {
     "base_uri": "https://localhost:8080/"
    },
    "execution": {
     "iopub.execute_input": "2024-02-26T13:56:44.540062Z",
     "iopub.status.busy": "2024-02-26T13:56:44.539281Z",
     "iopub.status.idle": "2024-02-26T13:56:44.547116Z",
     "shell.execute_reply": "2024-02-26T13:56:44.546595Z",
     "shell.execute_reply.started": "2024-02-26T13:56:44.540023Z"
    },
    "id": "iIXzx3y1xryb",
    "outputId": "2e23526b-d875-4ac7-ad79-28aea34ad3da"
   },
   "outputs": [
    {
     "name": "stdout",
     "output_type": "stream",
     "text": [
      "Mean Training Accuracy: 0.7804347826086956\n",
      "Mean Training Precision: 0.7848268249639587\n",
      "Mean Training Recall: 0.7804347826086956\n",
      "Mean Training F1 Score: 0.7807982262358613\n"
     ]
    }
   ],
   "source": [
    "print(f\"Mean Training Accuracy: {np.array(acc_list).mean()}\")\n",
    "print(f\"Mean Training Precision: {np.array(precision_list).mean()}\")\n",
    "print(f\"Mean Training Recall: {np.array(recall_list).mean()}\")\n",
    "print(f\"Mean Training F1 Score: {np.array(f1_list).mean()}\")\n",
    "\n",
    "writer.add_scalar(\"Train/Mean Accuracy\", np.array(acc_list).mean(), 0)\n",
    "writer.add_scalar(\"Train/Mean Precision\", np.array(precision_list).mean(), 0)\n",
    "writer.add_scalar(\"Train/Mean Recall\", np.array(recall_list).mean(), 0)\n",
    "writer.add_scalar(\"Train/Mean F1 Score\", np.array(f1_list).mean(), 0)"
   ]
  },
  {
   "cell_type": "code",
   "execution_count": 23,
   "metadata": {
    "execution": {
     "iopub.execute_input": "2024-02-26T13:56:46.164166Z",
     "iopub.status.busy": "2024-02-26T13:56:46.163295Z",
     "iopub.status.idle": "2024-02-26T13:56:46.169618Z",
     "shell.execute_reply": "2024-02-26T13:56:46.168365Z",
     "shell.execute_reply.started": "2024-02-26T13:56:46.164118Z"
    },
    "id": "OeA8Ku_n4A_C"
   },
   "outputs": [],
   "source": [
    "loss = 0.0\n",
    "accuracy = 0.0\n",
    "precision = 0.0\n",
    "recall = 0.0\n",
    "f1 = 0.0"
   ]
  },
  {
   "cell_type": "code",
   "execution_count": 24,
   "metadata": {
    "colab": {
     "base_uri": "https://localhost:8080/"
    },
    "execution": {
     "iopub.execute_input": "2024-02-26T13:56:46.369360Z",
     "iopub.status.busy": "2024-02-26T13:56:46.369016Z",
     "iopub.status.idle": "2024-02-26T13:56:46.412065Z",
     "shell.execute_reply": "2024-02-26T13:56:46.411267Z",
     "shell.execute_reply.started": "2024-02-26T13:56:46.369332Z"
    },
    "id": "9t8DfeRt5Cl7",
    "outputId": "f759977e-685e-4363-8ce4-131f341a8d69"
   },
   "outputs": [
    {
     "name": "stderr",
     "output_type": "stream",
     "text": [
      "/home/anirudhprabhakaran/miniconda3/envs/mp/lib/python3.11/site-packages/sklearn/metrics/_classification.py:1469: UndefinedMetricWarning: Recall is ill-defined and being set to 0.0 in labels with no true samples. Use `zero_division` parameter to control this behavior.\n",
      "  _warn_prf(average, modifier, msg_start, len(result))\n"
     ]
    }
   ],
   "source": [
    "model.eval()\n",
    "with torch.no_grad():\n",
    "  x = torch.tensor(test_data).type(torch.FloatTensor)\n",
    "  y = torch.tensor(test_labels).type(torch.LongTensor)\n",
    "\n",
    "  yhat = model(x)\n",
    "\n",
    "  yhat = yhat.cpu()\n",
    "  loss = loss_fn(yhat, y)\n",
    "\n",
    "  yhat = yhat.argmax(1)\n",
    "  accuracy = accuracy_score(yhat, y)\n",
    "  precision = precision_score(yhat, y, average='weighted')\n",
    "  recall = recall_score(yhat, y, average='weighted')\n",
    "  f1 = f1_score(yhat, y, average='weighted')"
   ]
  },
  {
   "cell_type": "code",
   "execution_count": 25,
   "metadata": {
    "colab": {
     "base_uri": "https://localhost:8080/"
    },
    "execution": {
     "iopub.execute_input": "2024-02-26T13:56:49.402993Z",
     "iopub.status.busy": "2024-02-26T13:56:49.402033Z",
     "iopub.status.idle": "2024-02-26T13:56:49.409395Z",
     "shell.execute_reply": "2024-02-26T13:56:49.408862Z",
     "shell.execute_reply.started": "2024-02-26T13:56:49.402941Z"
    },
    "id": "XdiAVxPE6Hq7",
    "outputId": "5a0d01eb-6872-416b-c354-dc8c858ad6de"
   },
   "outputs": [
    {
     "name": "stdout",
     "output_type": "stream",
     "text": [
      "Testing Loss: 1.4572134017944336\n",
      "Testing Accuracy: 0.27586206896551724\n",
      "Testing Precision: 0.5217296113847838\n",
      "Testing Recall: 0.27586206896551724\n",
      "Testing F1 Score: 0.3422526253742224\n"
     ]
    }
   ],
   "source": [
    "print(f\"Testing Loss: {loss}\")\n",
    "print(f\"Testing Accuracy: {accuracy}\")\n",
    "print(f\"Testing Precision: {precision}\")\n",
    "print(f\"Testing Recall: {recall}\")\n",
    "print(f\"Testing F1 Score: {f1}\")\n",
    "\n",
    "writer.add_scalar(\"Test/Loss\", loss, 0)\n",
    "writer.add_scalar(\"Test/Accuracy\", accuracy, 0)\n",
    "writer.add_scalar(\"Test/Precision\", precision, 0)\n",
    "writer.add_scalar(\"Test/Recall\", recall, 0)\n",
    "writer.add_scalar(\"Test/F1 Score\", f1, 0)"
   ]
  },
  {
   "cell_type": "markdown",
   "metadata": {
    "id": "fUaaNvEITrRa"
   },
   "source": [
    "## Adam"
   ]
  },
  {
   "cell_type": "code",
   "execution_count": 26,
   "metadata": {
    "colab": {
     "base_uri": "https://localhost:8080/"
    },
    "execution": {
     "iopub.execute_input": "2024-02-26T13:56:50.991013Z",
     "iopub.status.busy": "2024-02-26T13:56:50.990645Z",
     "iopub.status.idle": "2024-02-26T13:56:51.002680Z",
     "shell.execute_reply": "2024-02-26T13:56:51.002253Z",
     "shell.execute_reply.started": "2024-02-26T13:56:50.990984Z"
    },
    "id": "W1p9mvOQ9QgU",
    "outputId": "1a58b146-d74b-49cf-ee0d-f52958a23319"
   },
   "outputs": [
    {
     "data": {
      "text/plain": [
       "Model(\n",
       "  (conv_block1): Sequential(\n",
       "    (0): Conv1d(1, 64, kernel_size=(3,), stride=(1,))\n",
       "    (1): MaxPool1d(kernel_size=3, stride=3, padding=0, dilation=1, ceil_mode=False)\n",
       "    (2): Dropout(p=0.3, inplace=False)\n",
       "    (3): BatchNorm1d(64, eps=1e-05, momentum=0.1, affine=True, track_running_stats=True)\n",
       "  )\n",
       "  (conv_block2): Sequential(\n",
       "    (0): Conv1d(64, 128, kernel_size=(3,), stride=(1,))\n",
       "    (1): MaxPool1d(kernel_size=3, stride=3, padding=0, dilation=1, ceil_mode=False)\n",
       "    (2): Dropout(p=0.3, inplace=False)\n",
       "    (3): BatchNorm1d(128, eps=1e-05, momentum=0.1, affine=True, track_running_stats=True)\n",
       "  )\n",
       "  (conv_block3): Sequential(\n",
       "    (0): Conv1d(128, 64, kernel_size=(3,), stride=(1,))\n",
       "    (1): MaxPool1d(kernel_size=3, stride=3, padding=0, dilation=1, ceil_mode=False)\n",
       "    (2): Dropout(p=0.3, inplace=False)\n",
       "    (3): BatchNorm1d(64, eps=1e-05, momentum=0.1, affine=True, track_running_stats=True)\n",
       "  )\n",
       "  (dense): Linear(in_features=3328, out_features=4, bias=True)\n",
       "  (softmax): Softmax(dim=1)\n",
       ")"
      ]
     },
     "execution_count": 26,
     "metadata": {},
     "output_type": "execute_result"
    }
   ],
   "source": [
    "model = Model()\n",
    "model = model.to(DEVICE)\n",
    "model"
   ]
  },
  {
   "cell_type": "code",
   "execution_count": 27,
   "metadata": {
    "colab": {
     "base_uri": "https://localhost:8080/"
    },
    "execution": {
     "iopub.execute_input": "2024-02-26T13:56:52.703057Z",
     "iopub.status.busy": "2024-02-26T13:56:52.702658Z",
     "iopub.status.idle": "2024-02-26T13:56:52.716316Z",
     "shell.execute_reply": "2024-02-26T13:56:52.715898Z",
     "shell.execute_reply.started": "2024-02-26T13:56:52.703025Z"
    },
    "id": "UzFXX4dqbnMz",
    "outputId": "5c72aa3d-8547-4c4e-f318-accb7343bb1a"
   },
   "outputs": [
    {
     "data": {
      "text/plain": [
       "==========================================================================================\n",
       "Layer (type:depth-idx)                   Output Shape              Param #\n",
       "==========================================================================================\n",
       "Model                                    [8, 4]                    --\n",
       "├─Sequential: 1-1                        [8, 64, 479]              --\n",
       "│    └─Conv1d: 2-1                       [8, 64, 1438]             256\n",
       "│    └─MaxPool1d: 2-2                    [8, 64, 479]              --\n",
       "│    └─Dropout: 2-3                      [8, 64, 479]              --\n",
       "│    └─BatchNorm1d: 2-4                  [8, 64, 479]              128\n",
       "├─Sequential: 1-2                        [8, 128, 159]             --\n",
       "│    └─Conv1d: 2-5                       [8, 128, 477]             24,704\n",
       "│    └─MaxPool1d: 2-6                    [8, 128, 159]             --\n",
       "│    └─Dropout: 2-7                      [8, 128, 159]             --\n",
       "│    └─BatchNorm1d: 2-8                  [8, 128, 159]             256\n",
       "├─Sequential: 1-3                        [8, 64, 52]               --\n",
       "│    └─Conv1d: 2-9                       [8, 64, 157]              24,640\n",
       "│    └─MaxPool1d: 2-10                   [8, 64, 52]               --\n",
       "│    └─Dropout: 2-11                     [8, 64, 52]               --\n",
       "│    └─BatchNorm1d: 2-12                 [8, 64, 52]               128\n",
       "├─Linear: 1-4                            [8, 4]                    13,316\n",
       "├─Softmax: 1-5                           [8, 4]                    --\n",
       "==========================================================================================\n",
       "Total params: 63,428\n",
       "Trainable params: 63,428\n",
       "Non-trainable params: 0\n",
       "Total mult-adds (Units.MEGABYTES): 128.27\n",
       "==========================================================================================\n",
       "Input size (MB): 0.05\n",
       "Forward/backward pass size (MB): 13.92\n",
       "Params size (MB): 0.25\n",
       "Estimated Total Size (MB): 14.22\n",
       "=========================================================================================="
      ]
     },
     "execution_count": 27,
     "metadata": {},
     "output_type": "execute_result"
    }
   ],
   "source": [
    "summary(model, input_data=sample_x)"
   ]
  },
  {
   "cell_type": "code",
   "execution_count": 28,
   "metadata": {
    "execution": {
     "iopub.execute_input": "2024-02-26T13:56:55.389095Z",
     "iopub.status.busy": "2024-02-26T13:56:55.387860Z",
     "iopub.status.idle": "2024-02-26T13:56:55.396141Z",
     "shell.execute_reply": "2024-02-26T13:56:55.394967Z",
     "shell.execute_reply.started": "2024-02-26T13:56:55.389027Z"
    },
    "id": "WNGukkjgTvh_"
   },
   "outputs": [],
   "source": [
    "tb_board = RUNS_PATH + \"1d_cnn_three_blocks_adam\"\n",
    "writer = SummaryWriter(tb_board)"
   ]
  },
  {
   "cell_type": "code",
   "execution_count": 29,
   "metadata": {
    "execution": {
     "iopub.execute_input": "2024-02-26T13:56:55.631297Z",
     "iopub.status.busy": "2024-02-26T13:56:55.630896Z",
     "iopub.status.idle": "2024-02-26T13:56:55.637269Z",
     "shell.execute_reply": "2024-02-26T13:56:55.635898Z",
     "shell.execute_reply.started": "2024-02-26T13:56:55.631265Z"
    },
    "id": "lqdjeybbT1uC"
   },
   "outputs": [],
   "source": [
    "EPOCHS = 200\n",
    "\n",
    "acc_list = []\n",
    "f1_list = []\n",
    "recall_list = []\n",
    "precision_list = []\n",
    "\n",
    "loss_list = []"
   ]
  },
  {
   "cell_type": "code",
   "execution_count": 30,
   "metadata": {
    "execution": {
     "iopub.execute_input": "2024-02-26T13:56:57.335151Z",
     "iopub.status.busy": "2024-02-26T13:56:57.334763Z",
     "iopub.status.idle": "2024-02-26T13:56:57.341474Z",
     "shell.execute_reply": "2024-02-26T13:56:57.340527Z",
     "shell.execute_reply.started": "2024-02-26T13:56:57.335120Z"
    },
    "id": "6mr98GaDT2Pt"
   },
   "outputs": [],
   "source": [
    "loss_fn = nn.CrossEntropyLoss()\n",
    "optimizer = optim.Adam(model.parameters(), lr=1e-3)"
   ]
  },
  {
   "cell_type": "code",
   "execution_count": 31,
   "metadata": {
    "colab": {
     "base_uri": "https://localhost:8080/"
    },
    "execution": {
     "iopub.execute_input": "2024-02-26T13:56:58.411045Z",
     "iopub.status.busy": "2024-02-26T13:56:58.410753Z",
     "iopub.status.idle": "2024-02-26T13:57:52.156855Z",
     "shell.execute_reply": "2024-02-26T13:57:52.156375Z",
     "shell.execute_reply.started": "2024-02-26T13:56:58.411022Z"
    },
    "id": "fp9urDtST52H",
    "outputId": "eaaca947-5fb9-4464-9895-e6e8236a3324",
    "scrolled": true
   },
   "outputs": [
    {
     "name": "stdout",
     "output_type": "stream",
     "text": [
      "Epoch: 1 - Loss: 1.3768651723861693 - Accuracy: 0.30434782608695654 - Precision: 0.3541016573053186 - Recall: 0.30434782608695654 - F1: 0.3171480152985669\n",
      "Epoch: 2 - Loss: 1.287433648109436 - Accuracy: 0.40869565217391307 - Precision: 0.42140223906528257 - Recall: 0.40869565217391307 - F1: 0.4136453954354372\n",
      "Epoch: 3 - Loss: 1.2033356865247091 - Accuracy: 0.5652173913043478 - Precision: 0.5568304159608507 - Recall: 0.5652173913043478 - F1: 0.5588385177330034\n",
      "Epoch: 4 - Loss: 1.1675777832667034 - Accuracy: 0.5565217391304348 - Precision: 0.5429233204563536 - Recall: 0.5565217391304348 - F1: 0.5476593792218607\n",
      "Epoch: 5 - Loss: 1.126976748307546 - Accuracy: 0.6086956521739131 - Precision: 0.616892911010558 - Recall: 0.6086956521739131 - F1: 0.6026671538180489\n",
      "Epoch: 6 - Loss: 1.1478764176368714 - Accuracy: 0.6173913043478261 - Precision: 0.6199497512031976 - Recall: 0.6173913043478261 - F1: 0.6179934611818669\n",
      "Epoch: 7 - Loss: 1.1475739359855652 - Accuracy: 0.5739130434782609 - Precision: 0.5948625827142451 - Recall: 0.5739130434782609 - F1: 0.578552212982084\n",
      "Epoch: 8 - Loss: 1.1270801981290182 - Accuracy: 0.6347826086956522 - Precision: 0.631350114416476 - Recall: 0.6347826086956522 - F1: 0.6277387490663635\n",
      "Epoch: 9 - Loss: 1.1000020941098532 - Accuracy: 0.6260869565217392 - Precision: 0.6310057092665788 - Recall: 0.6260869565217392 - F1: 0.6262661004531008\n",
      "Epoch: 10 - Loss: 1.1187138001124064 - Accuracy: 0.6608695652173913 - Precision: 0.6662999499316635 - Recall: 0.6608695652173913 - F1: 0.6556796299404996\n",
      "Epoch: 11 - Loss: 1.074266787370046 - Accuracy: 0.6695652173913044 - Precision: 0.6670828688219992 - Recall: 0.6695652173913044 - F1: 0.6662456851282872\n",
      "Epoch: 12 - Loss: 1.0849361499150594 - Accuracy: 0.6782608695652174 - Precision: 0.682483729548947 - Recall: 0.6782608695652174 - F1: 0.678574991286954\n",
      "Epoch: 13 - Loss: 1.1000089565912883 - Accuracy: 0.6608695652173913 - Precision: 0.6614429049211659 - Recall: 0.6608695652173913 - F1: 0.6603966047318512\n",
      "Epoch: 14 - Loss: 1.081448996067047 - Accuracy: 0.6695652173913044 - Precision: 0.6835810727115076 - Recall: 0.6695652173913044 - F1: 0.665532026586512\n",
      "Epoch: 15 - Loss: 1.0638068517049153 - Accuracy: 0.7217391304347827 - Precision: 0.7331777319196375 - Recall: 0.7217391304347827 - F1: 0.7151441934400031\n",
      "Epoch: 16 - Loss: 1.0679647048314413 - Accuracy: 0.6956521739130435 - Precision: 0.7040617270631296 - Recall: 0.6956521739130435 - F1: 0.6889247757073843\n",
      "Epoch: 17 - Loss: 1.0725560903549194 - Accuracy: 0.6782608695652174 - Precision: 0.6840732265446224 - Recall: 0.6782608695652174 - F1: 0.6761302875725705\n",
      "Epoch: 18 - Loss: 1.0517207900683085 - Accuracy: 0.6956521739130435 - Precision: 0.6900753270781023 - Recall: 0.6956521739130435 - F1: 0.6890281023568039\n",
      "Epoch: 19 - Loss: 1.0731138428052267 - Accuracy: 0.6434782608695652 - Precision: 0.6383927683101894 - Recall: 0.6434782608695652 - F1: 0.6385241990904276\n",
      "Epoch: 20 - Loss: 1.0941129326820374 - Accuracy: 0.6521739130434783 - Precision: 0.6446640316205534 - Recall: 0.6521739130434783 - F1: 0.6473089700996678\n",
      "Epoch: 21 - Loss: 1.0802104791005454 - Accuracy: 0.6434782608695652 - Precision: 0.6365542195810615 - Recall: 0.6434782608695652 - F1: 0.6348873115889608\n",
      "Epoch: 22 - Loss: 1.0576022346814473 - Accuracy: 0.6869565217391305 - Precision: 0.686584430062691 - Recall: 0.6869565217391305 - F1: 0.6856769409076474\n",
      "Epoch: 23 - Loss: 1.015489661693573 - Accuracy: 0.7217391304347827 - Precision: 0.7322885166363428 - Recall: 0.7217391304347827 - F1: 0.7235362753731911\n",
      "Epoch: 24 - Loss: 1.0569405158360798 - Accuracy: 0.6608695652173913 - Precision: 0.6716273908419772 - Recall: 0.6608695652173913 - F1: 0.6644306418219461\n",
      "Epoch: 25 - Loss: 1.02945343653361 - Accuracy: 0.7217391304347827 - Precision: 0.7290484650148044 - Recall: 0.7217391304347827 - F1: 0.724187643020595\n",
      "Epoch: 26 - Loss: 1.032859949270884 - Accuracy: 0.7391304347826086 - Precision: 0.7351900086822948 - Recall: 0.7391304347826086 - F1: 0.7362421671647545\n",
      "Epoch: 27 - Loss: 1.0120601336161295 - Accuracy: 0.7304347826086957 - Precision: 0.7351087752826884 - Recall: 0.7304347826086957 - F1: 0.7324609680502853\n",
      "Epoch: 28 - Loss: 1.0317479610443114 - Accuracy: 0.6869565217391305 - Precision: 0.6948131197559116 - Recall: 0.6869565217391305 - F1: 0.6867574615040413\n",
      "Epoch: 29 - Loss: 0.9862647374471029 - Accuracy: 0.7652173913043478 - Precision: 0.7667286915982569 - Recall: 0.7652173913043478 - F1: 0.7656157891518377\n",
      "Epoch: 30 - Loss: 0.9982111692428589 - Accuracy: 0.7391304347826086 - Precision: 0.7662337662337663 - Recall: 0.7391304347826086 - F1: 0.7431485036702428\n",
      "Epoch: 31 - Loss: 1.0323874672253928 - Accuracy: 0.6782608695652174 - Precision: 0.6881728778467908 - Recall: 0.6782608695652174 - F1: 0.6814334025871612\n",
      "Epoch: 32 - Loss: 1.0322686672210692 - Accuracy: 0.7304347826086957 - Precision: 0.7279106535527161 - Recall: 0.7304347826086957 - F1: 0.7280454752464296\n",
      "Epoch: 33 - Loss: 0.9933579206466675 - Accuracy: 0.7565217391304347 - Precision: 0.7554054309953038 - Recall: 0.7565217391304347 - F1: 0.7548933542281131\n",
      "Epoch: 34 - Loss: 1.009238862991333 - Accuracy: 0.7565217391304347 - Precision: 0.766377564464521 - Recall: 0.7565217391304347 - F1: 0.7590774505220508\n",
      "Epoch: 35 - Loss: 1.0272989749908448 - Accuracy: 0.7043478260869566 - Precision: 0.7128483835005575 - Recall: 0.7043478260869566 - F1: 0.7073167920461919\n",
      "Epoch: 36 - Loss: 1.027959903081258 - Accuracy: 0.7130434782608696 - Precision: 0.7161835748792271 - Recall: 0.7130434782608696 - F1: 0.7118968580393332\n",
      "Epoch: 37 - Loss: 0.9887861291567485 - Accuracy: 0.7739130434782608 - Precision: 0.7843924191750278 - Recall: 0.7739130434782608 - F1: 0.7770316980547158\n",
      "Epoch: 38 - Loss: 1.0204721013704936 - Accuracy: 0.7304347826086957 - Precision: 0.7457578213181738 - Recall: 0.7304347826086957 - F1: 0.733639910813824\n",
      "Epoch: 39 - Loss: 0.9929280559221904 - Accuracy: 0.7391304347826086 - Precision: 0.7358143296772666 - Recall: 0.7391304347826086 - F1: 0.7313193340278159\n",
      "Epoch: 40 - Loss: 0.972358787059784 - Accuracy: 0.782608695652174 - Precision: 0.7940500903394457 - Recall: 0.782608695652174 - F1: 0.7845148185217344\n",
      "Epoch: 41 - Loss: 1.0211341857910157 - Accuracy: 0.7217391304347827 - Precision: 0.7277416570894832 - Recall: 0.7217391304347827 - F1: 0.7236434250324201\n",
      "Epoch: 42 - Loss: 1.009060259660085 - Accuracy: 0.7478260869565218 - Precision: 0.7532054901620118 - Recall: 0.7478260869565218 - F1: 0.7498799676287976\n",
      "Epoch: 43 - Loss: 1.0313695271809895 - Accuracy: 0.6869565217391305 - Precision: 0.69766590389016 - Recall: 0.6869565217391305 - F1: 0.6904266692287867\n",
      "Epoch: 44 - Loss: 0.9877925117810568 - Accuracy: 0.7652173913043478 - Precision: 0.7640627419028542 - Recall: 0.7652173913043478 - F1: 0.7631410825199645\n",
      "Epoch: 45 - Loss: 0.9458620071411132 - Accuracy: 0.808695652173913 - Precision: 0.8118162127727345 - Recall: 0.808695652173913 - F1: 0.8098975079415656\n",
      "Epoch: 46 - Loss: 1.03299370209376 - Accuracy: 0.7391304347826086 - Precision: 0.7469466121640034 - Recall: 0.7391304347826086 - F1: 0.7415928353429729\n",
      "Epoch: 47 - Loss: 0.9631789207458497 - Accuracy: 0.7739130434782608 - Precision: 0.7915645025186364 - Recall: 0.7739130434782608 - F1: 0.7779933110367894\n",
      "Epoch: 48 - Loss: 0.9428579171498617 - Accuracy: 0.8 - Precision: 0.8007082260263597 - Recall: 0.8 - F1: 0.7999241048578083\n",
      "Epoch: 49 - Loss: 0.9995142976442973 - Accuracy: 0.7478260869565218 - Precision: 0.7585638998682477 - Recall: 0.7478260869565218 - F1: 0.749221687382224\n",
      "Epoch: 50 - Loss: 0.9717834154764812 - Accuracy: 0.7739130434782608 - Precision: 0.7743143812709031 - Recall: 0.7739130434782608 - F1: 0.7740081900693078\n",
      "Epoch: 51 - Loss: 0.9816024740537007 - Accuracy: 0.7478260869565218 - Precision: 0.7483818659134227 - Recall: 0.7478260869565218 - F1: 0.747773497217636\n",
      "Epoch: 52 - Loss: 0.9704377293586731 - Accuracy: 0.782608695652174 - Precision: 0.7830994382145279 - Recall: 0.782608695652174 - F1: 0.7795533903735891\n",
      "Epoch: 53 - Loss: 0.9582117636998494 - Accuracy: 0.782608695652174 - Precision: 0.7829068322981366 - Recall: 0.782608695652174 - F1: 0.7793739638064514\n",
      "Epoch: 54 - Loss: 0.9935007651646932 - Accuracy: 0.7391304347826086 - Precision: 0.7464696928780105 - Recall: 0.7391304347826086 - F1: 0.7385126786935782\n",
      "Epoch: 55 - Loss: 0.9683680097262065 - Accuracy: 0.8 - Precision: 0.8036877470355732 - Recall: 0.8 - F1: 0.7990319283305339\n",
      "Epoch: 56 - Loss: 0.9587141434351604 - Accuracy: 0.7652173913043478 - Precision: 0.7656872113393852 - Recall: 0.7652173913043478 - F1: 0.7646365872118901\n",
      "Epoch: 57 - Loss: 0.9736258705457052 - Accuracy: 0.7913043478260869 - Precision: 0.797367243019417 - Recall: 0.7913043478260869 - F1: 0.7921590770695631\n",
      "Epoch: 58 - Loss: 0.960926640033722 - Accuracy: 0.8 - Precision: 0.8041922196796338 - Recall: 0.8 - F1: 0.801644370122631\n",
      "Epoch: 59 - Loss: 0.9555581410725912 - Accuracy: 0.7913043478260869 - Precision: 0.796918918918919 - Recall: 0.7913043478260869 - F1: 0.7933571208316815\n",
      "Epoch: 60 - Loss: 0.9590739806493124 - Accuracy: 0.7913043478260869 - Precision: 0.8194075479654227 - Recall: 0.7913043478260869 - F1: 0.7936156226550825\n",
      "Epoch: 61 - Loss: 0.9456563591957092 - Accuracy: 0.782608695652174 - Precision: 0.7960333920877399 - Recall: 0.782608695652174 - F1: 0.7833063554802686\n",
      "Epoch: 62 - Loss: 0.9397891918818156 - Accuracy: 0.7913043478260869 - Precision: 0.7907549361207898 - Recall: 0.7913043478260869 - F1: 0.7906286313557255\n",
      "Epoch: 63 - Loss: 0.961831518014272 - Accuracy: 0.8173913043478261 - Precision: 0.8190356744704571 - Recall: 0.8173913043478261 - F1: 0.8180985725828173\n",
      "Epoch: 64 - Loss: 0.9543967882792155 - Accuracy: 0.808695652173913 - Precision: 0.8078563853961521 - Recall: 0.808695652173913 - F1: 0.8078725517684004\n",
      "Epoch: 65 - Loss: 0.9356573979059856 - Accuracy: 0.8173913043478261 - Precision: 0.8139184971973943 - Recall: 0.8173913043478261 - F1: 0.8149479796695662\n",
      "Epoch: 66 - Loss: 0.946205755074819 - Accuracy: 0.8 - Precision: 0.8047322654462243 - Recall: 0.8 - F1: 0.7994284010717596\n",
      "Epoch: 67 - Loss: 0.9246377229690552 - Accuracy: 0.808695652173913 - Precision: 0.8218099838969405 - Recall: 0.808695652173913 - F1: 0.8113480803457921\n",
      "Epoch: 68 - Loss: 0.929274046421051 - Accuracy: 0.8260869565217391 - Precision: 0.8290341237709659 - Recall: 0.8260869565217391 - F1: 0.8266813713691779\n",
      "Epoch: 69 - Loss: 0.9326347947120667 - Accuracy: 0.8260869565217391 - Precision: 0.8336782591931333 - Recall: 0.8260869565217391 - F1: 0.8269921947865554\n",
      "Epoch: 70 - Loss: 0.9390409151713054 - Accuracy: 0.8260869565217391 - Precision: 0.8247758604068254 - Recall: 0.8260869565217391 - F1: 0.8253140096618358\n",
      "Epoch: 71 - Loss: 0.9543144226074218 - Accuracy: 0.808695652173913 - Precision: 0.812735459662289 - Recall: 0.808695652173913 - F1: 0.8097952959547162\n",
      "Epoch: 72 - Loss: 0.9616819977760315 - Accuracy: 0.7913043478260869 - Precision: 0.8005261984392419 - Recall: 0.7913043478260869 - F1: 0.7939474793158259\n",
      "Epoch: 73 - Loss: 0.9534574429194133 - Accuracy: 0.8260869565217391 - Precision: 0.8407071965689396 - Recall: 0.8260869565217391 - F1: 0.8283208144213542\n",
      "Epoch: 74 - Loss: 0.9245049715042114 - Accuracy: 0.8 - Precision: 0.8007322654462242 - Recall: 0.8 - F1: 0.7998885172798215\n",
      "Epoch: 75 - Loss: 0.9422533790270488 - Accuracy: 0.7913043478260869 - Precision: 0.8013390965336046 - Recall: 0.7913043478260869 - F1: 0.795032967032967\n",
      "Epoch: 76 - Loss: 0.9551951885223389 - Accuracy: 0.808695652173913 - Precision: 0.8286590221372829 - Recall: 0.808695652173913 - F1: 0.8122089590553202\n",
      "Epoch: 77 - Loss: 0.9514837781588237 - Accuracy: 0.808695652173913 - Precision: 0.8219913826870348 - Recall: 0.808695652173913 - F1: 0.8110768215772317\n",
      "Epoch: 78 - Loss: 0.937171733379364 - Accuracy: 0.808695652173913 - Precision: 0.8237509248378814 - Recall: 0.808695652173913 - F1: 0.8120414646878962\n",
      "Epoch: 79 - Loss: 0.9392691850662231 - Accuracy: 0.8173913043478261 - Precision: 0.8273162794901926 - Recall: 0.8173913043478261 - F1: 0.8201209970154069\n",
      "Epoch: 80 - Loss: 0.9133230566978454 - Accuracy: 0.8260869565217391 - Precision: 0.8324552211073951 - Recall: 0.8260869565217391 - F1: 0.8268902723728659\n",
      "Epoch: 81 - Loss: 0.9341691851615905 - Accuracy: 0.8 - Precision: 0.7999341238471673 - Recall: 0.8 - F1: 0.7983598798250288\n",
      "Epoch: 82 - Loss: 0.9647531151771546 - Accuracy: 0.782608695652174 - Precision: 0.7888885172798216 - Recall: 0.782608695652174 - F1: 0.7841018121710602\n",
      "Epoch: 83 - Loss: 0.9441949168841044 - Accuracy: 0.7913043478260869 - Precision: 0.7924669533365186 - Recall: 0.7913043478260869 - F1: 0.7909703552206894\n",
      "Epoch: 84 - Loss: 0.9670039057731629 - Accuracy: 0.782608695652174 - Precision: 0.7872534024707938 - Recall: 0.782608695652174 - F1: 0.7833845483273402\n",
      "Epoch: 85 - Loss: 0.9475096265474955 - Accuracy: 0.808695652173913 - Precision: 0.8104249084249084 - Recall: 0.808695652173913 - F1: 0.8091728702604062\n",
      "Epoch: 86 - Loss: 0.9452337463696797 - Accuracy: 0.8 - Precision: 0.8121013997444204 - Recall: 0.8 - F1: 0.8010382610267109\n",
      "Epoch: 87 - Loss: 0.879303252696991 - Accuracy: 0.8869565217391304 - Precision: 0.8926547665678101 - Recall: 0.8869565217391304 - F1: 0.8881719714305526\n",
      "Epoch: 88 - Loss: 0.9517303188641866 - Accuracy: 0.808695652173913 - Precision: 0.8100030404378231 - Recall: 0.808695652173913 - F1: 0.8091051948922867\n",
      "Epoch: 89 - Loss: 0.9202547192573547 - Accuracy: 0.8173913043478261 - Precision: 0.8163713125077608 - Recall: 0.8173913043478261 - F1: 0.8151128632409911\n",
      "Epoch: 90 - Loss: 0.9214322884877523 - Accuracy: 0.8260869565217391 - Precision: 0.8328459147049853 - Recall: 0.8260869565217391 - F1: 0.8231282872340822\n",
      "Epoch: 91 - Loss: 0.9190510590871175 - Accuracy: 0.8173913043478261 - Precision: 0.8226598582576843 - Recall: 0.8173913043478261 - F1: 0.8075198678698454\n",
      "Epoch: 92 - Loss: 0.8939129551251729 - Accuracy: 0.8608695652173913 - Precision: 0.8787427389544095 - Recall: 0.8608695652173913 - F1: 0.8630540474018735\n",
      "Epoch: 93 - Loss: 0.9318505525588989 - Accuracy: 0.8173913043478261 - Precision: 0.8397101449275362 - Recall: 0.8173913043478261 - F1: 0.8230865182554754\n",
      "Epoch: 94 - Loss: 0.9424559076627096 - Accuracy: 0.8173913043478261 - Precision: 0.8186827665088535 - Recall: 0.8173913043478261 - F1: 0.8172391142439267\n",
      "Epoch: 95 - Loss: 0.898806118965149 - Accuracy: 0.8260869565217391 - Precision: 0.8382102732417576 - Recall: 0.8260869565217391 - F1: 0.8273603686442077\n",
      "Epoch: 96 - Loss: 0.8896417339642843 - Accuracy: 0.8521739130434782 - Precision: 0.8558209906035993 - Recall: 0.8521739130434782 - F1: 0.8530256911890688\n",
      "Epoch: 97 - Loss: 0.911010491847992 - Accuracy: 0.8260869565217391 - Precision: 0.8440893111796505 - Recall: 0.8260869565217391 - F1: 0.829256449192567\n",
      "Epoch: 98 - Loss: 0.9465390801429748 - Accuracy: 0.8173913043478261 - Precision: 0.8214906617080531 - Recall: 0.8173913043478261 - F1: 0.8182535462122034\n",
      "Epoch: 99 - Loss: 0.8875080545743307 - Accuracy: 0.8695652173913043 - Precision: 0.8752958986093997 - Recall: 0.8695652173913043 - F1: 0.8706660420325016\n",
      "Epoch: 100 - Loss: 0.9016487240791321 - Accuracy: 0.8434782608695652 - Precision: 0.8520267472441386 - Recall: 0.8434782608695652 - F1: 0.8449145195476475\n",
      "Epoch: 101 - Loss: 0.9487610379854838 - Accuracy: 0.7913043478260869 - Precision: 0.8012814645308924 - Recall: 0.7913043478260869 - F1: 0.7914946638575414\n",
      "Epoch: 102 - Loss: 0.9081504146258036 - Accuracy: 0.8347826086956521 - Precision: 0.8414317920404877 - Recall: 0.8347826086956521 - F1: 0.835375886828697\n",
      "Epoch: 103 - Loss: 0.9139212568600973 - Accuracy: 0.8173913043478261 - Precision: 0.8249830361317038 - Recall: 0.8173913043478261 - F1: 0.8192460684551343\n",
      "Epoch: 104 - Loss: 0.9249493678410848 - Accuracy: 0.8173913043478261 - Precision: 0.8281417610522469 - Recall: 0.8173913043478261 - F1: 0.8189749144756547\n",
      "Epoch: 105 - Loss: 0.8782044212023418 - Accuracy: 0.8695652173913043 - Precision: 0.8744532609521167 - Recall: 0.8695652173913043 - F1: 0.8697683220445369\n",
      "Epoch: 106 - Loss: 0.8951000094413757 - Accuracy: 0.8695652173913043 - Precision: 0.8707866933741801 - Recall: 0.8695652173913043 - F1: 0.8697641807262531\n",
      "Epoch: 107 - Loss: 0.9383804957071941 - Accuracy: 0.782608695652174 - Precision: 0.7995392181479137 - Recall: 0.782608695652174 - F1: 0.7881507533184551\n",
      "Epoch: 108 - Loss: 0.889403780301412 - Accuracy: 0.8608695652173913 - Precision: 0.8766834808798344 - Recall: 0.8608695652173913 - F1: 0.8633230859317816\n",
      "Epoch: 109 - Loss: 0.8977165540059407 - Accuracy: 0.8260869565217391 - Precision: 0.8277313266443702 - Recall: 0.8260869565217391 - F1: 0.8267942247567303\n",
      "Epoch: 110 - Loss: 0.9212800701459248 - Accuracy: 0.8173913043478261 - Precision: 0.818564294963901 - Recall: 0.8173913043478261 - F1: 0.8161260344669282\n",
      "Epoch: 111 - Loss: 0.924518076578776 - Accuracy: 0.8 - Precision: 0.8087943879548076 - Recall: 0.8 - F1: 0.8015216667390579\n",
      "Epoch: 112 - Loss: 0.9102278828620911 - Accuracy: 0.8347826086956521 - Precision: 0.8556414759780819 - Recall: 0.8347826086956521 - F1: 0.8389029924554845\n",
      "Epoch: 113 - Loss: 0.8949346542358398 - Accuracy: 0.8347826086956521 - Precision: 0.843279603691503 - Recall: 0.8347826086956521 - F1: 0.8366681570773642\n",
      "Epoch: 114 - Loss: 0.9614588101704915 - Accuracy: 0.782608695652174 - Precision: 0.785 - Recall: 0.782608695652174 - F1: 0.7815708838847069\n",
      "Epoch: 115 - Loss: 0.9027923385302226 - Accuracy: 0.8434782608695652 - Precision: 0.8480907176559351 - Recall: 0.8434782608695652 - F1: 0.8443493985376209\n",
      "Epoch: 116 - Loss: 0.9342169483502706 - Accuracy: 0.8173913043478261 - Precision: 0.8309378644011328 - Recall: 0.8173913043478261 - F1: 0.8205156259095712\n",
      "Epoch: 117 - Loss: 0.9445944388707479 - Accuracy: 0.808695652173913 - Precision: 0.812423808075982 - Recall: 0.808695652173913 - F1: 0.8088523132741451\n",
      "Epoch: 118 - Loss: 0.9031771699587504 - Accuracy: 0.8434782608695652 - Precision: 0.8422360248447205 - Recall: 0.8434782608695652 - F1: 0.8424174956419113\n",
      "Epoch: 119 - Loss: 0.9170253038406372 - Accuracy: 0.8434782608695652 - Precision: 0.8519035381094878 - Recall: 0.8434782608695652 - F1: 0.8459999834533996\n",
      "Epoch: 120 - Loss: 0.8975830833117168 - Accuracy: 0.8521739130434782 - Precision: 0.8557469905295992 - Recall: 0.8521739130434782 - F1: 0.8524667208288562\n",
      "Epoch: 121 - Loss: 0.9046140909194946 - Accuracy: 0.8521739130434782 - Precision: 0.8632783351913786 - Recall: 0.8521739130434782 - F1: 0.8543310817149826\n",
      "Epoch: 122 - Loss: 0.8771367390950521 - Accuracy: 0.8608695652173913 - Precision: 0.8655554286646546 - Recall: 0.8608695652173913 - F1: 0.8612836438923397\n",
      "Epoch: 123 - Loss: 0.9011726975440979 - Accuracy: 0.8782608695652174 - Precision: 0.8841373454073683 - Recall: 0.8782608695652174 - F1: 0.8791027560167245\n",
      "Epoch: 124 - Loss: 0.9000005523363749 - Accuracy: 0.8521739130434782 - Precision: 0.8514963297571992 - Recall: 0.8521739130434782 - F1: 0.851495227995758\n",
      "Epoch: 125 - Loss: 0.9089933594067892 - Accuracy: 0.8521739130434782 - Precision: 0.8585183512140033 - Recall: 0.8521739130434782 - F1: 0.8523557828928673\n",
      "Epoch: 126 - Loss: 0.9107279102007548 - Accuracy: 0.8521739130434782 - Precision: 0.8621498774422314 - Recall: 0.8521739130434782 - F1: 0.8537789441679603\n",
      "Epoch: 127 - Loss: 0.9105715115865072 - Accuracy: 0.8347826086956521 - Precision: 0.8363118614203598 - Recall: 0.8347826086956521 - F1: 0.8319271359041945\n",
      "Epoch: 128 - Loss: 0.8916813731193542 - Accuracy: 0.8695652173913043 - Precision: 0.8707556935817805 - Recall: 0.8695652173913043 - F1: 0.8700163915802458\n",
      "Epoch: 129 - Loss: 0.9570409417152405 - Accuracy: 0.7739130434782608 - Precision: 0.7755780249410178 - Recall: 0.7739130434782608 - F1: 0.7734694068815717\n",
      "Epoch: 130 - Loss: 0.8791560173034668 - Accuracy: 0.8608695652173913 - Precision: 0.8610053714401541 - Recall: 0.8608695652173913 - F1: 0.8606680703798979\n",
      "Epoch: 131 - Loss: 0.8566747347513834 - Accuracy: 0.8869565217391304 - Precision: 0.890469327583172 - Recall: 0.8869565217391304 - F1: 0.8858027557752638\n",
      "Epoch: 132 - Loss: 0.9108007272084554 - Accuracy: 0.8434782608695652 - Precision: 0.8475214122262178 - Recall: 0.8434782608695652 - F1: 0.8448816260747223\n",
      "Epoch: 133 - Loss: 0.8617754936218261 - Accuracy: 0.8869565217391304 - Precision: 0.8995502248875562 - Recall: 0.8869565217391304 - F1: 0.8879598662207357\n",
      "Epoch: 134 - Loss: 0.8939828475316366 - Accuracy: 0.8347826086956521 - Precision: 0.8496083302886371 - Recall: 0.8347826086956521 - F1: 0.8382911987232893\n",
      "Epoch: 135 - Loss: 0.9002986907958984 - Accuracy: 0.8347826086956521 - Precision: 0.8443778025517156 - Recall: 0.8347826086956521 - F1: 0.8363579817447379\n",
      "Epoch: 136 - Loss: 0.8969775478045146 - Accuracy: 0.8347826086956521 - Precision: 0.8343265430221952 - Recall: 0.8347826086956521 - F1: 0.8331815044858524\n",
      "Epoch: 137 - Loss: 0.8761164267857869 - Accuracy: 0.8782608695652174 - Precision: 0.8912033285946331 - Recall: 0.8782608695652174 - F1: 0.8805267251206546\n",
      "Epoch: 138 - Loss: 0.8790549079577128 - Accuracy: 0.8521739130434782 - Precision: 0.8524414715719064 - Recall: 0.8521739130434782 - F1: 0.8521944348572336\n",
      "Epoch: 139 - Loss: 0.8651103337605794 - Accuracy: 0.8782608695652174 - Precision: 0.8837306265223884 - Recall: 0.8782608695652174 - F1: 0.8787448044992803\n",
      "Epoch: 140 - Loss: 0.9248120268185933 - Accuracy: 0.8173913043478261 - Precision: 0.8245207220950928 - Recall: 0.8173913043478261 - F1: 0.8199673514890907\n",
      "Epoch: 141 - Loss: 0.9003899812698364 - Accuracy: 0.8434782608695652 - Precision: 0.8502923976608187 - Recall: 0.8434782608695652 - F1: 0.8454304825609174\n",
      "Epoch: 142 - Loss: 0.8911399165789287 - Accuracy: 0.8608695652173913 - Precision: 0.8662183235867447 - Recall: 0.8608695652173913 - F1: 0.8614647432052446\n",
      "Epoch: 143 - Loss: 0.8729108532269796 - Accuracy: 0.8782608695652174 - Precision: 0.8830138147300619 - Recall: 0.8782608695652174 - F1: 0.8795588469501514\n",
      "Epoch: 144 - Loss: 0.8887456695238749 - Accuracy: 0.8695652173913043 - Precision: 0.8798057594579334 - Recall: 0.8695652173913043 - F1: 0.8718385905086672\n",
      "Epoch: 145 - Loss: 0.8724615891774495 - Accuracy: 0.8608695652173913 - Precision: 0.8603619849061644 - Recall: 0.8608695652173913 - F1: 0.8600527009222662\n",
      "Epoch: 146 - Loss: 0.8743717749913533 - Accuracy: 0.8695652173913043 - Precision: 0.8745522762685234 - Recall: 0.8695652173913043 - F1: 0.8708455744070916\n",
      "Epoch: 147 - Loss: 0.8936243613560995 - Accuracy: 0.8695652173913043 - Precision: 0.8843384253819035 - Recall: 0.8695652173913043 - F1: 0.872458401744702\n",
      "Epoch: 148 - Loss: 0.8883802175521851 - Accuracy: 0.8608695652173913 - Precision: 0.8675507246376811 - Recall: 0.8608695652173913 - F1: 0.86316457825246\n",
      "Epoch: 149 - Loss: 0.9125447511672974 - Accuracy: 0.8347826086956521 - Precision: 0.8500093111339068 - Recall: 0.8347826086956521 - F1: 0.8389817911557041\n",
      "Epoch: 150 - Loss: 0.8583717823028565 - Accuracy: 0.8956521739130435 - Precision: 0.8964508856682769 - Recall: 0.8956521739130435 - F1: 0.8954451345755693\n",
      "Epoch: 151 - Loss: 0.8976335247357686 - Accuracy: 0.8782608695652174 - Precision: 0.8846641672728629 - Recall: 0.8782608695652174 - F1: 0.879815110899779\n",
      "Epoch: 152 - Loss: 0.8724501689275106 - Accuracy: 0.8782608695652174 - Precision: 0.8909050369919935 - Recall: 0.8782608695652174 - F1: 0.8803912084633989\n",
      "Epoch: 153 - Loss: 0.8781738996505737 - Accuracy: 0.8695652173913043 - Precision: 0.8787082649151614 - Recall: 0.8695652173913043 - F1: 0.8706245699380709\n",
      "Epoch: 154 - Loss: 0.8931714534759522 - Accuracy: 0.8521739130434782 - Precision: 0.8528347015303538 - Recall: 0.8521739130434782 - F1: 0.8520919708921909\n",
      "Epoch: 155 - Loss: 0.8665609399477641 - Accuracy: 0.8869565217391304 - Precision: 0.8946480642132816 - Recall: 0.8869565217391304 - F1: 0.8892064152476051\n",
      "Epoch: 156 - Loss: 0.9072237253189087 - Accuracy: 0.8347826086956521 - Precision: 0.8338287816813796 - Recall: 0.8347826086956521 - F1: 0.8340483716915545\n",
      "Epoch: 157 - Loss: 0.9108386278152466 - Accuracy: 0.8347826086956521 - Precision: 0.8331884057971015 - Recall: 0.8347826086956521 - F1: 0.8329517346175158\n",
      "Epoch: 158 - Loss: 0.9069122950236003 - Accuracy: 0.8260869565217391 - Precision: 0.837115894399884 - Recall: 0.8260869565217391 - F1: 0.8275910775542316\n",
      "Epoch: 159 - Loss: 0.9270471930503845 - Accuracy: 0.8173913043478261 - Precision: 0.8350363988512656 - Recall: 0.8173913043478261 - F1: 0.8211375386203762\n",
      "Epoch: 160 - Loss: 0.8588432272275289 - Accuracy: 0.8869565217391304 - Precision: 0.8929400796677683 - Recall: 0.8869565217391304 - F1: 0.8883615225354355\n",
      "Epoch: 161 - Loss: 0.8581828951835633 - Accuracy: 0.8869565217391304 - Precision: 0.8895949461166853 - Recall: 0.8869565217391304 - F1: 0.8873024608852899\n",
      "Epoch: 162 - Loss: 0.8685373743375142 - Accuracy: 0.8608695652173913 - Precision: 0.8713940648723257 - Recall: 0.8608695652173913 - F1: 0.8636514560057432\n",
      "Epoch: 163 - Loss: 0.8620807329813639 - Accuracy: 0.8782608695652174 - Precision: 0.8803532314666992 - Recall: 0.8782608695652174 - F1: 0.8779872569727643\n",
      "Epoch: 164 - Loss: 0.8709678610165914 - Accuracy: 0.8608695652173913 - Precision: 0.8726858792825809 - Recall: 0.8608695652173913 - F1: 0.8634345059974351\n",
      "Epoch: 165 - Loss: 0.8939651886622111 - Accuracy: 0.8695652173913043 - Precision: 0.8759554470858819 - Recall: 0.8695652173913043 - F1: 0.8702501411631847\n",
      "Epoch: 166 - Loss: 0.8940953135490417 - Accuracy: 0.8434782608695652 - Precision: 0.8512721818808775 - Recall: 0.8434782608695652 - F1: 0.8457617434325511\n",
      "Epoch: 167 - Loss: 0.8848136305809021 - Accuracy: 0.8695652173913043 - Precision: 0.8738604966522587 - Recall: 0.8695652173913043 - F1: 0.8706402293358816\n",
      "Epoch: 168 - Loss: 0.8655583659807841 - Accuracy: 0.8869565217391304 - Precision: 0.8937543133195307 - Recall: 0.8869565217391304 - F1: 0.8886969994155349\n",
      "Epoch: 169 - Loss: 0.8820581515630086 - Accuracy: 0.8434782608695652 - Precision: 0.854296066252588 - Recall: 0.8434782608695652 - F1: 0.8458570161595969\n",
      "Epoch: 170 - Loss: 0.8950601935386657 - Accuracy: 0.8347826086956521 - Precision: 0.8364683128818866 - Recall: 0.8347826086956521 - F1: 0.8349293853870513\n",
      "Epoch: 171 - Loss: 0.9102075139681498 - Accuracy: 0.8608695652173913 - Precision: 0.8652282881115833 - Recall: 0.8608695652173913 - F1: 0.8597069120715574\n",
      "Epoch: 172 - Loss: 0.8665239016215006 - Accuracy: 0.8869565217391304 - Precision: 0.8898404204491162 - Recall: 0.8869565217391304 - F1: 0.888001477276019\n",
      "Epoch: 173 - Loss: 0.893787165482839 - Accuracy: 0.8347826086956521 - Precision: 0.8382544991240642 - Recall: 0.8347826086956521 - F1: 0.8355803398954754\n",
      "Epoch: 174 - Loss: 0.8515149275461833 - Accuracy: 0.9043478260869565 - Precision: 0.9096889360197951 - Recall: 0.9043478260869565 - F1: 0.9046727191344651\n",
      "Epoch: 175 - Loss: 0.9017540454864502 - Accuracy: 0.8434782608695652 - Precision: 0.8527719474955402 - Recall: 0.8434782608695652 - F1: 0.8443253778657505\n",
      "Epoch: 176 - Loss: 0.8805175582567851 - Accuracy: 0.8695652173913043 - Precision: 0.8776504531287139 - Recall: 0.8695652173913043 - F1: 0.8711490683229813\n",
      "Epoch: 177 - Loss: 0.8870238065719604 - Accuracy: 0.8695652173913043 - Precision: 0.8806142788751483 - Recall: 0.8695652173913043 - F1: 0.8710349125853638\n",
      "Epoch: 178 - Loss: 0.885936709245046 - Accuracy: 0.8695652173913043 - Precision: 0.8833942031328906 - Recall: 0.8695652173913043 - F1: 0.8701841524077389\n",
      "Epoch: 179 - Loss: 0.8815954446792602 - Accuracy: 0.8608695652173913 - Precision: 0.8651992299589553 - Recall: 0.8608695652173913 - F1: 0.8614022499239891\n",
      "Epoch: 180 - Loss: 0.9030026356379192 - Accuracy: 0.8260869565217391 - Precision: 0.8306422410541403 - Recall: 0.8260869565217391 - F1: 0.8275071338163852\n",
      "Epoch: 181 - Loss: 0.9293272455533346 - Accuracy: 0.8347826086956521 - Precision: 0.8449646971386102 - Recall: 0.8347826086956521 - F1: 0.8375659646009433\n",
      "Epoch: 182 - Loss: 0.8921494801839193 - Accuracy: 0.8521739130434782 - Precision: 0.859167660883908 - Recall: 0.8521739130434782 - F1: 0.8545190437948467\n",
      "Epoch: 183 - Loss: 0.9416828234990438 - Accuracy: 0.7913043478260869 - Precision: 0.7995419833942679 - Recall: 0.7913043478260869 - F1: 0.791130648622965\n",
      "Epoch: 184 - Loss: 0.9148412863413493 - Accuracy: 0.808695652173913 - Precision: 0.8231356184722245 - Recall: 0.808695652173913 - F1: 0.8104446786288096\n",
      "Epoch: 185 - Loss: 0.8658935030301412 - Accuracy: 0.8782608695652174 - Precision: 0.8906992932105376 - Recall: 0.8782608695652174 - F1: 0.8799351246890074\n",
      "Epoch: 186 - Loss: 0.8713818788528442 - Accuracy: 0.8782608695652174 - Precision: 0.8861973775017252 - Recall: 0.8782608695652174 - F1: 0.8796620413197656\n",
      "Epoch: 187 - Loss: 0.8614850997924804 - Accuracy: 0.8869565217391304 - Precision: 0.8917857896118766 - Recall: 0.8869565217391304 - F1: 0.8880865016801527\n",
      "Epoch: 188 - Loss: 0.874752672513326 - Accuracy: 0.8608695652173913 - Precision: 0.8682049029875116 - Recall: 0.8608695652173913 - F1: 0.8631333874955229\n",
      "Epoch: 189 - Loss: 0.891622002919515 - Accuracy: 0.8695652173913043 - Precision: 0.8763651946260642 - Recall: 0.8695652173913043 - F1: 0.8712927858890591\n",
      "Epoch: 190 - Loss: 0.8972032904624939 - Accuracy: 0.8347826086956521 - Precision: 0.8505718294698804 - Recall: 0.8347826086956521 - F1: 0.8391145550491187\n",
      "Epoch: 191 - Loss: 0.9019729216893514 - Accuracy: 0.8521739130434782 - Precision: 0.8589880498347316 - Recall: 0.8521739130434782 - F1: 0.8540516005733398\n",
      "Epoch: 192 - Loss: 0.9143174449602763 - Accuracy: 0.8173913043478261 - Precision: 0.8248285613290915 - Recall: 0.8173913043478261 - F1: 0.8191712327667839\n",
      "Epoch: 193 - Loss: 0.8866703430811564 - Accuracy: 0.8608695652173913 - Precision: 0.8625298938130327 - Recall: 0.8608695652173913 - F1: 0.8603927473492691\n",
      "Epoch: 194 - Loss: 0.8780060489972432 - Accuracy: 0.8695652173913043 - Precision: 0.8803109129196085 - Recall: 0.8695652173913043 - F1: 0.8724976309463248\n",
      "Epoch: 195 - Loss: 0.8762877662976583 - Accuracy: 0.8521739130434782 - Precision: 0.852743271221532 - Recall: 0.8521739130434782 - F1: 0.8523199766298262\n",
      "Epoch: 196 - Loss: 0.8813095609347026 - Accuracy: 0.8695652173913043 - Precision: 0.8703933747412009 - Recall: 0.8695652173913043 - F1: 0.8698313777042049\n",
      "Epoch: 197 - Loss: 0.879060435295105 - Accuracy: 0.8521739130434782 - Precision: 0.8639340561379542 - Recall: 0.8521739130434782 - F1: 0.8550794743014423\n",
      "Epoch: 198 - Loss: 0.8868698835372925 - Accuracy: 0.8695652173913043 - Precision: 0.8695388669301714 - Recall: 0.8695652173913043 - F1: 0.8694047326619176\n",
      "Epoch: 199 - Loss: 0.8704268773396809 - Accuracy: 0.8695652173913043 - Precision: 0.8706815648119997 - Recall: 0.8695652173913043 - F1: 0.8698520446913325\n",
      "Epoch: 200 - Loss: 0.8633820017178854 - Accuracy: 0.8782608695652174 - Precision: 0.8826923076923077 - Recall: 0.8782608695652174 - F1: 0.879073815696225\n"
     ]
    }
   ],
   "source": [
    "for epoch in range(EPOCHS):\n",
    "  model.train()\n",
    "  running_loss = 0.0\n",
    "\n",
    "  labels_list = []\n",
    "  preds_list = []\n",
    "\n",
    "  for (x, y) in train_loader:\n",
    "    x, y = x.to(DEVICE), y.to(DEVICE)\n",
    "\n",
    "    yhat = model(x)\n",
    "\n",
    "    labels_list.extend(y.cpu())\n",
    "    preds_list.extend(yhat.argmax(1).cpu())\n",
    "\n",
    "    loss = loss_fn(yhat, y)\n",
    "    optimizer.zero_grad()\n",
    "    loss.backward()\n",
    "    optimizer.step()\n",
    "\n",
    "    running_loss += loss.item()\n",
    "\n",
    "  avg_loss = running_loss / len(train_loader)\n",
    "  loss_list.append(avg_loss)\n",
    "\n",
    "  acc = accuracy_score(labels_list, preds_list)\n",
    "  pre = precision_score(labels_list, preds_list, average='weighted', zero_division=0)\n",
    "  rec = recall_score(labels_list, preds_list, average='weighted', zero_division=0)\n",
    "  f1 = f1_score(labels_list, preds_list, average='weighted', zero_division=0)\n",
    "\n",
    "  acc_list.append(acc)\n",
    "  precision_list.append(pre)\n",
    "  recall_list.append(rec)\n",
    "  f1_list.append(f1)\n",
    "\n",
    "  writer.add_scalar(\"Train/Loss\", avg_loss, epoch)\n",
    "  writer.add_scalar(\"Train/Accuracy\", acc, epoch)\n",
    "  writer.add_scalar(\"Train/Precision\", pre, epoch)\n",
    "  writer.add_scalar(\"Train/Recall\", rec, epoch)\n",
    "  writer.add_scalar(\"Train/F1\", f1, epoch)\n",
    "\n",
    "  print(f\"Epoch: {epoch + 1} - Loss: {avg_loss} - Accuracy: {acc} - Precision: {pre} - Recall: {rec} - F1: {f1}\")"
   ]
  },
  {
   "cell_type": "code",
   "execution_count": 32,
   "metadata": {
    "colab": {
     "base_uri": "https://localhost:8080/",
     "height": 472
    },
    "execution": {
     "iopub.execute_input": "2024-02-26T13:59:05.708877Z",
     "iopub.status.busy": "2024-02-26T13:59:05.708500Z",
     "iopub.status.idle": "2024-02-26T13:59:05.969161Z",
     "shell.execute_reply": "2024-02-26T13:59:05.968677Z",
     "shell.execute_reply.started": "2024-02-26T13:59:05.708845Z"
    },
    "id": "ZS1QedxgT80s",
    "outputId": "ecf9fe7a-22e9-41bd-86c2-37457e2d790f"
   },
   "outputs": [
    {
     "data": {
      "image/png": "[encoded data removed]",
      "text/plain": [
       "<Figure size 640x480 with 1 Axes>"
      ]
     },
     "metadata": {},
     "output_type": "display_data"
    }
   ],
   "source": [
    "plt.title(\"Loss History\")\n",
    "plt.plot(range(EPOCHS), loss_list)\n",
    "plt.xlabel(\"Epochs\")\n",
    "plt.ylabel(\"Loss Value\")\n",
    "plt.savefig(\"figures/training_loss_history_1d_cnn_three_blocks_adam.pdf\", bbox_inches=\"tight\")\n",
    "plt.show()"
   ]
  },
  {
   "cell_type": "code",
   "execution_count": 33,
   "metadata": {
    "colab": {
     "base_uri": "https://localhost:8080/",
     "height": 472
    },
    "execution": {
     "iopub.execute_input": "2024-02-26T13:59:17.477955Z",
     "iopub.status.busy": "2024-02-26T13:59:17.477603Z",
     "iopub.status.idle": "2024-02-26T13:59:17.796754Z",
     "shell.execute_reply": "2024-02-26T13:59:17.796149Z",
     "shell.execute_reply.started": "2024-02-26T13:59:17.477927Z"
    },
    "id": "qRiuTx4ET_LF",
    "outputId": "74c528f5-ba2c-4bd9-b93e-da0714968457"
   },
   "outputs": [
    {
     "data": {
      "image/png": "[encoded data removed]",
      "text/plain": [
       "<Figure size 640x480 with 1 Axes>"
      ]
     },
     "metadata": {},
     "output_type": "display_data"
    }
   ],
   "source": [
    "plt.title(\"Training Metrics\")\n",
    "plt.plot(range(EPOCHS), acc_list, label=\"Accuracy\")\n",
    "plt.plot(range(EPOCHS), precision_list, label=\"Precision\")\n",
    "plt.plot(range(EPOCHS), recall_list, label=\"Recall\")\n",
    "plt.plot(range(EPOCHS), f1_list, label=\"F1 Score\")\n",
    "plt.legend()\n",
    "plt.xlabel(\"Epochs\")\n",
    "plt.ylabel(\"Metric Value\")\n",
    "plt.savefig(\"figures/training_metrics_1d_cnn_three_blocks_adam.pdf\", bbox_inches=\"tight\")\n",
    "plt.show()"
   ]
  },
  {
   "cell_type": "code",
   "execution_count": 34,
   "metadata": {
    "colab": {
     "base_uri": "https://localhost:8080/"
    },
    "execution": {
     "iopub.execute_input": "2024-02-26T13:59:20.541389Z",
     "iopub.status.busy": "2024-02-26T13:59:20.540264Z",
     "iopub.status.idle": "2024-02-26T13:59:20.548138Z",
     "shell.execute_reply": "2024-02-26T13:59:20.547669Z",
     "shell.execute_reply.started": "2024-02-26T13:59:20.541315Z"
    },
    "id": "ykUjnGGHUBC-",
    "outputId": "a51ed328-5809-4e94-8fc3-0c5a9b38980c"
   },
   "outputs": [
    {
     "name": "stdout",
     "output_type": "stream",
     "text": [
      "Mean Training Accuracy: 0.799608695652174\n",
      "Mean Training Precision: 0.8060640728034798\n",
      "Mean Training Recall: 0.799608695652174\n",
      "Mean Training F1 Score: 0.8001553877040951\n"
     ]
    }
   ],
   "source": [
    "print(f\"Mean Training Accuracy: {np.array(acc_list).mean()}\")\n",
    "print(f\"Mean Training Precision: {np.array(precision_list).mean()}\")\n",
    "print(f\"Mean Training Recall: {np.array(recall_list).mean()}\")\n",
    "print(f\"Mean Training F1 Score: {np.array(f1_list).mean()}\")\n",
    "\n",
    "writer.add_scalar(\"Train/Mean Accuracy\", np.array(acc_list).mean(), 0)\n",
    "writer.add_scalar(\"Train/Mean Precision\", np.array(precision_list).mean(), 0)\n",
    "writer.add_scalar(\"Train/Mean Recall\", np.array(recall_list).mean(), 0)\n",
    "writer.add_scalar(\"Train/Mean F1 Score\", np.array(f1_list).mean(), 0)"
   ]
  },
  {
   "cell_type": "code",
   "execution_count": 35,
   "metadata": {
    "execution": {
     "iopub.execute_input": "2024-02-26T13:59:20.855224Z",
     "iopub.status.busy": "2024-02-26T13:59:20.855027Z",
     "iopub.status.idle": "2024-02-26T13:59:20.857953Z",
     "shell.execute_reply": "2024-02-26T13:59:20.857488Z",
     "shell.execute_reply.started": "2024-02-26T13:59:20.855210Z"
    },
    "id": "aMu18benUD97"
   },
   "outputs": [],
   "source": [
    "loss = 0.0\n",
    "accuracy = 0.0\n",
    "precision = 0.0\n",
    "recall = 0.0\n",
    "f1 = 0.0"
   ]
  },
  {
   "cell_type": "code",
   "execution_count": 36,
   "metadata": {
    "execution": {
     "iopub.execute_input": "2024-02-26T13:59:21.341272Z",
     "iopub.status.busy": "2024-02-26T13:59:21.340824Z",
     "iopub.status.idle": "2024-02-26T13:59:21.370101Z",
     "shell.execute_reply": "2024-02-26T13:59:21.369625Z",
     "shell.execute_reply.started": "2024-02-26T13:59:21.341237Z"
    },
    "id": "yUs5QIqKUGP7"
   },
   "outputs": [],
   "source": [
    "model.eval()\n",
    "with torch.no_grad():\n",
    "  x = torch.tensor(test_data).type(torch.FloatTensor)\n",
    "  y = torch.tensor(test_labels).type(torch.LongTensor)\n",
    "\n",
    "  yhat = model(x)\n",
    "\n",
    "  yhat = yhat.cpu()\n",
    "  loss = loss_fn(yhat, y)\n",
    "\n",
    "  yhat = yhat.argmax(1)\n",
    "  accuracy = accuracy_score(yhat, y)\n",
    "  precision = precision_score(yhat, y, average='weighted', zero_division=0)\n",
    "  recall = recall_score(yhat, y, average='weighted', zero_division=0)\n",
    "  f1 = f1_score(yhat, y, average='weighted', zero_division=0)"
   ]
  },
  {
   "cell_type": "code",
   "execution_count": 37,
   "metadata": {
    "colab": {
     "base_uri": "https://localhost:8080/"
    },
    "execution": {
     "iopub.execute_input": "2024-02-26T13:59:22.007999Z",
     "iopub.status.busy": "2024-02-26T13:59:22.007529Z",
     "iopub.status.idle": "2024-02-26T13:59:22.018434Z",
     "shell.execute_reply": "2024-02-26T13:59:22.017380Z",
     "shell.execute_reply.started": "2024-02-26T13:59:22.007960Z"
    },
    "id": "iM7ZByiWUJY0",
    "outputId": "d43b1674-81af-422a-c862-51cf4283ddad"
   },
   "outputs": [
    {
     "name": "stdout",
     "output_type": "stream",
     "text": [
      "Testing Loss: 1.4160373210906982\n",
      "Testing Accuracy: 0.3103448275862069\n",
      "Testing Precision: 0.4395183360700602\n",
      "Testing Recall: 0.3103448275862069\n",
      "Testing F1 Score: 0.3604355716878403\n"
     ]
    }
   ],
   "source": [
    "print(f\"Testing Loss: {loss}\")\n",
    "print(f\"Testing Accuracy: {accuracy}\")\n",
    "print(f\"Testing Precision: {precision}\")\n",
    "print(f\"Testing Recall: {recall}\")\n",
    "print(f\"Testing F1 Score: {f1}\")\n",
    "\n",
    "writer.add_scalar(\"Test/Loss\", loss, 0)\n",
    "writer.add_scalar(\"Test/Accuracy\", accuracy, 0)\n",
    "writer.add_scalar(\"Test/Precision\", precision, 0)\n",
    "writer.add_scalar(\"Test/Recall\", recall, 0)\n",
    "writer.add_scalar(\"Test/F1 Score\", f1, 0)"
   ]
  }
 ],
 "metadata": {
  "accelerator": "GPU",
  "colab": {
   "gpuType": "T4",
   "provenance": []
  },
  "kernelspec": {
   "display_name": "Python 3 (ipykernel)",
   "language": "python",
   "name": "python3"
  },
  "language_info": {
   "codemirror_mode": {
    "name": "ipython",
    "version": 3
   },
   "file_extension": ".py",
   "mimetype": "text/x-python",
   "name": "python",
   "nbconvert_exporter": "python",
   "pygments_lexer": "ipython3",
   "version": "3.11.5"
  }
 },
 "nbformat": 4,
 "nbformat_minor": 4
}
