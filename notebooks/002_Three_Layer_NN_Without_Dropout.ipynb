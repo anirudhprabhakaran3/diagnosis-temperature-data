{
 "cells": [
  {
   "cell_type": "markdown",
   "metadata": {
    "id": "7DnXK7GD7tSc"
   },
   "source": [
    "# Three Layer NN Without Dropout"
   ]
  },
  {
   "cell_type": "code",
   "execution_count": 2,
   "metadata": {
    "execution": {
     "iopub.execute_input": "2024-02-26T13:34:25.241022Z",
     "iopub.status.busy": "2024-02-26T13:34:25.240846Z",
     "iopub.status.idle": "2024-02-26T13:34:25.244743Z",
     "shell.execute_reply": "2024-02-26T13:34:25.243957Z",
     "shell.execute_reply.started": "2024-02-26T13:34:25.241010Z"
    },
    "id": "FRZqTGz0vhOY"
   },
   "outputs": [],
   "source": [
    "import pandas as pd\n",
    "import numpy as np\n",
    "import matplotlib.pyplot as plt\n",
    "\n",
    "import torch\n",
    "from torch import nn\n",
    "from torch import optim\n",
    "from torch.utils.tensorboard import SummaryWriter\n",
    "\n",
    "from torchinfo import summary\n",
    "\n",
    "from sklearn.model_selection import train_test_split\n",
    "\n",
    "from sklearn.metrics import accuracy_score\n",
    "from sklearn.metrics import precision_score\n",
    "from sklearn.metrics import f1_score\n",
    "from sklearn.metrics import recall_score\n",
    "\n",
    "from tqdm import tqdm"
   ]
  },
  {
   "cell_type": "code",
   "execution_count": 3,
   "metadata": {
    "execution": {
     "iopub.execute_input": "2024-02-26T13:34:35.642514Z",
     "iopub.status.busy": "2024-02-26T13:34:35.642149Z",
     "iopub.status.idle": "2024-02-26T13:34:35.645380Z",
     "shell.execute_reply": "2024-02-26T13:34:35.644945Z",
     "shell.execute_reply.started": "2024-02-26T13:34:35.642491Z"
    },
    "id": "pENyLVp_v8G3"
   },
   "outputs": [],
   "source": [
    "DATA_PATH = \"../data/filtered_df.csv\"\n",
    "SAVED_MODELS_PATH = \"saved_models/\"\n",
    "RUNS_PATH = \"runs/\""
   ]
  },
  {
   "cell_type": "code",
   "execution_count": 4,
   "metadata": {
    "colab": {
     "base_uri": "https://localhost:8080/"
    },
    "execution": {
     "iopub.execute_input": "2024-02-26T13:34:36.319299Z",
     "iopub.status.busy": "2024-02-26T13:34:36.319072Z",
     "iopub.status.idle": "2024-02-26T13:34:36.324479Z",
     "shell.execute_reply": "2024-02-26T13:34:36.323612Z",
     "shell.execute_reply.started": "2024-02-26T13:34:36.319285Z"
    },
    "id": "MaW3kDMC0HcT",
    "outputId": "b3280a6f-9955-41c2-f571-9c196f1b1af7"
   },
   "outputs": [
    {
     "data": {
      "text/plain": [
       "device(type='cpu')"
      ]
     },
     "execution_count": 4,
     "metadata": {},
     "output_type": "execute_result"
    }
   ],
   "source": [
    "DEVICE = torch.device(\"cuda\" if torch.cuda.is_available() else \"cpu\")\n",
    "DEVICE"
   ]
  },
  {
   "cell_type": "code",
   "execution_count": 5,
   "metadata": {
    "execution": {
     "iopub.execute_input": "2024-02-26T13:35:16.470902Z",
     "iopub.status.busy": "2024-02-26T13:35:16.470616Z",
     "iopub.status.idle": "2024-02-26T13:35:16.474534Z",
     "shell.execute_reply": "2024-02-26T13:35:16.474012Z",
     "shell.execute_reply.started": "2024-02-26T13:35:16.470883Z"
    },
    "id": "h6yA70-k0S8b"
   },
   "outputs": [],
   "source": [
    "class TemperatureDataset(torch.utils.data.Dataset):\n",
    "    def __init__(self, X, y):\n",
    "        super(TemperatureDataset, self).__init__()\n",
    "\n",
    "        self.X = torch.from_numpy(X).type(torch.FloatTensor).to(DEVICE)\n",
    "        self.y = torch.from_numpy(y).type(torch.LongTensor).to(DEVICE)\n",
    "\n",
    "    def __len__(self):\n",
    "        return len(self.X)\n",
    "\n",
    "    def __getitem__(self, idx):\n",
    "        return self.X[idx], self.y[idx]"
   ]
  },
  {
   "cell_type": "code",
   "execution_count": 6,
   "metadata": {
    "colab": {
     "base_uri": "https://localhost:8080/",
     "height": 253
    },
    "execution": {
     "iopub.execute_input": "2024-02-26T13:35:18.358367Z",
     "iopub.status.busy": "2024-02-26T13:35:18.357985Z",
     "iopub.status.idle": "2024-02-26T13:35:18.455299Z",
     "shell.execute_reply": "2024-02-26T13:35:18.454786Z",
     "shell.execute_reply.started": "2024-02-26T13:35:18.358336Z"
    },
    "id": "4F-eHRZH0WtR",
    "outputId": "94ad4696-f74b-43df-fd61-eca66508f56e"
   },
   "outputs": [
    {
     "data": {
      "text/html": [
       "<div>\n",
       "<style scoped>\n",
       "    .dataframe tbody tr th:only-of-type {\n",
       "        vertical-align: middle;\n",
       "    }\n",
       "\n",
       "    .dataframe tbody tr th {\n",
       "        vertical-align: top;\n",
       "    }\n",
       "\n",
       "    .dataframe thead th {\n",
       "        text-align: right;\n",
       "    }\n",
       "</style>\n",
       "<table border=\"1\" class=\"dataframe\">\n",
       "  <thead>\n",
       "    <tr style=\"text-align: right;\">\n",
       "      <th></th>\n",
       "      <th>0</th>\n",
       "      <th>1</th>\n",
       "      <th>2</th>\n",
       "      <th>3</th>\n",
       "      <th>4</th>\n",
       "      <th>5</th>\n",
       "      <th>6</th>\n",
       "      <th>7</th>\n",
       "      <th>8</th>\n",
       "      <th>9</th>\n",
       "      <th>...</th>\n",
       "      <th>1432</th>\n",
       "      <th>1433</th>\n",
       "      <th>1434</th>\n",
       "      <th>1435</th>\n",
       "      <th>1436</th>\n",
       "      <th>1437</th>\n",
       "      <th>1438</th>\n",
       "      <th>1439</th>\n",
       "      <th>disease</th>\n",
       "      <th>disease_encoded</th>\n",
       "    </tr>\n",
       "  </thead>\n",
       "  <tbody>\n",
       "    <tr>\n",
       "      <th>0</th>\n",
       "      <td>-0.600793</td>\n",
       "      <td>-0.611672</td>\n",
       "      <td>-0.641927</td>\n",
       "      <td>-0.703334</td>\n",
       "      <td>-0.735307</td>\n",
       "      <td>-0.768693</td>\n",
       "      <td>-0.800064</td>\n",
       "      <td>-0.804619</td>\n",
       "      <td>-0.820434</td>\n",
       "      <td>-0.815434</td>\n",
       "      <td>...</td>\n",
       "      <td>-0.569687</td>\n",
       "      <td>-0.576000</td>\n",
       "      <td>-0.578024</td>\n",
       "      <td>-0.579432</td>\n",
       "      <td>-0.603702</td>\n",
       "      <td>-0.614348</td>\n",
       "      <td>-0.570614</td>\n",
       "      <td>-0.585905</td>\n",
       "      <td>tuberculosis</td>\n",
       "      <td>3</td>\n",
       "    </tr>\n",
       "    <tr>\n",
       "      <th>1</th>\n",
       "      <td>1.984041</td>\n",
       "      <td>1.983801</td>\n",
       "      <td>1.959033</td>\n",
       "      <td>1.940365</td>\n",
       "      <td>1.935875</td>\n",
       "      <td>1.934162</td>\n",
       "      <td>1.937535</td>\n",
       "      <td>1.936295</td>\n",
       "      <td>1.967151</td>\n",
       "      <td>2.081924</td>\n",
       "      <td>...</td>\n",
       "      <td>1.174397</td>\n",
       "      <td>1.282001</td>\n",
       "      <td>1.260898</td>\n",
       "      <td>1.246758</td>\n",
       "      <td>1.227232</td>\n",
       "      <td>1.154427</td>\n",
       "      <td>0.827348</td>\n",
       "      <td>0.846903</td>\n",
       "      <td>dengue</td>\n",
       "      <td>0</td>\n",
       "    </tr>\n",
       "    <tr>\n",
       "      <th>2</th>\n",
       "      <td>-0.309623</td>\n",
       "      <td>-0.758681</td>\n",
       "      <td>0.316584</td>\n",
       "      <td>0.492371</td>\n",
       "      <td>0.592256</td>\n",
       "      <td>0.721028</td>\n",
       "      <td>0.737815</td>\n",
       "      <td>0.895757</td>\n",
       "      <td>0.929506</td>\n",
       "      <td>0.289527</td>\n",
       "      <td>...</td>\n",
       "      <td>1.541171</td>\n",
       "      <td>1.465912</td>\n",
       "      <td>1.593909</td>\n",
       "      <td>1.872238</td>\n",
       "      <td>1.414773</td>\n",
       "      <td>2.063128</td>\n",
       "      <td>2.243709</td>\n",
       "      <td>2.291239</td>\n",
       "      <td>dengue</td>\n",
       "      <td>0</td>\n",
       "    </tr>\n",
       "    <tr>\n",
       "      <th>3</th>\n",
       "      <td>-0.220918</td>\n",
       "      <td>-0.047667</td>\n",
       "      <td>-0.062442</td>\n",
       "      <td>-0.109892</td>\n",
       "      <td>-0.299183</td>\n",
       "      <td>-0.309485</td>\n",
       "      <td>-0.330068</td>\n",
       "      <td>-0.316008</td>\n",
       "      <td>-0.307686</td>\n",
       "      <td>-0.289970</td>\n",
       "      <td>...</td>\n",
       "      <td>-0.029082</td>\n",
       "      <td>-0.028372</td>\n",
       "      <td>-0.036696</td>\n",
       "      <td>-0.027367</td>\n",
       "      <td>-0.038670</td>\n",
       "      <td>-0.053340</td>\n",
       "      <td>-1.094856</td>\n",
       "      <td>-1.105207</td>\n",
       "      <td>dengue</td>\n",
       "      <td>0</td>\n",
       "    </tr>\n",
       "    <tr>\n",
       "      <th>4</th>\n",
       "      <td>1.532853</td>\n",
       "      <td>1.535051</td>\n",
       "      <td>1.503432</td>\n",
       "      <td>1.482185</td>\n",
       "      <td>1.478143</td>\n",
       "      <td>1.476522</td>\n",
       "      <td>1.479842</td>\n",
       "      <td>1.484116</td>\n",
       "      <td>1.502529</td>\n",
       "      <td>1.549556</td>\n",
       "      <td>...</td>\n",
       "      <td>1.377466</td>\n",
       "      <td>1.370742</td>\n",
       "      <td>1.358552</td>\n",
       "      <td>1.363322</td>\n",
       "      <td>1.349046</td>\n",
       "      <td>1.286549</td>\n",
       "      <td>1.269561</td>\n",
       "      <td>1.241234</td>\n",
       "      <td>tuberculosis</td>\n",
       "      <td>3</td>\n",
       "    </tr>\n",
       "  </tbody>\n",
       "</table>\n",
       "<p>5 rows × 1442 columns</p>\n",
       "</div>"
      ],
      "text/plain": [
       "          0         1         2         3         4         5         6  \\\n",
       "0 -0.600793 -0.611672 -0.641927 -0.703334 -0.735307 -0.768693 -0.800064   \n",
       "1  1.984041  1.983801  1.959033  1.940365  1.935875  1.934162  1.937535   \n",
       "2 -0.309623 -0.758681  0.316584  0.492371  0.592256  0.721028  0.737815   \n",
       "3 -0.220918 -0.047667 -0.062442 -0.109892 -0.299183 -0.309485 -0.330068   \n",
       "4  1.532853  1.535051  1.503432  1.482185  1.478143  1.476522  1.479842   \n",
       "\n",
       "          7         8         9  ...      1432      1433      1434      1435  \\\n",
       "0 -0.804619 -0.820434 -0.815434  ... -0.569687 -0.576000 -0.578024 -0.579432   \n",
       "1  1.936295  1.967151  2.081924  ...  1.174397  1.282001  1.260898  1.246758   \n",
       "2  0.895757  0.929506  0.289527  ...  1.541171  1.465912  1.593909  1.872238   \n",
       "3 -0.316008 -0.307686 -0.289970  ... -0.029082 -0.028372 -0.036696 -0.027367   \n",
       "4  1.484116  1.502529  1.549556  ...  1.377466  1.370742  1.358552  1.363322   \n",
       "\n",
       "       1436      1437      1438      1439       disease  disease_encoded  \n",
       "0 -0.603702 -0.614348 -0.570614 -0.585905  tuberculosis                3  \n",
       "1  1.227232  1.154427  0.827348  0.846903        dengue                0  \n",
       "2  1.414773  2.063128  2.243709  2.291239        dengue                0  \n",
       "3 -0.038670 -0.053340 -1.094856 -1.105207        dengue                0  \n",
       "4  1.349046  1.286549  1.269561  1.241234  tuberculosis                3  \n",
       "\n",
       "[5 rows x 1442 columns]"
      ]
     },
     "execution_count": 6,
     "metadata": {},
     "output_type": "execute_result"
    }
   ],
   "source": [
    "df = pd.read_csv(DATA_PATH, index_col=False)\n",
    "df = df.sample(frac=1)\n",
    "df.reset_index(drop=True, inplace=True)\n",
    "df.head()"
   ]
  },
  {
   "cell_type": "code",
   "execution_count": 7,
   "metadata": {
    "execution": {
     "iopub.execute_input": "2024-02-26T13:35:20.172668Z",
     "iopub.status.busy": "2024-02-26T13:35:20.172230Z",
     "iopub.status.idle": "2024-02-26T13:35:20.181346Z",
     "shell.execute_reply": "2024-02-26T13:35:20.180809Z",
     "shell.execute_reply.started": "2024-02-26T13:35:20.172632Z"
    },
    "id": "vhuYq9s90mfk"
   },
   "outputs": [],
   "source": [
    "X = df.drop(\"disease\", axis=1)\n",
    "X = X.drop(\"disease_encoded\", axis=1)\n",
    "y = df[\"disease_encoded\"]"
   ]
  },
  {
   "cell_type": "code",
   "execution_count": 8,
   "metadata": {
    "execution": {
     "iopub.execute_input": "2024-02-26T13:35:22.367772Z",
     "iopub.status.busy": "2024-02-26T13:35:22.367227Z",
     "iopub.status.idle": "2024-02-26T13:35:22.377585Z",
     "shell.execute_reply": "2024-02-26T13:35:22.376705Z",
     "shell.execute_reply.started": "2024-02-26T13:35:22.367726Z"
    },
    "id": "O1GT3MB10s0S"
   },
   "outputs": [],
   "source": [
    "train_data, test_data, train_labels, test_labels = train_test_split(X, y, test_size=0.2, random_state=42)\n",
    "train_data = train_data.to_numpy()\n",
    "test_data = test_data.to_numpy()\n",
    "train_labels = train_labels.to_numpy()\n",
    "test_labels = test_labels.to_numpy()"
   ]
  },
  {
   "cell_type": "code",
   "execution_count": 9,
   "metadata": {
    "execution": {
     "iopub.execute_input": "2024-02-26T13:35:22.639286Z",
     "iopub.status.busy": "2024-02-26T13:35:22.638922Z",
     "iopub.status.idle": "2024-02-26T13:35:22.645567Z",
     "shell.execute_reply": "2024-02-26T13:35:22.644941Z",
     "shell.execute_reply.started": "2024-02-26T13:35:22.639257Z"
    },
    "id": "eC9zYWGj0vk2"
   },
   "outputs": [],
   "source": [
    "train_dataset = TemperatureDataset(train_data, train_labels)\n",
    "test_dataset = TemperatureDataset(test_data, test_labels)"
   ]
  },
  {
   "cell_type": "code",
   "execution_count": 10,
   "metadata": {
    "execution": {
     "iopub.execute_input": "2024-02-26T13:35:25.340897Z",
     "iopub.status.busy": "2024-02-26T13:35:25.340263Z",
     "iopub.status.idle": "2024-02-26T13:35:25.346010Z",
     "shell.execute_reply": "2024-02-26T13:35:25.345203Z",
     "shell.execute_reply.started": "2024-02-26T13:35:25.340844Z"
    },
    "id": "1WjmVADI0yQY"
   },
   "outputs": [],
   "source": [
    "train_loader = torch.utils.data.DataLoader(train_dataset, batch_size=8, shuffle=True)\n",
    "test_loader = torch.utils.data.DataLoader(test_dataset, batch_size=1, shuffle=True)"
   ]
  },
  {
   "cell_type": "code",
   "execution_count": 11,
   "metadata": {
    "execution": {
     "iopub.execute_input": "2024-02-26T13:35:27.282390Z",
     "iopub.status.busy": "2024-02-26T13:35:27.281980Z",
     "iopub.status.idle": "2024-02-26T13:35:27.291456Z",
     "shell.execute_reply": "2024-02-26T13:35:27.290371Z",
     "shell.execute_reply.started": "2024-02-26T13:35:27.282359Z"
    },
    "id": "qKu77HBQ01JI"
   },
   "outputs": [],
   "source": [
    "class Model(nn.Module):\n",
    "  def __init__(self):\n",
    "    super(Model, self).__init__()\n",
    "\n",
    "    self.dense1 = nn.Linear(1440, 1024)\n",
    "    self.dense2 = nn.Linear(1024, 512)\n",
    "    self.dense3 = nn.Linear(512, 64)\n",
    "    self.dense4 = nn.Linear(64, 4)\n",
    "\n",
    "    self.relu = nn.ReLU()\n",
    "    self.softmax = nn.Softmax(dim=1)\n",
    "\n",
    "  def forward(self, x):\n",
    "    x = x.to(DEVICE)\n",
    "\n",
    "    x = self.relu(self.dense1(x))\n",
    "    x = self.relu(self.dense2(x))\n",
    "    x = self.relu(self.dense3(x))\n",
    "\n",
    "    return self.softmax(self.dense4(x))"
   ]
  },
  {
   "cell_type": "code",
   "execution_count": 12,
   "metadata": {
    "execution": {
     "iopub.execute_input": "2024-02-26T13:35:27.604948Z",
     "iopub.status.busy": "2024-02-26T13:35:27.603924Z",
     "iopub.status.idle": "2024-02-26T13:35:27.609347Z",
     "shell.execute_reply": "2024-02-26T13:35:27.608809Z",
     "shell.execute_reply.started": "2024-02-26T13:35:27.604906Z"
    },
    "id": "oidBJIbCa1qi"
   },
   "outputs": [],
   "source": [
    "sample_x, sample_y = next(iter(train_loader))"
   ]
  },
  {
   "cell_type": "markdown",
   "metadata": {
    "id": "MeWrOGxU7q1C"
   },
   "source": [
    "## SGD"
   ]
  },
  {
   "cell_type": "code",
   "execution_count": 13,
   "metadata": {
    "colab": {
     "base_uri": "https://localhost:8080/"
    },
    "execution": {
     "iopub.execute_input": "2024-02-26T13:35:29.064444Z",
     "iopub.status.busy": "2024-02-26T13:35:29.064022Z",
     "iopub.status.idle": "2024-02-26T13:35:29.086454Z",
     "shell.execute_reply": "2024-02-26T13:35:29.085527Z",
     "shell.execute_reply.started": "2024-02-26T13:35:29.064412Z"
    },
    "id": "FIuV-w4B1Qew",
    "outputId": "7053dd53-8bf0-4244-a73b-ccc1e55ad733"
   },
   "outputs": [
    {
     "data": {
      "text/plain": [
       "Model(\n",
       "  (dense1): Linear(in_features=1440, out_features=1024, bias=True)\n",
       "  (dense2): Linear(in_features=1024, out_features=512, bias=True)\n",
       "  (dense3): Linear(in_features=512, out_features=64, bias=True)\n",
       "  (dense4): Linear(in_features=64, out_features=4, bias=True)\n",
       "  (relu): ReLU()\n",
       "  (softmax): Softmax(dim=1)\n",
       ")"
      ]
     },
     "execution_count": 13,
     "metadata": {},
     "output_type": "execute_result"
    }
   ],
   "source": [
    "model = Model()\n",
    "model = model.to(DEVICE)\n",
    "model"
   ]
  },
  {
   "cell_type": "code",
   "execution_count": 14,
   "metadata": {
    "colab": {
     "base_uri": "https://localhost:8080/"
    },
    "execution": {
     "iopub.execute_input": "2024-02-26T13:35:29.909980Z",
     "iopub.status.busy": "2024-02-26T13:35:29.909607Z",
     "iopub.status.idle": "2024-02-26T13:35:29.920599Z",
     "shell.execute_reply": "2024-02-26T13:35:29.920077Z",
     "shell.execute_reply.started": "2024-02-26T13:35:29.909950Z"
    },
    "id": "5jV_e1sUap86",
    "outputId": "de9e59a3-39c2-4b79-ed0d-6c454b963117"
   },
   "outputs": [
    {
     "data": {
      "text/plain": [
       "==========================================================================================\n",
       "Layer (type:depth-idx)                   Output Shape              Param #\n",
       "==========================================================================================\n",
       "Model                                    [8, 4]                    --\n",
       "├─Linear: 1-1                            [8, 1024]                 1,475,584\n",
       "├─ReLU: 1-2                              [8, 1024]                 --\n",
       "├─Linear: 1-3                            [8, 512]                  524,800\n",
       "├─ReLU: 1-4                              [8, 512]                  --\n",
       "├─Linear: 1-5                            [8, 64]                   32,832\n",
       "├─ReLU: 1-6                              [8, 64]                   --\n",
       "├─Linear: 1-7                            [8, 4]                    260\n",
       "├─Softmax: 1-8                           [8, 4]                    --\n",
       "==========================================================================================\n",
       "Total params: 2,033,476\n",
       "Trainable params: 2,033,476\n",
       "Non-trainable params: 0\n",
       "Total mult-adds (Units.MEGABYTES): 16.27\n",
       "==========================================================================================\n",
       "Input size (MB): 0.05\n",
       "Forward/backward pass size (MB): 0.10\n",
       "Params size (MB): 8.13\n",
       "Estimated Total Size (MB): 8.28\n",
       "=========================================================================================="
      ]
     },
     "execution_count": 14,
     "metadata": {},
     "output_type": "execute_result"
    }
   ],
   "source": [
    "summary(model, input_data=sample_x)"
   ]
  },
  {
   "cell_type": "code",
   "execution_count": 15,
   "metadata": {
    "execution": {
     "iopub.execute_input": "2024-02-26T13:35:34.152714Z",
     "iopub.status.busy": "2024-02-26T13:35:34.152275Z",
     "iopub.status.idle": "2024-02-26T13:35:34.159511Z",
     "shell.execute_reply": "2024-02-26T13:35:34.158695Z",
     "shell.execute_reply.started": "2024-02-26T13:35:34.152680Z"
    },
    "id": "IILxVI2J71bv"
   },
   "outputs": [],
   "source": [
    "tb_board = RUNS_PATH + \"three_layer_nn_without_dropout_sgd\"\n",
    "writer = SummaryWriter(tb_board)"
   ]
  },
  {
   "cell_type": "code",
   "execution_count": 16,
   "metadata": {
    "execution": {
     "iopub.execute_input": "2024-02-26T13:35:36.694445Z",
     "iopub.status.busy": "2024-02-26T13:35:36.693795Z",
     "iopub.status.idle": "2024-02-26T13:35:36.700824Z",
     "shell.execute_reply": "2024-02-26T13:35:36.699788Z",
     "shell.execute_reply.started": "2024-02-26T13:35:36.694390Z"
    },
    "id": "b2sKZQmF1W42"
   },
   "outputs": [],
   "source": [
    "EPOCHS = 200\n",
    "\n",
    "acc_list = []\n",
    "f1_list = []\n",
    "recall_list = []\n",
    "precision_list = []\n",
    "\n",
    "loss_list = []"
   ]
  },
  {
   "cell_type": "code",
   "execution_count": 17,
   "metadata": {
    "execution": {
     "iopub.execute_input": "2024-02-26T13:35:36.977270Z",
     "iopub.status.busy": "2024-02-26T13:35:36.976677Z",
     "iopub.status.idle": "2024-02-26T13:35:37.627887Z",
     "shell.execute_reply": "2024-02-26T13:35:37.627043Z",
     "shell.execute_reply.started": "2024-02-26T13:35:36.977215Z"
    },
    "id": "MZPInsjR1h93"
   },
   "outputs": [],
   "source": [
    "loss_fn = nn.CrossEntropyLoss()\n",
    "optimizer = optim.SGD(model.parameters(), lr=1e-3, momentum=0.9)"
   ]
  },
  {
   "cell_type": "code",
   "execution_count": 18,
   "metadata": {
    "colab": {
     "base_uri": "https://localhost:8080/"
    },
    "execution": {
     "iopub.execute_input": "2024-02-26T13:35:40.743884Z",
     "iopub.status.busy": "2024-02-26T13:35:40.743163Z",
     "iopub.status.idle": "2024-02-26T13:36:05.532667Z",
     "shell.execute_reply": "2024-02-26T13:36:05.531993Z",
     "shell.execute_reply.started": "2024-02-26T13:35:40.743835Z"
    },
    "id": "kQ6ZNBVr1vSy",
    "outputId": "70e8c9f5-fb0e-4a9e-f819-ce770b1e769a",
    "scrolled": true
   },
   "outputs": [
    {
     "name": "stdout",
     "output_type": "stream",
     "text": [
      "Epoch: 1 - Loss: 1.3866869688034058 - Accuracy: 0.30434782608695654 - Precision: 0.09262759924385633 - Recall: 0.30434782608695654 - F1: 0.14202898550724638\n",
      "Epoch: 2 - Loss: 1.3861448685328166 - Accuracy: 0.3130434782608696 - Precision: 0.22035398230088496 - Recall: 0.3130434782608696 - F1: 0.16021758083469162\n",
      "Epoch: 3 - Loss: 1.385409688949585 - Accuracy: 0.3217391304347826 - Precision: 0.2632246376811594 - Recall: 0.3217391304347826 - F1: 0.17644927536231883\n",
      "Epoch: 4 - Loss: 1.384114940961202 - Accuracy: 0.3217391304347826 - Precision: 0.22205248726987858 - Recall: 0.3217391304347826 - F1: 0.17648672550399772\n",
      "Epoch: 5 - Loss: 1.3825585921605428 - Accuracy: 0.3391304347826087 - Precision: 0.2658423082036963 - Recall: 0.3391304347826087 - F1: 0.20558661145617668\n",
      "Epoch: 6 - Loss: 1.3824884414672851 - Accuracy: 0.3652173913043478 - Precision: 0.250520613479668 - Recall: 0.3652173913043478 - F1: 0.24048749750257425\n",
      "Epoch: 7 - Loss: 1.3810170968373616 - Accuracy: 0.3652173913043478 - Precision: 0.23598830836682497 - Recall: 0.3652173913043478 - F1: 0.24970649686598345\n",
      "Epoch: 8 - Loss: 1.3803383111953735 - Accuracy: 0.4 - Precision: 0.2452143850287475 - Recall: 0.4 - F1: 0.2854621955884228\n",
      "Epoch: 9 - Loss: 1.3793553272883097 - Accuracy: 0.40869565217391307 - Precision: 0.2520406463434949 - Recall: 0.40869565217391307 - F1: 0.2947510436819062\n",
      "Epoch: 10 - Loss: 1.3778730471928915 - Accuracy: 0.41739130434782606 - Precision: 0.2573450816120179 - Recall: 0.41739130434782606 - F1: 0.3025486821617464\n",
      "Epoch: 11 - Loss: 1.3765611489613852 - Accuracy: 0.43478260869565216 - Precision: 0.2672463768115942 - Recall: 0.43478260869565216 - F1: 0.31755169274784345\n",
      "Epoch: 12 - Loss: 1.375683856010437 - Accuracy: 0.43478260869565216 - Precision: 0.2672463768115942 - Recall: 0.43478260869565216 - F1: 0.31755169274784345\n",
      "Epoch: 13 - Loss: 1.374994977315267 - Accuracy: 0.45217391304347826 - Precision: 0.6188336536630131 - Recall: 0.45217391304347826 - F1: 0.3519297013484843\n",
      "Epoch: 14 - Loss: 1.3734574476877848 - Accuracy: 0.4608695652173913 - Precision: 0.7101380014891001 - Recall: 0.4608695652173913 - F1: 0.3684298759711054\n",
      "Epoch: 15 - Loss: 1.3720182736714681 - Accuracy: 0.4608695652173913 - Precision: 0.7101380014891001 - Recall: 0.4608695652173913 - F1: 0.3684298759711054\n",
      "Epoch: 16 - Loss: 1.3707192579905192 - Accuracy: 0.4608695652173913 - Precision: 0.7101380014891001 - Recall: 0.4608695652173913 - F1: 0.3684298759711054\n",
      "Epoch: 17 - Loss: 1.3718084732691447 - Accuracy: 0.46956521739130436 - Precision: 0.714945652173913 - Recall: 0.46956521739130436 - F1: 0.3756776134708516\n",
      "Epoch: 18 - Loss: 1.3700685024261474 - Accuracy: 0.46956521739130436 - Precision: 0.7119494337986357 - Recall: 0.46956521739130436 - F1: 0.37462962838691777\n",
      "Epoch: 19 - Loss: 1.366726326942444 - Accuracy: 0.46956521739130436 - Precision: 0.7119494337986357 - Recall: 0.46956521739130436 - F1: 0.37462962838691777\n",
      "Epoch: 20 - Loss: 1.368884793917338 - Accuracy: 0.46956521739130436 - Precision: 0.7119494337986357 - Recall: 0.46956521739130436 - F1: 0.37462962838691777\n",
      "Epoch: 21 - Loss: 1.3663350423177083 - Accuracy: 0.48695652173913045 - Precision: 0.7151515151515152 - Recall: 0.48695652173913045 - F1: 0.407660112312835\n",
      "Epoch: 22 - Loss: 1.365748437245687 - Accuracy: 0.48695652173913045 - Precision: 0.7151515151515152 - Recall: 0.48695652173913045 - F1: 0.407660112312835\n",
      "Epoch: 23 - Loss: 1.3640778064727783 - Accuracy: 0.48695652173913045 - Precision: 0.7125454300713421 - Recall: 0.48695652173913045 - F1: 0.4067735916507183\n",
      "Epoch: 24 - Loss: 1.362579305966695 - Accuracy: 0.5043478260869565 - Precision: 0.7150541846194021 - Recall: 0.5043478260869565 - F1: 0.4280116039779578\n",
      "Epoch: 25 - Loss: 1.361215305328369 - Accuracy: 0.5043478260869565 - Precision: 0.7150541846194021 - Recall: 0.5043478260869565 - F1: 0.4280116039779578\n",
      "Epoch: 26 - Loss: 1.3603105068206787 - Accuracy: 0.5217391304347826 - Precision: 0.6854382332643202 - Recall: 0.5217391304347826 - F1: 0.45705557236748157\n",
      "Epoch: 27 - Loss: 1.357189416885376 - Accuracy: 0.5304347826086957 - Precision: 0.690483732449706 - Recall: 0.5304347826086957 - F1: 0.46412965770243647\n",
      "Epoch: 28 - Loss: 1.3569558382034301 - Accuracy: 0.5304347826086957 - Precision: 0.690483732449706 - Recall: 0.5304347826086957 - F1: 0.46412965770243647\n",
      "Epoch: 29 - Loss: 1.356104326248169 - Accuracy: 0.5391304347826087 - Precision: 0.6779584120982987 - Recall: 0.5391304347826087 - F1: 0.478183619310746\n",
      "Epoch: 30 - Loss: 1.3534088293711344 - Accuracy: 0.5478260869565217 - Precision: 0.688205641424812 - Recall: 0.5478260869565217 - F1: 0.4915127720420726\n",
      "Epoch: 31 - Loss: 1.350475827852885 - Accuracy: 0.5391304347826087 - Precision: 0.701304347826087 - Recall: 0.5391304347826087 - F1: 0.4788642506549929\n",
      "Epoch: 32 - Loss: 1.3486600081125895 - Accuracy: 0.5478260869565217 - Precision: 0.685163381042398 - Recall: 0.5478260869565217 - F1: 0.4860640540933547\n",
      "Epoch: 33 - Loss: 1.3467426458994547 - Accuracy: 0.5652173913043478 - Precision: 0.7146869149157478 - Recall: 0.5652173913043478 - F1: 0.5047698417714086\n",
      "Epoch: 34 - Loss: 1.3417003313700357 - Accuracy: 0.5826086956521739 - Precision: 0.7247491638795986 - Recall: 0.5826086956521739 - F1: 0.5239045632573933\n",
      "Epoch: 35 - Loss: 1.3431087017059327 - Accuracy: 0.5826086956521739 - Precision: 0.7211485592098564 - Recall: 0.5826086956521739 - F1: 0.5225316612973366\n",
      "Epoch: 36 - Loss: 1.3393225113550822 - Accuracy: 0.5826086956521739 - Precision: 0.7211485592098564 - Recall: 0.5826086956521739 - F1: 0.5225316612973366\n",
      "Epoch: 37 - Loss: 1.3391222874323527 - Accuracy: 0.591304347826087 - Precision: 0.7270347197089544 - Recall: 0.591304347826087 - F1: 0.5348292858569957\n",
      "Epoch: 38 - Loss: 1.3356693426767985 - Accuracy: 0.5826086956521739 - Precision: 0.7211485592098564 - Recall: 0.5826086956521739 - F1: 0.5225316612973366\n",
      "Epoch: 39 - Loss: 1.3323042074839273 - Accuracy: 0.5826086956521739 - Precision: 0.7048603746907035 - Recall: 0.5826086956521739 - F1: 0.5275278934576517\n",
      "Epoch: 40 - Loss: 1.32516610622406 - Accuracy: 0.5826086956521739 - Precision: 0.7059729151817533 - Recall: 0.5826086956521739 - F1: 0.5279649383382843\n",
      "Epoch: 41 - Loss: 1.3267508745193481 - Accuracy: 0.5826086956521739 - Precision: 0.7059729151817533 - Recall: 0.5826086956521739 - F1: 0.5279649383382843\n",
      "Epoch: 42 - Loss: 1.3231067498524984 - Accuracy: 0.5826086956521739 - Precision: 0.7040109485208969 - Recall: 0.5826086956521739 - F1: 0.5272054642135077\n",
      "Epoch: 43 - Loss: 1.3169236818949381 - Accuracy: 0.5826086956521739 - Precision: 0.689601702645181 - Recall: 0.5826086956521739 - F1: 0.526483470092954\n",
      "Epoch: 44 - Loss: 1.3161798636118571 - Accuracy: 0.591304347826087 - Precision: 0.686533688758158 - Recall: 0.591304347826087 - F1: 0.5373135895820206\n",
      "Epoch: 45 - Loss: 1.3116626103719076 - Accuracy: 0.6 - Precision: 0.6943722943722944 - Recall: 0.6 - F1: 0.548349707571199\n",
      "Epoch: 46 - Loss: 1.3069926659266153 - Accuracy: 0.6 - Precision: 0.6939557353106393 - Recall: 0.6 - F1: 0.5481629768082902\n",
      "Epoch: 47 - Loss: 1.3013662815093994 - Accuracy: 0.5826086956521739 - Precision: 0.6768592021788953 - Recall: 0.5826086956521739 - F1: 0.5231931041861857\n",
      "Epoch: 48 - Loss: 1.297373859087626 - Accuracy: 0.591304347826087 - Precision: 0.6728552539472661 - Recall: 0.591304347826087 - F1: 0.5402038111379093\n",
      "Epoch: 49 - Loss: 1.296592394510905 - Accuracy: 0.6086956521739131 - Precision: 0.7122412008281575 - Recall: 0.6086956521739131 - F1: 0.5603466476812413\n",
      "Epoch: 50 - Loss: 1.2956458489100138 - Accuracy: 0.6 - Precision: 0.6972022481518046 - Recall: 0.6 - F1: 0.5527278962398153\n",
      "Epoch: 51 - Loss: 1.2811252117156982 - Accuracy: 0.591304347826087 - Precision: 0.6774027459954234 - Recall: 0.591304347826087 - F1: 0.5448557630080524\n",
      "Epoch: 52 - Loss: 1.278663150469462 - Accuracy: 0.6 - Precision: 0.6913660191181005 - Recall: 0.6 - F1: 0.5529552355524047\n",
      "Epoch: 53 - Loss: 1.2789164463678995 - Accuracy: 0.6 - Precision: 0.6984015345268542 - Recall: 0.6 - F1: 0.5532786564442934\n",
      "Epoch: 54 - Loss: 1.2606929779052733 - Accuracy: 0.591304347826087 - Precision: 0.6725254394079555 - Recall: 0.591304347826087 - F1: 0.544770405889314\n",
      "Epoch: 55 - Loss: 1.2602594375610352 - Accuracy: 0.6 - Precision: 0.6900015417823004 - Recall: 0.6 - F1: 0.5523405930956938\n",
      "Epoch: 56 - Loss: 1.2628372430801391 - Accuracy: 0.5826086956521739 - Precision: 0.664450905246465 - Recall: 0.5826086956521739 - F1: 0.5269533158293686\n",
      "Epoch: 57 - Loss: 1.260509936014811 - Accuracy: 0.591304347826087 - Precision: 0.6687754673387943 - Recall: 0.591304347826087 - F1: 0.5366182649201517\n",
      "Epoch: 58 - Loss: 1.2406434694925943 - Accuracy: 0.5826086956521739 - Precision: 0.4763928510053274 - Recall: 0.5826086956521739 - F1: 0.5171532678381994\n",
      "Epoch: 59 - Loss: 1.240363065401713 - Accuracy: 0.5739130434782609 - Precision: 0.4699500016891321 - Recall: 0.5739130434782609 - F1: 0.5106367787710661\n",
      "Epoch: 60 - Loss: 1.2386362632115682 - Accuracy: 0.5739130434782609 - Precision: 0.4716687184862854 - Recall: 0.5739130434782609 - F1: 0.513658591298897\n",
      "Epoch: 61 - Loss: 1.2226803223292033 - Accuracy: 0.591304347826087 - Precision: 0.4866666666666667 - Recall: 0.591304347826087 - F1: 0.5299490795142968\n",
      "Epoch: 62 - Loss: 1.212145777543386 - Accuracy: 0.5826086956521739 - Precision: 0.4795450101036438 - Recall: 0.5826086956521739 - F1: 0.521283222795382\n",
      "Epoch: 63 - Loss: 1.201648437976837 - Accuracy: 0.591304347826087 - Precision: 0.48683870477348734 - Recall: 0.591304347826087 - F1: 0.5309621442995762\n",
      "Epoch: 64 - Loss: 1.2074634552001953 - Accuracy: 0.6 - Precision: 0.49499087868653086 - Recall: 0.6 - F1: 0.5393772915646534\n",
      "Epoch: 65 - Loss: 1.2113585154215494 - Accuracy: 0.6086956521739131 - Precision: 0.6810276679841897 - Recall: 0.6086956521739131 - F1: 0.5574862382009493\n",
      "Epoch: 66 - Loss: 1.2019193410873412 - Accuracy: 0.6 - Precision: 0.4960890368213023 - Recall: 0.6 - F1: 0.5400153152386624\n",
      "Epoch: 67 - Loss: 1.200138791402181 - Accuracy: 0.591304347826087 - Precision: 0.48952286394741634 - Recall: 0.591304347826087 - F1: 0.5323588776388062\n",
      "Epoch: 68 - Loss: 1.1913904110590616 - Accuracy: 0.591304347826087 - Precision: 0.4887757611721212 - Recall: 0.591304347826087 - F1: 0.5324043106651802\n",
      "Epoch: 69 - Loss: 1.1835973660151164 - Accuracy: 0.6086956521739131 - Precision: 0.6807632731545775 - Recall: 0.6086956521739131 - F1: 0.5688504320018771\n",
      "Epoch: 70 - Loss: 1.165309739112854 - Accuracy: 0.6086956521739131 - Precision: 0.6795154562596423 - Recall: 0.6086956521739131 - F1: 0.5687490623218411\n",
      "Epoch: 71 - Loss: 1.17555775642395 - Accuracy: 0.6086956521739131 - Precision: 0.6795154562596423 - Recall: 0.6086956521739131 - F1: 0.5687490623218411\n",
      "Epoch: 72 - Loss: 1.1773731072743734 - Accuracy: 0.6173913043478261 - Precision: 0.6878778931262876 - Recall: 0.6173913043478261 - F1: 0.5766608352645164\n",
      "Epoch: 73 - Loss: 1.1626525481541952 - Accuracy: 0.6173913043478261 - Precision: 0.6878778931262876 - Recall: 0.6173913043478261 - F1: 0.5766608352645164\n",
      "Epoch: 74 - Loss: 1.1507922927538554 - Accuracy: 0.6173913043478261 - Precision: 0.6878778931262876 - Recall: 0.6173913043478261 - F1: 0.5766608352645164\n",
      "Epoch: 75 - Loss: 1.1541019876797993 - Accuracy: 0.6260869565217392 - Precision: 0.6887623232379608 - Recall: 0.6260869565217392 - F1: 0.5927737598910915\n",
      "Epoch: 76 - Loss: 1.1413847525914511 - Accuracy: 0.6173913043478261 - Precision: 0.6878778931262876 - Recall: 0.6173913043478261 - F1: 0.5766608352645164\n",
      "Epoch: 77 - Loss: 1.1350104928016662 - Accuracy: 0.6695652173913044 - Precision: 0.7250404361751128 - Recall: 0.6695652173913044 - F1: 0.648833827939768\n",
      "Epoch: 78 - Loss: 1.1306140740712485 - Accuracy: 0.6608695652173913 - Precision: 0.7177639751552796 - Recall: 0.6608695652173913 - F1: 0.6409771702777374\n",
      "Epoch: 79 - Loss: 1.118305472532908 - Accuracy: 0.6608695652173913 - Precision: 0.6913941911158242 - Recall: 0.6608695652173913 - F1: 0.6404888925261087\n",
      "Epoch: 80 - Loss: 1.115919534365336 - Accuracy: 0.6608695652173913 - Precision: 0.6913941911158242 - Recall: 0.6608695652173913 - F1: 0.6404888925261087\n",
      "Epoch: 81 - Loss: 1.1090121229489645 - Accuracy: 0.6608695652173913 - Precision: 0.6913941911158242 - Recall: 0.6608695652173913 - F1: 0.6404888925261087\n",
      "Epoch: 82 - Loss: 1.1028007944424947 - Accuracy: 0.6608695652173913 - Precision: 0.6725313334008987 - Recall: 0.6608695652173913 - F1: 0.6406213924639054\n",
      "Epoch: 83 - Loss: 1.104385761419932 - Accuracy: 0.6608695652173913 - Precision: 0.660310773640293 - Recall: 0.6608695652173913 - F1: 0.6410293096642166\n",
      "Epoch: 84 - Loss: 1.1102154970169067 - Accuracy: 0.6782608695652174 - Precision: 0.6708391771856008 - Recall: 0.6782608695652174 - F1: 0.6581445556622972\n",
      "Epoch: 85 - Loss: 1.0930704832077027 - Accuracy: 0.6869565217391305 - Precision: 0.6768393315304071 - Recall: 0.6869565217391305 - F1: 0.6664503569110968\n",
      "Epoch: 86 - Loss: 1.082490611076355 - Accuracy: 0.6956521739130435 - Precision: 0.6899227290531638 - Recall: 0.6956521739130435 - F1: 0.6767263427109975\n",
      "Epoch: 87 - Loss: 1.0766484022140503 - Accuracy: 0.7130434782608696 - Precision: 0.7132020268061459 - Recall: 0.7130434782608696 - F1: 0.697872381538204\n",
      "Epoch: 88 - Loss: 1.0837013721466064 - Accuracy: 0.7217391304347827 - Precision: 0.7242769616889347 - Recall: 0.7217391304347827 - F1: 0.7068345636347144\n",
      "Epoch: 89 - Loss: 1.0770342389742533 - Accuracy: 0.7217391304347827 - Precision: 0.7242769616889347 - Recall: 0.7217391304347827 - F1: 0.7068345636347144\n",
      "Epoch: 90 - Loss: 1.0684447646141053 - Accuracy: 0.7217391304347827 - Precision: 0.7242769616889347 - Recall: 0.7217391304347827 - F1: 0.7068345636347144\n",
      "Epoch: 91 - Loss: 1.065324032306671 - Accuracy: 0.7217391304347827 - Precision: 0.7242769616889347 - Recall: 0.7217391304347827 - F1: 0.7068345636347144\n",
      "Epoch: 92 - Loss: 1.0640981475512186 - Accuracy: 0.7217391304347827 - Precision: 0.7242769616889347 - Recall: 0.7217391304347827 - F1: 0.7068345636347144\n",
      "Epoch: 93 - Loss: 1.0533710201581319 - Accuracy: 0.7217391304347827 - Precision: 0.7242769616889347 - Recall: 0.7217391304347827 - F1: 0.7068345636347144\n",
      "Epoch: 94 - Loss: 1.0495548129081727 - Accuracy: 0.7304347826086957 - Precision: 0.7311110268754027 - Recall: 0.7304347826086957 - F1: 0.7146413793584672\n",
      "Epoch: 95 - Loss: 1.0579536199569701 - Accuracy: 0.7391304347826086 - Precision: 0.7424843369443651 - Recall: 0.7391304347826086 - F1: 0.7267845365752569\n",
      "Epoch: 96 - Loss: 1.0550962845484415 - Accuracy: 0.7391304347826086 - Precision: 0.7424843369443651 - Recall: 0.7391304347826086 - F1: 0.7267845365752569\n",
      "Epoch: 97 - Loss: 1.0379296819368997 - Accuracy: 0.7391304347826086 - Precision: 0.7337455807021025 - Recall: 0.7391304347826086 - F1: 0.7219877694013492\n",
      "Epoch: 98 - Loss: 1.0482705076535543 - Accuracy: 0.7565217391304347 - Precision: 0.7516843628096825 - Recall: 0.7565217391304347 - F1: 0.7423258688381561\n",
      "Epoch: 99 - Loss: 1.030953005949656 - Accuracy: 0.7739130434782608 - Precision: 0.7686805947675514 - Recall: 0.7739130434782608 - F1: 0.7621377220255202\n",
      "Epoch: 100 - Loss: 1.023807422320048 - Accuracy: 0.7652173913043478 - Precision: 0.7577108313681203 - Recall: 0.7652173913043478 - F1: 0.7502717391304348\n",
      "Epoch: 101 - Loss: 1.0246493657430014 - Accuracy: 0.7739130434782608 - Precision: 0.7685421994884911 - Recall: 0.7739130434782608 - F1: 0.7620451408494887\n",
      "Epoch: 102 - Loss: 1.038114031155904 - Accuracy: 0.7739130434782608 - Precision: 0.7666731251130228 - Recall: 0.7739130434782608 - F1: 0.7614764803278424\n",
      "Epoch: 103 - Loss: 1.0143380165100098 - Accuracy: 0.7739130434782608 - Precision: 0.7685421994884911 - Recall: 0.7739130434782608 - F1: 0.7620451408494887\n",
      "Epoch: 104 - Loss: 1.0168143033981323 - Accuracy: 0.7739130434782608 - Precision: 0.7685421994884911 - Recall: 0.7739130434782608 - F1: 0.7620451408494887\n",
      "Epoch: 105 - Loss: 1.0051125685373943 - Accuracy: 0.7739130434782608 - Precision: 0.7685421994884911 - Recall: 0.7739130434782608 - F1: 0.7620451408494887\n",
      "Epoch: 106 - Loss: 1.0202273408571878 - Accuracy: 0.7739130434782608 - Precision: 0.7685421994884911 - Recall: 0.7739130434782608 - F1: 0.7620451408494887\n",
      "Epoch: 107 - Loss: 1.0022950887680053 - Accuracy: 0.782608695652174 - Precision: 0.7786793768890955 - Recall: 0.782608695652174 - F1: 0.7709091648234278\n",
      "Epoch: 108 - Loss: 0.996378767490387 - Accuracy: 0.782608695652174 - Precision: 0.775127231393216 - Recall: 0.782608695652174 - F1: 0.770049658527475\n",
      "Epoch: 109 - Loss: 0.9954381426175435 - Accuracy: 0.7913043478260869 - Precision: 0.7830702208419599 - Recall: 0.7913043478260869 - F1: 0.7782748326934327\n",
      "Epoch: 110 - Loss: 1.0017855127652486 - Accuracy: 0.782608695652174 - Precision: 0.775127231393216 - Recall: 0.782608695652174 - F1: 0.770049658527475\n",
      "Epoch: 111 - Loss: 0.9992172757784525 - Accuracy: 0.782608695652174 - Precision: 0.775127231393216 - Recall: 0.782608695652174 - F1: 0.770049658527475\n",
      "Epoch: 112 - Loss: 0.990436565876007 - Accuracy: 0.7913043478260869 - Precision: 0.7840423874084465 - Recall: 0.7913043478260869 - F1: 0.7785577761695337\n",
      "Epoch: 113 - Loss: 0.9825597047805786 - Accuracy: 0.7913043478260869 - Precision: 0.7830702208419599 - Recall: 0.7913043478260869 - F1: 0.7782748326934327\n",
      "Epoch: 114 - Loss: 0.9954803307851156 - Accuracy: 0.7913043478260869 - Precision: 0.7830702208419599 - Recall: 0.7913043478260869 - F1: 0.7782748326934327\n",
      "Epoch: 115 - Loss: 0.9814642151196797 - Accuracy: 0.7913043478260869 - Precision: 0.7866798074371707 - Recall: 0.7913043478260869 - F1: 0.7794092777220617\n",
      "Epoch: 116 - Loss: 0.9964986801147461 - Accuracy: 0.7913043478260869 - Precision: 0.7854166666666668 - Recall: 0.7913043478260869 - F1: 0.7790319445344392\n",
      "Epoch: 117 - Loss: 0.982958980401357 - Accuracy: 0.8173913043478261 - Precision: 0.8183131799401085 - Recall: 0.8173913043478261 - F1: 0.8014203177660086\n",
      "Epoch: 118 - Loss: 0.9824332396189371 - Accuracy: 0.8 - Precision: 0.7960235385200323 - Recall: 0.8 - F1: 0.7859683794466402\n",
      "Epoch: 119 - Loss: 0.9768208980560302 - Accuracy: 0.8 - Precision: 0.7942632623890468 - Recall: 0.8 - F1: 0.785308715505261\n",
      "Epoch: 120 - Loss: 0.9674955805142721 - Accuracy: 0.808695652173913 - Precision: 0.8137932137496616 - Recall: 0.808695652173913 - F1: 0.7944705828126639\n",
      "Epoch: 121 - Loss: 0.969973603884379 - Accuracy: 0.808695652173913 - Precision: 0.8112626511504493 - Recall: 0.808695652173913 - F1: 0.7936331665654894\n",
      "Epoch: 122 - Loss: 0.9758707722028096 - Accuracy: 0.808695652173913 - Precision: 0.8041131311903221 - Recall: 0.808695652173913 - F1: 0.7968699803273954\n",
      "Epoch: 123 - Loss: 0.9581393599510193 - Accuracy: 0.8173913043478261 - Precision: 0.8225083612040133 - Recall: 0.8173913043478261 - F1: 0.8025914627688886\n",
      "Epoch: 124 - Loss: 0.9749179442723592 - Accuracy: 0.8173913043478261 - Precision: 0.8164512338425381 - Recall: 0.8173913043478261 - F1: 0.8064794120539451\n",
      "Epoch: 125 - Loss: 0.968386971950531 - Accuracy: 0.8173913043478261 - Precision: 0.8141989815902859 - Recall: 0.8173913043478261 - F1: 0.8057356914762959\n",
      "Epoch: 126 - Loss: 0.9576295614242554 - Accuracy: 0.8260869565217391 - Precision: 0.8307572290409819 - Recall: 0.8260869565217391 - F1: 0.8141727374520651\n",
      "Epoch: 127 - Loss: 0.9574407021204631 - Accuracy: 0.8173913043478261 - Precision: 0.8126457447967745 - Recall: 0.8173913043478261 - F1: 0.8051976450478384\n",
      "Epoch: 128 - Loss: 0.9522569338480632 - Accuracy: 0.8173913043478261 - Precision: 0.8141989815902859 - Recall: 0.8173913043478261 - F1: 0.8057356914762959\n",
      "Epoch: 129 - Loss: 0.9403384288152059 - Accuracy: 0.8260869565217391 - Precision: 0.8307572290409819 - Recall: 0.8260869565217391 - F1: 0.8141727374520651\n",
      "Epoch: 130 - Loss: 0.9386886676152547 - Accuracy: 0.8347826086956521 - Precision: 0.8450227802172883 - Recall: 0.8347826086956521 - F1: 0.8212294626172908\n",
      "Epoch: 131 - Loss: 0.9443509658177693 - Accuracy: 0.8260869565217391 - Precision: 0.8267526523819431 - Recall: 0.8260869565217391 - F1: 0.812931758760213\n",
      "Epoch: 132 - Loss: 0.9509099086125692 - Accuracy: 0.8260869565217391 - Precision: 0.8267526523819431 - Recall: 0.8260869565217391 - F1: 0.812931758760213\n",
      "Epoch: 133 - Loss: 0.9561372717221578 - Accuracy: 0.8260869565217391 - Precision: 0.8267526523819431 - Recall: 0.8260869565217391 - F1: 0.812931758760213\n",
      "Epoch: 134 - Loss: 0.9326537410418193 - Accuracy: 0.8260869565217391 - Precision: 0.8267526523819431 - Recall: 0.8260869565217391 - F1: 0.812931758760213\n",
      "Epoch: 135 - Loss: 0.9266234834988912 - Accuracy: 0.8434782608695652 - Precision: 0.8499665551839466 - Recall: 0.8434782608695652 - F1: 0.828657548689878\n",
      "Epoch: 136 - Loss: 0.9269688328107198 - Accuracy: 0.8521739130434782 - Precision: 0.858608973025449 - Recall: 0.8521739130434782 - F1: 0.8405882371835169\n",
      "Epoch: 137 - Loss: 0.9358887076377869 - Accuracy: 0.8434782608695652 - Precision: 0.8433257055682685 - Recall: 0.8434782608695652 - F1: 0.8326298911816924\n",
      "Epoch: 138 - Loss: 0.9334449609120686 - Accuracy: 0.8521739130434782 - Precision: 0.858608973025449 - Recall: 0.8521739130434782 - F1: 0.8405882371835169\n",
      "Epoch: 139 - Loss: 0.9333218137423197 - Accuracy: 0.8608695652173913 - Precision: 0.8659965130216847 - Recall: 0.8608695652173913 - F1: 0.8517238407104247\n",
      "Epoch: 140 - Loss: 0.9261977871259054 - Accuracy: 0.8608695652173913 - Precision: 0.8673521347434392 - Recall: 0.8608695652173913 - F1: 0.8521344617881097\n",
      "Epoch: 141 - Loss: 0.9139093399047852 - Accuracy: 0.8608695652173913 - Precision: 0.8653714997704768 - Recall: 0.8608695652173913 - F1: 0.851529855205242\n",
      "Epoch: 142 - Loss: 0.9119518399238586 - Accuracy: 0.8608695652173913 - Precision: 0.8673521347434392 - Recall: 0.8608695652173913 - F1: 0.8521344617881097\n",
      "Epoch: 143 - Loss: 0.9186914722124736 - Accuracy: 0.8608695652173913 - Precision: 0.8673521347434392 - Recall: 0.8608695652173913 - F1: 0.8521344617881097\n",
      "Epoch: 144 - Loss: 0.9102871417999268 - Accuracy: 0.8608695652173913 - Precision: 0.8659965130216847 - Recall: 0.8608695652173913 - F1: 0.8517238407104247\n",
      "Epoch: 145 - Loss: 0.9217150370279948 - Accuracy: 0.8608695652173913 - Precision: 0.8673521347434392 - Recall: 0.8608695652173913 - F1: 0.8521344617881097\n",
      "Epoch: 146 - Loss: 0.9071620345115662 - Accuracy: 0.8695652173913043 - Precision: 0.8745985115550333 - Recall: 0.8695652173913043 - F1: 0.8600396001280306\n",
      "Epoch: 147 - Loss: 0.9062105417251587 - Accuracy: 0.8608695652173913 - Precision: 0.8596054950192398 - Recall: 0.8608695652173913 - F1: 0.8520043911579263\n",
      "Epoch: 148 - Loss: 0.9044805526733398 - Accuracy: 0.8695652173913043 - Precision: 0.8764917091004047 - Recall: 0.8695652173913043 - F1: 0.8605484312069138\n",
      "Epoch: 149 - Loss: 0.9017613172531128 - Accuracy: 0.8695652173913043 - Precision: 0.8747120492562288 - Recall: 0.8695652173913043 - F1: 0.8605053883314752\n",
      "Epoch: 150 - Loss: 0.8987715482711792 - Accuracy: 0.8782608695652174 - Precision: 0.8849086544738719 - Recall: 0.8782608695652174 - F1: 0.8713941549053837\n",
      "Epoch: 151 - Loss: 0.8981074452400207 - Accuracy: 0.8869565217391304 - Precision: 0.890386057342579 - Recall: 0.8869565217391304 - F1: 0.8793975190741415\n",
      "Epoch: 152 - Loss: 0.907866112391154 - Accuracy: 0.8869565217391304 - Precision: 0.890386057342579 - Recall: 0.8869565217391304 - F1: 0.8793975190741415\n",
      "Epoch: 153 - Loss: 0.893232774734497 - Accuracy: 0.8869565217391304 - Precision: 0.8896028384950178 - Recall: 0.8869565217391304 - F1: 0.8792225319277428\n",
      "Epoch: 154 - Loss: 0.924374258518219 - Accuracy: 0.8869565217391304 - Precision: 0.890386057342579 - Recall: 0.8869565217391304 - F1: 0.8793975190741415\n",
      "Epoch: 155 - Loss: 0.8920983473459879 - Accuracy: 0.8869565217391304 - Precision: 0.8919435154217764 - Recall: 0.8869565217391304 - F1: 0.8797974389474231\n",
      "Epoch: 156 - Loss: 0.9036581714948019 - Accuracy: 0.8869565217391304 - Precision: 0.890386057342579 - Recall: 0.8869565217391304 - F1: 0.8793975190741415\n",
      "Epoch: 157 - Loss: 0.8885376811027527 - Accuracy: 0.8869565217391304 - Precision: 0.890386057342579 - Recall: 0.8869565217391304 - F1: 0.8793975190741415\n",
      "Epoch: 158 - Loss: 0.886565367380778 - Accuracy: 0.8869565217391304 - Precision: 0.8942806351502003 - Recall: 0.8869565217391304 - F1: 0.8804219398909049\n",
      "Epoch: 159 - Loss: 0.8844812313715616 - Accuracy: 0.8869565217391304 - Precision: 0.8942806351502003 - Recall: 0.8869565217391304 - F1: 0.8804219398909049\n",
      "Epoch: 160 - Loss: 0.9024273554484049 - Accuracy: 0.8869565217391304 - Precision: 0.890386057342579 - Recall: 0.8869565217391304 - F1: 0.8793975190741415\n",
      "Epoch: 161 - Loss: 0.8823652784029643 - Accuracy: 0.8869565217391304 - Precision: 0.8919435154217764 - Recall: 0.8869565217391304 - F1: 0.8797974389474231\n",
      "Epoch: 162 - Loss: 0.882808800538381 - Accuracy: 0.8869565217391304 - Precision: 0.8919435154217764 - Recall: 0.8869565217391304 - F1: 0.8797974389474231\n",
      "Epoch: 163 - Loss: 0.8903801798820495 - Accuracy: 0.8869565217391304 - Precision: 0.8896028384950178 - Recall: 0.8869565217391304 - F1: 0.8792225319277428\n",
      "Epoch: 164 - Loss: 0.879053262869517 - Accuracy: 0.8956521739130435 - Precision: 0.8989256337082423 - Recall: 0.8956521739130435 - F1: 0.889981419546637\n",
      "Epoch: 165 - Loss: 0.8831329504648845 - Accuracy: 0.9130434782608695 - Precision: 0.9165372670807453 - Recall: 0.9130434782608695 - F1: 0.9106029106029107\n",
      "Epoch: 166 - Loss: 0.8756075024604797 - Accuracy: 0.9130434782608695 - Precision: 0.9149012503552145 - Recall: 0.9130434782608695 - F1: 0.9102013372833948\n",
      "Epoch: 167 - Loss: 0.881447430451711 - Accuracy: 0.9130434782608695 - Precision: 0.9149012503552145 - Recall: 0.9130434782608695 - F1: 0.9102013372833948\n",
      "Epoch: 168 - Loss: 0.8747845888137817 - Accuracy: 0.9130434782608695 - Precision: 0.9190217391304348 - Recall: 0.9130434782608695 - F1: 0.9112391993299367\n",
      "Epoch: 169 - Loss: 0.8723186612129211 - Accuracy: 0.9130434782608695 - Precision: 0.9149012503552145 - Recall: 0.9130434782608695 - F1: 0.9102013372833948\n",
      "Epoch: 170 - Loss: 0.884651263554891 - Accuracy: 0.9130434782608695 - Precision: 0.9149012503552145 - Recall: 0.9130434782608695 - F1: 0.9102013372833948\n",
      "Epoch: 171 - Loss: 0.8758977015813192 - Accuracy: 0.9130434782608695 - Precision: 0.9149012503552145 - Recall: 0.9130434782608695 - F1: 0.9102013372833948\n",
      "Epoch: 172 - Loss: 0.8810506661732992 - Accuracy: 0.9130434782608695 - Precision: 0.9165372670807453 - Recall: 0.9130434782608695 - F1: 0.9106029106029107\n",
      "Epoch: 173 - Loss: 0.8708606680234273 - Accuracy: 0.9130434782608695 - Precision: 0.9149012503552145 - Recall: 0.9130434782608695 - F1: 0.9102013372833948\n",
      "Epoch: 174 - Loss: 0.86813458998998 - Accuracy: 0.9130434782608695 - Precision: 0.9190217391304348 - Recall: 0.9130434782608695 - F1: 0.9112391993299367\n",
      "Epoch: 175 - Loss: 0.8750265200932821 - Accuracy: 0.9130434782608695 - Precision: 0.9197377501725328 - Recall: 0.9130434782608695 - F1: 0.9105516039380094\n",
      "Epoch: 176 - Loss: 0.8658798376719157 - Accuracy: 0.9130434782608695 - Precision: 0.9149012503552145 - Recall: 0.9130434782608695 - F1: 0.9102013372833948\n",
      "Epoch: 177 - Loss: 0.8643669962882996 - Accuracy: 0.9130434782608695 - Precision: 0.9149012503552145 - Recall: 0.9130434782608695 - F1: 0.9102013372833948\n",
      "Epoch: 178 - Loss: 0.8638982137044271 - Accuracy: 0.9130434782608695 - Precision: 0.9245593419506463 - Recall: 0.9130434782608695 - F1: 0.911812393608517\n",
      "Epoch: 179 - Loss: 0.863179612159729 - Accuracy: 0.9130434782608695 - Precision: 0.9141077342164299 - Recall: 0.9130434782608695 - F1: 0.910034879600097\n",
      "Epoch: 180 - Loss: 0.8658224463462829 - Accuracy: 0.9130434782608695 - Precision: 0.9197377501725328 - Recall: 0.9130434782608695 - F1: 0.9105516039380094\n",
      "Epoch: 181 - Loss: 0.8627684036890666 - Accuracy: 0.9130434782608695 - Precision: 0.9149012503552145 - Recall: 0.9130434782608695 - F1: 0.9102013372833948\n",
      "Epoch: 182 - Loss: 0.8612574696540832 - Accuracy: 0.9130434782608695 - Precision: 0.9245593419506463 - Recall: 0.9130434782608695 - F1: 0.911812393608517\n",
      "Epoch: 183 - Loss: 0.8634041587511698 - Accuracy: 0.9130434782608695 - Precision: 0.9165372670807453 - Recall: 0.9130434782608695 - F1: 0.9106029106029107\n",
      "Epoch: 184 - Loss: 0.8709632873535156 - Accuracy: 0.9130434782608695 - Precision: 0.9149012503552145 - Recall: 0.9130434782608695 - F1: 0.9102013372833948\n",
      "Epoch: 185 - Loss: 0.8592103799184163 - Accuracy: 0.9130434782608695 - Precision: 0.9245593419506463 - Recall: 0.9130434782608695 - F1: 0.911812393608517\n",
      "Epoch: 186 - Loss: 0.8623162349065144 - Accuracy: 0.9130434782608695 - Precision: 0.9149012503552145 - Recall: 0.9130434782608695 - F1: 0.9102013372833948\n",
      "Epoch: 187 - Loss: 0.8565881093343098 - Accuracy: 0.9130434782608695 - Precision: 0.9149012503552145 - Recall: 0.9130434782608695 - F1: 0.9102013372833948\n",
      "Epoch: 188 - Loss: 0.8558241049448649 - Accuracy: 0.9130434782608695 - Precision: 0.9141077342164299 - Recall: 0.9130434782608695 - F1: 0.910034879600097\n",
      "Epoch: 189 - Loss: 0.8545929193496704 - Accuracy: 0.9130434782608695 - Precision: 0.9149012503552145 - Recall: 0.9130434782608695 - F1: 0.9102013372833948\n",
      "Epoch: 190 - Loss: 0.8546423157056172 - Accuracy: 0.9130434782608695 - Precision: 0.9149012503552145 - Recall: 0.9130434782608695 - F1: 0.9102013372833948\n",
      "Epoch: 191 - Loss: 0.8541485865910848 - Accuracy: 0.9130434782608695 - Precision: 0.9190217391304348 - Recall: 0.9130434782608695 - F1: 0.9112391993299367\n",
      "Epoch: 192 - Loss: 0.8530092080434163 - Accuracy: 0.9130434782608695 - Precision: 0.9197377501725328 - Recall: 0.9130434782608695 - F1: 0.9105516039380094\n",
      "Epoch: 193 - Loss: 0.8782127857208252 - Accuracy: 0.9130434782608695 - Precision: 0.9141077342164299 - Recall: 0.9130434782608695 - F1: 0.910034879600097\n",
      "Epoch: 194 - Loss: 0.8520562171936035 - Accuracy: 0.9130434782608695 - Precision: 0.9141077342164299 - Recall: 0.9130434782608695 - F1: 0.910034879600097\n",
      "Epoch: 195 - Loss: 0.8508501807848613 - Accuracy: 0.9130434782608695 - Precision: 0.9165372670807453 - Recall: 0.9130434782608695 - F1: 0.9106029106029107\n",
      "Epoch: 196 - Loss: 0.8510346213976542 - Accuracy: 0.9130434782608695 - Precision: 0.9190217391304348 - Recall: 0.9130434782608695 - F1: 0.9112391993299367\n",
      "Epoch: 197 - Loss: 0.8504803458849589 - Accuracy: 0.9130434782608695 - Precision: 0.9197377501725328 - Recall: 0.9130434782608695 - F1: 0.9105516039380094\n",
      "Epoch: 198 - Loss: 0.8485598762830099 - Accuracy: 0.9130434782608695 - Precision: 0.9197377501725328 - Recall: 0.9130434782608695 - F1: 0.9105516039380094\n",
      "Epoch: 199 - Loss: 0.8482696294784546 - Accuracy: 0.9130434782608695 - Precision: 0.9149012503552145 - Recall: 0.9130434782608695 - F1: 0.9102013372833948\n",
      "Epoch: 200 - Loss: 0.847575581073761 - Accuracy: 0.9130434782608695 - Precision: 0.9149012503552145 - Recall: 0.9130434782608695 - F1: 0.9102013372833948\n"
     ]
    }
   ],
   "source": [
    "for epoch in range(EPOCHS):\n",
    "  model.train()\n",
    "  running_loss = 0.0\n",
    "\n",
    "  labels_list = []\n",
    "  preds_list = []\n",
    "\n",
    "  for (x, y) in train_loader:\n",
    "    x, y = x.to(DEVICE), y.to(DEVICE)\n",
    "\n",
    "    yhat = model(x)\n",
    "\n",
    "    labels_list.extend(y.cpu())\n",
    "    preds_list.extend(yhat.argmax(1).cpu())\n",
    "\n",
    "    loss = loss_fn(yhat, y)\n",
    "    optimizer.zero_grad()\n",
    "    loss.backward()\n",
    "    optimizer.step()\n",
    "\n",
    "    running_loss += loss.item()\n",
    "\n",
    "  avg_loss = running_loss / len(train_loader)\n",
    "  loss_list.append(avg_loss)\n",
    "\n",
    "  acc = accuracy_score(labels_list, preds_list)\n",
    "  pre = precision_score(labels_list, preds_list, average='weighted', zero_division=0)\n",
    "  rec = recall_score(labels_list, preds_list, average='weighted', zero_division=0)\n",
    "  f1 = f1_score(labels_list, preds_list, average='weighted', zero_division=0)\n",
    "\n",
    "  acc_list.append(acc)\n",
    "  precision_list.append(pre)\n",
    "  recall_list.append(rec)\n",
    "  f1_list.append(f1)\n",
    "\n",
    "  writer.add_scalar(\"Train/Loss\", avg_loss, epoch)\n",
    "  writer.add_scalar(\"Train/Accuracy\", acc, epoch)\n",
    "  writer.add_scalar(\"Train/Precision\", pre, epoch)\n",
    "  writer.add_scalar(\"Train/Recall\", rec, epoch)\n",
    "  writer.add_scalar(\"Train/F1\", f1, epoch)\n",
    "\n",
    "  print(f\"Epoch: {epoch + 1} - Loss: {avg_loss} - Accuracy: {acc} - Precision: {pre} - Recall: {rec} - F1: {f1}\")"
   ]
  },
  {
   "cell_type": "code",
   "execution_count": 19,
   "metadata": {
    "colab": {
     "base_uri": "https://localhost:8080/",
     "height": 472
    },
    "execution": {
     "iopub.execute_input": "2024-02-26T13:36:09.664884Z",
     "iopub.status.busy": "2024-02-26T13:36:09.664611Z",
     "iopub.status.idle": "2024-02-26T13:36:10.086283Z",
     "shell.execute_reply": "2024-02-26T13:36:10.084632Z",
     "shell.execute_reply.started": "2024-02-26T13:36:09.664862Z"
    },
    "id": "HNfMmm0lvkAl",
    "outputId": "d8055f04-65de-49ca-b4d4-a10fda2d2a20"
   },
   "outputs": [
    {
     "data": {
      "image/png": "[encoded data removed]",
      "text/plain": [
       "<Figure size 640x480 with 1 Axes>"
      ]
     },
     "metadata": {},
     "output_type": "display_data"
    }
   ],
   "source": [
    "plt.title(\"Loss History\")\n",
    "plt.plot(range(EPOCHS), loss_list)\n",
    "plt.xlabel(\"Epochs\")\n",
    "plt.ylabel(\"Loss Value\")\n",
    "plt.savefig(\"figures/train_loss_history_three_layer_nn_without_dropout_sgd.pdf\", bbox_inches=\"tight\")\n",
    "plt.show()"
   ]
  },
  {
   "cell_type": "code",
   "execution_count": 20,
   "metadata": {
    "colab": {
     "base_uri": "https://localhost:8080/",
     "height": 472
    },
    "execution": {
     "iopub.execute_input": "2024-02-26T13:36:29.242694Z",
     "iopub.status.busy": "2024-02-26T13:36:29.242407Z",
     "iopub.status.idle": "2024-02-26T13:36:29.574752Z",
     "shell.execute_reply": "2024-02-26T13:36:29.574362Z",
     "shell.execute_reply.started": "2024-02-26T13:36:29.242668Z"
    },
    "id": "tvBWlTRuw95F",
    "outputId": "461a4349-cefb-4900-d503-8376aa57d092"
   },
   "outputs": [
    {
     "data": {
      "image/png": "[encoded data removed]",
      "text/plain": [
       "<Figure size 640x480 with 1 Axes>"
      ]
     },
     "metadata": {},
     "output_type": "display_data"
    }
   ],
   "source": [
    "plt.title(\"Training Metrics\")\n",
    "plt.plot(range(EPOCHS), acc_list, label=\"Accuracy\")\n",
    "plt.plot(range(EPOCHS), precision_list, label=\"Precision\")\n",
    "plt.plot(range(EPOCHS), recall_list, label=\"Recall\")\n",
    "plt.plot(range(EPOCHS), f1_list, label=\"F1 Score\")\n",
    "plt.legend()\n",
    "plt.xlabel(\"Epochs\")\n",
    "plt.ylabel(\"Metric Value\")\n",
    "plt.savefig(\"figures/training_metrics_three_layer_nn_without_dropout_sgd.pdf\", bbox_inches=\"tight\")\n",
    "plt.show()"
   ]
  },
  {
   "cell_type": "code",
   "execution_count": 21,
   "metadata": {
    "colab": {
     "base_uri": "https://localhost:8080/"
    },
    "execution": {
     "iopub.execute_input": "2024-02-26T13:36:36.004897Z",
     "iopub.status.busy": "2024-02-26T13:36:36.004426Z",
     "iopub.status.idle": "2024-02-26T13:36:36.009523Z",
     "shell.execute_reply": "2024-02-26T13:36:36.008935Z",
     "shell.execute_reply.started": "2024-02-26T13:36:36.004873Z"
    },
    "id": "iIXzx3y1xryb",
    "outputId": "3ef8a4d5-d77f-4faa-9086-9c98cc5d8d33"
   },
   "outputs": [
    {
     "name": "stdout",
     "output_type": "stream",
     "text": [
      "Mean Training Accuracy: 0.7189565217391304\n",
      "Mean Training Precision: 0.7446837826290417\n",
      "Mean Training Recall: 0.7189565217391304\n",
      "Mean Training F1 Score: 0.6857342021985008\n"
     ]
    }
   ],
   "source": [
    "print(f\"Mean Training Accuracy: {np.array(acc_list).mean()}\")\n",
    "print(f\"Mean Training Precision: {np.array(precision_list).mean()}\")\n",
    "print(f\"Mean Training Recall: {np.array(recall_list).mean()}\")\n",
    "print(f\"Mean Training F1 Score: {np.array(f1_list).mean()}\")\n",
    "\n",
    "writer.add_scalar(\"Train/Mean Accuracy\", np.array(acc_list).mean(), 0)\n",
    "writer.add_scalar(\"Train/Mean Precision\", np.array(precision_list).mean(), 0)\n",
    "writer.add_scalar(\"Train/Mean Recall\", np.array(recall_list).mean(), 0)\n",
    "writer.add_scalar(\"Train/Mean F1 Score\", np.array(f1_list).mean(), 0)"
   ]
  },
  {
   "cell_type": "code",
   "execution_count": 22,
   "metadata": {
    "execution": {
     "iopub.execute_input": "2024-02-26T13:36:37.637752Z",
     "iopub.status.busy": "2024-02-26T13:36:37.637589Z",
     "iopub.status.idle": "2024-02-26T13:36:37.640060Z",
     "shell.execute_reply": "2024-02-26T13:36:37.639630Z",
     "shell.execute_reply.started": "2024-02-26T13:36:37.637739Z"
    },
    "id": "OeA8Ku_n4A_C"
   },
   "outputs": [],
   "source": [
    "loss = 0.0\n",
    "accuracy = 0.0\n",
    "precision = 0.0\n",
    "recall = 0.0\n",
    "f1 = 0.0"
   ]
  },
  {
   "cell_type": "code",
   "execution_count": 23,
   "metadata": {
    "execution": {
     "iopub.execute_input": "2024-02-26T13:36:39.286522Z",
     "iopub.status.busy": "2024-02-26T13:36:39.285885Z",
     "iopub.status.idle": "2024-02-26T13:36:39.305890Z",
     "shell.execute_reply": "2024-02-26T13:36:39.305293Z",
     "shell.execute_reply.started": "2024-02-26T13:36:39.286465Z"
    },
    "id": "9t8DfeRt5Cl7"
   },
   "outputs": [],
   "source": [
    "model.eval()\n",
    "with torch.no_grad():\n",
    "  x = torch.tensor(test_data).type(torch.FloatTensor)\n",
    "  y = torch.tensor(test_labels).type(torch.LongTensor)\n",
    "\n",
    "  yhat = model(x)\n",
    "\n",
    "  yhat = yhat.cpu()\n",
    "  loss = loss_fn(yhat, y)\n",
    "\n",
    "  yhat = yhat.argmax(1)\n",
    "  accuracy = accuracy_score(yhat, y)\n",
    "  precision = precision_score(yhat, y, average='weighted')\n",
    "  recall = recall_score(yhat, y, average='weighted')\n",
    "  f1 = f1_score(yhat, y, average='weighted')"
   ]
  },
  {
   "cell_type": "code",
   "execution_count": 24,
   "metadata": {
    "colab": {
     "base_uri": "https://localhost:8080/"
    },
    "execution": {
     "iopub.execute_input": "2024-02-26T13:36:41.621567Z",
     "iopub.status.busy": "2024-02-26T13:36:41.621070Z",
     "iopub.status.idle": "2024-02-26T13:36:41.629129Z",
     "shell.execute_reply": "2024-02-26T13:36:41.628608Z",
     "shell.execute_reply.started": "2024-02-26T13:36:41.621519Z"
    },
    "id": "XdiAVxPE6Hq7",
    "outputId": "7fe254fd-742b-441f-a732-7d3f0d90061d"
   },
   "outputs": [
    {
     "name": "stdout",
     "output_type": "stream",
     "text": [
      "Testing Loss: 1.3638211488723755\n",
      "Testing Accuracy: 0.3793103448275862\n",
      "Testing Precision: 0.4458128078817734\n",
      "Testing Recall: 0.3793103448275862\n",
      "Testing F1 Score: 0.3241379310344828\n"
     ]
    }
   ],
   "source": [
    "print(f\"Testing Loss: {loss}\")\n",
    "print(f\"Testing Accuracy: {accuracy}\")\n",
    "print(f\"Testing Precision: {precision}\")\n",
    "print(f\"Testing Recall: {recall}\")\n",
    "print(f\"Testing F1 Score: {f1}\")\n",
    "\n",
    "writer.add_scalar(\"Test/Loss\", loss, 0)\n",
    "writer.add_scalar(\"Test/Accuracy\", accuracy, 0)\n",
    "writer.add_scalar(\"Test/Precision\", precision, 0)\n",
    "writer.add_scalar(\"Test/Recall\", recall, 0)\n",
    "writer.add_scalar(\"Test/F1 Score\", f1, 0)"
   ]
  },
  {
   "cell_type": "markdown",
   "metadata": {
    "id": "fUaaNvEITrRa"
   },
   "source": [
    "## Adam"
   ]
  },
  {
   "cell_type": "code",
   "execution_count": 31,
   "metadata": {
    "colab": {
     "base_uri": "https://localhost:8080/"
    },
    "execution": {
     "iopub.execute_input": "2024-02-26T13:37:49.581857Z",
     "iopub.status.busy": "2024-02-26T13:37:49.581564Z",
     "iopub.status.idle": "2024-02-26T13:37:49.611437Z",
     "shell.execute_reply": "2024-02-26T13:37:49.610368Z",
     "shell.execute_reply.started": "2024-02-26T13:37:49.581832Z"
    },
    "id": "W1p9mvOQ9QgU",
    "outputId": "a83decaa-3b3a-4819-925d-a2763b75b3ed"
   },
   "outputs": [
    {
     "data": {
      "text/plain": [
       "Model(\n",
       "  (dense1): Linear(in_features=1440, out_features=1024, bias=True)\n",
       "  (dense2): Linear(in_features=1024, out_features=512, bias=True)\n",
       "  (dense3): Linear(in_features=512, out_features=64, bias=True)\n",
       "  (dense4): Linear(in_features=64, out_features=4, bias=True)\n",
       "  (relu): ReLU()\n",
       "  (softmax): Softmax(dim=1)\n",
       ")"
      ]
     },
     "execution_count": 31,
     "metadata": {},
     "output_type": "execute_result"
    }
   ],
   "source": [
    "model = Model()\n",
    "model = model.to(DEVICE)\n",
    "model"
   ]
  },
  {
   "cell_type": "code",
   "execution_count": 32,
   "metadata": {
    "colab": {
     "base_uri": "https://localhost:8080/"
    },
    "execution": {
     "iopub.execute_input": "2024-02-26T13:37:50.074901Z",
     "iopub.status.busy": "2024-02-26T13:37:50.074605Z",
     "iopub.status.idle": "2024-02-26T13:37:50.081228Z",
     "shell.execute_reply": "2024-02-26T13:37:50.080667Z",
     "shell.execute_reply.started": "2024-02-26T13:37:50.074873Z"
    },
    "id": "UzFXX4dqbnMz",
    "outputId": "900624fe-2a8d-4344-efac-66c04268448d"
   },
   "outputs": [
    {
     "data": {
      "text/plain": [
       "==========================================================================================\n",
       "Layer (type:depth-idx)                   Output Shape              Param #\n",
       "==========================================================================================\n",
       "Model                                    [8, 4]                    --\n",
       "├─Linear: 1-1                            [8, 1024]                 1,475,584\n",
       "├─ReLU: 1-2                              [8, 1024]                 --\n",
       "├─Linear: 1-3                            [8, 512]                  524,800\n",
       "├─ReLU: 1-4                              [8, 512]                  --\n",
       "├─Linear: 1-5                            [8, 64]                   32,832\n",
       "├─ReLU: 1-6                              [8, 64]                   --\n",
       "├─Linear: 1-7                            [8, 4]                    260\n",
       "├─Softmax: 1-8                           [8, 4]                    --\n",
       "==========================================================================================\n",
       "Total params: 2,033,476\n",
       "Trainable params: 2,033,476\n",
       "Non-trainable params: 0\n",
       "Total mult-adds (Units.MEGABYTES): 16.27\n",
       "==========================================================================================\n",
       "Input size (MB): 0.05\n",
       "Forward/backward pass size (MB): 0.10\n",
       "Params size (MB): 8.13\n",
       "Estimated Total Size (MB): 8.28\n",
       "=========================================================================================="
      ]
     },
     "execution_count": 32,
     "metadata": {},
     "output_type": "execute_result"
    }
   ],
   "source": [
    "summary(model, input_data=sample_x)"
   ]
  },
  {
   "cell_type": "code",
   "execution_count": 33,
   "metadata": {
    "execution": {
     "iopub.execute_input": "2024-02-26T13:37:52.058730Z",
     "iopub.status.busy": "2024-02-26T13:37:52.058137Z",
     "iopub.status.idle": "2024-02-26T13:37:52.064647Z",
     "shell.execute_reply": "2024-02-26T13:37:52.063742Z",
     "shell.execute_reply.started": "2024-02-26T13:37:52.058689Z"
    },
    "id": "WNGukkjgTvh_"
   },
   "outputs": [],
   "source": [
    "tb_board = RUNS_PATH + \"three_layer_nn_without_dropout_adam\"\n",
    "writer = SummaryWriter(tb_board)"
   ]
  },
  {
   "cell_type": "code",
   "execution_count": 34,
   "metadata": {
    "execution": {
     "iopub.execute_input": "2024-02-26T13:37:52.836992Z",
     "iopub.status.busy": "2024-02-26T13:37:52.835812Z",
     "iopub.status.idle": "2024-02-26T13:37:52.842041Z",
     "shell.execute_reply": "2024-02-26T13:37:52.841074Z",
     "shell.execute_reply.started": "2024-02-26T13:37:52.836938Z"
    },
    "id": "lqdjeybbT1uC"
   },
   "outputs": [],
   "source": [
    "EPOCHS = 200\n",
    "\n",
    "acc_list = []\n",
    "f1_list = []\n",
    "recall_list = []\n",
    "precision_list = []\n",
    "\n",
    "loss_list = []"
   ]
  },
  {
   "cell_type": "code",
   "execution_count": 35,
   "metadata": {
    "execution": {
     "iopub.execute_input": "2024-02-26T13:37:53.491942Z",
     "iopub.status.busy": "2024-02-26T13:37:53.490698Z",
     "iopub.status.idle": "2024-02-26T13:37:53.497757Z",
     "shell.execute_reply": "2024-02-26T13:37:53.496912Z",
     "shell.execute_reply.started": "2024-02-26T13:37:53.491870Z"
    },
    "id": "6mr98GaDT2Pt"
   },
   "outputs": [],
   "source": [
    "loss_fn = nn.CrossEntropyLoss()\n",
    "optimizer = optim.Adam(model.parameters(), lr=1e-3)"
   ]
  },
  {
   "cell_type": "code",
   "execution_count": 36,
   "metadata": {
    "colab": {
     "base_uri": "https://localhost:8080/"
    },
    "execution": {
     "iopub.execute_input": "2024-02-26T13:37:54.796364Z",
     "iopub.status.busy": "2024-02-26T13:37:54.796121Z",
     "iopub.status.idle": "2024-02-26T13:38:48.627254Z",
     "shell.execute_reply": "2024-02-26T13:38:48.626677Z",
     "shell.execute_reply.started": "2024-02-26T13:37:54.796345Z"
    },
    "id": "fp9urDtST52H",
    "outputId": "b4084fdd-90fb-486c-b5d1-1439008df96b",
    "scrolled": true
   },
   "outputs": [
    {
     "name": "stdout",
     "output_type": "stream",
     "text": [
      "Epoch: 1 - Loss: 1.3981393337249757 - Accuracy: 0.30434782608695654 - Precision: 0.33109969740404527 - Recall: 0.30434782608695654 - F1: 0.280757586230732\n",
      "Epoch: 2 - Loss: 1.3565946420033772 - Accuracy: 0.3565217391304348 - Precision: 0.2744563933483294 - Recall: 0.3565217391304348 - F1: 0.2727279854155471\n",
      "Epoch: 3 - Loss: 1.3055759469668071 - Accuracy: 0.4 - Precision: 0.32424914187643017 - Recall: 0.4 - F1: 0.34263249606868124\n",
      "Epoch: 4 - Loss: 1.292629647254944 - Accuracy: 0.41739130434782606 - Precision: 0.34021028701335604 - Recall: 0.41739130434782606 - F1: 0.356935817805383\n",
      "Epoch: 5 - Loss: 1.2542773326237997 - Accuracy: 0.4956521739130435 - Precision: 0.4948494983277592 - Recall: 0.4956521739130435 - F1: 0.45156547335558683\n",
      "Epoch: 6 - Loss: 1.234575661023458 - Accuracy: 0.48695652173913045 - Precision: 0.40445087734090296 - Recall: 0.48695652173913045 - F1: 0.4404567534466493\n",
      "Epoch: 7 - Loss: 1.180343230565389 - Accuracy: 0.5391304347826087 - Precision: 0.5003227436179382 - Recall: 0.5391304347826087 - F1: 0.49187297798469176\n",
      "Epoch: 8 - Loss: 1.169218329588572 - Accuracy: 0.5391304347826087 - Precision: 0.4516606734226871 - Recall: 0.5391304347826087 - F1: 0.49060824895771293\n",
      "Epoch: 9 - Loss: 1.2105309208234152 - Accuracy: 0.5130434782608696 - Precision: 0.45398550724637676 - Recall: 0.5130434782608696 - F1: 0.46368701182000416\n",
      "Epoch: 10 - Loss: 1.1869117339452109 - Accuracy: 0.5304347826086957 - Precision: 0.5038405745879446 - Recall: 0.5304347826086957 - F1: 0.4898588414770942\n",
      "Epoch: 11 - Loss: 1.243744389216105 - Accuracy: 0.48695652173913045 - Precision: 0.5909911262515919 - Recall: 0.48695652173913045 - F1: 0.44352912490266344\n",
      "Epoch: 12 - Loss: 1.189677635828654 - Accuracy: 0.5478260869565217 - Precision: 0.5546583850931677 - Recall: 0.5478260869565217 - F1: 0.5180718336483932\n",
      "Epoch: 13 - Loss: 1.1401277263959249 - Accuracy: 0.5826086956521739 - Precision: 0.5854093786440113 - Recall: 0.5826086956521739 - F1: 0.5813860012335579\n",
      "Epoch: 14 - Loss: 1.1088362495104471 - Accuracy: 0.6347826086956522 - Precision: 0.6615217391304347 - Recall: 0.6347826086956522 - F1: 0.6084242159856527\n",
      "Epoch: 15 - Loss: 1.14095033009847 - Accuracy: 0.6 - Precision: 0.6463377926421404 - Recall: 0.6 - F1: 0.5836004631076881\n",
      "Epoch: 16 - Loss: 1.0951748649279276 - Accuracy: 0.6173913043478261 - Precision: 0.6489142992285508 - Recall: 0.6173913043478261 - F1: 0.6032554087018659\n",
      "Epoch: 17 - Loss: 1.0964058796564737 - Accuracy: 0.6347826086956522 - Precision: 0.7049435347261435 - Recall: 0.6347826086956522 - F1: 0.6246690799337172\n",
      "Epoch: 18 - Loss: 1.179294435183207 - Accuracy: 0.5826086956521739 - Precision: 0.6471457864883103 - Recall: 0.5826086956521739 - F1: 0.5607419338860987\n",
      "Epoch: 19 - Loss: 1.3051960786183676 - Accuracy: 0.45217391304347826 - Precision: 0.6097901049475263 - Recall: 0.45217391304347826 - F1: 0.3885158625103642\n",
      "Epoch: 20 - Loss: 1.323593298594157 - Accuracy: 0.4 - Precision: 0.4942338990932341 - Recall: 0.4 - F1: 0.3373527210369693\n",
      "Epoch: 21 - Loss: 1.3043214559555054 - Accuracy: 0.4434782608695652 - Precision: 0.5891475972540046 - Recall: 0.4434782608695652 - F1: 0.3903233952113239\n",
      "Epoch: 22 - Loss: 1.2957481543223064 - Accuracy: 0.46956521739130436 - Precision: 0.5338317266706013 - Recall: 0.46956521739130436 - F1: 0.42264430317075624\n",
      "Epoch: 23 - Loss: 1.2871902545293172 - Accuracy: 0.4608695652173913 - Precision: 0.6142407649558679 - Recall: 0.4608695652173913 - F1: 0.41814028756372806\n",
      "Epoch: 24 - Loss: 1.2710898558298747 - Accuracy: 0.4608695652173913 - Precision: 0.532171566038843 - Recall: 0.4608695652173913 - F1: 0.42252560508620535\n",
      "Epoch: 25 - Loss: 1.2447264432907104 - Accuracy: 0.4956521739130435 - Precision: 0.572959011980078 - Recall: 0.4956521739130435 - F1: 0.4670708080883844\n",
      "Epoch: 26 - Loss: 1.2890849192937215 - Accuracy: 0.4260869565217391 - Precision: 0.46524317250215175 - Recall: 0.4260869565217391 - F1: 0.37778199574286814\n",
      "Epoch: 27 - Loss: 1.3135499556859334 - Accuracy: 0.4434782608695652 - Precision: 0.5419430650847201 - Recall: 0.4434782608695652 - F1: 0.3840717989629039\n",
      "Epoch: 28 - Loss: 1.2629871368408203 - Accuracy: 0.46956521739130436 - Precision: 0.5062022662606699 - Recall: 0.46956521739130436 - F1: 0.43250561884832983\n",
      "Epoch: 29 - Loss: 1.255041249593099 - Accuracy: 0.4782608695652174 - Precision: 0.4967271993049352 - Recall: 0.4782608695652174 - F1: 0.44643200889743107\n",
      "Epoch: 30 - Loss: 1.3107933203379314 - Accuracy: 0.43478260869565216 - Precision: 0.4094869315492525 - Recall: 0.43478260869565216 - F1: 0.3710225698416029\n",
      "Epoch: 31 - Loss: 1.3032793283462525 - Accuracy: 0.43478260869565216 - Precision: 0.44245396451628544 - Recall: 0.43478260869565216 - F1: 0.3626061581865829\n",
      "Epoch: 32 - Loss: 1.364512284596761 - Accuracy: 0.391304347826087 - Precision: 0.27699260764460637 - Recall: 0.391304347826087 - F1: 0.30114734299516904\n",
      "Epoch: 33 - Loss: 1.366378406683604 - Accuracy: 0.3652173913043478 - Precision: 0.26148822821790685 - Recall: 0.3652173913043478 - F1: 0.2835356849876948\n",
      "Epoch: 34 - Loss: 1.41658988793691 - Accuracy: 0.3391304347826087 - Precision: 0.2254302042878343 - Recall: 0.3391304347826087 - F1: 0.24700578042445742\n",
      "Epoch: 35 - Loss: 1.3690968116124471 - Accuracy: 0.3739130434782609 - Precision: 0.2858459926663174 - Recall: 0.3739130434782609 - F1: 0.2844174984926643\n",
      "Epoch: 36 - Loss: 1.3850648244222006 - Accuracy: 0.3739130434782609 - Precision: 0.2114981665793609 - Recall: 0.3739130434782609 - F1: 0.26089333681983506\n",
      "Epoch: 37 - Loss: 1.3708688497543335 - Accuracy: 0.3739130434782609 - Precision: 0.2114981665793609 - Recall: 0.3739130434782609 - F1: 0.26089333681983506\n",
      "Epoch: 38 - Loss: 1.3690528790156047 - Accuracy: 0.391304347826087 - Precision: 0.4006286013619696 - Recall: 0.391304347826087 - F1: 0.29601742975233086\n",
      "Epoch: 39 - Loss: 1.368920890490214 - Accuracy: 0.391304347826087 - Precision: 0.4006286013619696 - Recall: 0.391304347826087 - F1: 0.29601742975233086\n",
      "Epoch: 40 - Loss: 1.3547526995340984 - Accuracy: 0.391304347826087 - Precision: 0.4006286013619696 - Recall: 0.391304347826087 - F1: 0.29601742975233086\n",
      "Epoch: 41 - Loss: 1.3685314496358236 - Accuracy: 0.391304347826087 - Precision: 0.4006286013619696 - Recall: 0.391304347826087 - F1: 0.29601742975233086\n",
      "Epoch: 42 - Loss: 1.3186520218849183 - Accuracy: 0.4 - Precision: 0.40422680226151986 - Recall: 0.4 - F1: 0.31168017686072214\n",
      "Epoch: 43 - Loss: 1.3464145183563232 - Accuracy: 0.4 - Precision: 0.40422680226151986 - Recall: 0.4 - F1: 0.31168017686072214\n",
      "Epoch: 44 - Loss: 1.346411442756653 - Accuracy: 0.4 - Precision: 0.40422680226151986 - Recall: 0.4 - F1: 0.31168017686072214\n",
      "Epoch: 45 - Loss: 1.346407691637675 - Accuracy: 0.4 - Precision: 0.40422680226151986 - Recall: 0.4 - F1: 0.31168017686072214\n",
      "Epoch: 46 - Loss: 1.3464050849278768 - Accuracy: 0.4 - Precision: 0.40422680226151986 - Recall: 0.4 - F1: 0.31168017686072214\n",
      "Epoch: 47 - Loss: 1.3325144370396933 - Accuracy: 0.4 - Precision: 0.40422680226151986 - Recall: 0.4 - F1: 0.31168017686072214\n",
      "Epoch: 48 - Loss: 1.3463994900385539 - Accuracy: 0.4 - Precision: 0.40422680226151986 - Recall: 0.4 - F1: 0.31168017686072214\n",
      "Epoch: 49 - Loss: 1.346395746866862 - Accuracy: 0.4 - Precision: 0.40422680226151986 - Recall: 0.4 - F1: 0.31168017686072214\n",
      "Epoch: 50 - Loss: 1.346391503016154 - Accuracy: 0.4 - Precision: 0.40422680226151986 - Recall: 0.4 - F1: 0.31168017686072214\n",
      "Epoch: 51 - Loss: 1.346387298901876 - Accuracy: 0.4 - Precision: 0.40422680226151986 - Recall: 0.4 - F1: 0.31168017686072214\n",
      "Epoch: 52 - Loss: 1.346382164955139 - Accuracy: 0.4 - Precision: 0.40422680226151986 - Recall: 0.4 - F1: 0.31168017686072214\n",
      "Epoch: 53 - Loss: 1.346375298500061 - Accuracy: 0.4 - Precision: 0.40422680226151986 - Recall: 0.4 - F1: 0.31168017686072214\n",
      "Epoch: 54 - Loss: 1.332478666305542 - Accuracy: 0.4 - Precision: 0.40422680226151986 - Recall: 0.4 - F1: 0.31168017686072214\n",
      "Epoch: 55 - Loss: 1.3463567892710369 - Accuracy: 0.4 - Precision: 0.40422680226151986 - Recall: 0.4 - F1: 0.31168017686072214\n",
      "Epoch: 56 - Loss: 1.3463499148686726 - Accuracy: 0.4 - Precision: 0.40422680226151986 - Recall: 0.4 - F1: 0.31168017686072214\n",
      "Epoch: 57 - Loss: 1.3324390172958374 - Accuracy: 0.4 - Precision: 0.40422680226151986 - Recall: 0.4 - F1: 0.31168017686072214\n",
      "Epoch: 58 - Loss: 1.3324170668919881 - Accuracy: 0.4 - Precision: 0.40422680226151986 - Recall: 0.4 - F1: 0.31168017686072214\n",
      "Epoch: 59 - Loss: 1.3462719440460205 - Accuracy: 0.4 - Precision: 0.40422680226151986 - Recall: 0.4 - F1: 0.31168017686072214\n",
      "Epoch: 60 - Loss: 1.346211592356364 - Accuracy: 0.4 - Precision: 0.40422680226151986 - Recall: 0.4 - F1: 0.31168017686072214\n",
      "Epoch: 61 - Loss: 1.3183961113293965 - Accuracy: 0.4 - Precision: 0.40422680226151986 - Recall: 0.4 - F1: 0.31168017686072214\n",
      "Epoch: 62 - Loss: 1.3320546944936116 - Accuracy: 0.4 - Precision: 0.40422680226151986 - Recall: 0.4 - F1: 0.31168017686072214\n",
      "Epoch: 63 - Loss: 1.3451828082402548 - Accuracy: 0.4 - Precision: 0.40422680226151986 - Recall: 0.4 - F1: 0.31168017686072214\n",
      "Epoch: 64 - Loss: 1.3590015093485515 - Accuracy: 0.4 - Precision: 0.3624298435979944 - Recall: 0.4 - F1: 0.3116836835819378\n",
      "Epoch: 65 - Loss: 1.3312023758888245 - Accuracy: 0.4 - Precision: 0.47872200263504616 - Recall: 0.4 - F1: 0.3325668193698884\n",
      "Epoch: 66 - Loss: 1.2775384902954101 - Accuracy: 0.46956521739130436 - Precision: 0.6113253328087088 - Recall: 0.46956521739130436 - F1: 0.42795138598457605\n",
      "Epoch: 67 - Loss: 1.3148794730504354 - Accuracy: 0.41739130434782606 - Precision: 0.4661251791686574 - Recall: 0.41739130434782606 - F1: 0.3691591440494865\n",
      "Epoch: 68 - Loss: 1.2445564905802409 - Accuracy: 0.48695652173913045 - Precision: 0.49444268774703554 - Recall: 0.48695652173913045 - F1: 0.4633977598600877\n",
      "Epoch: 69 - Loss: 1.3490246693293253 - Accuracy: 0.41739130434782606 - Precision: 0.6376811594202898 - Recall: 0.41739130434782606 - F1: 0.4065579710144927\n",
      "Epoch: 70 - Loss: 1.3296600103378295 - Accuracy: 0.41739130434782606 - Precision: 0.5406673679289388 - Recall: 0.41739130434782606 - F1: 0.41121449439029784\n",
      "Epoch: 71 - Loss: 1.3148993889490763 - Accuracy: 0.43478260869565216 - Precision: 0.5178758004718571 - Recall: 0.43478260869565216 - F1: 0.41156588213298995\n",
      "Epoch: 72 - Loss: 1.330809267361959 - Accuracy: 0.40869565217391307 - Precision: 0.4695094760312152 - Recall: 0.40869565217391307 - F1: 0.34974273628735875\n",
      "Epoch: 73 - Loss: 1.4312290827433267 - Accuracy: 0.3130434782608696 - Precision: 0.5529644268774704 - Recall: 0.3130434782608696 - F1: 0.249055493783232\n",
      "Epoch: 74 - Loss: 1.4936035553614297 - Accuracy: 0.2608695652173913 - Precision: 0.2683546462063086 - Recall: 0.2608695652173913 - F1: 0.1912283120169551\n",
      "Epoch: 75 - Loss: 1.4680310567220052 - Accuracy: 0.25217391304347825 - Precision: 0.267670011148272 - Recall: 0.25217391304347825 - F1: 0.1773561467244814\n",
      "Epoch: 76 - Loss: 1.4797787110010783 - Accuracy: 0.2608695652173913 - Precision: 0.31106719367588925 - Recall: 0.2608695652173913 - F1: 0.1810691081919777\n",
      "Epoch: 77 - Loss: 1.4796776294708252 - Accuracy: 0.2608695652173913 - Precision: 0.3074862568715642 - Recall: 0.2608695652173913 - F1: 0.18031400966183578\n",
      "Epoch: 78 - Loss: 1.4713830550511677 - Accuracy: 0.26956521739130435 - Precision: 0.31253196930946286 - Recall: 0.26956521739130435 - F1: 0.18878972716928205\n",
      "Epoch: 79 - Loss: 1.4715547164281209 - Accuracy: 0.26956521739130435 - Precision: 0.4032411067193676 - Recall: 0.26956521739130435 - F1: 0.19085528262799645\n",
      "Epoch: 80 - Loss: 1.4714238484700521 - Accuracy: 0.26956521739130435 - Precision: 0.4032411067193676 - Recall: 0.26956521739130435 - F1: 0.19085528262799645\n",
      "Epoch: 81 - Loss: 1.4710180441538492 - Accuracy: 0.26956521739130435 - Precision: 0.4032411067193676 - Recall: 0.26956521739130435 - F1: 0.19085528262799645\n",
      "Epoch: 82 - Loss: 1.4575562953948975 - Accuracy: 0.26956521739130435 - Precision: 0.31593425112130874 - Recall: 0.26956521739130435 - F1: 0.18959422732329256\n",
      "Epoch: 83 - Loss: 1.4714434146881104 - Accuracy: 0.26956521739130435 - Precision: 0.31593425112130874 - Recall: 0.26956521739130435 - F1: 0.18959422732329256\n",
      "Epoch: 84 - Loss: 1.4853129227956137 - Accuracy: 0.26956521739130435 - Precision: 0.31593425112130874 - Recall: 0.26956521739130435 - F1: 0.18959422732329256\n",
      "Epoch: 85 - Loss: 1.471363639831543 - Accuracy: 0.26956521739130435 - Precision: 0.31593425112130874 - Recall: 0.26956521739130435 - F1: 0.18959422732329256\n",
      "Epoch: 86 - Loss: 1.4853411674499513 - Accuracy: 0.26956521739130435 - Precision: 0.2744048790084596 - Recall: 0.26956521739130435 - F1: 0.18928303190867238\n",
      "Epoch: 87 - Loss: 1.4710637331008911 - Accuracy: 0.26956521739130435 - Precision: 0.2496989966555184 - Recall: 0.26956521739130435 - F1: 0.18904029181166407\n",
      "Epoch: 88 - Loss: 1.471446172396342 - Accuracy: 0.26956521739130435 - Precision: 0.31593425112130874 - Recall: 0.26956521739130435 - F1: 0.18959422732329256\n",
      "Epoch: 89 - Loss: 1.4853350877761842 - Accuracy: 0.26956521739130435 - Precision: 0.31593425112130874 - Recall: 0.26956521739130435 - F1: 0.18959422732329256\n",
      "Epoch: 90 - Loss: 1.4714462041854859 - Accuracy: 0.26956521739130435 - Precision: 0.31593425112130874 - Recall: 0.26956521739130435 - F1: 0.18959422732329256\n",
      "Epoch: 91 - Loss: 1.4714462041854859 - Accuracy: 0.26956521739130435 - Precision: 0.31593425112130874 - Recall: 0.26956521739130435 - F1: 0.18959422732329256\n",
      "Epoch: 92 - Loss: 1.4853350877761842 - Accuracy: 0.26956521739130435 - Precision: 0.31593425112130874 - Recall: 0.26956521739130435 - F1: 0.18959422732329256\n",
      "Epoch: 93 - Loss: 1.4575573205947876 - Accuracy: 0.26956521739130435 - Precision: 0.31593425112130874 - Recall: 0.26956521739130435 - F1: 0.18959422732329256\n",
      "Epoch: 94 - Loss: 1.4853350877761842 - Accuracy: 0.26956521739130435 - Precision: 0.31593425112130874 - Recall: 0.26956521739130435 - F1: 0.18959422732329256\n",
      "Epoch: 95 - Loss: 1.4575573205947876 - Accuracy: 0.26956521739130435 - Precision: 0.31593425112130874 - Recall: 0.26956521739130435 - F1: 0.18959422732329256\n",
      "Epoch: 96 - Loss: 1.4853350877761842 - Accuracy: 0.26956521739130435 - Precision: 0.31593425112130874 - Recall: 0.26956521739130435 - F1: 0.18959422732329256\n",
      "Epoch: 97 - Loss: 1.4714462041854859 - Accuracy: 0.26956521739130435 - Precision: 0.31593425112130874 - Recall: 0.26956521739130435 - F1: 0.18959422732329256\n",
      "Epoch: 98 - Loss: 1.4853350877761842 - Accuracy: 0.26956521739130435 - Precision: 0.31593425112130874 - Recall: 0.26956521739130435 - F1: 0.18959422732329256\n",
      "Epoch: 99 - Loss: 1.4575573205947876 - Accuracy: 0.26956521739130435 - Precision: 0.31593425112130874 - Recall: 0.26956521739130435 - F1: 0.18959422732329256\n",
      "Epoch: 100 - Loss: 1.4853350877761842 - Accuracy: 0.26956521739130435 - Precision: 0.31593425112130874 - Recall: 0.26956521739130435 - F1: 0.18959422732329256\n",
      "Epoch: 101 - Loss: 1.4714461962382 - Accuracy: 0.26956521739130435 - Precision: 0.31593425112130874 - Recall: 0.26956521739130435 - F1: 0.18959422732329256\n",
      "Epoch: 102 - Loss: 1.4575573205947876 - Accuracy: 0.26956521739130435 - Precision: 0.31593425112130874 - Recall: 0.26956521739130435 - F1: 0.18959422732329256\n",
      "Epoch: 103 - Loss: 1.4714462041854859 - Accuracy: 0.26956521739130435 - Precision: 0.31593425112130874 - Recall: 0.26956521739130435 - F1: 0.18959422732329256\n",
      "Epoch: 104 - Loss: 1.4575573205947876 - Accuracy: 0.26956521739130435 - Precision: 0.31593425112130874 - Recall: 0.26956521739130435 - F1: 0.18959422732329256\n",
      "Epoch: 105 - Loss: 1.4575573205947876 - Accuracy: 0.26956521739130435 - Precision: 0.31593425112130874 - Recall: 0.26956521739130435 - F1: 0.18959422732329256\n",
      "Epoch: 106 - Loss: 1.4853350877761842 - Accuracy: 0.26956521739130435 - Precision: 0.31593425112130874 - Recall: 0.26956521739130435 - F1: 0.18959422732329256\n",
      "Epoch: 107 - Loss: 1.4714462041854859 - Accuracy: 0.26956521739130435 - Precision: 0.31593425112130874 - Recall: 0.26956521739130435 - F1: 0.18959422732329256\n",
      "Epoch: 108 - Loss: 1.4853350877761842 - Accuracy: 0.26956521739130435 - Precision: 0.31593425112130874 - Recall: 0.26956521739130435 - F1: 0.18959422732329256\n",
      "Epoch: 109 - Loss: 1.4853350877761842 - Accuracy: 0.26956521739130435 - Precision: 0.31593425112130874 - Recall: 0.26956521739130435 - F1: 0.18959422732329256\n",
      "Epoch: 110 - Loss: 1.4575573205947876 - Accuracy: 0.26956521739130435 - Precision: 0.31593425112130874 - Recall: 0.26956521739130435 - F1: 0.18959422732329256\n",
      "Epoch: 111 - Loss: 1.4853350877761842 - Accuracy: 0.26956521739130435 - Precision: 0.31593425112130874 - Recall: 0.26956521739130435 - F1: 0.18959422732329256\n",
      "Epoch: 112 - Loss: 1.4714462041854859 - Accuracy: 0.26956521739130435 - Precision: 0.31593425112130874 - Recall: 0.26956521739130435 - F1: 0.18959422732329256\n",
      "Epoch: 113 - Loss: 1.4853350877761842 - Accuracy: 0.26956521739130435 - Precision: 0.31593425112130874 - Recall: 0.26956521739130435 - F1: 0.18959422732329256\n",
      "Epoch: 114 - Loss: 1.4714462041854859 - Accuracy: 0.26956521739130435 - Precision: 0.31593425112130874 - Recall: 0.26956521739130435 - F1: 0.18959422732329256\n",
      "Epoch: 115 - Loss: 1.4714462041854859 - Accuracy: 0.26956521739130435 - Precision: 0.31593425112130874 - Recall: 0.26956521739130435 - F1: 0.18959422732329256\n",
      "Epoch: 116 - Loss: 1.4575573205947876 - Accuracy: 0.26956521739130435 - Precision: 0.31593425112130874 - Recall: 0.26956521739130435 - F1: 0.18959422732329256\n",
      "Epoch: 117 - Loss: 1.4575573205947876 - Accuracy: 0.26956521739130435 - Precision: 0.31593425112130874 - Recall: 0.26956521739130435 - F1: 0.18959422732329256\n",
      "Epoch: 118 - Loss: 1.4575573205947876 - Accuracy: 0.26956521739130435 - Precision: 0.31593425112130874 - Recall: 0.26956521739130435 - F1: 0.18959422732329256\n",
      "Epoch: 119 - Loss: 1.4714462041854859 - Accuracy: 0.26956521739130435 - Precision: 0.31593425112130874 - Recall: 0.26956521739130435 - F1: 0.18959422732329256\n",
      "Epoch: 120 - Loss: 1.4853350877761842 - Accuracy: 0.26956521739130435 - Precision: 0.31593425112130874 - Recall: 0.26956521739130435 - F1: 0.18959422732329256\n",
      "Epoch: 121 - Loss: 1.4575573205947876 - Accuracy: 0.26956521739130435 - Precision: 0.31593425112130874 - Recall: 0.26956521739130435 - F1: 0.18959422732329256\n",
      "Epoch: 122 - Loss: 1.4575573205947876 - Accuracy: 0.26956521739130435 - Precision: 0.31593425112130874 - Recall: 0.26956521739130435 - F1: 0.18959422732329256\n",
      "Epoch: 123 - Loss: 1.4714462041854859 - Accuracy: 0.26956521739130435 - Precision: 0.31593425112130874 - Recall: 0.26956521739130435 - F1: 0.18959422732329256\n",
      "Epoch: 124 - Loss: 1.4714462041854859 - Accuracy: 0.26956521739130435 - Precision: 0.31593425112130874 - Recall: 0.26956521739130435 - F1: 0.18959422732329256\n",
      "Epoch: 125 - Loss: 1.4714462041854859 - Accuracy: 0.26956521739130435 - Precision: 0.31593425112130874 - Recall: 0.26956521739130435 - F1: 0.18959422732329256\n",
      "Epoch: 126 - Loss: 1.4853350877761842 - Accuracy: 0.26956521739130435 - Precision: 0.31593425112130874 - Recall: 0.26956521739130435 - F1: 0.18959422732329256\n",
      "Epoch: 127 - Loss: 1.4853350877761842 - Accuracy: 0.26956521739130435 - Precision: 0.31593425112130874 - Recall: 0.26956521739130435 - F1: 0.18959422732329256\n",
      "Epoch: 128 - Loss: 1.4853350877761842 - Accuracy: 0.26956521739130435 - Precision: 0.31593425112130874 - Recall: 0.26956521739130435 - F1: 0.18959422732329256\n",
      "Epoch: 129 - Loss: 1.4853350877761842 - Accuracy: 0.26956521739130435 - Precision: 0.31593425112130874 - Recall: 0.26956521739130435 - F1: 0.18959422732329256\n",
      "Epoch: 130 - Loss: 1.4575573205947876 - Accuracy: 0.26956521739130435 - Precision: 0.31593425112130874 - Recall: 0.26956521739130435 - F1: 0.18959422732329256\n",
      "Epoch: 131 - Loss: 1.4714462041854859 - Accuracy: 0.26956521739130435 - Precision: 0.31593425112130874 - Recall: 0.26956521739130435 - F1: 0.18959422732329256\n",
      "Epoch: 132 - Loss: 1.4575573205947876 - Accuracy: 0.26956521739130435 - Precision: 0.31593425112130874 - Recall: 0.26956521739130435 - F1: 0.18959422732329256\n",
      "Epoch: 133 - Loss: 1.4853350877761842 - Accuracy: 0.26956521739130435 - Precision: 0.31593425112130874 - Recall: 0.26956521739130435 - F1: 0.18959422732329256\n",
      "Epoch: 134 - Loss: 1.4714462041854859 - Accuracy: 0.26956521739130435 - Precision: 0.31593425112130874 - Recall: 0.26956521739130435 - F1: 0.18959422732329256\n",
      "Epoch: 135 - Loss: 1.4853350877761842 - Accuracy: 0.26956521739130435 - Precision: 0.31593425112130874 - Recall: 0.26956521739130435 - F1: 0.18959422732329256\n",
      "Epoch: 136 - Loss: 1.4714462041854859 - Accuracy: 0.26956521739130435 - Precision: 0.31593425112130874 - Recall: 0.26956521739130435 - F1: 0.18959422732329256\n",
      "Epoch: 137 - Loss: 1.4714462121327718 - Accuracy: 0.26956521739130435 - Precision: 0.31593425112130874 - Recall: 0.26956521739130435 - F1: 0.18959422732329256\n",
      "Epoch: 138 - Loss: 1.4714462041854859 - Accuracy: 0.26956521739130435 - Precision: 0.31593425112130874 - Recall: 0.26956521739130435 - F1: 0.18959422732329256\n",
      "Epoch: 139 - Loss: 1.4714462041854859 - Accuracy: 0.26956521739130435 - Precision: 0.31593425112130874 - Recall: 0.26956521739130435 - F1: 0.18959422732329256\n",
      "Epoch: 140 - Loss: 1.4575573205947876 - Accuracy: 0.26956521739130435 - Precision: 0.31593425112130874 - Recall: 0.26956521739130435 - F1: 0.18959422732329256\n",
      "Epoch: 141 - Loss: 1.4575573205947876 - Accuracy: 0.26956521739130435 - Precision: 0.31593425112130874 - Recall: 0.26956521739130435 - F1: 0.18959422732329256\n",
      "Epoch: 142 - Loss: 1.4853350877761842 - Accuracy: 0.26956521739130435 - Precision: 0.31593425112130874 - Recall: 0.26956521739130435 - F1: 0.18959422732329256\n",
      "Epoch: 143 - Loss: 1.4714462041854859 - Accuracy: 0.26956521739130435 - Precision: 0.31593425112130874 - Recall: 0.26956521739130435 - F1: 0.18959422732329256\n",
      "Epoch: 144 - Loss: 1.4714462041854859 - Accuracy: 0.26956521739130435 - Precision: 0.31593425112130874 - Recall: 0.26956521739130435 - F1: 0.18959422732329256\n",
      "Epoch: 145 - Loss: 1.4714462041854859 - Accuracy: 0.26956521739130435 - Precision: 0.31593425112130874 - Recall: 0.26956521739130435 - F1: 0.18959422732329256\n",
      "Epoch: 146 - Loss: 1.4714462041854859 - Accuracy: 0.26956521739130435 - Precision: 0.31593425112130874 - Recall: 0.26956521739130435 - F1: 0.18959422732329256\n",
      "Epoch: 147 - Loss: 1.4575573205947876 - Accuracy: 0.26956521739130435 - Precision: 0.31593425112130874 - Recall: 0.26956521739130435 - F1: 0.18959422732329256\n",
      "Epoch: 148 - Loss: 1.4714462041854859 - Accuracy: 0.26956521739130435 - Precision: 0.31593425112130874 - Recall: 0.26956521739130435 - F1: 0.18959422732329256\n",
      "Epoch: 149 - Loss: 1.4714462041854859 - Accuracy: 0.26956521739130435 - Precision: 0.31593425112130874 - Recall: 0.26956521739130435 - F1: 0.18959422732329256\n",
      "Epoch: 150 - Loss: 1.4853350877761842 - Accuracy: 0.26956521739130435 - Precision: 0.31593425112130874 - Recall: 0.26956521739130435 - F1: 0.18959422732329256\n",
      "Epoch: 151 - Loss: 1.4853350877761842 - Accuracy: 0.26956521739130435 - Precision: 0.31593425112130874 - Recall: 0.26956521739130435 - F1: 0.18959422732329256\n",
      "Epoch: 152 - Loss: 1.4853350877761842 - Accuracy: 0.26956521739130435 - Precision: 0.31593425112130874 - Recall: 0.26956521739130435 - F1: 0.18959422732329256\n",
      "Epoch: 153 - Loss: 1.4853350877761842 - Accuracy: 0.26956521739130435 - Precision: 0.31593425112130874 - Recall: 0.26956521739130435 - F1: 0.18959422732329256\n",
      "Epoch: 154 - Loss: 1.4853350877761842 - Accuracy: 0.26956521739130435 - Precision: 0.31593425112130874 - Recall: 0.26956521739130435 - F1: 0.18959422732329256\n",
      "Epoch: 155 - Loss: 1.4714462041854859 - Accuracy: 0.26956521739130435 - Precision: 0.31593425112130874 - Recall: 0.26956521739130435 - F1: 0.18959422732329256\n",
      "Epoch: 156 - Loss: 1.4853350877761842 - Accuracy: 0.26956521739130435 - Precision: 0.31593425112130874 - Recall: 0.26956521739130435 - F1: 0.18959422732329256\n",
      "Epoch: 157 - Loss: 1.4575573205947876 - Accuracy: 0.26956521739130435 - Precision: 0.31593425112130874 - Recall: 0.26956521739130435 - F1: 0.18959422732329256\n",
      "Epoch: 158 - Loss: 1.4853350877761842 - Accuracy: 0.26956521739130435 - Precision: 0.31593425112130874 - Recall: 0.26956521739130435 - F1: 0.18959422732329256\n",
      "Epoch: 159 - Loss: 1.4853350877761842 - Accuracy: 0.26956521739130435 - Precision: 0.31593425112130874 - Recall: 0.26956521739130435 - F1: 0.18959422732329256\n",
      "Epoch: 160 - Loss: 1.4853350877761842 - Accuracy: 0.26956521739130435 - Precision: 0.31593425112130874 - Recall: 0.26956521739130435 - F1: 0.18959422732329256\n",
      "Epoch: 161 - Loss: 1.4575573205947876 - Accuracy: 0.26956521739130435 - Precision: 0.31593425112130874 - Recall: 0.26956521739130435 - F1: 0.18959422732329256\n",
      "Epoch: 162 - Loss: 1.4853350877761842 - Accuracy: 0.26956521739130435 - Precision: 0.31593425112130874 - Recall: 0.26956521739130435 - F1: 0.18959422732329256\n",
      "Epoch: 163 - Loss: 1.4714462041854859 - Accuracy: 0.26956521739130435 - Precision: 0.31593425112130874 - Recall: 0.26956521739130435 - F1: 0.18959422732329256\n",
      "Epoch: 164 - Loss: 1.4714462041854859 - Accuracy: 0.26956521739130435 - Precision: 0.31593425112130874 - Recall: 0.26956521739130435 - F1: 0.18959422732329256\n",
      "Epoch: 165 - Loss: 1.4575573205947876 - Accuracy: 0.26956521739130435 - Precision: 0.31593425112130874 - Recall: 0.26956521739130435 - F1: 0.18959422732329256\n",
      "Epoch: 166 - Loss: 1.4714462041854859 - Accuracy: 0.26956521739130435 - Precision: 0.31593425112130874 - Recall: 0.26956521739130435 - F1: 0.18959422732329256\n",
      "Epoch: 167 - Loss: 1.4853350877761842 - Accuracy: 0.26956521739130435 - Precision: 0.31593425112130874 - Recall: 0.26956521739130435 - F1: 0.18959422732329256\n",
      "Epoch: 168 - Loss: 1.4575573205947876 - Accuracy: 0.26956521739130435 - Precision: 0.31593425112130874 - Recall: 0.26956521739130435 - F1: 0.18959422732329256\n",
      "Epoch: 169 - Loss: 1.485335079828898 - Accuracy: 0.26956521739130435 - Precision: 0.31593425112130874 - Recall: 0.26956521739130435 - F1: 0.18959422732329256\n",
      "Epoch: 170 - Loss: 1.4853350877761842 - Accuracy: 0.26956521739130435 - Precision: 0.31593425112130874 - Recall: 0.26956521739130435 - F1: 0.18959422732329256\n",
      "Epoch: 171 - Loss: 1.4853350877761842 - Accuracy: 0.26956521739130435 - Precision: 0.31593425112130874 - Recall: 0.26956521739130435 - F1: 0.18959422732329256\n",
      "Epoch: 172 - Loss: 1.4714462041854859 - Accuracy: 0.26956521739130435 - Precision: 0.31593425112130874 - Recall: 0.26956521739130435 - F1: 0.18959422732329256\n",
      "Epoch: 173 - Loss: 1.4714462041854859 - Accuracy: 0.26956521739130435 - Precision: 0.31593425112130874 - Recall: 0.26956521739130435 - F1: 0.18959422732329256\n",
      "Epoch: 174 - Loss: 1.4714462041854859 - Accuracy: 0.26956521739130435 - Precision: 0.31593425112130874 - Recall: 0.26956521739130435 - F1: 0.18959422732329256\n",
      "Epoch: 175 - Loss: 1.4853350877761842 - Accuracy: 0.26956521739130435 - Precision: 0.31593425112130874 - Recall: 0.26956521739130435 - F1: 0.18959422732329256\n",
      "Epoch: 176 - Loss: 1.4714462041854859 - Accuracy: 0.26956521739130435 - Precision: 0.31593425112130874 - Recall: 0.26956521739130435 - F1: 0.18959422732329256\n",
      "Epoch: 177 - Loss: 1.4575573205947876 - Accuracy: 0.26956521739130435 - Precision: 0.31593425112130874 - Recall: 0.26956521739130435 - F1: 0.18959422732329256\n",
      "Epoch: 178 - Loss: 1.4853350877761842 - Accuracy: 0.26956521739130435 - Precision: 0.31593425112130874 - Recall: 0.26956521739130435 - F1: 0.18959422732329256\n",
      "Epoch: 179 - Loss: 1.4853350877761842 - Accuracy: 0.26956521739130435 - Precision: 0.31593425112130874 - Recall: 0.26956521739130435 - F1: 0.18959422732329256\n",
      "Epoch: 180 - Loss: 1.4714462041854859 - Accuracy: 0.26956521739130435 - Precision: 0.31593425112130874 - Recall: 0.26956521739130435 - F1: 0.18959422732329256\n",
      "Epoch: 181 - Loss: 1.4853350877761842 - Accuracy: 0.26956521739130435 - Precision: 0.31593425112130874 - Recall: 0.26956521739130435 - F1: 0.18959422732329256\n",
      "Epoch: 182 - Loss: 1.4714462041854859 - Accuracy: 0.26956521739130435 - Precision: 0.31593425112130874 - Recall: 0.26956521739130435 - F1: 0.18959422732329256\n",
      "Epoch: 183 - Loss: 1.4853350877761842 - Accuracy: 0.26956521739130435 - Precision: 0.31593425112130874 - Recall: 0.26956521739130435 - F1: 0.18959422732329256\n",
      "Epoch: 184 - Loss: 1.4853350877761842 - Accuracy: 0.26956521739130435 - Precision: 0.31593425112130874 - Recall: 0.26956521739130435 - F1: 0.18959422732329256\n",
      "Epoch: 185 - Loss: 1.4714462041854859 - Accuracy: 0.26956521739130435 - Precision: 0.31593425112130874 - Recall: 0.26956521739130435 - F1: 0.18959422732329256\n",
      "Epoch: 186 - Loss: 1.4714462121327718 - Accuracy: 0.26956521739130435 - Precision: 0.31593425112130874 - Recall: 0.26956521739130435 - F1: 0.18959422732329256\n",
      "Epoch: 187 - Loss: 1.4575573205947876 - Accuracy: 0.26956521739130435 - Precision: 0.31593425112130874 - Recall: 0.26956521739130435 - F1: 0.18959422732329256\n",
      "Epoch: 188 - Loss: 1.4714462041854859 - Accuracy: 0.26956521739130435 - Precision: 0.31593425112130874 - Recall: 0.26956521739130435 - F1: 0.18959422732329256\n",
      "Epoch: 189 - Loss: 1.4853350877761842 - Accuracy: 0.26956521739130435 - Precision: 0.31593425112130874 - Recall: 0.26956521739130435 - F1: 0.18959422732329256\n",
      "Epoch: 190 - Loss: 1.4853350877761842 - Accuracy: 0.26956521739130435 - Precision: 0.31593425112130874 - Recall: 0.26956521739130435 - F1: 0.18959422732329256\n",
      "Epoch: 191 - Loss: 1.4714462041854859 - Accuracy: 0.26956521739130435 - Precision: 0.31593425112130874 - Recall: 0.26956521739130435 - F1: 0.18959422732329256\n",
      "Epoch: 192 - Loss: 1.4853350877761842 - Accuracy: 0.26956521739130435 - Precision: 0.31593425112130874 - Recall: 0.26956521739130435 - F1: 0.18959422732329256\n",
      "Epoch: 193 - Loss: 1.4853350877761842 - Accuracy: 0.26956521739130435 - Precision: 0.31593425112130874 - Recall: 0.26956521739130435 - F1: 0.18959422732329256\n",
      "Epoch: 194 - Loss: 1.4714462121327718 - Accuracy: 0.26956521739130435 - Precision: 0.31593425112130874 - Recall: 0.26956521739130435 - F1: 0.18959422732329256\n",
      "Epoch: 195 - Loss: 1.4853350877761842 - Accuracy: 0.26956521739130435 - Precision: 0.31593425112130874 - Recall: 0.26956521739130435 - F1: 0.18959422732329256\n",
      "Epoch: 196 - Loss: 1.4853350877761842 - Accuracy: 0.26956521739130435 - Precision: 0.31593425112130874 - Recall: 0.26956521739130435 - F1: 0.18959422732329256\n",
      "Epoch: 197 - Loss: 1.4714462041854859 - Accuracy: 0.26956521739130435 - Precision: 0.31593425112130874 - Recall: 0.26956521739130435 - F1: 0.18959422732329256\n",
      "Epoch: 198 - Loss: 1.4714462041854859 - Accuracy: 0.26956521739130435 - Precision: 0.31593425112130874 - Recall: 0.26956521739130435 - F1: 0.18959422732329256\n",
      "Epoch: 199 - Loss: 1.4714462041854859 - Accuracy: 0.26956521739130435 - Precision: 0.31593425112130874 - Recall: 0.26956521739130435 - F1: 0.18959422732329256\n",
      "Epoch: 200 - Loss: 1.4436684290568034 - Accuracy: 0.26956521739130435 - Precision: 0.31593425112130874 - Recall: 0.26956521739130435 - F1: 0.18959422732329256\n"
     ]
    }
   ],
   "source": [
    "for epoch in range(EPOCHS):\n",
    "  model.train()\n",
    "  running_loss = 0.0\n",
    "\n",
    "  labels_list = []\n",
    "  preds_list = []\n",
    "\n",
    "  for (x, y) in train_loader:\n",
    "    x, y = x.to(DEVICE), y.to(DEVICE)\n",
    "\n",
    "    yhat = model(x)\n",
    "\n",
    "    labels_list.extend(y.cpu())\n",
    "    preds_list.extend(yhat.argmax(1).cpu())\n",
    "\n",
    "    loss = loss_fn(yhat, y)\n",
    "    optimizer.zero_grad()\n",
    "    loss.backward()\n",
    "    optimizer.step()\n",
    "\n",
    "    running_loss += loss.item()\n",
    "\n",
    "  avg_loss = running_loss / len(train_loader)\n",
    "  loss_list.append(avg_loss)\n",
    "\n",
    "  acc = accuracy_score(labels_list, preds_list)\n",
    "  pre = precision_score(labels_list, preds_list, average='weighted', zero_division=0)\n",
    "  rec = recall_score(labels_list, preds_list, average='weighted', zero_division=0)\n",
    "  f1 = f1_score(labels_list, preds_list, average='weighted', zero_division=0)\n",
    "\n",
    "  acc_list.append(acc)\n",
    "  precision_list.append(pre)\n",
    "  recall_list.append(rec)\n",
    "  f1_list.append(f1)\n",
    "\n",
    "  writer.add_scalar(\"Train/Loss\", avg_loss, epoch)\n",
    "  writer.add_scalar(\"Train/Accuracy\", acc, epoch)\n",
    "  writer.add_scalar(\"Train/Precision\", pre, epoch)\n",
    "  writer.add_scalar(\"Train/Recall\", rec, epoch)\n",
    "  writer.add_scalar(\"Train/F1\", f1, epoch)\n",
    "\n",
    "  print(f\"Epoch: {epoch + 1} - Loss: {avg_loss} - Accuracy: {acc} - Precision: {pre} - Recall: {rec} - F1: {f1}\")"
   ]
  },
  {
   "cell_type": "code",
   "execution_count": 37,
   "metadata": {
    "colab": {
     "base_uri": "https://localhost:8080/",
     "height": 472
    },
    "execution": {
     "iopub.execute_input": "2024-02-26T13:39:07.463306Z",
     "iopub.status.busy": "2024-02-26T13:39:07.463015Z",
     "iopub.status.idle": "2024-02-26T13:39:07.852442Z",
     "shell.execute_reply": "2024-02-26T13:39:07.851668Z",
     "shell.execute_reply.started": "2024-02-26T13:39:07.463285Z"
    },
    "id": "ZS1QedxgT80s",
    "outputId": "5044519f-eaa4-49b5-a99e-da0aabc78a10"
   },
   "outputs": [
    {
     "data": {
      "image/png": "[encoded data removed]",
      "text/plain": [
       "<Figure size 640x480 with 1 Axes>"
      ]
     },
     "metadata": {},
     "output_type": "display_data"
    }
   ],
   "source": [
    "plt.title(\"Loss History\")\n",
    "plt.plot(range(EPOCHS), loss_list)\n",
    "plt.xlabel(\"Epochs\")\n",
    "plt.ylabel(\"Loss Value\")\n",
    "plt.savefig(\"figures/train_loss_history_three_layer_nn_without_dropout_adam.pdf\", bbox_inches=\"tight\")\n",
    "plt.show()"
   ]
  },
  {
   "cell_type": "code",
   "execution_count": 38,
   "metadata": {
    "colab": {
     "base_uri": "https://localhost:8080/",
     "height": 472
    },
    "execution": {
     "iopub.execute_input": "2024-02-26T13:39:32.596212Z",
     "iopub.status.busy": "2024-02-26T13:39:32.595545Z",
     "iopub.status.idle": "2024-02-26T13:39:32.957157Z",
     "shell.execute_reply": "2024-02-26T13:39:32.956608Z",
     "shell.execute_reply.started": "2024-02-26T13:39:32.596187Z"
    },
    "id": "qRiuTx4ET_LF",
    "outputId": "556dc883-9160-4810-90ad-f80e7a874ecd"
   },
   "outputs": [
    {
     "data": {
      "image/png": "[encoded data removed]",
      "text/plain": [
       "<Figure size 640x480 with 1 Axes>"
      ]
     },
     "metadata": {},
     "output_type": "display_data"
    }
   ],
   "source": [
    "plt.title(\"Training Metrics\")\n",
    "plt.plot(range(EPOCHS), acc_list, label=\"Accuracy\")\n",
    "plt.plot(range(EPOCHS), precision_list, label=\"Precision\")\n",
    "plt.plot(range(EPOCHS), recall_list, label=\"Recall\")\n",
    "plt.plot(range(EPOCHS), f1_list, label=\"F1 Score\")\n",
    "plt.legend()\n",
    "plt.xlabel(\"Epochs\")\n",
    "plt.ylabel(\"Metric Value\")\n",
    "plt.savefig(\"figures/training_metrics_three_layer_nn_without_dropout_adam.pdf\", bbox_inches=\"tight\")\n",
    "plt.show()"
   ]
  },
  {
   "cell_type": "code",
   "execution_count": 39,
   "metadata": {
    "colab": {
     "base_uri": "https://localhost:8080/"
    },
    "execution": {
     "iopub.execute_input": "2024-02-26T13:39:39.424850Z",
     "iopub.status.busy": "2024-02-26T13:39:39.424528Z",
     "iopub.status.idle": "2024-02-26T13:39:39.429856Z",
     "shell.execute_reply": "2024-02-26T13:39:39.429443Z",
     "shell.execute_reply.started": "2024-02-26T13:39:39.424818Z"
    },
    "id": "ykUjnGGHUBC-",
    "outputId": "3de5f19d-0cb0-41e8-f652-4ebdc1ef4718"
   },
   "outputs": [
    {
     "name": "stdout",
     "output_type": "stream",
     "text": [
      "Mean Training Accuracy: 0.33039130434782604\n",
      "Mean Training Precision: 0.3659636202931945\n",
      "Mean Training Recall: 0.33039130434782604\n",
      "Mean Training F1 Score: 0.25644883710121236\n"
     ]
    }
   ],
   "source": [
    "print(f\"Mean Training Accuracy: {np.array(acc_list).mean()}\")\n",
    "print(f\"Mean Training Precision: {np.array(precision_list).mean()}\")\n",
    "print(f\"Mean Training Recall: {np.array(recall_list).mean()}\")\n",
    "print(f\"Mean Training F1 Score: {np.array(f1_list).mean()}\")\n",
    "\n",
    "writer.add_scalar(\"Train/Mean Accuracy\", np.array(acc_list).mean(), 0)\n",
    "writer.add_scalar(\"Train/Mean Precision\", np.array(precision_list).mean(), 0)\n",
    "writer.add_scalar(\"Train/Mean Recall\", np.array(recall_list).mean(), 0)\n",
    "writer.add_scalar(\"Train/Mean F1 Score\", np.array(f1_list).mean(), 0)"
   ]
  },
  {
   "cell_type": "code",
   "execution_count": 40,
   "metadata": {
    "execution": {
     "iopub.execute_input": "2024-02-26T13:39:41.031440Z",
     "iopub.status.busy": "2024-02-26T13:39:41.031036Z",
     "iopub.status.idle": "2024-02-26T13:39:41.036635Z",
     "shell.execute_reply": "2024-02-26T13:39:41.035533Z",
     "shell.execute_reply.started": "2024-02-26T13:39:41.031407Z"
    },
    "id": "aMu18benUD97"
   },
   "outputs": [],
   "source": [
    "loss = 0.0\n",
    "accuracy = 0.0\n",
    "precision = 0.0\n",
    "recall = 0.0\n",
    "f1 = 0.0"
   ]
  },
  {
   "cell_type": "code",
   "execution_count": 41,
   "metadata": {
    "execution": {
     "iopub.execute_input": "2024-02-26T13:39:41.490808Z",
     "iopub.status.busy": "2024-02-26T13:39:41.490585Z",
     "iopub.status.idle": "2024-02-26T13:39:41.503850Z",
     "shell.execute_reply": "2024-02-26T13:39:41.503123Z",
     "shell.execute_reply.started": "2024-02-26T13:39:41.490792Z"
    },
    "id": "yUs5QIqKUGP7"
   },
   "outputs": [],
   "source": [
    "model.eval()\n",
    "with torch.no_grad():\n",
    "  x = torch.tensor(test_data).type(torch.FloatTensor)\n",
    "  y = torch.tensor(test_labels).type(torch.LongTensor)\n",
    "\n",
    "  yhat = model(x)\n",
    "\n",
    "  yhat = yhat.cpu()\n",
    "  loss = loss_fn(yhat, y)\n",
    "\n",
    "  yhat = yhat.argmax(1)\n",
    "  accuracy = accuracy_score(yhat, y)\n",
    "  precision = precision_score(yhat, y, average='weighted', zero_division=0)\n",
    "  recall = recall_score(yhat, y, average='weighted', zero_division=0)\n",
    "  f1 = f1_score(yhat, y, average='weighted', zero_division=0)"
   ]
  },
  {
   "cell_type": "code",
   "execution_count": 42,
   "metadata": {
    "colab": {
     "base_uri": "https://localhost:8080/"
    },
    "execution": {
     "iopub.execute_input": "2024-02-26T13:39:44.155707Z",
     "iopub.status.busy": "2024-02-26T13:39:44.155214Z",
     "iopub.status.idle": "2024-02-26T13:39:44.162652Z",
     "shell.execute_reply": "2024-02-26T13:39:44.162181Z",
     "shell.execute_reply.started": "2024-02-26T13:39:44.155663Z"
    },
    "id": "iM7ZByiWUJY0",
    "outputId": "a1febb1a-8b39-46ec-fa3d-f8f254041e16"
   },
   "outputs": [
    {
     "name": "stdout",
     "output_type": "stream",
     "text": [
      "Testing Loss: 1.3988407850265503\n",
      "Testing Accuracy: 0.3448275862068966\n",
      "Testing Precision: 0.7487684729064038\n",
      "Testing Recall: 0.3448275862068966\n",
      "Testing F1 Score: 0.4091954022988506\n"
     ]
    }
   ],
   "source": [
    "print(f\"Testing Loss: {loss}\")\n",
    "print(f\"Testing Accuracy: {accuracy}\")\n",
    "print(f\"Testing Precision: {precision}\")\n",
    "print(f\"Testing Recall: {recall}\")\n",
    "print(f\"Testing F1 Score: {f1}\")\n",
    "\n",
    "writer.add_scalar(\"Test/Loss\", loss, 0)\n",
    "writer.add_scalar(\"Test/Accuracy\", accuracy, 0)\n",
    "writer.add_scalar(\"Test/Precision\", precision, 0)\n",
    "writer.add_scalar(\"Test/Recall\", recall, 0)\n",
    "writer.add_scalar(\"Test/F1 Score\", f1, 0)"
   ]
  }
 ],
 "metadata": {
  "accelerator": "GPU",
  "colab": {
   "gpuType": "T4",
   "provenance": []
  },
  "kernelspec": {
   "display_name": "Python 3 (ipykernel)",
   "language": "python",
   "name": "python3"
  },
  "language_info": {
   "codemirror_mode": {
    "name": "ipython",
    "version": 3
   },
   "file_extension": ".py",
   "mimetype": "text/x-python",
   "name": "python",
   "nbconvert_exporter": "python",
   "pygments_lexer": "ipython3",
   "version": "3.11.5"
  }
 },
 "nbformat": 4,
 "nbformat_minor": 4
}
