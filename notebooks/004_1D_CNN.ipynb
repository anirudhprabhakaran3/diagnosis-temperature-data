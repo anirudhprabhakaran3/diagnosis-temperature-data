{
 "cells": [
  {
   "cell_type": "markdown",
   "metadata": {
    "id": "7DnXK7GD7tSc"
   },
   "source": [
    "# 1D CNN"
   ]
  },
  {
   "cell_type": "code",
   "execution_count": 2,
   "metadata": {
    "execution": {
     "iopub.execute_input": "2024-02-26T13:49:57.947175Z",
     "iopub.status.busy": "2024-02-26T13:49:57.946642Z",
     "iopub.status.idle": "2024-02-26T13:49:57.951818Z",
     "shell.execute_reply": "2024-02-26T13:49:57.950998Z",
     "shell.execute_reply.started": "2024-02-26T13:49:57.947143Z"
    },
    "id": "FRZqTGz0vhOY"
   },
   "outputs": [],
   "source": [
    "import pandas as pd\n",
    "import numpy as np\n",
    "import matplotlib.pyplot as plt\n",
    "\n",
    "import torch\n",
    "from torch import nn\n",
    "from torch import optim\n",
    "from torch.utils.tensorboard import SummaryWriter\n",
    "\n",
    "from torchinfo import summary\n",
    "\n",
    "from sklearn.model_selection import train_test_split\n",
    "\n",
    "from sklearn.metrics import accuracy_score\n",
    "from sklearn.metrics import precision_score\n",
    "from sklearn.metrics import f1_score\n",
    "from sklearn.metrics import recall_score\n",
    "\n",
    "from tqdm import tqdm"
   ]
  },
  {
   "cell_type": "code",
   "execution_count": 3,
   "metadata": {
    "execution": {
     "iopub.execute_input": "2024-02-26T13:50:05.036238Z",
     "iopub.status.busy": "2024-02-26T13:50:05.035963Z",
     "iopub.status.idle": "2024-02-26T13:50:05.038938Z",
     "shell.execute_reply": "2024-02-26T13:50:05.038442Z",
     "shell.execute_reply.started": "2024-02-26T13:50:05.036216Z"
    },
    "id": "pENyLVp_v8G3"
   },
   "outputs": [],
   "source": [
    "DATA_PATH = \"../data/filtered_df.csv\"\n",
    "SAVED_MODELS_PATH = \"saved_models/\"\n",
    "RUNS_PATH = \"runs/\""
   ]
  },
  {
   "cell_type": "code",
   "execution_count": 4,
   "metadata": {
    "colab": {
     "base_uri": "https://localhost:8080/"
    },
    "execution": {
     "iopub.execute_input": "2024-02-26T13:50:05.246796Z",
     "iopub.status.busy": "2024-02-26T13:50:05.246222Z",
     "iopub.status.idle": "2024-02-26T13:50:05.254830Z",
     "shell.execute_reply": "2024-02-26T13:50:05.253833Z",
     "shell.execute_reply.started": "2024-02-26T13:50:05.246764Z"
    },
    "id": "MaW3kDMC0HcT",
    "outputId": "12da5731-ff83-45c8-ad64-dd78c9e82865"
   },
   "outputs": [
    {
     "data": {
      "text/plain": [
       "device(type='cpu')"
      ]
     },
     "execution_count": 4,
     "metadata": {},
     "output_type": "execute_result"
    }
   ],
   "source": [
    "DEVICE = torch.device(\"cuda\" if torch.cuda.is_available() else \"cpu\")\n",
    "DEVICE"
   ]
  },
  {
   "cell_type": "code",
   "execution_count": 5,
   "metadata": {
    "execution": {
     "iopub.execute_input": "2024-02-26T13:50:07.136024Z",
     "iopub.status.busy": "2024-02-26T13:50:07.135595Z",
     "iopub.status.idle": "2024-02-26T13:50:07.143957Z",
     "shell.execute_reply": "2024-02-26T13:50:07.142786Z",
     "shell.execute_reply.started": "2024-02-26T13:50:07.135988Z"
    },
    "id": "h6yA70-k0S8b"
   },
   "outputs": [],
   "source": [
    "class TemperatureDataset(torch.utils.data.Dataset):\n",
    "    def __init__(self, X, y):\n",
    "        super(TemperatureDataset, self).__init__()\n",
    "\n",
    "        self.X = torch.from_numpy(X).type(torch.FloatTensor).to(DEVICE)\n",
    "        self.y = torch.from_numpy(y).type(torch.LongTensor).to(DEVICE)\n",
    "\n",
    "    def __len__(self):\n",
    "        return len(self.X)\n",
    "\n",
    "    def __getitem__(self, idx):\n",
    "        return self.X[idx], self.y[idx]"
   ]
  },
  {
   "cell_type": "code",
   "execution_count": 6,
   "metadata": {
    "colab": {
     "base_uri": "https://localhost:8080/",
     "height": 288
    },
    "execution": {
     "iopub.execute_input": "2024-02-26T13:50:07.362565Z",
     "iopub.status.busy": "2024-02-26T13:50:07.362294Z",
     "iopub.status.idle": "2024-02-26T13:50:07.444376Z",
     "shell.execute_reply": "2024-02-26T13:50:07.443901Z",
     "shell.execute_reply.started": "2024-02-26T13:50:07.362542Z"
    },
    "id": "4F-eHRZH0WtR",
    "outputId": "7265e135-e9b0-4228-a305-201f78d800ab"
   },
   "outputs": [
    {
     "data": {
      "text/html": [
       "<div>\n",
       "<style scoped>\n",
       "    .dataframe tbody tr th:only-of-type {\n",
       "        vertical-align: middle;\n",
       "    }\n",
       "\n",
       "    .dataframe tbody tr th {\n",
       "        vertical-align: top;\n",
       "    }\n",
       "\n",
       "    .dataframe thead th {\n",
       "        text-align: right;\n",
       "    }\n",
       "</style>\n",
       "<table border=\"1\" class=\"dataframe\">\n",
       "  <thead>\n",
       "    <tr style=\"text-align: right;\">\n",
       "      <th></th>\n",
       "      <th>0</th>\n",
       "      <th>1</th>\n",
       "      <th>2</th>\n",
       "      <th>3</th>\n",
       "      <th>4</th>\n",
       "      <th>5</th>\n",
       "      <th>6</th>\n",
       "      <th>7</th>\n",
       "      <th>8</th>\n",
       "      <th>9</th>\n",
       "      <th>...</th>\n",
       "      <th>1432</th>\n",
       "      <th>1433</th>\n",
       "      <th>1434</th>\n",
       "      <th>1435</th>\n",
       "      <th>1436</th>\n",
       "      <th>1437</th>\n",
       "      <th>1438</th>\n",
       "      <th>1439</th>\n",
       "      <th>disease</th>\n",
       "      <th>disease_encoded</th>\n",
       "    </tr>\n",
       "  </thead>\n",
       "  <tbody>\n",
       "    <tr>\n",
       "      <th>0</th>\n",
       "      <td>0.070542</td>\n",
       "      <td>0.066603</td>\n",
       "      <td>-0.024540</td>\n",
       "      <td>0.031063</td>\n",
       "      <td>0.010883</td>\n",
       "      <td>-0.009462</td>\n",
       "      <td>-0.040026</td>\n",
       "      <td>0.013276</td>\n",
       "      <td>0.011590</td>\n",
       "      <td>0.033470</td>\n",
       "      <td>...</td>\n",
       "      <td>-0.453165</td>\n",
       "      <td>-0.442173</td>\n",
       "      <td>-0.484539</td>\n",
       "      <td>-0.455936</td>\n",
       "      <td>-0.319981</td>\n",
       "      <td>-0.306396</td>\n",
       "      <td>-0.173097</td>\n",
       "      <td>-0.157362</td>\n",
       "      <td>dengue</td>\n",
       "      <td>0</td>\n",
       "    </tr>\n",
       "    <tr>\n",
       "      <th>1</th>\n",
       "      <td>-0.442717</td>\n",
       "      <td>-0.447170</td>\n",
       "      <td>-0.472113</td>\n",
       "      <td>-0.524862</td>\n",
       "      <td>-0.549047</td>\n",
       "      <td>-0.574217</td>\n",
       "      <td>-0.597002</td>\n",
       "      <td>-0.595214</td>\n",
       "      <td>-0.602310</td>\n",
       "      <td>-0.587725</td>\n",
       "      <td>...</td>\n",
       "      <td>-0.501442</td>\n",
       "      <td>-0.502091</td>\n",
       "      <td>-0.498524</td>\n",
       "      <td>-0.493322</td>\n",
       "      <td>-0.510359</td>\n",
       "      <td>-0.516447</td>\n",
       "      <td>-0.468571</td>\n",
       "      <td>-0.476863</td>\n",
       "      <td>non-tubercular bacterial infection</td>\n",
       "      <td>2</td>\n",
       "    </tr>\n",
       "    <tr>\n",
       "      <th>2</th>\n",
       "      <td>-0.378193</td>\n",
       "      <td>-0.420660</td>\n",
       "      <td>-0.482410</td>\n",
       "      <td>-0.571230</td>\n",
       "      <td>-0.630750</td>\n",
       "      <td>-0.690745</td>\n",
       "      <td>-0.747919</td>\n",
       "      <td>-0.777871</td>\n",
       "      <td>-0.817769</td>\n",
       "      <td>-0.836155</td>\n",
       "      <td>...</td>\n",
       "      <td>-0.545842</td>\n",
       "      <td>-0.550773</td>\n",
       "      <td>-0.551656</td>\n",
       "      <td>-0.551811</td>\n",
       "      <td>-0.574878</td>\n",
       "      <td>-0.585371</td>\n",
       "      <td>-0.541791</td>\n",
       "      <td>-0.556640</td>\n",
       "      <td>non-tubercular bacterial infection</td>\n",
       "      <td>2</td>\n",
       "    </tr>\n",
       "    <tr>\n",
       "      <th>3</th>\n",
       "      <td>-0.449017</td>\n",
       "      <td>-0.441264</td>\n",
       "      <td>-0.466737</td>\n",
       "      <td>-0.507130</td>\n",
       "      <td>-0.518813</td>\n",
       "      <td>-0.544285</td>\n",
       "      <td>-0.554192</td>\n",
       "      <td>-0.553093</td>\n",
       "      <td>-0.547142</td>\n",
       "      <td>-0.519073</td>\n",
       "      <td>...</td>\n",
       "      <td>-0.602167</td>\n",
       "      <td>-0.062855</td>\n",
       "      <td>-0.059663</td>\n",
       "      <td>-0.571766</td>\n",
       "      <td>-0.507522</td>\n",
       "      <td>-0.501939</td>\n",
       "      <td>-0.454121</td>\n",
       "      <td>-0.450743</td>\n",
       "      <td>dengue</td>\n",
       "      <td>0</td>\n",
       "    </tr>\n",
       "    <tr>\n",
       "      <th>4</th>\n",
       "      <td>-0.753149</td>\n",
       "      <td>-0.733287</td>\n",
       "      <td>-0.744690</td>\n",
       "      <td>-0.776226</td>\n",
       "      <td>-0.777201</td>\n",
       "      <td>-0.792130</td>\n",
       "      <td>-0.791499</td>\n",
       "      <td>-0.829692</td>\n",
       "      <td>-0.813205</td>\n",
       "      <td>-0.788606</td>\n",
       "      <td>...</td>\n",
       "      <td>0.738852</td>\n",
       "      <td>0.730265</td>\n",
       "      <td>0.721191</td>\n",
       "      <td>0.795023</td>\n",
       "      <td>0.781822</td>\n",
       "      <td>0.751838</td>\n",
       "      <td>0.759903</td>\n",
       "      <td>0.745348</td>\n",
       "      <td>dengue</td>\n",
       "      <td>0</td>\n",
       "    </tr>\n",
       "  </tbody>\n",
       "</table>\n",
       "<p>5 rows × 1442 columns</p>\n",
       "</div>"
      ],
      "text/plain": [
       "          0         1         2         3         4         5         6  \\\n",
       "0  0.070542  0.066603 -0.024540  0.031063  0.010883 -0.009462 -0.040026   \n",
       "1 -0.442717 -0.447170 -0.472113 -0.524862 -0.549047 -0.574217 -0.597002   \n",
       "2 -0.378193 -0.420660 -0.482410 -0.571230 -0.630750 -0.690745 -0.747919   \n",
       "3 -0.449017 -0.441264 -0.466737 -0.507130 -0.518813 -0.544285 -0.554192   \n",
       "4 -0.753149 -0.733287 -0.744690 -0.776226 -0.777201 -0.792130 -0.791499   \n",
       "\n",
       "          7         8         9  ...      1432      1433      1434      1435  \\\n",
       "0  0.013276  0.011590  0.033470  ... -0.453165 -0.442173 -0.484539 -0.455936   \n",
       "1 -0.595214 -0.602310 -0.587725  ... -0.501442 -0.502091 -0.498524 -0.493322   \n",
       "2 -0.777871 -0.817769 -0.836155  ... -0.545842 -0.550773 -0.551656 -0.551811   \n",
       "3 -0.553093 -0.547142 -0.519073  ... -0.602167 -0.062855 -0.059663 -0.571766   \n",
       "4 -0.829692 -0.813205 -0.788606  ...  0.738852  0.730265  0.721191  0.795023   \n",
       "\n",
       "       1436      1437      1438      1439                             disease  \\\n",
       "0 -0.319981 -0.306396 -0.173097 -0.157362                              dengue   \n",
       "1 -0.510359 -0.516447 -0.468571 -0.476863  non-tubercular bacterial infection   \n",
       "2 -0.574878 -0.585371 -0.541791 -0.556640  non-tubercular bacterial infection   \n",
       "3 -0.507522 -0.501939 -0.454121 -0.450743                              dengue   \n",
       "4  0.781822  0.751838  0.759903  0.745348                              dengue   \n",
       "\n",
       "   disease_encoded  \n",
       "0                0  \n",
       "1                2  \n",
       "2                2  \n",
       "3                0  \n",
       "4                0  \n",
       "\n",
       "[5 rows x 1442 columns]"
      ]
     },
     "execution_count": 6,
     "metadata": {},
     "output_type": "execute_result"
    }
   ],
   "source": [
    "df = pd.read_csv(DATA_PATH, index_col=False)\n",
    "df = df.sample(frac=1)\n",
    "df.reset_index(drop=True, inplace=True)\n",
    "df.head()"
   ]
  },
  {
   "cell_type": "code",
   "execution_count": 7,
   "metadata": {
    "execution": {
     "iopub.execute_input": "2024-02-26T13:50:09.654239Z",
     "iopub.status.busy": "2024-02-26T13:50:09.654049Z",
     "iopub.status.idle": "2024-02-26T13:50:09.658612Z",
     "shell.execute_reply": "2024-02-26T13:50:09.658243Z",
     "shell.execute_reply.started": "2024-02-26T13:50:09.654223Z"
    },
    "id": "vhuYq9s90mfk"
   },
   "outputs": [],
   "source": [
    "X = df.drop(\"disease\", axis=1)\n",
    "X = X.drop(\"disease_encoded\", axis=1)\n",
    "y = df[\"disease_encoded\"]"
   ]
  },
  {
   "cell_type": "code",
   "execution_count": 8,
   "metadata": {
    "execution": {
     "iopub.execute_input": "2024-02-26T13:50:09.958813Z",
     "iopub.status.busy": "2024-02-26T13:50:09.958522Z",
     "iopub.status.idle": "2024-02-26T13:50:09.964521Z",
     "shell.execute_reply": "2024-02-26T13:50:09.964061Z",
     "shell.execute_reply.started": "2024-02-26T13:50:09.958787Z"
    },
    "id": "O1GT3MB10s0S"
   },
   "outputs": [],
   "source": [
    "train_data, test_data, train_labels, test_labels = train_test_split(X, y, test_size=0.2, random_state=42)\n",
    "train_data = train_data.to_numpy()\n",
    "test_data = test_data.to_numpy()\n",
    "train_labels = train_labels.to_numpy()\n",
    "test_labels = test_labels.to_numpy()"
   ]
  },
  {
   "cell_type": "code",
   "execution_count": 9,
   "metadata": {
    "execution": {
     "iopub.execute_input": "2024-02-26T13:50:13.081753Z",
     "iopub.status.busy": "2024-02-26T13:50:13.081311Z",
     "iopub.status.idle": "2024-02-26T13:50:13.087757Z",
     "shell.execute_reply": "2024-02-26T13:50:13.086851Z",
     "shell.execute_reply.started": "2024-02-26T13:50:13.081718Z"
    },
    "id": "eC9zYWGj0vk2"
   },
   "outputs": [],
   "source": [
    "train_dataset = TemperatureDataset(train_data, train_labels)\n",
    "test_dataset = TemperatureDataset(test_data, test_labels)"
   ]
  },
  {
   "cell_type": "code",
   "execution_count": 10,
   "metadata": {
    "execution": {
     "iopub.execute_input": "2024-02-26T13:50:13.465907Z",
     "iopub.status.busy": "2024-02-26T13:50:13.465497Z",
     "iopub.status.idle": "2024-02-26T13:50:13.471796Z",
     "shell.execute_reply": "2024-02-26T13:50:13.470725Z",
     "shell.execute_reply.started": "2024-02-26T13:50:13.465874Z"
    },
    "id": "1WjmVADI0yQY"
   },
   "outputs": [],
   "source": [
    "train_loader = torch.utils.data.DataLoader(train_dataset, batch_size=8, shuffle=True)\n",
    "test_loader = torch.utils.data.DataLoader(test_dataset, batch_size=1, shuffle=True)"
   ]
  },
  {
   "cell_type": "code",
   "execution_count": 11,
   "metadata": {
    "execution": {
     "iopub.execute_input": "2024-02-26T13:50:14.351429Z",
     "iopub.status.busy": "2024-02-26T13:50:14.351257Z",
     "iopub.status.idle": "2024-02-26T13:50:14.355161Z",
     "shell.execute_reply": "2024-02-26T13:50:14.354492Z",
     "shell.execute_reply.started": "2024-02-26T13:50:14.351416Z"
    },
    "id": "qKu77HBQ01JI"
   },
   "outputs": [],
   "source": [
    "class Model(nn.Module):\n",
    "  def __init__(self):\n",
    "    super(Model, self).__init__()\n",
    "\n",
    "    self.conv_block = nn.Sequential(\n",
    "        nn.Conv1d(1, 64, 3),\n",
    "        nn.MaxPool1d(3),\n",
    "        nn.Dropout(0.3),\n",
    "        nn.BatchNorm1d(64)\n",
    "    )\n",
    "\n",
    "    self.dense = nn.Linear(30656, 4)\n",
    "    self.softmax = nn.Softmax(dim=1)\n",
    "\n",
    "  def forward(self, x):\n",
    "    num_samples, num_features = x.shape\n",
    "    x = x.reshape(num_samples, 1, num_features)\n",
    "\n",
    "    x = x.to(DEVICE)\n",
    "    x = self.conv_block(x)\n",
    "    x = x.reshape(num_samples, -1)\n",
    "\n",
    "    return self.softmax(self.dense(x))"
   ]
  },
  {
   "cell_type": "code",
   "execution_count": 12,
   "metadata": {
    "execution": {
     "iopub.execute_input": "2024-02-26T13:50:15.943002Z",
     "iopub.status.busy": "2024-02-26T13:50:15.942588Z",
     "iopub.status.idle": "2024-02-26T13:50:15.950307Z",
     "shell.execute_reply": "2024-02-26T13:50:15.949455Z",
     "shell.execute_reply.started": "2024-02-26T13:50:15.942966Z"
    },
    "id": "oidBJIbCa1qi"
   },
   "outputs": [],
   "source": [
    "sample_x, sample_y = next(iter(train_loader))"
   ]
  },
  {
   "cell_type": "markdown",
   "metadata": {
    "id": "MeWrOGxU7q1C"
   },
   "source": [
    "## SGD"
   ]
  },
  {
   "cell_type": "code",
   "execution_count": 13,
   "metadata": {
    "colab": {
     "base_uri": "https://localhost:8080/"
    },
    "execution": {
     "iopub.execute_input": "2024-02-26T13:50:17.135291Z",
     "iopub.status.busy": "2024-02-26T13:50:17.134355Z",
     "iopub.status.idle": "2024-02-26T13:50:17.147105Z",
     "shell.execute_reply": "2024-02-26T13:50:17.146578Z",
     "shell.execute_reply.started": "2024-02-26T13:50:17.135224Z"
    },
    "id": "FIuV-w4B1Qew",
    "outputId": "136036e7-f540-466f-855b-5fe10c041a84"
   },
   "outputs": [
    {
     "data": {
      "text/plain": [
       "Model(\n",
       "  (conv_block): Sequential(\n",
       "    (0): Conv1d(1, 64, kernel_size=(3,), stride=(1,))\n",
       "    (1): MaxPool1d(kernel_size=3, stride=3, padding=0, dilation=1, ceil_mode=False)\n",
       "    (2): Dropout(p=0.3, inplace=False)\n",
       "    (3): BatchNorm1d(64, eps=1e-05, momentum=0.1, affine=True, track_running_stats=True)\n",
       "  )\n",
       "  (dense): Linear(in_features=30656, out_features=4, bias=True)\n",
       "  (softmax): Softmax(dim=1)\n",
       ")"
      ]
     },
     "execution_count": 13,
     "metadata": {},
     "output_type": "execute_result"
    }
   ],
   "source": [
    "model = Model()\n",
    "model = model.to(DEVICE)\n",
    "model"
   ]
  },
  {
   "cell_type": "code",
   "execution_count": 14,
   "metadata": {
    "colab": {
     "base_uri": "https://localhost:8080/"
    },
    "execution": {
     "iopub.execute_input": "2024-02-26T13:50:18.672623Z",
     "iopub.status.busy": "2024-02-26T13:50:18.672230Z",
     "iopub.status.idle": "2024-02-26T13:50:18.717984Z",
     "shell.execute_reply": "2024-02-26T13:50:18.717213Z",
     "shell.execute_reply.started": "2024-02-26T13:50:18.672591Z"
    },
    "id": "5jV_e1sUap86",
    "outputId": "a4e9f196-d281-4701-9f26-2deb0d0dffa1"
   },
   "outputs": [
    {
     "data": {
      "text/plain": [
       "==========================================================================================\n",
       "Layer (type:depth-idx)                   Output Shape              Param #\n",
       "==========================================================================================\n",
       "Model                                    [8, 4]                    --\n",
       "├─Sequential: 1-1                        [8, 64, 479]              --\n",
       "│    └─Conv1d: 2-1                       [8, 64, 1438]             256\n",
       "│    └─MaxPool1d: 2-2                    [8, 64, 479]              --\n",
       "│    └─Dropout: 2-3                      [8, 64, 479]              --\n",
       "│    └─BatchNorm1d: 2-4                  [8, 64, 479]              128\n",
       "├─Linear: 1-2                            [8, 4]                    122,628\n",
       "├─Softmax: 1-3                           [8, 4]                    --\n",
       "==========================================================================================\n",
       "Total params: 123,012\n",
       "Trainable params: 123,012\n",
       "Non-trainable params: 0\n",
       "Total mult-adds (Units.MEGABYTES): 3.93\n",
       "==========================================================================================\n",
       "Input size (MB): 0.05\n",
       "Forward/backward pass size (MB): 7.85\n",
       "Params size (MB): 0.49\n",
       "Estimated Total Size (MB): 8.39\n",
       "=========================================================================================="
      ]
     },
     "execution_count": 14,
     "metadata": {},
     "output_type": "execute_result"
    }
   ],
   "source": [
    "summary(model, input_data=sample_x)"
   ]
  },
  {
   "cell_type": "code",
   "execution_count": 15,
   "metadata": {
    "execution": {
     "iopub.execute_input": "2024-02-26T13:50:23.583052Z",
     "iopub.status.busy": "2024-02-26T13:50:23.582843Z",
     "iopub.status.idle": "2024-02-26T13:50:23.586279Z",
     "shell.execute_reply": "2024-02-26T13:50:23.585856Z",
     "shell.execute_reply.started": "2024-02-26T13:50:23.583032Z"
    },
    "id": "IILxVI2J71bv"
   },
   "outputs": [],
   "source": [
    "tb_board = RUNS_PATH + \"1d_cnn_sgd\"\n",
    "writer = SummaryWriter(tb_board)"
   ]
  },
  {
   "cell_type": "code",
   "execution_count": 16,
   "metadata": {
    "execution": {
     "iopub.execute_input": "2024-02-26T13:50:34.904277Z",
     "iopub.status.busy": "2024-02-26T13:50:34.903774Z",
     "iopub.status.idle": "2024-02-26T13:50:35.093260Z",
     "shell.execute_reply": "2024-02-26T13:50:35.092403Z",
     "shell.execute_reply.started": "2024-02-26T13:50:34.904227Z"
    }
   },
   "outputs": [],
   "source": [
    "writer.add_graph(model, sample_x)"
   ]
  },
  {
   "cell_type": "code",
   "execution_count": 17,
   "metadata": {
    "execution": {
     "iopub.execute_input": "2024-02-26T13:50:38.604551Z",
     "iopub.status.busy": "2024-02-26T13:50:38.604272Z",
     "iopub.status.idle": "2024-02-26T13:50:38.607773Z",
     "shell.execute_reply": "2024-02-26T13:50:38.607209Z",
     "shell.execute_reply.started": "2024-02-26T13:50:38.604531Z"
    },
    "id": "b2sKZQmF1W42"
   },
   "outputs": [],
   "source": [
    "EPOCHS = 200\n",
    "\n",
    "acc_list = []\n",
    "f1_list = []\n",
    "recall_list = []\n",
    "precision_list = []\n",
    "\n",
    "loss_list = []"
   ]
  },
  {
   "cell_type": "code",
   "execution_count": 18,
   "metadata": {
    "execution": {
     "iopub.execute_input": "2024-02-26T13:50:38.987110Z",
     "iopub.status.busy": "2024-02-26T13:50:38.986689Z",
     "iopub.status.idle": "2024-02-26T13:50:39.567587Z",
     "shell.execute_reply": "2024-02-26T13:50:39.566991Z",
     "shell.execute_reply.started": "2024-02-26T13:50:38.987084Z"
    },
    "id": "MZPInsjR1h93"
   },
   "outputs": [],
   "source": [
    "loss_fn = nn.CrossEntropyLoss()\n",
    "optimizer = optim.SGD(model.parameters(), lr=1e-3, momentum=0.9)"
   ]
  },
  {
   "cell_type": "code",
   "execution_count": 19,
   "metadata": {
    "colab": {
     "base_uri": "https://localhost:8080/"
    },
    "execution": {
     "iopub.execute_input": "2024-02-26T13:50:41.257721Z",
     "iopub.status.busy": "2024-02-26T13:50:41.257293Z",
     "iopub.status.idle": "2024-02-26T13:51:08.928449Z",
     "shell.execute_reply": "2024-02-26T13:51:08.927299Z",
     "shell.execute_reply.started": "2024-02-26T13:50:41.257700Z"
    },
    "id": "kQ6ZNBVr1vSy",
    "outputId": "bd8ae1aa-6ba7-4485-a85f-a7a6cae6516a",
    "scrolled": true
   },
   "outputs": [
    {
     "name": "stdout",
     "output_type": "stream",
     "text": [
      "Epoch: 1 - Loss: 1.4141719261805217 - Accuracy: 0.2608695652173913 - Precision: 0.27188921123853654 - Recall: 0.2608695652173913 - F1: 0.26139595767949586\n",
      "Epoch: 2 - Loss: 1.3436542987823485 - Accuracy: 0.3652173913043478 - Precision: 0.3539732677029165 - Recall: 0.3652173913043478 - F1: 0.3576027849729673\n",
      "Epoch: 3 - Loss: 1.2870837450027466 - Accuracy: 0.4434782608695652 - Precision: 0.46543030544224456 - Recall: 0.4434782608695652 - F1: 0.4461132300584491\n",
      "Epoch: 4 - Loss: 1.277251382668813 - Accuracy: 0.4260869565217391 - Precision: 0.4871569497364163 - Recall: 0.4260869565217391 - F1: 0.4368671828469327\n",
      "Epoch: 5 - Loss: 1.2600499749183656 - Accuracy: 0.48695652173913045 - Precision: 0.5228833123398341 - Recall: 0.48695652173913045 - F1: 0.49807101414678207\n",
      "Epoch: 6 - Loss: 1.2270943601926168 - Accuracy: 0.4956521739130435 - Precision: 0.5161033017325923 - Recall: 0.4956521739130435 - F1: 0.4999593684145026\n",
      "Epoch: 7 - Loss: 1.2216519355773925 - Accuracy: 0.5043478260869565 - Precision: 0.5027660455486542 - Recall: 0.5043478260869565 - F1: 0.5012146987730625\n",
      "Epoch: 8 - Loss: 1.213682238260905 - Accuracy: 0.5391304347826087 - Precision: 0.5460869565217391 - Recall: 0.5391304347826087 - F1: 0.5383787060718007\n",
      "Epoch: 9 - Loss: 1.2217235922813416 - Accuracy: 0.4956521739130435 - Precision: 0.5051410206192815 - Recall: 0.4956521739130435 - F1: 0.49975336180747404\n",
      "Epoch: 10 - Loss: 1.1992164333661397 - Accuracy: 0.5739130434782609 - Precision: 0.5801474701245868 - Recall: 0.5739130434782609 - F1: 0.5751226985686364\n",
      "Epoch: 11 - Loss: 1.1815062125523885 - Accuracy: 0.5391304347826087 - Precision: 0.544223602484472 - Recall: 0.5391304347826087 - F1: 0.5346754337687919\n",
      "Epoch: 12 - Loss: 1.1846717596054077 - Accuracy: 0.5565217391304348 - Precision: 0.5774373726530844 - Recall: 0.5565217391304348 - F1: 0.5634494665814629\n",
      "Epoch: 13 - Loss: 1.1631575663884481 - Accuracy: 0.591304347826087 - Precision: 0.6193271370053853 - Recall: 0.591304347826087 - F1: 0.5968417714219812\n",
      "Epoch: 14 - Loss: 1.154479988416036 - Accuracy: 0.5739130434782609 - Precision: 0.590833154851146 - Recall: 0.5739130434782609 - F1: 0.5729210202170258\n",
      "Epoch: 15 - Loss: 1.1507623553276063 - Accuracy: 0.591304347826087 - Precision: 0.605189972581277 - Recall: 0.591304347826087 - F1: 0.5939849624060151\n",
      "Epoch: 16 - Loss: 1.14807897011439 - Accuracy: 0.591304347826087 - Precision: 0.620825721592985 - Recall: 0.591304347826087 - F1: 0.5976533616365314\n",
      "Epoch: 17 - Loss: 1.231155554453532 - Accuracy: 0.5130434782608696 - Precision: 0.5209811671704255 - Recall: 0.5130434782608696 - F1: 0.5144994232194313\n",
      "Epoch: 18 - Loss: 1.1739503224690755 - Accuracy: 0.5652173913043478 - Precision: 0.5773731304085197 - Recall: 0.5652173913043478 - F1: 0.5615501709464256\n",
      "Epoch: 19 - Loss: 1.1386760950088501 - Accuracy: 0.6347826086956522 - Precision: 0.6709167410429683 - Recall: 0.6347826086956522 - F1: 0.6422310057092666\n",
      "Epoch: 20 - Loss: 1.131548237800598 - Accuracy: 0.5826086956521739 - Precision: 0.642286409242931 - Recall: 0.5826086956521739 - F1: 0.5996135265700484\n",
      "Epoch: 21 - Loss: 1.1544143120447794 - Accuracy: 0.5739130434782609 - Precision: 0.6044223602484472 - Recall: 0.5739130434782609 - F1: 0.5839964112958093\n",
      "Epoch: 22 - Loss: 1.13294229110082 - Accuracy: 0.5652173913043478 - Precision: 0.5750160633968731 - Recall: 0.5652173913043478 - F1: 0.5689687414697863\n",
      "Epoch: 23 - Loss: 1.1326294898986817 - Accuracy: 0.6086956521739131 - Precision: 0.6204203161577106 - Recall: 0.6086956521739131 - F1: 0.611029550159985\n",
      "Epoch: 24 - Loss: 1.1892317612965901 - Accuracy: 0.5565217391304348 - Precision: 0.5809777324776347 - Recall: 0.5565217391304348 - F1: 0.5661264209324484\n",
      "Epoch: 25 - Loss: 1.189733056227366 - Accuracy: 0.5478260869565217 - Precision: 0.5850964891885607 - Recall: 0.5478260869565217 - F1: 0.5617076077345943\n",
      "Epoch: 26 - Loss: 1.137892194588979 - Accuracy: 0.5826086956521739 - Precision: 0.6061851192285975 - Recall: 0.5826086956521739 - F1: 0.5912733804038153\n",
      "Epoch: 27 - Loss: 1.1490645249684652 - Accuracy: 0.6173913043478261 - Precision: 0.6487946642514519 - Recall: 0.6173913043478261 - F1: 0.6274585398568754\n",
      "Epoch: 28 - Loss: 1.1263305306434632 - Accuracy: 0.6434782608695652 - Precision: 0.6617295747730532 - Recall: 0.6434782608695652 - F1: 0.650345998172085\n",
      "Epoch: 29 - Loss: 1.1284759640693665 - Accuracy: 0.6086956521739131 - Precision: 0.6300395256916996 - Recall: 0.6086956521739131 - F1: 0.6142504086302714\n",
      "Epoch: 30 - Loss: 1.1036646842956543 - Accuracy: 0.6173913043478261 - Precision: 0.6424011220196353 - Recall: 0.6173913043478261 - F1: 0.6272380994612332\n",
      "Epoch: 31 - Loss: 1.09205029408137 - Accuracy: 0.6347826086956522 - Precision: 0.6683083668249908 - Recall: 0.6347826086956522 - F1: 0.6435319875117131\n",
      "Epoch: 32 - Loss: 1.124918516476949 - Accuracy: 0.6173913043478261 - Precision: 0.6419804846584815 - Recall: 0.6173913043478261 - F1: 0.6266758634327321\n",
      "Epoch: 33 - Loss: 1.0997304677963258 - Accuracy: 0.6521739130434783 - Precision: 0.6718213693042069 - Recall: 0.6521739130434783 - F1: 0.6570635666798723\n",
      "Epoch: 34 - Loss: 1.1346583684285483 - Accuracy: 0.6086956521739131 - Precision: 0.6325649873475961 - Recall: 0.6086956521739131 - F1: 0.6137325304900839\n",
      "Epoch: 35 - Loss: 1.1041184266408284 - Accuracy: 0.6347826086956522 - Precision: 0.6460248447204969 - Recall: 0.6347826086956522 - F1: 0.6386818898243187\n",
      "Epoch: 36 - Loss: 1.0777339855829875 - Accuracy: 0.6521739130434783 - Precision: 0.6773574251835122 - Recall: 0.6521739130434783 - F1: 0.6595499618611748\n",
      "Epoch: 37 - Loss: 1.08957759141922 - Accuracy: 0.6608695652173913 - Precision: 0.6823188405797102 - Recall: 0.6608695652173913 - F1: 0.6678260869565218\n",
      "Epoch: 38 - Loss: 1.1331143339474996 - Accuracy: 0.591304347826087 - Precision: 0.6161259927311886 - Recall: 0.591304347826087 - F1: 0.5956671536310986\n",
      "Epoch: 39 - Loss: 1.1118850310643513 - Accuracy: 0.6086956521739131 - Precision: 0.6258365723583115 - Recall: 0.6086956521739131 - F1: 0.613915112770948\n",
      "Epoch: 40 - Loss: 1.12390239238739 - Accuracy: 0.6173913043478261 - Precision: 0.6252750927645737 - Recall: 0.6173913043478261 - F1: 0.6194861431930544\n",
      "Epoch: 41 - Loss: 1.1125751972198485 - Accuracy: 0.6347826086956522 - Precision: 0.6589013557737261 - Recall: 0.6347826086956522 - F1: 0.6420408497050176\n",
      "Epoch: 42 - Loss: 1.111033523082733 - Accuracy: 0.6260869565217392 - Precision: 0.6558629776021081 - Recall: 0.6260869565217392 - F1: 0.635835005574136\n",
      "Epoch: 43 - Loss: 1.072650917371114 - Accuracy: 0.6434782608695652 - Precision: 0.6663987334064061 - Recall: 0.6434782608695652 - F1: 0.6497520470533963\n",
      "Epoch: 44 - Loss: 1.1079649170239767 - Accuracy: 0.6260869565217392 - Precision: 0.6512554749060336 - Recall: 0.6260869565217392 - F1: 0.6316629599183445\n",
      "Epoch: 45 - Loss: 1.104307504494985 - Accuracy: 0.6086956521739131 - Precision: 0.6311064157908478 - Recall: 0.6086956521739131 - F1: 0.6156503566398619\n",
      "Epoch: 46 - Loss: 1.0711624344189963 - Accuracy: 0.6434782608695652 - Precision: 0.6622607145625048 - Recall: 0.6434782608695652 - F1: 0.6490645765659361\n",
      "Epoch: 47 - Loss: 1.0880707621574401 - Accuracy: 0.6434782608695652 - Precision: 0.6865112741812164 - Recall: 0.6434782608695652 - F1: 0.6535794333717914\n",
      "Epoch: 48 - Loss: 1.1056893348693848 - Accuracy: 0.6434782608695652 - Precision: 0.672075171205606 - Recall: 0.6434782608695652 - F1: 0.6496650687955037\n",
      "Epoch: 49 - Loss: 1.109757669766744 - Accuracy: 0.6521739130434783 - Precision: 0.6646994684475944 - Recall: 0.6521739130434783 - F1: 0.6568591504083888\n",
      "Epoch: 50 - Loss: 1.1036925872166952 - Accuracy: 0.6434782608695652 - Precision: 0.6561108240446839 - Recall: 0.6434782608695652 - F1: 0.6463514241067325\n",
      "Epoch: 51 - Loss: 1.0979535738627115 - Accuracy: 0.6434782608695652 - Precision: 0.666712418016766 - Recall: 0.6434782608695652 - F1: 0.6509629996128853\n",
      "Epoch: 52 - Loss: 1.093665647506714 - Accuracy: 0.6608695652173913 - Precision: 0.7005738081185652 - Recall: 0.6608695652173913 - F1: 0.671451396253093\n",
      "Epoch: 53 - Loss: 1.0796602487564086 - Accuracy: 0.6782608695652174 - Precision: 0.7210070568126834 - Recall: 0.6782608695652174 - F1: 0.6903359931941976\n",
      "Epoch: 54 - Loss: 1.049776275952657 - Accuracy: 0.6869565217391305 - Precision: 0.7256417542862557 - Recall: 0.6869565217391305 - F1: 0.6973934701391521\n",
      "Epoch: 55 - Loss: 1.094776999950409 - Accuracy: 0.6521739130434783 - Precision: 0.6650974512743629 - Recall: 0.6521739130434783 - F1: 0.6560032505188229\n",
      "Epoch: 56 - Loss: 1.0638494610786438 - Accuracy: 0.6434782608695652 - Precision: 0.6726310946448245 - Recall: 0.6434782608695652 - F1: 0.6475124286178081\n",
      "Epoch: 57 - Loss: 1.0683049043019612 - Accuracy: 0.6782608695652174 - Precision: 0.7091541501976285 - Recall: 0.6782608695652174 - F1: 0.6882848258633334\n",
      "Epoch: 58 - Loss: 1.0623185952504477 - Accuracy: 0.6695652173913044 - Precision: 0.6895204350286657 - Recall: 0.6695652173913044 - F1: 0.6748503670242801\n",
      "Epoch: 59 - Loss: 1.0784870266914368 - Accuracy: 0.6608695652173913 - Precision: 0.6896245059288538 - Recall: 0.6608695652173913 - F1: 0.6695725041723829\n",
      "Epoch: 60 - Loss: 1.0408305207888284 - Accuracy: 0.7043478260869566 - Precision: 0.7125823451910409 - Recall: 0.7043478260869566 - F1: 0.7071318765169844\n",
      "Epoch: 61 - Loss: 1.0708134412765502 - Accuracy: 0.6608695652173913 - Precision: 0.6729061784897026 - Recall: 0.6608695652173913 - F1: 0.6637625715482136\n",
      "Epoch: 62 - Loss: 1.0643193125724792 - Accuracy: 0.6608695652173913 - Precision: 0.7018104724727419 - Recall: 0.6608695652173913 - F1: 0.6702380713050847\n",
      "Epoch: 63 - Loss: 1.065782086054484 - Accuracy: 0.6608695652173913 - Precision: 0.6731304347826087 - Recall: 0.6608695652173913 - F1: 0.6614581958057104\n",
      "Epoch: 64 - Loss: 1.0452990969022116 - Accuracy: 0.7043478260869566 - Precision: 0.7246511645825146 - Recall: 0.7043478260869566 - F1: 0.7089491390946343\n",
      "Epoch: 65 - Loss: 1.0760150313377381 - Accuracy: 0.6521739130434783 - Precision: 0.6686143421795596 - Recall: 0.6521739130434783 - F1: 0.6559647683606062\n",
      "Epoch: 66 - Loss: 1.0878756364186606 - Accuracy: 0.6695652173913044 - Precision: 0.6923936603673174 - Recall: 0.6695652173913044 - F1: 0.6773212233341743\n",
      "Epoch: 67 - Loss: 1.1277048230171203 - Accuracy: 0.6347826086956522 - Precision: 0.6575710702341138 - Recall: 0.6347826086956522 - F1: 0.6427008268856458\n",
      "Epoch: 68 - Loss: 1.0509872118631998 - Accuracy: 0.7043478260869566 - Precision: 0.7335043028804845 - Recall: 0.7043478260869566 - F1: 0.7136009542820975\n",
      "Epoch: 69 - Loss: 1.049892505009969 - Accuracy: 0.6956521739130435 - Precision: 0.7140070074852685 - Recall: 0.6956521739130435 - F1: 0.7010517598343686\n",
      "Epoch: 70 - Loss: 1.0819832642873128 - Accuracy: 0.6608695652173913 - Precision: 0.6834467833956326 - Recall: 0.6608695652173913 - F1: 0.6693121242938311\n",
      "Epoch: 71 - Loss: 1.0468687653541564 - Accuracy: 0.6869565217391305 - Precision: 0.709524864053542 - Recall: 0.6869565217391305 - F1: 0.6904682723573279\n",
      "Epoch: 72 - Loss: 1.0204390247662862 - Accuracy: 0.7130434782608696 - Precision: 0.742156862745098 - Recall: 0.7130434782608696 - F1: 0.7191235601711339\n",
      "Epoch: 73 - Loss: 1.0343470811843871 - Accuracy: 0.7130434782608696 - Precision: 0.7316471129514607 - Recall: 0.7130434782608696 - F1: 0.7181961634135547\n",
      "Epoch: 74 - Loss: 1.048084282875061 - Accuracy: 0.7217391304347827 - Precision: 0.7321022573196486 - Recall: 0.7217391304347827 - F1: 0.7245761431514094\n",
      "Epoch: 75 - Loss: 1.0708303411801656 - Accuracy: 0.6608695652173913 - Precision: 0.6749331855811225 - Recall: 0.6608695652173913 - F1: 0.6664237388987707\n",
      "Epoch: 76 - Loss: 1.0172842661539714 - Accuracy: 0.7304347826086957 - Precision: 0.7469427917620138 - Recall: 0.7304347826086957 - F1: 0.734253113580431\n",
      "Epoch: 77 - Loss: 1.0448470075925191 - Accuracy: 0.7043478260869566 - Precision: 0.7194785908753403 - Recall: 0.7043478260869566 - F1: 0.7059404222500724\n",
      "Epoch: 78 - Loss: 1.0288108309110007 - Accuracy: 0.7043478260869566 - Precision: 0.7205503239163829 - Recall: 0.7043478260869566 - F1: 0.7093122529644269\n",
      "Epoch: 79 - Loss: 1.0517243504524232 - Accuracy: 0.7043478260869566 - Precision: 0.7170080233489106 - Recall: 0.7043478260869566 - F1: 0.7065931304960626\n",
      "Epoch: 80 - Loss: 1.0113497217496237 - Accuracy: 0.7304347826086957 - Precision: 0.7471014492753623 - Recall: 0.7304347826086957 - F1: 0.7338835077965513\n",
      "Epoch: 81 - Loss: 1.0617908596992494 - Accuracy: 0.6782608695652174 - Precision: 0.6984922394678492 - Recall: 0.6782608695652174 - F1: 0.6825019762845851\n",
      "Epoch: 82 - Loss: 1.0391317327817282 - Accuracy: 0.7043478260869566 - Precision: 0.7183772071780488 - Recall: 0.7043478260869566 - F1: 0.7061963609679626\n",
      "Epoch: 83 - Loss: 1.064229130744934 - Accuracy: 0.7130434782608696 - Precision: 0.7243540301619957 - Recall: 0.7130434782608696 - F1: 0.7171403492100334\n",
      "Epoch: 84 - Loss: 1.0125706235567729 - Accuracy: 0.7217391304347827 - Precision: 0.7274460855696553 - Recall: 0.7217391304347827 - F1: 0.7238423535765914\n",
      "Epoch: 85 - Loss: 1.0209700306256613 - Accuracy: 0.7304347826086957 - Precision: 0.747449051536008 - Recall: 0.7304347826086957 - F1: 0.7349158375841162\n",
      "Epoch: 86 - Loss: 1.0201560616493226 - Accuracy: 0.7130434782608696 - Precision: 0.7319278088156806 - Recall: 0.7130434782608696 - F1: 0.7178788546879655\n",
      "Epoch: 87 - Loss: 1.0312475005785624 - Accuracy: 0.7217391304347827 - Precision: 0.7319565217391304 - Recall: 0.7217391304347827 - F1: 0.723559160414437\n",
      "Epoch: 88 - Loss: 1.0133328755696616 - Accuracy: 0.7304347826086957 - Precision: 0.7453411306042884 - Recall: 0.7304347826086957 - F1: 0.7341577555126595\n",
      "Epoch: 89 - Loss: 1.026541006565094 - Accuracy: 0.7043478260869566 - Precision: 0.7097912582170454 - Recall: 0.7043478260869566 - F1: 0.7051353568498768\n",
      "Epoch: 90 - Loss: 1.0514684240023295 - Accuracy: 0.6869565217391305 - Precision: 0.6947291372920663 - Recall: 0.6869565217391305 - F1: 0.689813022516236\n",
      "Epoch: 91 - Loss: 1.0811362663904827 - Accuracy: 0.6434782608695652 - Precision: 0.6696349297316716 - Recall: 0.6434782608695652 - F1: 0.6529886740853248\n",
      "Epoch: 92 - Loss: 1.0298584222793579 - Accuracy: 0.7217391304347827 - Precision: 0.744055586777704 - Recall: 0.7217391304347827 - F1: 0.7283878330532759\n",
      "Epoch: 93 - Loss: 1.006971331437429 - Accuracy: 0.7217391304347827 - Precision: 0.7335753176043558 - Recall: 0.7217391304347827 - F1: 0.7246007974512086\n",
      "Epoch: 94 - Loss: 1.0526102423667907 - Accuracy: 0.7217391304347827 - Precision: 0.7344927536231884 - Recall: 0.7217391304347827 - F1: 0.7236714975845411\n",
      "Epoch: 95 - Loss: 1.076970358689626 - Accuracy: 0.6869565217391305 - Precision: 0.698779450608349 - Recall: 0.6869565217391305 - F1: 0.6892782362293165\n",
      "Epoch: 96 - Loss: 1.0216062744458516 - Accuracy: 0.7217391304347827 - Precision: 0.7290936949107862 - Recall: 0.7217391304347827 - F1: 0.723428432534257\n",
      "Epoch: 97 - Loss: 1.0168129205703735 - Accuracy: 0.7217391304347827 - Precision: 0.736456479362658 - Recall: 0.7217391304347827 - F1: 0.7236589497459063\n",
      "Epoch: 98 - Loss: 1.033344070116679 - Accuracy: 0.7217391304347827 - Precision: 0.7291005291005291 - Recall: 0.7217391304347827 - F1: 0.7239850005067395\n",
      "Epoch: 99 - Loss: 1.0086551547050475 - Accuracy: 0.7391304347826086 - Precision: 0.7586151368760063 - Recall: 0.7391304347826086 - F1: 0.7445104460756633\n",
      "Epoch: 100 - Loss: 1.0408114870389302 - Accuracy: 0.7217391304347827 - Precision: 0.7334544080616696 - Recall: 0.7217391304347827 - F1: 0.7258710392987878\n",
      "Epoch: 101 - Loss: 1.0353286504745483 - Accuracy: 0.7130434782608696 - Precision: 0.7267688787185355 - Recall: 0.7130434782608696 - F1: 0.7155790886717877\n",
      "Epoch: 102 - Loss: 1.0232279896736145 - Accuracy: 0.7304347826086957 - Precision: 0.7393291925465838 - Recall: 0.7304347826086957 - F1: 0.732057241819342\n",
      "Epoch: 103 - Loss: 1.0444100817044577 - Accuracy: 0.6869565217391305 - Precision: 0.6948855981366043 - Recall: 0.6869565217391305 - F1: 0.6891817507075917\n",
      "Epoch: 104 - Loss: 1.0069419384002685 - Accuracy: 0.7304347826086957 - Precision: 0.7332747767530376 - Recall: 0.7304347826086957 - F1: 0.7310837722268836\n",
      "Epoch: 105 - Loss: 1.0073164423306784 - Accuracy: 0.7304347826086957 - Precision: 0.7411463272332837 - Recall: 0.7304347826086957 - F1: 0.7334446176352454\n",
      "Epoch: 106 - Loss: 1.0043695330619813 - Accuracy: 0.7478260869565218 - Precision: 0.7590660597983253 - Recall: 0.7478260869565218 - F1: 0.7508442604094778\n",
      "Epoch: 107 - Loss: 1.040572957197825 - Accuracy: 0.6956521739130435 - Precision: 0.7317916865742953 - Recall: 0.6956521739130435 - F1: 0.7015966592974697\n",
      "Epoch: 108 - Loss: 1.0386220892270406 - Accuracy: 0.7130434782608696 - Precision: 0.7236028413898052 - Recall: 0.7130434782608696 - F1: 0.7148202522115565\n",
      "Epoch: 109 - Loss: 1.0564732154210408 - Accuracy: 0.6869565217391305 - Precision: 0.7066395969621776 - Recall: 0.6869565217391305 - F1: 0.6918577075098814\n",
      "Epoch: 110 - Loss: 1.0462999979654948 - Accuracy: 0.7043478260869566 - Precision: 0.7209170268666837 - Recall: 0.7043478260869566 - F1: 0.7073517786561264\n",
      "Epoch: 111 - Loss: 1.05986537138621 - Accuracy: 0.6869565217391305 - Precision: 0.7135361421456455 - Recall: 0.6869565217391305 - F1: 0.6902680527867935\n",
      "Epoch: 112 - Loss: 1.0389424721399942 - Accuracy: 0.6869565217391305 - Precision: 0.6871168102584653 - Recall: 0.6869565217391305 - F1: 0.6860918693195774\n",
      "Epoch: 113 - Loss: 1.0188247760136921 - Accuracy: 0.7130434782608696 - Precision: 0.7347826086956522 - Recall: 0.7130434782608696 - F1: 0.715776397515528\n",
      "Epoch: 114 - Loss: 1.024591330687205 - Accuracy: 0.7217391304347827 - Precision: 0.7468944099378881 - Recall: 0.7217391304347827 - F1: 0.7284659208857109\n",
      "Epoch: 115 - Loss: 1.0315253933270772 - Accuracy: 0.7304347826086957 - Precision: 0.7474358974358974 - Recall: 0.7304347826086957 - F1: 0.7331492983666897\n",
      "Epoch: 116 - Loss: 1.0175121545791626 - Accuracy: 0.7217391304347827 - Precision: 0.7316988727858292 - Recall: 0.7217391304347827 - F1: 0.7220769055441592\n",
      "Epoch: 117 - Loss: 1.025997769832611 - Accuracy: 0.6956521739130435 - Precision: 0.7066183574879227 - Recall: 0.6956521739130435 - F1: 0.700153224926334\n",
      "Epoch: 118 - Loss: 0.9953790744145711 - Accuracy: 0.7391304347826086 - Precision: 0.7515458454347707 - Recall: 0.7391304347826086 - F1: 0.743605460289453\n",
      "Epoch: 119 - Loss: 1.016510252157847 - Accuracy: 0.7043478260869566 - Precision: 0.7250226878970382 - Recall: 0.7043478260869566 - F1: 0.7085317651595489\n",
      "Epoch: 120 - Loss: 1.052048639456431 - Accuracy: 0.6869565217391305 - Precision: 0.7099239874068249 - Recall: 0.6869565217391305 - F1: 0.6912342082817671\n",
      "Epoch: 121 - Loss: 1.0089500586191813 - Accuracy: 0.7478260869565218 - Precision: 0.7632015035971632 - Recall: 0.7478260869565218 - F1: 0.7518280109584458\n",
      "Epoch: 122 - Loss: 1.0192246317863465 - Accuracy: 0.7217391304347827 - Precision: 0.7346718402812323 - Recall: 0.7217391304347827 - F1: 0.7254911395521941\n",
      "Epoch: 123 - Loss: 1.037190357844035 - Accuracy: 0.7130434782608696 - Precision: 0.7221718842588407 - Recall: 0.7130434782608696 - F1: 0.7167136063680494\n",
      "Epoch: 124 - Loss: 1.0316300511360168 - Accuracy: 0.7130434782608696 - Precision: 0.7283583208395802 - Recall: 0.7130434782608696 - F1: 0.716559833972945\n",
      "Epoch: 125 - Loss: 1.0336514592170716 - Accuracy: 0.7217391304347827 - Precision: 0.7415713196033563 - Recall: 0.7217391304347827 - F1: 0.7265705618951322\n",
      "Epoch: 126 - Loss: 0.9856383601824442 - Accuracy: 0.7478260869565218 - Precision: 0.768215559625952 - Recall: 0.7478260869565218 - F1: 0.7510191981931114\n",
      "Epoch: 127 - Loss: 1.0242576996485393 - Accuracy: 0.7391304347826086 - Precision: 0.7506405500795403 - Recall: 0.7391304347826086 - F1: 0.7415757883950105\n",
      "Epoch: 128 - Loss: 1.001522715886434 - Accuracy: 0.7391304347826086 - Precision: 0.758815358554489 - Recall: 0.7391304347826086 - F1: 0.7439423168256983\n",
      "Epoch: 129 - Loss: 1.0062628746032716 - Accuracy: 0.7391304347826086 - Precision: 0.7540680046696139 - Recall: 0.7391304347826086 - F1: 0.7423718041311571\n",
      "Epoch: 130 - Loss: 1.0221244057019552 - Accuracy: 0.7304347826086957 - Precision: 0.7487012071359899 - Recall: 0.7304347826086957 - F1: 0.734253113580431\n",
      "Epoch: 131 - Loss: 1.0242503523826598 - Accuracy: 0.7304347826086957 - Precision: 0.7440001252653501 - Recall: 0.7304347826086957 - F1: 0.7337273690392784\n",
      "Epoch: 132 - Loss: 1.022022306919098 - Accuracy: 0.7217391304347827 - Precision: 0.7281803542673108 - Recall: 0.7217391304347827 - F1: 0.7235633931286105\n",
      "Epoch: 133 - Loss: 1.0322849988937377 - Accuracy: 0.6956521739130435 - Precision: 0.6992893791520793 - Recall: 0.6956521739130435 - F1: 0.6971654432523997\n",
      "Epoch: 134 - Loss: 1.0241244077682494 - Accuracy: 0.7217391304347827 - Precision: 0.7356282436470252 - Recall: 0.7217391304347827 - F1: 0.7252917305198332\n",
      "Epoch: 135 - Loss: 1.0078102151552837 - Accuracy: 0.7391304347826086 - Precision: 0.7549238881703313 - Recall: 0.7391304347826086 - F1: 0.7434823204644176\n",
      "Epoch: 136 - Loss: 1.0151774764060975 - Accuracy: 0.7043478260869566 - Precision: 0.7199105966497271 - Recall: 0.7043478260869566 - F1: 0.7046557505486336\n",
      "Epoch: 137 - Loss: 1.0235643943150838 - Accuracy: 0.7130434782608696 - Precision: 0.732552728015866 - Recall: 0.7130434782608696 - F1: 0.7175670745862767\n",
      "Epoch: 138 - Loss: 0.993751072883606 - Accuracy: 0.7478260869565218 - Precision: 0.7598944767247713 - Recall: 0.7478260869565218 - F1: 0.7498895307590959\n",
      "Epoch: 139 - Loss: 1.0309232910474142 - Accuracy: 0.7130434782608696 - Precision: 0.720308561257652 - Recall: 0.7130434782608696 - F1: 0.7149925850529487\n",
      "Epoch: 140 - Loss: 1.0017942825953166 - Accuracy: 0.7478260869565218 - Precision: 0.7568004992718952 - Recall: 0.7478260869565218 - F1: 0.7496767027244612\n",
      "Epoch: 141 - Loss: 1.0478819529215495 - Accuracy: 0.7043478260869566 - Precision: 0.7222055335968379 - Recall: 0.7043478260869566 - F1: 0.7076770186335403\n",
      "Epoch: 142 - Loss: 1.0209622144699098 - Accuracy: 0.7217391304347827 - Precision: 0.7329420289855072 - Recall: 0.7217391304347827 - F1: 0.7212475170855664\n",
      "Epoch: 143 - Loss: 1.0339916865030925 - Accuracy: 0.7130434782608696 - Precision: 0.7198262232520103 - Recall: 0.7130434782608696 - F1: 0.7139968157948466\n",
      "Epoch: 144 - Loss: 1.014383896191915 - Accuracy: 0.7304347826086957 - Precision: 0.7481568998109641 - Recall: 0.7304347826086957 - F1: 0.7336778990377358\n",
      "Epoch: 145 - Loss: 1.0309171279271443 - Accuracy: 0.7304347826086957 - Precision: 0.743996691833999 - Recall: 0.7304347826086957 - F1: 0.7340809111951007\n",
      "Epoch: 146 - Loss: 0.9854626139005025 - Accuracy: 0.7478260869565218 - Precision: 0.7590660597983253 - Recall: 0.7478260869565218 - F1: 0.7508442604094778\n",
      "Epoch: 147 - Loss: 1.0141546487808228 - Accuracy: 0.7391304347826086 - Precision: 0.7539387564282374 - Recall: 0.7391304347826086 - F1: 0.7420410959431323\n",
      "Epoch: 148 - Loss: 1.0128925641377766 - Accuracy: 0.7391304347826086 - Precision: 0.7472816223467215 - Recall: 0.7391304347826086 - F1: 0.740768993106975\n",
      "Epoch: 149 - Loss: 1.0332620819409688 - Accuracy: 0.7130434782608696 - Precision: 0.7274346288474236 - Recall: 0.7130434782608696 - F1: 0.7146649231775091\n",
      "Epoch: 150 - Loss: 1.0294723550478617 - Accuracy: 0.7304347826086957 - Precision: 0.7368686730640763 - Recall: 0.7304347826086957 - F1: 0.7325385342036591\n",
      "Epoch: 151 - Loss: 1.0175890843073527 - Accuracy: 0.7391304347826086 - Precision: 0.7496448851597592 - Recall: 0.7391304347826086 - F1: 0.7414517849300458\n",
      "Epoch: 152 - Loss: 1.0333351572354634 - Accuracy: 0.7217391304347827 - Precision: 0.734906360861315 - Recall: 0.7217391304347827 - F1: 0.7222250072303095\n",
      "Epoch: 153 - Loss: 1.022386101881663 - Accuracy: 0.7130434782608696 - Precision: 0.7253904700207865 - Recall: 0.7130434782608696 - F1: 0.7153460682057894\n",
      "Epoch: 154 - Loss: 1.0176517168680828 - Accuracy: 0.7217391304347827 - Precision: 0.7455697940503433 - Recall: 0.7217391304347827 - F1: 0.7286354754046533\n",
      "Epoch: 155 - Loss: 1.0617027918497721 - Accuracy: 0.6869565217391305 - Precision: 0.7010973084886128 - Recall: 0.6869565217391305 - F1: 0.6921579210394803\n",
      "Epoch: 156 - Loss: 1.0122269630432128 - Accuracy: 0.7217391304347827 - Precision: 0.7307850653786382 - Recall: 0.7217391304347827 - F1: 0.7252213476187379\n",
      "Epoch: 157 - Loss: 1.005260439713796 - Accuracy: 0.7304347826086957 - Precision: 0.7481589348866237 - Recall: 0.7304347826086957 - F1: 0.7329277927649489\n",
      "Epoch: 158 - Loss: 0.9894510229428609 - Accuracy: 0.7478260869565218 - Precision: 0.7677622911032522 - Recall: 0.7478260869565218 - F1: 0.7520744701522734\n",
      "Epoch: 159 - Loss: 0.9810747583707173 - Accuracy: 0.7565217391304347 - Precision: 0.7659627329192547 - Recall: 0.7565217391304347 - F1: 0.7582499316379546\n",
      "Epoch: 160 - Loss: 0.9808666388193766 - Accuracy: 0.7478260869565218 - Precision: 0.757716404955417 - Recall: 0.7478260869565218 - F1: 0.7502551591148802\n",
      "Epoch: 161 - Loss: 0.9990262508392334 - Accuracy: 0.7565217391304347 - Precision: 0.7660225815374558 - Recall: 0.7565217391304347 - F1: 0.7585737290085116\n",
      "Epoch: 162 - Loss: 1.0128300706545512 - Accuracy: 0.7391304347826086 - Precision: 0.7459341483104601 - Recall: 0.7391304347826086 - F1: 0.7398511478302967\n",
      "Epoch: 163 - Loss: 0.9996866782506307 - Accuracy: 0.7304347826086957 - Precision: 0.7374043418582125 - Recall: 0.7304347826086957 - F1: 0.7316075323542242\n",
      "Epoch: 164 - Loss: 1.0033265312512716 - Accuracy: 0.7391304347826086 - Precision: 0.7559191331742025 - Recall: 0.7391304347826086 - F1: 0.7437951345728265\n",
      "Epoch: 165 - Loss: 1.0176951011021933 - Accuracy: 0.7130434782608696 - Precision: 0.722946421526079 - Recall: 0.7130434782608696 - F1: 0.7149018357366794\n",
      "Epoch: 166 - Loss: 1.0117783466974895 - Accuracy: 0.7391304347826086 - Precision: 0.7552557566582812 - Recall: 0.7391304347826086 - F1: 0.7438840579710144\n",
      "Epoch: 167 - Loss: 1.0180267651875814 - Accuracy: 0.7478260869565218 - Precision: 0.7636591478696741 - Recall: 0.7478260869565218 - F1: 0.751176939003026\n",
      "Epoch: 168 - Loss: 1.0365605155626934 - Accuracy: 0.7130434782608696 - Precision: 0.7508385093167702 - Recall: 0.7130434782608696 - F1: 0.7194026356978535\n",
      "Epoch: 169 - Loss: 1.0161659042040507 - Accuracy: 0.7304347826086957 - Precision: 0.7412124865886679 - Recall: 0.7304347826086957 - F1: 0.7333810923494426\n",
      "Epoch: 170 - Loss: 0.9903178890546163 - Accuracy: 0.7391304347826086 - Precision: 0.7474532730904545 - Recall: 0.7391304347826086 - F1: 0.7415691977774415\n",
      "Epoch: 171 - Loss: 1.0155906041463216 - Accuracy: 0.7304347826086957 - Precision: 0.76254673645978 - Recall: 0.7304347826086957 - F1: 0.7373222384023301\n",
      "Epoch: 172 - Loss: 1.02676362991333 - Accuracy: 0.7304347826086957 - Precision: 0.7602343308865047 - Recall: 0.7304347826086957 - F1: 0.7350365514824346\n",
      "Epoch: 173 - Loss: 0.9996711293856303 - Accuracy: 0.7304347826086957 - Precision: 0.7504675081813931 - Recall: 0.7304347826086957 - F1: 0.7369145636971723\n",
      "Epoch: 174 - Loss: 1.0146564920743306 - Accuracy: 0.7304347826086957 - Precision: 0.7546770970313843 - Recall: 0.7304347826086957 - F1: 0.7358904733679671\n",
      "Epoch: 175 - Loss: 1.006100837389628 - Accuracy: 0.7391304347826086 - Precision: 0.7487308977090402 - Recall: 0.7391304347826086 - F1: 0.741620315697428\n",
      "Epoch: 176 - Loss: 1.0019882281621297 - Accuracy: 0.7217391304347827 - Precision: 0.7393329732649202 - Recall: 0.7217391304347827 - F1: 0.725514553647546\n",
      "Epoch: 177 - Loss: 1.020884907245636 - Accuracy: 0.7478260869565218 - Precision: 0.7602608695652174 - Recall: 0.7478260869565218 - F1: 0.7512649712879409\n",
      "Epoch: 178 - Loss: 0.9999687949816386 - Accuracy: 0.7391304347826086 - Precision: 0.7507322430774118 - Recall: 0.7391304347826086 - F1: 0.7413163018456025\n",
      "Epoch: 179 - Loss: 1.0068732897440593 - Accuracy: 0.7391304347826086 - Precision: 0.7492442967705337 - Recall: 0.7391304347826086 - F1: 0.7415426664206942\n",
      "Epoch: 180 - Loss: 1.0698244015375773 - Accuracy: 0.6956521739130435 - Precision: 0.7166423965050969 - Recall: 0.6956521739130435 - F1: 0.7004430547067101\n",
      "Epoch: 181 - Loss: 1.0828968644142152 - Accuracy: 0.6608695652173913 - Precision: 0.684138766853507 - Recall: 0.6608695652173913 - F1: 0.661484326285358\n",
      "Epoch: 182 - Loss: 1.142021155357361 - Accuracy: 0.6086956521739131 - Precision: 0.6618782379172404 - Recall: 0.6086956521739131 - F1: 0.6173295227946276\n",
      "Epoch: 183 - Loss: 1.0784871578216553 - Accuracy: 0.6347826086956522 - Precision: 0.6494066496163683 - Recall: 0.6347826086956522 - F1: 0.6400860570553416\n",
      "Epoch: 184 - Loss: 1.022857137521108 - Accuracy: 0.7043478260869566 - Precision: 0.7222900319674512 - Recall: 0.7043478260869566 - F1: 0.7100020802995632\n",
      "Epoch: 185 - Loss: 1.0379329323768616 - Accuracy: 0.7217391304347827 - Precision: 0.7273917116022379 - Recall: 0.7217391304347827 - F1: 0.7234385274460889\n",
      "Epoch: 186 - Loss: 1.031772824128469 - Accuracy: 0.7304347826086957 - Precision: 0.7430174313764776 - Recall: 0.7304347826086957 - F1: 0.7329360494577887\n",
      "Epoch: 187 - Loss: 1.0078587492307027 - Accuracy: 0.7391304347826086 - Precision: 0.7460805734907814 - Recall: 0.7391304347826086 - F1: 0.739378110800328\n",
      "Epoch: 188 - Loss: 1.0124707778294881 - Accuracy: 0.7478260869565218 - Precision: 0.7636716984543072 - Recall: 0.7478260869565218 - F1: 0.7513162572659141\n",
      "Epoch: 189 - Loss: 0.9894626418749491 - Accuracy: 0.7478260869565218 - Precision: 0.7559866220735787 - Recall: 0.7478260869565218 - F1: 0.7487337139511053\n",
      "Epoch: 190 - Loss: 1.0458818435668946 - Accuracy: 0.7130434782608696 - Precision: 0.7284976076555024 - Recall: 0.7130434782608696 - F1: 0.7149587309017307\n",
      "Epoch: 191 - Loss: 1.0121752182642618 - Accuracy: 0.7391304347826086 - Precision: 0.7539576365663322 - Recall: 0.7391304347826086 - F1: 0.7406027145157581\n",
      "Epoch: 192 - Loss: 1.0344427982966105 - Accuracy: 0.7043478260869566 - Precision: 0.7138642440793334 - Recall: 0.7043478260869566 - F1: 0.7074042952143244\n",
      "Epoch: 193 - Loss: 0.9985758940378825 - Accuracy: 0.7565217391304347 - Precision: 0.7667547024068763 - Recall: 0.7565217391304347 - F1: 0.7591722953676988\n",
      "Epoch: 194 - Loss: 0.9851503769556681 - Accuracy: 0.7391304347826086 - Precision: 0.7504615026415137 - Recall: 0.7391304347826086 - F1: 0.7406039040465818\n",
      "Epoch: 195 - Loss: 0.9926034649213155 - Accuracy: 0.7565217391304347 - Precision: 0.7669047619047619 - Recall: 0.7565217391304347 - F1: 0.7581513624881814\n",
      "Epoch: 196 - Loss: 0.9969348351160685 - Accuracy: 0.7304347826086957 - Precision: 0.7481311975591152 - Recall: 0.7304347826086957 - F1: 0.7329192546583851\n",
      "Epoch: 197 - Loss: 1.0425410151481629 - Accuracy: 0.7217391304347827 - Precision: 0.7256958822176213 - Recall: 0.7217391304347827 - F1: 0.7223147866626126\n",
      "Epoch: 198 - Loss: 1.0158733248710632 - Accuracy: 0.7391304347826086 - Precision: 0.7502495974235105 - Recall: 0.7391304347826086 - F1: 0.7397442623419509\n",
      "Epoch: 199 - Loss: 0.9985484560330709 - Accuracy: 0.7478260869565218 - Precision: 0.7675831485587584 - Recall: 0.7478260869565218 - F1: 0.7507662337662337\n",
      "Epoch: 200 - Loss: 1.033471651871999 - Accuracy: 0.7478260869565218 - Precision: 0.7604562639628804 - Recall: 0.7478260869565218 - F1: 0.7495887305471961\n"
     ]
    }
   ],
   "source": [
    "for epoch in range(EPOCHS):\n",
    "  model.train()\n",
    "  running_loss = 0.0\n",
    "\n",
    "  labels_list = []\n",
    "  preds_list = []\n",
    "\n",
    "  for (x, y) in train_loader:\n",
    "    x, y = x.to(DEVICE), y.to(DEVICE)\n",
    "\n",
    "    yhat = model(x)\n",
    "\n",
    "    labels_list.extend(y.cpu())\n",
    "    preds_list.extend(yhat.argmax(1).cpu())\n",
    "\n",
    "    loss = loss_fn(yhat, y)\n",
    "    optimizer.zero_grad()\n",
    "    loss.backward()\n",
    "    optimizer.step()\n",
    "\n",
    "    running_loss += loss.item()\n",
    "\n",
    "  avg_loss = running_loss / len(train_loader)\n",
    "  loss_list.append(avg_loss)\n",
    "\n",
    "  acc = accuracy_score(labels_list, preds_list)\n",
    "  pre = precision_score(labels_list, preds_list, average='weighted', zero_division=0)\n",
    "  rec = recall_score(labels_list, preds_list, average='weighted', zero_division=0)\n",
    "  f1 = f1_score(labels_list, preds_list, average='weighted', zero_division=0)\n",
    "\n",
    "  acc_list.append(acc)\n",
    "  precision_list.append(pre)\n",
    "  recall_list.append(rec)\n",
    "  f1_list.append(f1)\n",
    "\n",
    "  writer.add_scalar(\"Train/Loss\", avg_loss, epoch)\n",
    "  writer.add_scalar(\"Train/Accuracy\", acc, epoch)\n",
    "  writer.add_scalar(\"Train/Precision\", pre, epoch)\n",
    "  writer.add_scalar(\"Train/Recall\", rec, epoch)\n",
    "  writer.add_scalar(\"Train/F1\", f1, epoch)\n",
    "\n",
    "  print(f\"Epoch: {epoch + 1} - Loss: {avg_loss} - Accuracy: {acc} - Precision: {pre} - Recall: {rec} - F1: {f1}\")"
   ]
  },
  {
   "cell_type": "code",
   "execution_count": 20,
   "metadata": {
    "colab": {
     "base_uri": "https://localhost:8080/",
     "height": 472
    },
    "execution": {
     "iopub.execute_input": "2024-02-26T13:51:46.063461Z",
     "iopub.status.busy": "2024-02-26T13:51:46.063181Z",
     "iopub.status.idle": "2024-02-26T13:51:46.428550Z",
     "shell.execute_reply": "2024-02-26T13:51:46.427754Z",
     "shell.execute_reply.started": "2024-02-26T13:51:46.063442Z"
    },
    "id": "HNfMmm0lvkAl",
    "outputId": "63e6a113-7403-4f24-e9e1-739b445c638f"
   },
   "outputs": [
    {
     "data": {
      "image/png": "[encoded data removed]",
      "text/plain": [
       "<Figure size 640x480 with 1 Axes>"
      ]
     },
     "metadata": {},
     "output_type": "display_data"
    }
   ],
   "source": [
    "plt.title(\"Loss History\")\n",
    "plt.plot(range(EPOCHS), loss_list)\n",
    "plt.xlabel(\"Epochs\")\n",
    "plt.ylabel(\"Loss Value\")\n",
    "plt.savefig(\"figures/training_loss_history_1d_cnn_sgd.pdf\", bbox_inches=\"tight\")\n",
    "plt.show()"
   ]
  },
  {
   "cell_type": "code",
   "execution_count": 21,
   "metadata": {
    "colab": {
     "base_uri": "https://localhost:8080/",
     "height": 472
    },
    "execution": {
     "iopub.execute_input": "2024-02-26T13:52:15.802657Z",
     "iopub.status.busy": "2024-02-26T13:52:15.802470Z",
     "iopub.status.idle": "2024-02-26T13:52:16.142256Z",
     "shell.execute_reply": "2024-02-26T13:52:16.141620Z",
     "shell.execute_reply.started": "2024-02-26T13:52:15.802643Z"
    },
    "id": "tvBWlTRuw95F",
    "outputId": "adc67787-d925-4450-ffcd-e337576f6ee2"
   },
   "outputs": [
    {
     "data": {
      "image/png": "[encoded data removed]",
      "text/plain": [
       "<Figure size 640x480 with 1 Axes>"
      ]
     },
     "metadata": {},
     "output_type": "display_data"
    }
   ],
   "source": [
    "plt.title(\"Training Metrics\")\n",
    "plt.plot(range(EPOCHS), acc_list, label=\"Accuracy\")\n",
    "plt.plot(range(EPOCHS), precision_list, label=\"Precision\")\n",
    "plt.plot(range(EPOCHS), recall_list, label=\"Recall\")\n",
    "plt.plot(range(EPOCHS), f1_list, label=\"F1 Score\")\n",
    "plt.legend()\n",
    "plt.xlabel(\"Epochs\")\n",
    "plt.ylabel(\"Metric Value\")\n",
    "plt.savefig(\"figures/training_metrics_1d_cnn_sgd.pdf\", bbox_inches=\"tight\")\n",
    "plt.show()"
   ]
  },
  {
   "cell_type": "code",
   "execution_count": 22,
   "metadata": {
    "colab": {
     "base_uri": "https://localhost:8080/"
    },
    "execution": {
     "iopub.execute_input": "2024-02-26T13:52:18.738614Z",
     "iopub.status.busy": "2024-02-26T13:52:18.738310Z",
     "iopub.status.idle": "2024-02-26T13:52:18.743536Z",
     "shell.execute_reply": "2024-02-26T13:52:18.742785Z",
     "shell.execute_reply.started": "2024-02-26T13:52:18.738596Z"
    },
    "id": "iIXzx3y1xryb",
    "outputId": "8e745e8f-bc2d-4031-bcab-65e30f00bc70"
   },
   "outputs": [
    {
     "name": "stdout",
     "output_type": "stream",
     "text": [
      "Mean Training Accuracy: 0.6797391304347826\n",
      "Mean Training Precision: 0.6971027352416772\n",
      "Mean Training Recall: 0.6797391304347826\n",
      "Mean Training F1 Score: 0.6837828354995537\n"
     ]
    }
   ],
   "source": [
    "print(f\"Mean Training Accuracy: {np.array(acc_list).mean()}\")\n",
    "print(f\"Mean Training Precision: {np.array(precision_list).mean()}\")\n",
    "print(f\"Mean Training Recall: {np.array(recall_list).mean()}\")\n",
    "print(f\"Mean Training F1 Score: {np.array(f1_list).mean()}\")\n",
    "\n",
    "writer.add_scalar(\"Train/Mean Accuracy\", np.array(acc_list).mean(), 0)\n",
    "writer.add_scalar(\"Train/Mean Precision\", np.array(precision_list).mean(), 0)\n",
    "writer.add_scalar(\"Train/Mean Recall\", np.array(recall_list).mean(), 0)\n",
    "writer.add_scalar(\"Train/Mean F1 Score\", np.array(f1_list).mean(), 0)"
   ]
  },
  {
   "cell_type": "code",
   "execution_count": 23,
   "metadata": {
    "execution": {
     "iopub.execute_input": "2024-02-26T13:52:19.348491Z",
     "iopub.status.busy": "2024-02-26T13:52:19.348106Z",
     "iopub.status.idle": "2024-02-26T13:52:19.354427Z",
     "shell.execute_reply": "2024-02-26T13:52:19.353087Z",
     "shell.execute_reply.started": "2024-02-26T13:52:19.348462Z"
    },
    "id": "OeA8Ku_n4A_C"
   },
   "outputs": [],
   "source": [
    "loss = 0.0\n",
    "accuracy = 0.0\n",
    "precision = 0.0\n",
    "recall = 0.0\n",
    "f1 = 0.0"
   ]
  },
  {
   "cell_type": "code",
   "execution_count": 24,
   "metadata": {
    "execution": {
     "iopub.execute_input": "2024-02-26T13:52:21.173690Z",
     "iopub.status.busy": "2024-02-26T13:52:21.172964Z",
     "iopub.status.idle": "2024-02-26T13:52:21.192835Z",
     "shell.execute_reply": "2024-02-26T13:52:21.192102Z",
     "shell.execute_reply.started": "2024-02-26T13:52:21.173653Z"
    },
    "id": "9t8DfeRt5Cl7"
   },
   "outputs": [],
   "source": [
    "model.eval()\n",
    "with torch.no_grad():\n",
    "  x = torch.tensor(test_data).type(torch.FloatTensor)\n",
    "  y = torch.tensor(test_labels).type(torch.LongTensor)\n",
    "\n",
    "  yhat = model(x)\n",
    "\n",
    "  yhat = yhat.cpu()\n",
    "  loss = loss_fn(yhat, y)\n",
    "\n",
    "  yhat = yhat.argmax(1)\n",
    "  accuracy = accuracy_score(yhat, y)\n",
    "  precision = precision_score(yhat, y, average='weighted')\n",
    "  recall = recall_score(yhat, y, average='weighted')\n",
    "  f1 = f1_score(yhat, y, average='weighted')"
   ]
  },
  {
   "cell_type": "code",
   "execution_count": 25,
   "metadata": {
    "colab": {
     "base_uri": "https://localhost:8080/"
    },
    "execution": {
     "iopub.execute_input": "2024-02-26T13:52:21.952917Z",
     "iopub.status.busy": "2024-02-26T13:52:21.952745Z",
     "iopub.status.idle": "2024-02-26T13:52:21.957921Z",
     "shell.execute_reply": "2024-02-26T13:52:21.957214Z",
     "shell.execute_reply.started": "2024-02-26T13:52:21.952904Z"
    },
    "id": "XdiAVxPE6Hq7",
    "outputId": "eb0f9d0e-b1ed-4ee8-d3b2-db61fd048a6a"
   },
   "outputs": [
    {
     "name": "stdout",
     "output_type": "stream",
     "text": [
      "Testing Loss: 1.3690919876098633\n",
      "Testing Accuracy: 0.3448275862068966\n",
      "Testing Precision: 0.34051724137931033\n",
      "Testing Recall: 0.3448275862068966\n",
      "Testing F1 Score: 0.33748320644872365\n"
     ]
    }
   ],
   "source": [
    "print(f\"Testing Loss: {loss}\")\n",
    "print(f\"Testing Accuracy: {accuracy}\")\n",
    "print(f\"Testing Precision: {precision}\")\n",
    "print(f\"Testing Recall: {recall}\")\n",
    "print(f\"Testing F1 Score: {f1}\")\n",
    "\n",
    "writer.add_scalar(\"Test/Loss\", loss, 0)\n",
    "writer.add_scalar(\"Test/Accuracy\", accuracy, 0)\n",
    "writer.add_scalar(\"Test/Precision\", precision, 0)\n",
    "writer.add_scalar(\"Test/Recall\", recall, 0)\n",
    "writer.add_scalar(\"Test/F1 Score\", f1, 0)"
   ]
  },
  {
   "cell_type": "markdown",
   "metadata": {
    "id": "fUaaNvEITrRa"
   },
   "source": [
    "## Adam"
   ]
  },
  {
   "cell_type": "code",
   "execution_count": 26,
   "metadata": {
    "colab": {
     "base_uri": "https://localhost:8080/"
    },
    "execution": {
     "iopub.execute_input": "2024-02-26T13:52:24.450709Z",
     "iopub.status.busy": "2024-02-26T13:52:24.450534Z",
     "iopub.status.idle": "2024-02-26T13:52:24.456499Z",
     "shell.execute_reply": "2024-02-26T13:52:24.455923Z",
     "shell.execute_reply.started": "2024-02-26T13:52:24.450697Z"
    },
    "id": "W1p9mvOQ9QgU",
    "outputId": "11f73e67-61f0-4d0a-bd96-88f18ed49eeb"
   },
   "outputs": [
    {
     "data": {
      "text/plain": [
       "Model(\n",
       "  (conv_block): Sequential(\n",
       "    (0): Conv1d(1, 64, kernel_size=(3,), stride=(1,))\n",
       "    (1): MaxPool1d(kernel_size=3, stride=3, padding=0, dilation=1, ceil_mode=False)\n",
       "    (2): Dropout(p=0.3, inplace=False)\n",
       "    (3): BatchNorm1d(64, eps=1e-05, momentum=0.1, affine=True, track_running_stats=True)\n",
       "  )\n",
       "  (dense): Linear(in_features=30656, out_features=4, bias=True)\n",
       "  (softmax): Softmax(dim=1)\n",
       ")"
      ]
     },
     "execution_count": 26,
     "metadata": {},
     "output_type": "execute_result"
    }
   ],
   "source": [
    "model = Model()\n",
    "model = model.to(DEVICE)\n",
    "model"
   ]
  },
  {
   "cell_type": "code",
   "execution_count": 27,
   "metadata": {
    "colab": {
     "base_uri": "https://localhost:8080/"
    },
    "execution": {
     "iopub.execute_input": "2024-02-26T13:52:25.375979Z",
     "iopub.status.busy": "2024-02-26T13:52:25.375432Z",
     "iopub.status.idle": "2024-02-26T13:52:25.385884Z",
     "shell.execute_reply": "2024-02-26T13:52:25.385348Z",
     "shell.execute_reply.started": "2024-02-26T13:52:25.375931Z"
    },
    "id": "UzFXX4dqbnMz",
    "outputId": "7b688502-b3e3-4ec7-b1f2-e76210c00aa3"
   },
   "outputs": [
    {
     "data": {
      "text/plain": [
       "==========================================================================================\n",
       "Layer (type:depth-idx)                   Output Shape              Param #\n",
       "==========================================================================================\n",
       "Model                                    [8, 4]                    --\n",
       "├─Sequential: 1-1                        [8, 64, 479]              --\n",
       "│    └─Conv1d: 2-1                       [8, 64, 1438]             256\n",
       "│    └─MaxPool1d: 2-2                    [8, 64, 479]              --\n",
       "│    └─Dropout: 2-3                      [8, 64, 479]              --\n",
       "│    └─BatchNorm1d: 2-4                  [8, 64, 479]              128\n",
       "├─Linear: 1-2                            [8, 4]                    122,628\n",
       "├─Softmax: 1-3                           [8, 4]                    --\n",
       "==========================================================================================\n",
       "Total params: 123,012\n",
       "Trainable params: 123,012\n",
       "Non-trainable params: 0\n",
       "Total mult-adds (Units.MEGABYTES): 3.93\n",
       "==========================================================================================\n",
       "Input size (MB): 0.05\n",
       "Forward/backward pass size (MB): 7.85\n",
       "Params size (MB): 0.49\n",
       "Estimated Total Size (MB): 8.39\n",
       "=========================================================================================="
      ]
     },
     "execution_count": 27,
     "metadata": {},
     "output_type": "execute_result"
    }
   ],
   "source": [
    "summary(model, input_data=sample_x)"
   ]
  },
  {
   "cell_type": "code",
   "execution_count": 28,
   "metadata": {
    "execution": {
     "iopub.execute_input": "2024-02-26T13:52:28.460227Z",
     "iopub.status.busy": "2024-02-26T13:52:28.459569Z",
     "iopub.status.idle": "2024-02-26T13:52:28.468180Z",
     "shell.execute_reply": "2024-02-26T13:52:28.467271Z",
     "shell.execute_reply.started": "2024-02-26T13:52:28.460165Z"
    },
    "id": "WNGukkjgTvh_"
   },
   "outputs": [],
   "source": [
    "tb_board = RUNS_PATH + \"1d_cnn_adam\"\n",
    "writer = SummaryWriter(tb_board)"
   ]
  },
  {
   "cell_type": "code",
   "execution_count": 29,
   "metadata": {
    "execution": {
     "iopub.execute_input": "2024-02-26T13:52:28.870236Z",
     "iopub.status.busy": "2024-02-26T13:52:28.869845Z",
     "iopub.status.idle": "2024-02-26T13:52:28.875778Z",
     "shell.execute_reply": "2024-02-26T13:52:28.874764Z",
     "shell.execute_reply.started": "2024-02-26T13:52:28.870203Z"
    },
    "id": "lqdjeybbT1uC"
   },
   "outputs": [],
   "source": [
    "EPOCHS = 200\n",
    "\n",
    "acc_list = []\n",
    "f1_list = []\n",
    "recall_list = []\n",
    "precision_list = []\n",
    "\n",
    "loss_list = []"
   ]
  },
  {
   "cell_type": "code",
   "execution_count": 30,
   "metadata": {
    "execution": {
     "iopub.execute_input": "2024-02-26T13:52:30.983476Z",
     "iopub.status.busy": "2024-02-26T13:52:30.983035Z",
     "iopub.status.idle": "2024-02-26T13:52:30.989779Z",
     "shell.execute_reply": "2024-02-26T13:52:30.988568Z",
     "shell.execute_reply.started": "2024-02-26T13:52:30.983443Z"
    },
    "id": "6mr98GaDT2Pt"
   },
   "outputs": [],
   "source": [
    "loss_fn = nn.CrossEntropyLoss()\n",
    "optimizer = optim.Adam(model.parameters(), lr=1e-3)"
   ]
  },
  {
   "cell_type": "code",
   "execution_count": 31,
   "metadata": {
    "colab": {
     "base_uri": "https://localhost:8080/"
    },
    "execution": {
     "iopub.execute_input": "2024-02-26T13:52:31.959939Z",
     "iopub.status.busy": "2024-02-26T13:52:31.959621Z",
     "iopub.status.idle": "2024-02-26T13:52:58.178771Z",
     "shell.execute_reply": "2024-02-26T13:52:58.178234Z",
     "shell.execute_reply.started": "2024-02-26T13:52:31.959914Z"
    },
    "id": "fp9urDtST52H",
    "outputId": "028e3a8e-f49e-4ea9-973c-56dc4bc684fb",
    "scrolled": true
   },
   "outputs": [
    {
     "name": "stdout",
     "output_type": "stream",
     "text": [
      "Epoch: 1 - Loss: 1.4380183617273967 - Accuracy: 0.28695652173913044 - Precision: 0.2849480151228734 - Recall: 0.28695652173913044 - F1: 0.2789314409579819\n",
      "Epoch: 2 - Loss: 1.4257402022679646 - Accuracy: 0.33043478260869563 - Precision: 0.32312388813776416 - Recall: 0.33043478260869563 - F1: 0.31944706429926195\n",
      "Epoch: 3 - Loss: 1.3724656581878663 - Accuracy: 0.3652173913043478 - Precision: 0.3607086544600156 - Recall: 0.3652173913043478 - F1: 0.3545555297217702\n",
      "Epoch: 4 - Loss: 1.3791588385899862 - Accuracy: 0.3565217391304348 - Precision: 0.3523880105401845 - Recall: 0.3565217391304348 - F1: 0.3453139364383742\n",
      "Epoch: 5 - Loss: 1.3349931399027506 - Accuracy: 0.3826086956521739 - Precision: 0.3917099635531247 - Recall: 0.3826086956521739 - F1: 0.37937185960927694\n",
      "Epoch: 6 - Loss: 1.3172439495722452 - Accuracy: 0.40869565217391307 - Precision: 0.40015166835187055 - Recall: 0.40869565217391307 - F1: 0.39534402095939114\n",
      "Epoch: 7 - Loss: 1.3422384182612102 - Accuracy: 0.3826086956521739 - Precision: 0.36932868805824254 - Recall: 0.3826086956521739 - F1: 0.3686274663116709\n",
      "Epoch: 8 - Loss: 1.3533917506535849 - Accuracy: 0.3652173913043478 - Precision: 0.3692455777123969 - Recall: 0.3652173913043478 - F1: 0.3624701900899395\n",
      "Epoch: 9 - Loss: 1.3343621253967286 - Accuracy: 0.41739130434782606 - Precision: 0.4023188405797101 - Recall: 0.41739130434782606 - F1: 0.4045110218000244\n",
      "Epoch: 10 - Loss: 1.3393259366353354 - Accuracy: 0.4 - Precision: 0.39597484419391976 - Recall: 0.4 - F1: 0.39009866752731803\n",
      "Epoch: 11 - Loss: 1.3048158168792725 - Accuracy: 0.4260869565217391 - Precision: 0.44821946169772253 - Recall: 0.4260869565217391 - F1: 0.4186371434501494\n",
      "Epoch: 12 - Loss: 1.2824638446172079 - Accuracy: 0.46956521739130436 - Precision: 0.4836875145315043 - Recall: 0.46956521739130436 - F1: 0.46810089889614387\n",
      "Epoch: 13 - Loss: 1.2734873334566752 - Accuracy: 0.46956521739130436 - Precision: 0.4808902587851037 - Recall: 0.46956521739130436 - F1: 0.46703033576379516\n",
      "Epoch: 14 - Loss: 1.2468183596928915 - Accuracy: 0.4956521739130435 - Precision: 0.5198690977092099 - Recall: 0.4956521739130435 - F1: 0.49739130434782614\n",
      "Epoch: 15 - Loss: 1.2369136969248453 - Accuracy: 0.5043478260869565 - Precision: 0.5771486349848332 - Recall: 0.5043478260869565 - F1: 0.5049252033942787\n",
      "Epoch: 16 - Loss: 1.2568504134813945 - Accuracy: 0.48695652173913045 - Precision: 0.538689738581043 - Recall: 0.48695652173913045 - F1: 0.4925801689566001\n",
      "Epoch: 17 - Loss: 1.2434966007868449 - Accuracy: 0.4956521739130435 - Precision: 0.5525697366370578 - Recall: 0.4956521739130435 - F1: 0.505223472179994\n",
      "Epoch: 18 - Loss: 1.2089518904685974 - Accuracy: 0.5478260869565217 - Precision: 0.5804393786193585 - Recall: 0.5478260869565217 - F1: 0.549991364014634\n",
      "Epoch: 19 - Loss: 1.2162978013356527 - Accuracy: 0.5217391304347826 - Precision: 0.5263626723223753 - Recall: 0.5217391304347826 - F1: 0.5167558528428093\n",
      "Epoch: 20 - Loss: 1.2671307722727458 - Accuracy: 0.4608695652173913 - Precision: 0.4485505385946308 - Recall: 0.4608695652173913 - F1: 0.45148599238083564\n",
      "Epoch: 21 - Loss: 1.1823336044947306 - Accuracy: 0.5565217391304348 - Precision: 0.5463768115942029 - Recall: 0.5565217391304348 - F1: 0.5479486779907536\n",
      "Epoch: 22 - Loss: 1.1845167358716329 - Accuracy: 0.5391304347826087 - Precision: 0.5271288318974153 - Recall: 0.5391304347826087 - F1: 0.5273312319476091\n",
      "Epoch: 23 - Loss: 1.2058885971705118 - Accuracy: 0.5130434782608696 - Precision: 0.522267068593561 - Recall: 0.5130434782608696 - F1: 0.5092045247331337\n",
      "Epoch: 24 - Loss: 1.1777966380119325 - Accuracy: 0.5565217391304348 - Precision: 0.5770413573700954 - Recall: 0.5565217391304348 - F1: 0.557872715816005\n",
      "Epoch: 25 - Loss: 1.2002495408058167 - Accuracy: 0.5565217391304348 - Precision: 0.5638720547187367 - Recall: 0.5565217391304348 - F1: 0.5542000010060919\n",
      "Epoch: 26 - Loss: 1.179214588801066 - Accuracy: 0.5652173913043478 - Precision: 0.5673352450334547 - Recall: 0.5652173913043478 - F1: 0.5604605758854602\n",
      "Epoch: 27 - Loss: 1.18937193552653 - Accuracy: 0.5478260869565217 - Precision: 0.5398603746907035 - Recall: 0.5478260869565217 - F1: 0.5346241102265126\n",
      "Epoch: 28 - Loss: 1.1976362864176433 - Accuracy: 0.5478260869565217 - Precision: 0.5465867866368106 - Recall: 0.5478260869565217 - F1: 0.5326930172727488\n",
      "Epoch: 29 - Loss: 1.208318297068278 - Accuracy: 0.5304347826086957 - Precision: 0.5114932312733912 - Recall: 0.5304347826086957 - F1: 0.5110846421328801\n",
      "Epoch: 30 - Loss: 1.2456836938858031 - Accuracy: 0.5043478260869565 - Precision: 0.48432348215589854 - Recall: 0.5043478260869565 - F1: 0.48206353807971597\n",
      "Epoch: 31 - Loss: 1.178723673025767 - Accuracy: 0.5565217391304348 - Precision: 0.5652173071668528 - Recall: 0.5565217391304348 - F1: 0.5437456079715957\n",
      "Epoch: 32 - Loss: 1.2064858277638753 - Accuracy: 0.5304347826086957 - Precision: 0.5100887014686637 - Recall: 0.5304347826086957 - F1: 0.5127890474138502\n",
      "Epoch: 33 - Loss: 1.2173193613688151 - Accuracy: 0.5304347826086957 - Precision: 0.5028041544109597 - Recall: 0.5304347826086957 - F1: 0.5071247073023895\n",
      "Epoch: 34 - Loss: 1.2374236901601157 - Accuracy: 0.4956521739130435 - Precision: 0.486558681443592 - Recall: 0.4956521739130435 - F1: 0.48659478463950046\n",
      "Epoch: 35 - Loss: 1.192333992322286 - Accuracy: 0.5565217391304348 - Precision: 0.549482837528604 - Recall: 0.5565217391304348 - F1: 0.5481334193756554\n",
      "Epoch: 36 - Loss: 1.1586629311243692 - Accuracy: 0.5826086956521739 - Precision: 0.5961998933643546 - Recall: 0.5826086956521739 - F1: 0.5718822087108532\n",
      "Epoch: 37 - Loss: 1.2382517178853354 - Accuracy: 0.5217391304347826 - Precision: 0.5180755056747496 - Recall: 0.5217391304347826 - F1: 0.49408532300449753\n",
      "Epoch: 38 - Loss: 1.1982984304428101 - Accuracy: 0.5478260869565217 - Precision: 0.52848079671723 - Recall: 0.5478260869565217 - F1: 0.5178761258756811\n",
      "Epoch: 39 - Loss: 1.1695375561714172 - Accuracy: 0.5826086956521739 - Precision: 0.5861077917700769 - Recall: 0.5826086956521739 - F1: 0.5625083195689095\n",
      "Epoch: 40 - Loss: 1.1854342301686605 - Accuracy: 0.5652173913043478 - Precision: 0.5617979644966152 - Recall: 0.5652173913043478 - F1: 0.5548164318629757\n",
      "Epoch: 41 - Loss: 1.178813131650289 - Accuracy: 0.5565217391304348 - Precision: 0.562408026755853 - Recall: 0.5565217391304348 - F1: 0.5426291560102302\n",
      "Epoch: 42 - Loss: 1.1651845415433248 - Accuracy: 0.5826086956521739 - Precision: 0.5855072463768115 - Recall: 0.5826086956521739 - F1: 0.5657289002557545\n",
      "Epoch: 43 - Loss: 1.1613134702046712 - Accuracy: 0.5565217391304348 - Precision: 0.5558539832975505 - Recall: 0.5565217391304348 - F1: 0.5500785201045156\n",
      "Epoch: 44 - Loss: 1.205039878686269 - Accuracy: 0.5304347826086957 - Precision: 0.5282034352077134 - Recall: 0.5304347826086957 - F1: 0.5285529759358341\n",
      "Epoch: 45 - Loss: 1.162652039527893 - Accuracy: 0.591304347826087 - Precision: 0.5876851586321524 - Recall: 0.591304347826087 - F1: 0.5873231490111196\n",
      "Epoch: 46 - Loss: 1.1802701830863953 - Accuracy: 0.5652173913043478 - Precision: 0.555 - Recall: 0.5652173913043478 - F1: 0.5569922589089397\n",
      "Epoch: 47 - Loss: 1.2485742727915445 - Accuracy: 0.5130434782608696 - Precision: 0.5162380264014869 - Recall: 0.5130434782608696 - F1: 0.5093892221128055\n",
      "Epoch: 48 - Loss: 1.188695240020752 - Accuracy: 0.5478260869565217 - Precision: 0.5367328100655554 - Recall: 0.5478260869565217 - F1: 0.5380864674942926\n",
      "Epoch: 49 - Loss: 1.2270201921463013 - Accuracy: 0.5217391304347826 - Precision: 0.48578371011605137 - Recall: 0.5217391304347826 - F1: 0.4977583783900072\n",
      "Epoch: 50 - Loss: 1.1863991737365722 - Accuracy: 0.5478260869565217 - Precision: 0.5213474343909127 - Recall: 0.5478260869565217 - F1: 0.508566188369835\n",
      "Epoch: 51 - Loss: 1.1846768418947855 - Accuracy: 0.5391304347826087 - Precision: 0.5533689295703026 - Recall: 0.5391304347826087 - F1: 0.511585479061673\n",
      "Epoch: 52 - Loss: 1.2527461965878806 - Accuracy: 0.5043478260869565 - Precision: 0.49599378881987577 - Recall: 0.5043478260869565 - F1: 0.47943202487824904\n",
      "Epoch: 53 - Loss: 1.1915508349736532 - Accuracy: 0.5304347826086957 - Precision: 0.5354037267080746 - Recall: 0.5304347826086957 - F1: 0.5283835005574136\n",
      "Epoch: 54 - Loss: 1.1392388502756754 - Accuracy: 0.6 - Precision: 0.6088405797101449 - Recall: 0.6 - F1: 0.6013913043478261\n",
      "Epoch: 55 - Loss: 1.131083877881368 - Accuracy: 0.6260869565217392 - Precision: 0.6264473180912244 - Recall: 0.6260869565217392 - F1: 0.6256997304064044\n",
      "Epoch: 56 - Loss: 1.1686052083969116 - Accuracy: 0.5652173913043478 - Precision: 0.548494983277592 - Recall: 0.5652173913043478 - F1: 0.5405528577702491\n",
      "Epoch: 57 - Loss: 1.1822222828865052 - Accuracy: 0.5478260869565217 - Precision: 0.513717834960071 - Recall: 0.5478260869565217 - F1: 0.5158408279391266\n",
      "Epoch: 58 - Loss: 1.1668888727823894 - Accuracy: 0.5652173913043478 - Precision: 0.5457689018329751 - Recall: 0.5652173913043478 - F1: 0.5486681813198192\n",
      "Epoch: 59 - Loss: 1.1462562163670857 - Accuracy: 0.591304347826087 - Precision: 0.6031891808106643 - Recall: 0.591304347826087 - F1: 0.572085754357844\n",
      "Epoch: 60 - Loss: 1.1510890285174051 - Accuracy: 0.5826086956521739 - Precision: 0.5644246188594014 - Recall: 0.5826086956521739 - F1: 0.5606020384636622\n",
      "Epoch: 61 - Loss: 1.1503255248069764 - Accuracy: 0.6 - Precision: 0.5935931563260756 - Recall: 0.6 - F1: 0.5818048709353059\n",
      "Epoch: 62 - Loss: 1.0981636047363281 - Accuracy: 0.6434782608695652 - Precision: 0.6423491544474531 - Recall: 0.6434782608695652 - F1: 0.6293448750737752\n",
      "Epoch: 63 - Loss: 1.1209475874900818 - Accuracy: 0.6 - Precision: 0.5993439341710218 - Recall: 0.6 - F1: 0.5885266047033871\n",
      "Epoch: 64 - Loss: 1.1502302964528401 - Accuracy: 0.5826086956521739 - Precision: 0.5776238254499125 - Recall: 0.5826086956521739 - F1: 0.5707381555753692\n",
      "Epoch: 65 - Loss: 1.1407264788945517 - Accuracy: 0.591304347826087 - Precision: 0.5816406026235894 - Recall: 0.591304347826087 - F1: 0.5798776930586919\n",
      "Epoch: 66 - Loss: 1.1560537974039713 - Accuracy: 0.591304347826087 - Precision: 0.564387508626639 - Recall: 0.591304347826087 - F1: 0.5622457888702708\n",
      "Epoch: 67 - Loss: 1.1555800636609395 - Accuracy: 0.6 - Precision: 0.5869327342407824 - Recall: 0.6 - F1: 0.580262891809909\n",
      "Epoch: 68 - Loss: 1.1611011544863383 - Accuracy: 0.5652173913043478 - Precision: 0.5545944161284331 - Recall: 0.5652173913043478 - F1: 0.5285517003589816\n",
      "Epoch: 69 - Loss: 1.161101468404134 - Accuracy: 0.591304347826087 - Precision: 0.6002740226525394 - Recall: 0.591304347826087 - F1: 0.5613208936547917\n",
      "Epoch: 70 - Loss: 1.1823502779006958 - Accuracy: 0.5739130434782609 - Precision: 0.5815554697019227 - Recall: 0.5739130434782609 - F1: 0.5389272736125066\n",
      "Epoch: 71 - Loss: 1.154852000872294 - Accuracy: 0.5826086956521739 - Precision: 0.6182845684076201 - Recall: 0.5826086956521739 - F1: 0.5525176147104314\n",
      "Epoch: 72 - Loss: 1.1622023026148478 - Accuracy: 0.591304347826087 - Precision: 0.6058111984673314 - Recall: 0.591304347826087 - F1: 0.5632441694464159\n",
      "Epoch: 73 - Loss: 1.1620933890342713 - Accuracy: 0.5739130434782609 - Precision: 0.5630731309537047 - Recall: 0.5739130434782609 - F1: 0.5468303759145573\n",
      "Epoch: 74 - Loss: 1.1422588626543682 - Accuracy: 0.6 - Precision: 0.5896773785585652 - Recall: 0.6 - F1: 0.5797255366438412\n",
      "Epoch: 75 - Loss: 1.1213640689849853 - Accuracy: 0.6347826086956522 - Precision: 0.6358312020460358 - Recall: 0.6347826086956522 - F1: 0.6076756343236006\n",
      "Epoch: 76 - Loss: 1.1109881122907004 - Accuracy: 0.6260869565217392 - Precision: 0.5995026250345399 - Recall: 0.6260869565217392 - F1: 0.6047918882222713\n",
      "Epoch: 77 - Loss: 1.1072395086288451 - Accuracy: 0.6521739130434783 - Precision: 0.6412970772139014 - Recall: 0.6521739130434783 - F1: 0.6347147147147147\n",
      "Epoch: 78 - Loss: 1.1231976628303528 - Accuracy: 0.6086956521739131 - Precision: 0.5836918115248211 - Recall: 0.6086956521739131 - F1: 0.5843160995889395\n",
      "Epoch: 79 - Loss: 1.1363268574078877 - Accuracy: 0.591304347826087 - Precision: 0.5847957544184235 - Recall: 0.591304347826087 - F1: 0.5768316983898911\n",
      "Epoch: 80 - Loss: 1.1450106898943584 - Accuracy: 0.6086956521739131 - Precision: 0.5919668737060041 - Recall: 0.6086956521739131 - F1: 0.591728596854455\n",
      "Epoch: 81 - Loss: 1.1210962732632954 - Accuracy: 0.6 - Precision: 0.5793745232646834 - Recall: 0.6 - F1: 0.5823576805174379\n",
      "Epoch: 82 - Loss: 1.175056020418803 - Accuracy: 0.5739130434782609 - Precision: 0.5603140028634711 - Recall: 0.5739130434782609 - F1: 0.5602608086212186\n",
      "Epoch: 83 - Loss: 1.1059918085734048 - Accuracy: 0.6173913043478261 - Precision: 0.5990053374847103 - Recall: 0.6173913043478261 - F1: 0.6026236288403339\n",
      "Epoch: 84 - Loss: 1.1416999419530234 - Accuracy: 0.6086956521739131 - Precision: 0.5970930074800337 - Recall: 0.6086956521739131 - F1: 0.5858904817427486\n",
      "Epoch: 85 - Loss: 1.1373711903889974 - Accuracy: 0.6173913043478261 - Precision: 0.5997338065661046 - Recall: 0.6173913043478261 - F1: 0.5920793613888242\n",
      "Epoch: 86 - Loss: 1.129692808787028 - Accuracy: 0.6086956521739131 - Precision: 0.5856904834296138 - Recall: 0.6086956521739131 - F1: 0.587503604909411\n",
      "Epoch: 87 - Loss: 1.1308180888493855 - Accuracy: 0.6 - Precision: 0.5813289920979414 - Recall: 0.6 - F1: 0.5786615309351448\n",
      "Epoch: 88 - Loss: 1.1614126006762187 - Accuracy: 0.5565217391304348 - Precision: 0.5373547053111922 - Recall: 0.5565217391304348 - F1: 0.5343639468403152\n",
      "Epoch: 89 - Loss: 1.0927995920181275 - Accuracy: 0.6347826086956522 - Precision: 0.6167868698749692 - Recall: 0.6347826086956522 - F1: 0.6148857896025124\n",
      "Epoch: 90 - Loss: 1.12415509223938 - Accuracy: 0.6173913043478261 - Precision: 0.5955706129619173 - Recall: 0.6173913043478261 - F1: 0.5984470605534266\n",
      "Epoch: 91 - Loss: 1.1003731846809388 - Accuracy: 0.6434782608695652 - Precision: 0.6314263920671244 - Recall: 0.6434782608695652 - F1: 0.6279833664818498\n",
      "Epoch: 92 - Loss: 1.1046714146931966 - Accuracy: 0.6347826086956522 - Precision: 0.6133871799278227 - Recall: 0.6347826086956522 - F1: 0.6107515001066722\n",
      "Epoch: 93 - Loss: 1.1554059982299805 - Accuracy: 0.6173913043478261 - Precision: 0.6119599024017404 - Recall: 0.6173913043478261 - F1: 0.6098581554628884\n",
      "Epoch: 94 - Loss: 1.1399109800656637 - Accuracy: 0.6 - Precision: 0.5967531090330666 - Recall: 0.6 - F1: 0.5964739073151172\n",
      "Epoch: 95 - Loss: 1.1776951710383097 - Accuracy: 0.5565217391304348 - Precision: 0.5635468539727786 - Recall: 0.5565217391304348 - F1: 0.5581348734383301\n",
      "Epoch: 96 - Loss: 1.1356152931849162 - Accuracy: 0.6 - Precision: 0.588896321070234 - Recall: 0.6 - F1: 0.5893425287230744\n",
      "Epoch: 97 - Loss: 1.127808960278829 - Accuracy: 0.6173913043478261 - Precision: 0.6242629904559914 - Recall: 0.6173913043478261 - F1: 0.6029022632896076\n",
      "Epoch: 98 - Loss: 1.1147252599398294 - Accuracy: 0.6521739130434783 - Precision: 0.657172054998142 - Recall: 0.6521739130434783 - F1: 0.6312984427829895\n",
      "Epoch: 99 - Loss: 1.1760035832722981 - Accuracy: 0.5565217391304348 - Precision: 0.5461480992393339 - Recall: 0.5565217391304348 - F1: 0.5361676686484871\n",
      "Epoch: 100 - Loss: 1.1807667056719462 - Accuracy: 0.5565217391304348 - Precision: 0.5662360034453058 - Recall: 0.5565217391304348 - F1: 0.5578213963692099\n",
      "Epoch: 101 - Loss: 1.1624780416488647 - Accuracy: 0.6 - Precision: 0.6216619981325864 - Recall: 0.6 - F1: 0.6069257494540402\n",
      "Epoch: 102 - Loss: 1.1643278042475382 - Accuracy: 0.591304347826087 - Precision: 0.5863807931199235 - Recall: 0.591304347826087 - F1: 0.5882399559713813\n",
      "Epoch: 103 - Loss: 1.1390087723731994 - Accuracy: 0.6173913043478261 - Precision: 0.6131277997364953 - Recall: 0.6173913043478261 - F1: 0.6114709058060102\n",
      "Epoch: 104 - Loss: 1.1771759112675986 - Accuracy: 0.5565217391304348 - Precision: 0.5561072645828974 - Recall: 0.5565217391304348 - F1: 0.5548832402526228\n",
      "Epoch: 105 - Loss: 1.1497457027435303 - Accuracy: 0.5739130434782609 - Precision: 0.5659875776397517 - Recall: 0.5739130434782609 - F1: 0.5679810664224118\n",
      "Epoch: 106 - Loss: 1.1855115294456482 - Accuracy: 0.5565217391304348 - Precision: 0.5508421780626124 - Recall: 0.5565217391304348 - F1: 0.5532800387088744\n",
      "Epoch: 107 - Loss: 1.179168200492859 - Accuracy: 0.5565217391304348 - Precision: 0.5710095809719048 - Recall: 0.5565217391304348 - F1: 0.554772666742254\n",
      "Epoch: 108 - Loss: 1.1754186669985454 - Accuracy: 0.5478260869565217 - Precision: 0.5412924126172208 - Recall: 0.5478260869565217 - F1: 0.53547471162378\n",
      "Epoch: 109 - Loss: 1.2191956440607707 - Accuracy: 0.5304347826086957 - Precision: 0.5376806856460622 - Recall: 0.5304347826086957 - F1: 0.5276128127191957\n",
      "Epoch: 110 - Loss: 1.1832780996958414 - Accuracy: 0.5565217391304348 - Precision: 0.5547502527805864 - Recall: 0.5565217391304348 - F1: 0.5523376111844526\n",
      "Epoch: 111 - Loss: 1.13842982451121 - Accuracy: 0.6173913043478261 - Precision: 0.6151201237326002 - Recall: 0.6173913043478261 - F1: 0.6120134254079703\n",
      "Epoch: 112 - Loss: 1.1599796891212464 - Accuracy: 0.591304347826087 - Precision: 0.5996837944664031 - Recall: 0.591304347826087 - F1: 0.5902279193500345\n",
      "Epoch: 113 - Loss: 1.1732917586962381 - Accuracy: 0.5826086956521739 - Precision: 0.587550634620578 - Recall: 0.5826086956521739 - F1: 0.58302910844675\n",
      "Epoch: 114 - Loss: 1.1406573931376138 - Accuracy: 0.6 - Precision: 0.6134790786424968 - Recall: 0.6 - F1: 0.6054071405642544\n",
      "Epoch: 115 - Loss: 1.0948923031489055 - Accuracy: 0.6347826086956522 - Precision: 0.6438615278826751 - Recall: 0.6347826086956522 - F1: 0.6384304868192336\n",
      "Epoch: 116 - Loss: 1.1352431575457256 - Accuracy: 0.6173913043478261 - Precision: 0.6038649598062447 - Recall: 0.6173913043478261 - F1: 0.6082897006054483\n",
      "Epoch: 117 - Loss: 1.1390530308087667 - Accuracy: 0.6173913043478261 - Precision: 0.61638778592813 - Recall: 0.6173913043478261 - F1: 0.6160000543236678\n",
      "Epoch: 118 - Loss: 1.1012981017430623 - Accuracy: 0.6260869565217392 - Precision: 0.6214552506355518 - Recall: 0.6260869565217392 - F1: 0.6235938914605804\n",
      "Epoch: 119 - Loss: 1.097971518834432 - Accuracy: 0.6608695652173913 - Precision: 0.6716982417881967 - Recall: 0.6608695652173913 - F1: 0.6646437207975175\n",
      "Epoch: 120 - Loss: 1.1199739813804626 - Accuracy: 0.6260869565217392 - Precision: 0.633486718631103 - Recall: 0.6260869565217392 - F1: 0.6293617021276596\n",
      "Epoch: 121 - Loss: 1.1034555713335672 - Accuracy: 0.6173913043478261 - Precision: 0.6207584177835893 - Recall: 0.6173913043478261 - F1: 0.6179936006022962\n",
      "Epoch: 122 - Loss: 1.1376486539840698 - Accuracy: 0.6173913043478261 - Precision: 0.609916673541787 - Recall: 0.6173913043478261 - F1: 0.6104603881478983\n",
      "Epoch: 123 - Loss: 1.070277730623881 - Accuracy: 0.6608695652173913 - Precision: 0.6497080433791312 - Recall: 0.6608695652173913 - F1: 0.6516274963563514\n",
      "Epoch: 124 - Loss: 1.1051400144894918 - Accuracy: 0.6347826086956522 - Precision: 0.6297405918889295 - Recall: 0.6347826086956522 - F1: 0.6284984878834295\n",
      "Epoch: 125 - Loss: 1.1276259859402975 - Accuracy: 0.6086956521739131 - Precision: 0.607715654367938 - Recall: 0.6086956521739131 - F1: 0.6018251872714115\n",
      "Epoch: 126 - Loss: 1.1244006951649983 - Accuracy: 0.6 - Precision: 0.5911560498820359 - Recall: 0.6 - F1: 0.5911443302738875\n",
      "Epoch: 127 - Loss: 1.159664221604665 - Accuracy: 0.591304347826087 - Precision: 0.5862891809908999 - Recall: 0.591304347826087 - F1: 0.5811885670344117\n",
      "Epoch: 128 - Loss: 1.1033604145050049 - Accuracy: 0.6347826086956522 - Precision: 0.6301364554682739 - Recall: 0.6347826086956522 - F1: 0.6206967538069231\n",
      "Epoch: 129 - Loss: 1.0912493427594503 - Accuracy: 0.6695652173913044 - Precision: 0.6598198524029726 - Recall: 0.6695652173913044 - F1: 0.6604477756438905\n",
      "Epoch: 130 - Loss: 1.0809347987174989 - Accuracy: 0.6434782608695652 - Precision: 0.6311374615722442 - Recall: 0.6434782608695652 - F1: 0.6324198071056606\n",
      "Epoch: 131 - Loss: 1.0923071026802063 - Accuracy: 0.6347826086956522 - Precision: 0.6147232554830578 - Recall: 0.6347826086956522 - F1: 0.6198428054016885\n",
      "Epoch: 132 - Loss: 1.1225332657496134 - Accuracy: 0.6347826086956522 - Precision: 0.6352774832096147 - Recall: 0.6347826086956522 - F1: 0.6337892976588628\n",
      "Epoch: 133 - Loss: 1.1399131933848063 - Accuracy: 0.6347826086956522 - Precision: 0.6217209539043187 - Recall: 0.6347826086956522 - F1: 0.6232582459192557\n",
      "Epoch: 134 - Loss: 1.115789794921875 - Accuracy: 0.6434782608695652 - Precision: 0.6315140402992359 - Recall: 0.6434782608695652 - F1: 0.6317697995913688\n",
      "Epoch: 135 - Loss: 1.098709189891815 - Accuracy: 0.6434782608695652 - Precision: 0.6308569628229364 - Recall: 0.6434782608695652 - F1: 0.6340798766032445\n",
      "Epoch: 136 - Loss: 1.0761537035306294 - Accuracy: 0.6869565217391305 - Precision: 0.6753614497099278 - Recall: 0.6869565217391305 - F1: 0.6772502518794078\n",
      "Epoch: 137 - Loss: 1.1122166156768798 - Accuracy: 0.6434782608695652 - Precision: 0.6507741251325557 - Recall: 0.6434782608695652 - F1: 0.6413526570048309\n",
      "Epoch: 138 - Loss: 1.121574592590332 - Accuracy: 0.6173913043478261 - Precision: 0.6079557604632664 - Recall: 0.6173913043478261 - F1: 0.6077524426054149\n",
      "Epoch: 139 - Loss: 1.105396819114685 - Accuracy: 0.6173913043478261 - Precision: 0.5986604293050974 - Recall: 0.6173913043478261 - F1: 0.6025338455931255\n",
      "Epoch: 140 - Loss: 1.105471428235372 - Accuracy: 0.6347826086956522 - Precision: 0.6338889843615741 - Recall: 0.6347826086956522 - F1: 0.6300240518038852\n",
      "Epoch: 141 - Loss: 1.1822756727536519 - Accuracy: 0.5652173913043478 - Precision: 0.5599717673630716 - Recall: 0.5652173913043478 - F1: 0.5613699919440389\n",
      "Epoch: 142 - Loss: 1.1128872990608216 - Accuracy: 0.6260869565217392 - Precision: 0.6163501526828559 - Recall: 0.6260869565217392 - F1: 0.6184882618424545\n",
      "Epoch: 143 - Loss: 1.1563427766164145 - Accuracy: 0.5826086956521739 - Precision: 0.5776814166120134 - Recall: 0.5826086956521739 - F1: 0.5706484478862996\n",
      "Epoch: 144 - Loss: 1.1507080713907878 - Accuracy: 0.6 - Precision: 0.5900765564061823 - Recall: 0.6 - F1: 0.5908181744024797\n",
      "Epoch: 145 - Loss: 1.1271466890970865 - Accuracy: 0.6173913043478261 - Precision: 0.6062452251450986 - Recall: 0.6173913043478261 - F1: 0.6078523126273354\n",
      "Epoch: 146 - Loss: 1.1103079636891684 - Accuracy: 0.6173913043478261 - Precision: 0.5982404692082112 - Recall: 0.6173913043478261 - F1: 0.6033539611652209\n",
      "Epoch: 147 - Loss: 1.0908562501271566 - Accuracy: 0.6521739130434783 - Precision: 0.6348436117228916 - Recall: 0.6521739130434783 - F1: 0.6358792243129712\n",
      "Epoch: 148 - Loss: 1.0821903944015503 - Accuracy: 0.6608695652173913 - Precision: 0.6515737080954471 - Recall: 0.6608695652173913 - F1: 0.6547587980380019\n",
      "Epoch: 149 - Loss: 1.1363241791725158 - Accuracy: 0.6086956521739131 - Precision: 0.5960932577189666 - Recall: 0.6086956521739131 - F1: 0.5984353112197701\n",
      "Epoch: 150 - Loss: 1.1069434483846028 - Accuracy: 0.6347826086956522 - Precision: 0.6378977355347866 - Recall: 0.6347826086956522 - F1: 0.6334254978325399\n",
      "Epoch: 151 - Loss: 1.0861066857973734 - Accuracy: 0.6434782608695652 - Precision: 0.6423873228221055 - Recall: 0.6434782608695652 - F1: 0.6403455695692468\n",
      "Epoch: 152 - Loss: 1.0932875315348307 - Accuracy: 0.6434782608695652 - Precision: 0.6406593406593406 - Recall: 0.6434782608695652 - F1: 0.6408502415458937\n",
      "Epoch: 153 - Loss: 1.0619707663853963 - Accuracy: 0.6782608695652174 - Precision: 0.6709754388217483 - Recall: 0.6782608695652174 - F1: 0.6733751084546419\n",
      "Epoch: 154 - Loss: 1.0667776664098103 - Accuracy: 0.6695652173913044 - Precision: 0.6589317230344763 - Recall: 0.6695652173913044 - F1: 0.6606682740284027\n",
      "Epoch: 155 - Loss: 1.0785401225090028 - Accuracy: 0.6782608695652174 - Precision: 0.6661517688360789 - Recall: 0.6782608695652174 - F1: 0.6687654033945594\n",
      "Epoch: 156 - Loss: 1.0833781282107036 - Accuracy: 0.6434782608695652 - Precision: 0.636755294785603 - Recall: 0.6434782608695652 - F1: 0.6388423419093696\n",
      "Epoch: 157 - Loss: 1.089926278591156 - Accuracy: 0.6695652173913044 - Precision: 0.657440641381437 - Recall: 0.6695652173913044 - F1: 0.6575597130459235\n",
      "Epoch: 158 - Loss: 1.0772445321083068 - Accuracy: 0.6521739130434783 - Precision: 0.6472509351244822 - Recall: 0.6521739130434783 - F1: 0.6445225303706899\n",
      "Epoch: 159 - Loss: 1.053558393319448 - Accuracy: 0.6782608695652174 - Precision: 0.6678082497212932 - Recall: 0.6782608695652174 - F1: 0.6659055063158629\n",
      "Epoch: 160 - Loss: 1.1083002408345541 - Accuracy: 0.6347826086956522 - Precision: 0.6267145757693962 - Recall: 0.6347826086956522 - F1: 0.6291754926526388\n",
      "Epoch: 161 - Loss: 1.0919387022654214 - Accuracy: 0.6608695652173913 - Precision: 0.6501818655889446 - Recall: 0.6608695652173913 - F1: 0.6518050065876151\n",
      "Epoch: 162 - Loss: 1.0511059681574504 - Accuracy: 0.7043478260869566 - Precision: 0.6975204747548651 - Recall: 0.7043478260869566 - F1: 0.6945675153966357\n",
      "Epoch: 163 - Loss: 1.060825479030609 - Accuracy: 0.6956521739130435 - Precision: 0.6847368421052631 - Recall: 0.6956521739130435 - F1: 0.684667391462831\n",
      "Epoch: 164 - Loss: 1.0551525036493936 - Accuracy: 0.6869565217391305 - Precision: 0.674920320160286 - Recall: 0.6869565217391305 - F1: 0.6770686425812942\n",
      "Epoch: 165 - Loss: 1.09475789864858 - Accuracy: 0.6608695652173913 - Precision: 0.6613288477712365 - Recall: 0.6608695652173913 - F1: 0.6585666343500634\n",
      "Epoch: 166 - Loss: 1.0848050951957702 - Accuracy: 0.6434782608695652 - Precision: 0.6390739695087522 - Recall: 0.6434782608695652 - F1: 0.6345375494071147\n",
      "Epoch: 167 - Loss: 1.2143935720125834 - Accuracy: 0.5478260869565217 - Precision: 0.5512406725698935 - Recall: 0.5478260869565217 - F1: 0.5409625448587195\n",
      "Epoch: 168 - Loss: 1.187234361966451 - Accuracy: 0.5478260869565217 - Precision: 0.5609301536522707 - Recall: 0.5478260869565217 - F1: 0.5424450127877238\n",
      "Epoch: 169 - Loss: 1.1433133681615193 - Accuracy: 0.6 - Precision: 0.6157732658280703 - Recall: 0.6 - F1: 0.5939907435559609\n",
      "Epoch: 170 - Loss: 1.1551636934280396 - Accuracy: 0.5826086956521739 - Precision: 0.596564836480383 - Recall: 0.5826086956521739 - F1: 0.5782379141073348\n",
      "Epoch: 171 - Loss: 1.1397110025087993 - Accuracy: 0.6 - Precision: 0.6004820939113192 - Recall: 0.6 - F1: 0.5907583886973341\n",
      "Epoch: 172 - Loss: 1.1259045879046121 - Accuracy: 0.6086956521739131 - Precision: 0.6070009558500608 - Recall: 0.6086956521739131 - F1: 0.5960932577189666\n",
      "Epoch: 173 - Loss: 1.078583558400472 - Accuracy: 0.6521739130434783 - Precision: 0.6467988533205923 - Recall: 0.6521739130434783 - F1: 0.6415292353823088\n",
      "Epoch: 174 - Loss: 1.126229166984558 - Accuracy: 0.6086956521739131 - Precision: 0.5942546583850933 - Recall: 0.6086956521739131 - F1: 0.5918703805991741\n",
      "Epoch: 175 - Loss: 1.135628628730774 - Accuracy: 0.6173913043478261 - Precision: 0.5871026051226573 - Recall: 0.6173913043478261 - F1: 0.591268557161786\n",
      "Epoch: 176 - Loss: 1.1180941899617514 - Accuracy: 0.6260869565217392 - Precision: 0.6147421483766126 - Recall: 0.6260869565217392 - F1: 0.6162810797063849\n",
      "Epoch: 177 - Loss: 1.1154829780260722 - Accuracy: 0.6260869565217392 - Precision: 0.6133995859213252 - Recall: 0.6260869565217392 - F1: 0.6124207976874096\n",
      "Epoch: 178 - Loss: 1.1352935989697774 - Accuracy: 0.591304347826087 - Precision: 0.5752668371696504 - Recall: 0.591304347826087 - F1: 0.5747973212235051\n",
      "Epoch: 179 - Loss: 1.0963054339090983 - Accuracy: 0.6608695652173913 - Precision: 0.6487746421820146 - Recall: 0.6608695652173913 - F1: 0.649701532212617\n",
      "Epoch: 180 - Loss: 1.0895344893137613 - Accuracy: 0.6521739130434783 - Precision: 0.6589493582728088 - Recall: 0.6521739130434783 - F1: 0.647650290458459\n",
      "Epoch: 181 - Loss: 1.1128339529037476 - Accuracy: 0.6173913043478261 - Precision: 0.6532464070994807 - Recall: 0.6173913043478261 - F1: 0.6183922969467427\n",
      "Epoch: 182 - Loss: 1.0941747188568116 - Accuracy: 0.6434782608695652 - Precision: 0.6431833648393196 - Recall: 0.6434782608695652 - F1: 0.638225910160549\n",
      "Epoch: 183 - Loss: 1.0819910248120626 - Accuracy: 0.6608695652173913 - Precision: 0.6764083452779104 - Recall: 0.6608695652173913 - F1: 0.6557515770693061\n",
      "Epoch: 184 - Loss: 1.1196428894996644 - Accuracy: 0.6521739130434783 - Precision: 0.6582385730211817 - Recall: 0.6521739130434783 - F1: 0.6493167701863355\n",
      "Epoch: 185 - Loss: 1.0760184288024903 - Accuracy: 0.6521739130434783 - Precision: 0.6478574419397245 - Recall: 0.6521739130434783 - F1: 0.6453745922124502\n",
      "Epoch: 186 - Loss: 1.0679108818372092 - Accuracy: 0.6608695652173913 - Precision: 0.6537979034198317 - Recall: 0.6608695652173913 - F1: 0.6518522052572233\n",
      "Epoch: 187 - Loss: 1.0532322486241659 - Accuracy: 0.6782608695652174 - Precision: 0.6698278054648564 - Recall: 0.6782608695652174 - F1: 0.6672266300566464\n",
      "Epoch: 188 - Loss: 1.1187889417012533 - Accuracy: 0.6347826086956522 - Precision: 0.6350743058976177 - Recall: 0.6347826086956522 - F1: 0.6297373420551234\n",
      "Epoch: 189 - Loss: 1.1274964809417725 - Accuracy: 0.6260869565217392 - Precision: 0.6240731225296442 - Recall: 0.6260869565217392 - F1: 0.6189343918022436\n",
      "Epoch: 190 - Loss: 1.145454510052999 - Accuracy: 0.6 - Precision: 0.622031836449995 - Recall: 0.6 - F1: 0.5979211954780692\n",
      "Epoch: 191 - Loss: 1.1462777217229208 - Accuracy: 0.591304347826087 - Precision: 0.5918368660258216 - Recall: 0.591304347826087 - F1: 0.5851611027131417\n",
      "Epoch: 192 - Loss: 1.1597455422083536 - Accuracy: 0.591304347826087 - Precision: 0.5853483945166364 - Recall: 0.591304347826087 - F1: 0.5856561957827976\n",
      "Epoch: 193 - Loss: 1.1384047826131185 - Accuracy: 0.6173913043478261 - Precision: 0.6417527751325384 - Recall: 0.6173913043478261 - F1: 0.6255653082951509\n",
      "Epoch: 194 - Loss: 1.1236174980799356 - Accuracy: 0.6 - Precision: 0.6224365260978533 - Recall: 0.6 - F1: 0.6082705700097004\n",
      "Epoch: 195 - Loss: 1.132825994491577 - Accuracy: 0.6173913043478261 - Precision: 0.6370420853646404 - Recall: 0.6173913043478261 - F1: 0.6222973591004889\n",
      "Epoch: 196 - Loss: 1.1818350593249003 - Accuracy: 0.5739130434782609 - Precision: 0.5694667432627094 - Recall: 0.5739130434782609 - F1: 0.5694172643861691\n",
      "Epoch: 197 - Loss: 1.1068209489186605 - Accuracy: 0.6347826086956522 - Precision: 0.6358703403967678 - Recall: 0.6347826086956522 - F1: 0.6333985606376019\n",
      "Epoch: 198 - Loss: 1.1226452509562175 - Accuracy: 0.6173913043478261 - Precision: 0.6137373704452121 - Recall: 0.6173913043478261 - F1: 0.6153883637653016\n",
      "Epoch: 199 - Loss: 1.1291313727696737 - Accuracy: 0.6260869565217392 - Precision: 0.6171172816952869 - Recall: 0.6260869565217392 - F1: 0.6190566664030543\n",
      "Epoch: 200 - Loss: 1.1084482113520304 - Accuracy: 0.6434782608695652 - Precision: 0.6337267080745342 - Recall: 0.6434782608695652 - F1: 0.6362640901771337\n"
     ]
    }
   ],
   "source": [
    "for epoch in range(EPOCHS):\n",
    "  model.train()\n",
    "  running_loss = 0.0\n",
    "\n",
    "  labels_list = []\n",
    "  preds_list = []\n",
    "\n",
    "  for (x, y) in train_loader:\n",
    "    x, y = x.to(DEVICE), y.to(DEVICE)\n",
    "\n",
    "    yhat = model(x)\n",
    "\n",
    "    labels_list.extend(y.cpu())\n",
    "    preds_list.extend(yhat.argmax(1).cpu())\n",
    "\n",
    "    loss = loss_fn(yhat, y)\n",
    "    optimizer.zero_grad()\n",
    "    loss.backward()\n",
    "    optimizer.step()\n",
    "\n",
    "    running_loss += loss.item()\n",
    "\n",
    "  avg_loss = running_loss / len(train_loader)\n",
    "  loss_list.append(avg_loss)\n",
    "\n",
    "  acc = accuracy_score(labels_list, preds_list)\n",
    "  pre = precision_score(labels_list, preds_list, average='weighted', zero_division=0)\n",
    "  rec = recall_score(labels_list, preds_list, average='weighted', zero_division=0)\n",
    "  f1 = f1_score(labels_list, preds_list, average='weighted', zero_division=0)\n",
    "\n",
    "  acc_list.append(acc)\n",
    "  precision_list.append(pre)\n",
    "  recall_list.append(rec)\n",
    "  f1_list.append(f1)\n",
    "\n",
    "  writer.add_scalar(\"Train/Loss\", avg_loss, epoch)\n",
    "  writer.add_scalar(\"Train/Accuracy\", acc, epoch)\n",
    "  writer.add_scalar(\"Train/Precision\", pre, epoch)\n",
    "  writer.add_scalar(\"Train/Recall\", rec, epoch)\n",
    "  writer.add_scalar(\"Train/F1\", f1, epoch)\n",
    "\n",
    "  print(f\"Epoch: {epoch + 1} - Loss: {avg_loss} - Accuracy: {acc} - Precision: {pre} - Recall: {rec} - F1: {f1}\")"
   ]
  },
  {
   "cell_type": "code",
   "execution_count": 32,
   "metadata": {
    "colab": {
     "base_uri": "https://localhost:8080/",
     "height": 472
    },
    "execution": {
     "iopub.execute_input": "2024-02-26T13:53:06.391051Z",
     "iopub.status.busy": "2024-02-26T13:53:06.390879Z",
     "iopub.status.idle": "2024-02-26T13:53:06.665576Z",
     "shell.execute_reply": "2024-02-26T13:53:06.664800Z",
     "shell.execute_reply.started": "2024-02-26T13:53:06.391039Z"
    },
    "id": "ZS1QedxgT80s",
    "outputId": "1ac1681b-e88f-49a6-e187-fe2fe84d6ef1"
   },
   "outputs": [
    {
     "data": {
      "image/png": "[encoded data removed]",
      "text/plain": [
       "<Figure size 640x480 with 1 Axes>"
      ]
     },
     "metadata": {},
     "output_type": "display_data"
    }
   ],
   "source": [
    "plt.title(\"Loss History\")\n",
    "plt.plot(range(EPOCHS), loss_list)\n",
    "plt.xlabel(\"Epochs\")\n",
    "plt.ylabel(\"Loss Value\")\n",
    "plt.savefig(\"figures/training_loss_history_1d_cnn_adam.pdf\", bbox_inches=\"tight\")\n",
    "plt.show()"
   ]
  },
  {
   "cell_type": "code",
   "execution_count": 33,
   "metadata": {
    "colab": {
     "base_uri": "https://localhost:8080/",
     "height": 472
    },
    "execution": {
     "iopub.execute_input": "2024-02-26T13:53:29.609270Z",
     "iopub.status.busy": "2024-02-26T13:53:29.609094Z",
     "iopub.status.idle": "2024-02-26T13:53:29.954371Z",
     "shell.execute_reply": "2024-02-26T13:53:29.953854Z",
     "shell.execute_reply.started": "2024-02-26T13:53:29.609256Z"
    },
    "id": "qRiuTx4ET_LF",
    "outputId": "46b23ebe-efbe-4c76-a1eb-3876e43a9dd9"
   },
   "outputs": [
    {
     "data": {
      "image/png": "[encoded data removed]",
      "text/plain": [
       "<Figure size 640x480 with 1 Axes>"
      ]
     },
     "metadata": {},
     "output_type": "display_data"
    }
   ],
   "source": [
    "plt.title(\"Training Metrics\")\n",
    "plt.plot(range(EPOCHS), acc_list, label=\"Accuracy\")\n",
    "plt.plot(range(EPOCHS), precision_list, label=\"Precision\")\n",
    "plt.plot(range(EPOCHS), recall_list, label=\"Recall\")\n",
    "plt.plot(range(EPOCHS), f1_list, label=\"F1 Score\")\n",
    "plt.legend()\n",
    "plt.xlabel(\"Epochs\")\n",
    "plt.ylabel(\"Metric Value\")\n",
    "plt.savefig(\"figures/training_metrics_1d_cnn_adam.pdf\", bbox_inches=\"tight\")\n",
    "plt.show()"
   ]
  },
  {
   "cell_type": "code",
   "execution_count": 34,
   "metadata": {
    "colab": {
     "base_uri": "https://localhost:8080/"
    },
    "execution": {
     "iopub.execute_input": "2024-02-26T13:53:31.571966Z",
     "iopub.status.busy": "2024-02-26T13:53:31.571655Z",
     "iopub.status.idle": "2024-02-26T13:53:31.578985Z",
     "shell.execute_reply": "2024-02-26T13:53:31.577742Z",
     "shell.execute_reply.started": "2024-02-26T13:53:31.571940Z"
    },
    "id": "ykUjnGGHUBC-",
    "outputId": "11758736-79fb-4a1d-d866-4ca357110d2f"
   },
   "outputs": [
    {
     "name": "stdout",
     "output_type": "stream",
     "text": [
      "Mean Training Accuracy: 0.5855217391304347\n",
      "Mean Training Precision: 0.5824690415421568\n",
      "Mean Training Recall: 0.5855217391304347\n",
      "Mean Training F1 Score: 0.5751918193072919\n"
     ]
    }
   ],
   "source": [
    "print(f\"Mean Training Accuracy: {np.array(acc_list).mean()}\")\n",
    "print(f\"Mean Training Precision: {np.array(precision_list).mean()}\")\n",
    "print(f\"Mean Training Recall: {np.array(recall_list).mean()}\")\n",
    "print(f\"Mean Training F1 Score: {np.array(f1_list).mean()}\")\n",
    "\n",
    "writer.add_scalar(\"Train/Mean Accuracy\", np.array(acc_list).mean(), 0)\n",
    "writer.add_scalar(\"Train/Mean Precision\", np.array(precision_list).mean(), 0)\n",
    "writer.add_scalar(\"Train/Mean Recall\", np.array(recall_list).mean(), 0)\n",
    "writer.add_scalar(\"Train/Mean F1 Score\", np.array(f1_list).mean(), 0)"
   ]
  },
  {
   "cell_type": "code",
   "execution_count": 35,
   "metadata": {
    "execution": {
     "iopub.execute_input": "2024-02-26T13:53:31.857106Z",
     "iopub.status.busy": "2024-02-26T13:53:31.856850Z",
     "iopub.status.idle": "2024-02-26T13:53:31.860535Z",
     "shell.execute_reply": "2024-02-26T13:53:31.859926Z",
     "shell.execute_reply.started": "2024-02-26T13:53:31.857088Z"
    },
    "id": "aMu18benUD97"
   },
   "outputs": [],
   "source": [
    "loss = 0.0\n",
    "accuracy = 0.0\n",
    "precision = 0.0\n",
    "recall = 0.0\n",
    "f1 = 0.0"
   ]
  },
  {
   "cell_type": "code",
   "execution_count": 36,
   "metadata": {
    "execution": {
     "iopub.execute_input": "2024-02-26T13:53:34.216873Z",
     "iopub.status.busy": "2024-02-26T13:53:34.216482Z",
     "iopub.status.idle": "2024-02-26T13:53:34.235639Z",
     "shell.execute_reply": "2024-02-26T13:53:34.235064Z",
     "shell.execute_reply.started": "2024-02-26T13:53:34.216842Z"
    },
    "id": "yUs5QIqKUGP7"
   },
   "outputs": [],
   "source": [
    "model.eval()\n",
    "with torch.no_grad():\n",
    "  x = torch.tensor(test_data).type(torch.FloatTensor)\n",
    "  y = torch.tensor(test_labels).type(torch.LongTensor)\n",
    "\n",
    "  yhat = model(x)\n",
    "\n",
    "  yhat = yhat.cpu()\n",
    "  loss = loss_fn(yhat, y)\n",
    "\n",
    "  yhat = yhat.argmax(1)\n",
    "  accuracy = accuracy_score(yhat, y)\n",
    "  precision = precision_score(yhat, y, average='weighted', zero_division=0)\n",
    "  recall = recall_score(yhat, y, average='weighted', zero_division=0)\n",
    "  f1 = f1_score(yhat, y, average='weighted', zero_division=0)"
   ]
  },
  {
   "cell_type": "code",
   "execution_count": 37,
   "metadata": {
    "colab": {
     "base_uri": "https://localhost:8080/"
    },
    "execution": {
     "iopub.execute_input": "2024-02-26T13:53:35.282861Z",
     "iopub.status.busy": "2024-02-26T13:53:35.282580Z",
     "iopub.status.idle": "2024-02-26T13:53:35.288026Z",
     "shell.execute_reply": "2024-02-26T13:53:35.287554Z",
     "shell.execute_reply.started": "2024-02-26T13:53:35.282833Z"
    },
    "id": "iM7ZByiWUJY0",
    "outputId": "bb3470b5-4c0d-4356-ec03-afc8f512f11b"
   },
   "outputs": [
    {
     "name": "stdout",
     "output_type": "stream",
     "text": [
      "Testing Loss: 1.3696033954620361\n",
      "Testing Accuracy: 0.3793103448275862\n",
      "Testing Precision: 0.3936781609195403\n",
      "Testing Recall: 0.3793103448275862\n",
      "Testing F1 Score: 0.36901030004478275\n"
     ]
    }
   ],
   "source": [
    "print(f\"Testing Loss: {loss}\")\n",
    "print(f\"Testing Accuracy: {accuracy}\")\n",
    "print(f\"Testing Precision: {precision}\")\n",
    "print(f\"Testing Recall: {recall}\")\n",
    "print(f\"Testing F1 Score: {f1}\")\n",
    "\n",
    "writer.add_scalar(\"Test/Loss\", loss, 0)\n",
    "writer.add_scalar(\"Test/Accuracy\", accuracy, 0)\n",
    "writer.add_scalar(\"Test/Precision\", precision, 0)\n",
    "writer.add_scalar(\"Test/Recall\", recall, 0)\n",
    "writer.add_scalar(\"Test/F1 Score\", f1, 0)"
   ]
  },
  {
   "cell_type": "code",
   "execution_count": null,
   "metadata": {
    "id": "_nIuppCYcJ59"
   },
   "outputs": [],
   "source": []
  }
 ],
 "metadata": {
  "accelerator": "GPU",
  "colab": {
   "gpuType": "T4",
   "provenance": []
  },
  "kernelspec": {
   "display_name": "Python 3 (ipykernel)",
   "language": "python",
   "name": "python3"
  },
  "language_info": {
   "codemirror_mode": {
    "name": "ipython",
    "version": 3
   },
   "file_extension": ".py",
   "mimetype": "text/x-python",
   "name": "python",
   "nbconvert_exporter": "python",
   "pygments_lexer": "ipython3",
   "version": "3.11.5"
  }
 },
 "nbformat": 4,
 "nbformat_minor": 4
}
